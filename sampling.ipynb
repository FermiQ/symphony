{
 "cells": [
  {
   "cell_type": "code",
   "execution_count": 12,
   "metadata": {},
   "outputs": [],
   "source": [
    "import e3nn_jax as e3nn\n",
    "from e3nn_jax._src.s2grid import s2_grid, _quadrature_weights_soft\n",
    "import jax\n",
    "from jax import numpy as jnp\n",
    "from matplotlib import pyplot as plt\n",
    "import numpy as np\n",
    "import typing"
   ]
  },
  {
   "cell_type": "markdown",
   "metadata": {},
   "source": [
    "## sample from s2grid"
   ]
  },
  {
   "cell_type": "code",
   "execution_count": 37,
   "metadata": {},
   "outputs": [],
   "source": [
    "res_alpha = 51\n",
    "res_beta = 30\n",
    "quadrature = \"soft\"\n",
    "# quadrature = \"gausslegendre\"\n",
    "key = jax.random.PRNGKey(0)"
   ]
  },
  {
   "cell_type": "code",
   "execution_count": null,
   "metadata": {},
   "outputs": [],
   "source": [
    "def sample_s2grid_uniform(res_beta: int, res_alpha: int, num_samples: int, *, quadrature: str, key: jax.random.PRNGKey):\n",
    "    \"\"\"\n",
    "    Take samples from the uniform distribution on the S2 grid.\n",
    "    Args:\n",
    "        res_beta (int)\n",
    "        res_alpha (int)\n",
    "        num_samples (int)\n",
    "        quadrature (str)\n",
    "        key (jax.random.PRNGKey)\n",
    "    Returns:\n",
    "        sampled_z (jnp.numpy.ndarray)\n",
    "        sampled_alpha (jnp.numpy.ndarray)\n",
    "    \"\"\"\n",
    "    zs, alphas = s2_grid(res_beta, res_alpha, quadrature=quadrature)\n",
    "    # zs has shape res_beta, alphas has shape res_alpha\n",
    "    if quadrature == \"soft\":\n",
    "        qw = _quadrature_weights_soft(res_beta // 2) * res_beta**2  # [b]\n",
    "    elif quadrature == \"gausslegendre\":\n",
    "        _, qw = np.polynomial.legendre.leggauss(res_beta)\n",
    "        qw /= 2\n",
    "    sampled_z = jax.random.choice(key, zs, shape=(num_samples,), p=qw)\n",
    "    sampled_alpha = jax.random.choice(key, alphas, shape=(num_samples,))\n",
    "\n",
    "    return sampled_z, sampled_alpha"
   ]
  },
  {
   "cell_type": "code",
   "execution_count": 33,
   "metadata": {},
   "outputs": [],
   "source": [
    "def sample_s2grid(x: jnp.ndarray, num_samples: int, *, quadrature: str, key: jax.random.PRNGKey):\n",
    "    r\"\"\"\n",
    "    Take samples from a signal on the S2 grid.\n",
    "    Args:\n",
    "        x (`jax.numpy.ndarray`): signal on the sphere of shape ``(..., res_beta, res_alpha)``\n",
    "        num_samples (int): the number of samples to take from x\n",
    "        quadrature (str): \"soft\" or \"gausslegendre\"\n",
    "        key (jax.random.PRNGKey)\n",
    "    Returns:\n",
    "        x_samples (`jax.numpy.ndarray`): samples taken from x, shape ``(..., num_samples)``\n",
    "    \"\"\"\n",
    "    res_beta, res_alpha = x.shape[-2:]\n",
    "    if quadrature == \"soft\":\n",
    "        qw = _quadrature_weights_soft(res_beta // 2) * res_beta**2  # [b]\n",
    "    elif quadrature == \"gausslegendre\":\n",
    "        _, qw = np.polynomial.legendre.leggauss(res_beta)\n",
    "        qw /= 2\n",
    "    sampled_beta_i = jax.random.choice(key, jnp.arange(res_beta), shape=(num_samples,), p=qw)\n",
    "    sampled_alpha_i = jax.random.choice(key, jnp.arange(res_alpha), shape=(num_samples,))\n",
    "\n",
    "    return x[..., sampled_beta_i, sampled_alpha_i]"
   ]
  },
  {
   "cell_type": "code",
   "execution_count": null,
   "metadata": {},
   "outputs": [],
   "source": [
    "# Your function needs to take as argument a probability distribution sampled on the grid on the sphere\n",
    "\n",
    "def sample_s2grid(proba, num_samples: int, *, quadrature: str, key: jax.random.PRNGKey):\n",
    "    '''\n",
    "    I'm guessing proba is a (z, a) 2D array\n",
    "    '''\n",
    "    # integral_s2 proba(x) dx = 1\n",
    "    # integral_z integral_alpha proba(z, alpha) dz dalpha = 1\n",
    "\n",
    "    zs, alphas = s2_grid(res_beta, res_alpha, quadrature=quadrature)\n",
    "    if quadrature == \"soft\":\n",
    "        qw = _quadrature_weights_soft(res_beta // 2) * res_beta**2  # [b]\n",
    "    elif quadrature == \"gausslegendre\":\n",
    "        _, qw = np.polynomial.legendre.leggauss(res_beta)\n",
    "        qw /= 2\n",
    "    # p_z(z) = integral_alpha proba(z, alpha) dalpha   # implemented with a sum and qw\n",
    "    p_z = jnp.sum(proba, axis=-1) / res_alpha * qw\n",
    "    sampled_z = jax.random.choice(key, zs, shape=(num_samples,), p=p_z)\n",
    "    sampled_alpha = jax.random.choice(key, alphas, shape=(num_samples,), p=proba[sampled_z])\n",
    "\n",
    "    p_cuml = jnp.cumsum(p_arr)  # p_arr is the p argument of jax.random.choice\n",
    "    r = p_cuml[-1] * (1 - jax.random.uniform(key, shape=(num_samples,), dtype=p_cuml.dtype))\n",
    "    ind = jnp.searchsorted(p_cuml, r)\n",
    "    # and thanks to the p_cuml[-1] * you don’t need to have p normalized\n",
    "    \n",
    "    # return sampled_z, sampled_alpha"
   ]
  },
  {
   "cell_type": "markdown",
   "metadata": {},
   "source": [
    "## sanity check"
   ]
  },
  {
   "cell_type": "code",
   "execution_count": 38,
   "metadata": {},
   "outputs": [],
   "source": [
    "signal = jax.random.uniform(key, (10, res_beta, res_alpha))\n",
    "x_samples = sample_s2grid(signal, 5, quadrature=quadrature, key=key)"
   ]
  },
  {
   "cell_type": "code",
   "execution_count": 39,
   "metadata": {},
   "outputs": [
    {
     "data": {
      "text/plain": [
       "(10, 30, 51)"
      ]
     },
     "execution_count": 39,
     "metadata": {},
     "output_type": "execute_result"
    }
   ],
   "source": [
    "signal.shape"
   ]
  },
  {
   "cell_type": "code",
   "execution_count": 40,
   "metadata": {},
   "outputs": [
    {
     "data": {
      "text/plain": [
       "(10, 5)"
      ]
     },
     "execution_count": 40,
     "metadata": {},
     "output_type": "execute_result"
    }
   ],
   "source": [
    "x_samples.shape"
   ]
  },
  {
   "cell_type": "code",
   "execution_count": null,
   "metadata": {},
   "outputs": [],
   "source": []
  }
 ],
 "metadata": {
  "kernelspec": {
   "display_name": "Python 3.10.6 ('e3nn-jax-dev')",
   "language": "python",
   "name": "python3"
  },
  "language_info": {
   "codemirror_mode": {
    "name": "ipython",
    "version": 3
   },
   "file_extension": ".py",
   "mimetype": "text/x-python",
   "name": "python",
   "nbconvert_exporter": "python",
   "pygments_lexer": "ipython3",
   "version": "3.10.6"
  },
  "orig_nbformat": 4,
  "vscode": {
   "interpreter": {
    "hash": "e2cfe68c679199e0e15e3c93376ebd7b69d3313203202553df7bd7cbf43a4b08"
   }
  }
 },
 "nbformat": 4,
 "nbformat_minor": 2
}
