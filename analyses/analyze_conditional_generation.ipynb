{
 "cells": [
  {
   "cell_type": "code",
   "execution_count": 1,
   "metadata": {},
   "outputs": [
    {
     "data": {
      "application/vnd.jupyter.widget-view+json": {
       "model_id": "d38a19f8af06410fabb3a93a700a77d2",
       "version_major": 2,
       "version_minor": 0
      },
      "text/plain": []
     },
     "metadata": {},
     "output_type": "display_data"
    }
   ],
   "source": [
    "import sys\n",
    "import ase\n",
    "import nglview as nv\n",
    "import numpy as np\n",
    "\n",
    "sys.path.append('../')\n"
   ]
  },
  {
   "cell_type": "code",
   "execution_count": 2,
   "metadata": {},
   "outputs": [],
   "source": [
    "generated_paths = {\n",
    "    \"Symphony v1 (train)\": \"/home/songk/symphony/conditional_generation/analysed_workdirs/train/qm9_bessel_embedding_attempt6_edm_splits_iclr2024_submission/e3schnet_and_nequip/interactions=3/l=5/position_channels=2/channels=64/fait=1.0/pit=1.0/step=1020000/molecules\",\n",
    "    \"Symphony v1 (test)\": \"/home/songk/symphony/conditional_generation/analysed_workdirs/test/qm9_bessel_embedding_attempt6_edm_splits_iclr2024_submission/e3schnet_and_nequip/interactions=3/l=5/position_channels=2/channels=64/fait=1.0/pit=1.0/step=1020000/molecules\",\n",
    "    \"Nearest neighbors, 1 target (train)\": \"/home/songk/symphony/conditional_generation/analysed_workdirs/train/qm9/e3schnet_and_nequip/nn_edm/max_targets_1/fait=1.0/pit=1.0/step=best/molecules\",\n",
    "    \"Nearest neighbors, 1 target (test)\": \"/home/songk/symphony/conditional_generation/analysed_workdirs/test/qm9/e3schnet_and_nequip/nn_edm/max_targets_1/fait=1.0/pit=1.0/step=best/molecules\",\n",
    "    \"Nearest neighbors, 4 targets (train)\": \"/home/songk/symphony/conditional_generation/analysed_workdirs/train/qm9/e3schnet_and_nequip/nn_edm/max_targets_4/fait=1.0/pit=1.0/step=best/molecules\",\n",
    "    \"Nearest neighbors, 4 targets (test)\": \"/home/songk/symphony/conditional_generation/analysed_workdirs/test/qm9/e3schnet_and_nequip/nn_edm/max_targets_4/fait=1.0/pit=1.0/step=best/molecules\",\n",
    "    \"Radius cutoff, 1 target (train)\": \"/home/songk/symphony/conditional_generation/analysed_workdirs/train/qm9/e3schnet_and_nequip/radius/max_targets_1/fait=1.0/pit=1.0/step=best/molecules\",\n",
    "    \"Radius cutoff, 1 target (test)\": \"/home/songk/symphony/conditional_generation/analysed_workdirs/test/qm9/e3schnet_and_nequip/radius/max_targets_1/fait=1.0/pit=1.0/step=best/molecules\",\n",
    "    \"Radius cutoff, 4 targets (train)\": \"/home/songk/symphony/conditional_generation/analysed_workdirs/train/qm9/e3schnet_and_nequip/radius/max_targets_4/fait=1.0/pit=1.0/step=best/molecules\",\n",
    "    \"Radius cutoff, 4 targets (test)\": \"/home/songk/symphony/conditional_generation/analysed_workdirs/test/qm9/e3schnet_and_nequip/radius/max_targets_4/fait=1.0/pit=1.0/step=best/molecules\",\n",
    "}"
   ]
  },
  {
   "cell_type": "code",
   "execution_count": 3,
   "metadata": {},
   "outputs": [],
   "source": [
    "from analyses.metrics import *"
   ]
  },
  {
   "cell_type": "code",
   "execution_count": 4,
   "metadata": {},
   "outputs": [],
   "source": [
    "from symphony.data import qm9\n",
    "all_mols = qm9.load_qm9(\"../qm9_data\", use_edm_splits=True, check_molecule_sanity=False)\n",
    "num_mols = 1000\n",
    "test_mols = all_mols[-num_mols:]\n",
    "train_mols = all_mols[:num_mols]\n",
    "\n",
    "def get_fragment_list(mols: Sequence[ase.Atoms], num_mols: int):\n",
    "    fragments = []\n",
    "    H_removed = []\n",
    "    for i in range(num_mols):\n",
    "        mol = mols[i]\n",
    "        num_atoms = len(mol)\n",
    "        for j in range(num_atoms):\n",
    "            fragment = ase.Atoms(\n",
    "                positions=np.vstack([mol.positions[:j], mol.positions[j + 1 :]]),\n",
    "                numbers=np.concatenate([mol.numbers[:j], mol.numbers[j + 1 :]]),\n",
    "            )\n",
    "            fragments.append(fragment)\n",
    "            H_removed.append(mol.numbers[j] == 1)\n",
    "    return fragments, H_removed\n",
    "\n",
    "# Ensure that the number of molecules is a multiple of num_seeds_per_chunk.\n",
    "train_mol_list, train_H_removed = get_fragment_list(train_mols, num_mols)\n",
    "test_mol_list, test_H_removed = get_fragment_list(test_mols, num_mols)"
   ]
  },
  {
   "cell_type": "code",
   "execution_count": 6,
   "metadata": {},
   "outputs": [],
   "source": [
    "def get_key_fn(model):\n",
    "    def key_fn(x):\n",
    "        if \"GSchNet\" in model:\n",
    "            tokens = x.removesuffix(\".xyz\").split('_')\n",
    "            return (int(tokens[1][3:]), int(tokens[2]))\n",
    "        else:\n",
    "            return int(x.removesuffix(\".xyz\").split(\"=\")[-1])\n",
    "    return key_fn\n",
    "\n",
    "\n",
    "def get_all_molecules(model: str, molecules_dir: str) -> List[Chem.Mol]:\n",
    "    \"\"\"Returns all molecules in a directory.\"\"\"\n",
    "    molecules = []\n",
    "    molecules_files = [f for f in os.listdir(molecules_dir) if f.endswith(\".xyz\")]\n",
    "    for molecules_file in sorted(molecules_files, key=get_key_fn(model)):\n",
    "        if not molecules_file.endswith(\".xyz\"):\n",
    "            continue\n",
    "\n",
    "        molecules_file = os.path.join(molecules_dir, molecules_file)\n",
    "        mol = xyz_to_rdkit_molecule(molecules_file)\n",
    "        molecules.append(mol)\n",
    "\n",
    "    return molecules\n",
    "\n",
    "\n",
    "all_generated_molecules = {\n",
    "    model: get_all_molecules(model, molecules_dir) for model, molecules_dir in generated_paths.items()\n",
    "}"
   ]
  },
  {
   "cell_type": "code",
   "execution_count": null,
   "metadata": {},
   "outputs": [
    {
     "name": "stdout",
     "output_type": "stream",
     "text": [
      "0.5127637189213134\n"
     ]
    }
   ],
   "source": [
    "print(np.mean(train_H_removed))"
   ]
  },
  {
   "cell_type": "code",
   "execution_count": 7,
   "metadata": {},
   "outputs": [
    {
     "ename": "ZeroDivisionError",
     "evalue": "division by zero",
     "output_type": "error",
     "traceback": [
      "\u001b[0;31m---------------------------------------------------------------------------\u001b[0m",
      "\u001b[0;31mZeroDivisionError\u001b[0m                         Traceback (most recent call last)",
      "Cell \u001b[0;32mIn[7], line 15\u001b[0m\n\u001b[1;32m     12\u001b[0m         \u001b[38;5;28;01mif\u001b[39;00m H_removed:\n\u001b[1;32m     13\u001b[0m             generated_molecules_with_H_removed\u001b[38;5;241m.\u001b[39mappend(molecule)\n\u001b[0;32m---> 15\u001b[0m validity_fraction \u001b[38;5;241m=\u001b[39m \u001b[43mcompute_validity\u001b[49m\u001b[43m(\u001b[49m\u001b[43mgenerated_molecules_with_H_removed\u001b[49m\u001b[43m,\u001b[49m\u001b[43m \u001b[49m\u001b[43mget_all_valid_molecules\u001b[49m\u001b[43m(\u001b[49m\u001b[43mgenerated_molecules_with_H_removed\u001b[49m\u001b[43m)\u001b[49m\u001b[43m)\u001b[49m\n\u001b[1;32m     16\u001b[0m \u001b[38;5;28mprint\u001b[39m(\u001b[38;5;124mf\u001b[39m\u001b[38;5;124m\"\u001b[39m\u001b[38;5;132;01m{\u001b[39;00mmodel\u001b[38;5;132;01m}\u001b[39;00m\u001b[38;5;124m: \u001b[39m\u001b[38;5;132;01m{\u001b[39;00m\u001b[38;5;241m100\u001b[39m\u001b[38;5;250m \u001b[39m\u001b[38;5;241m*\u001b[39m\u001b[38;5;250m \u001b[39mvalidity_fraction\u001b[38;5;132;01m:\u001b[39;00m\u001b[38;5;124m0.2f\u001b[39m\u001b[38;5;132;01m}\u001b[39;00m\u001b[38;5;124m\"\u001b[39m)\n",
      "File \u001b[0;32m~/symphony/analyses/../analyses/metrics.py:230\u001b[0m, in \u001b[0;36mcompute_validity\u001b[0;34m(molecules, valid_molecules)\u001b[0m\n\u001b[1;32m    228\u001b[0m \u001b[38;5;28;01mdef\u001b[39;00m \u001b[38;5;21mcompute_validity\u001b[39m(molecules: Sequence[Chem\u001b[38;5;241m.\u001b[39mMol], valid_molecules: Sequence[Chem\u001b[38;5;241m.\u001b[39mMol]) \u001b[38;5;241m-\u001b[39m\u001b[38;5;241m>\u001b[39m \u001b[38;5;28mfloat\u001b[39m:\n\u001b[1;32m    229\u001b[0m \u001b[38;5;250m    \u001b[39m\u001b[38;5;124;03m\"\"\"Computes the fraction of molecules in a directory that are valid using xyz2mol .\"\"\"\u001b[39;00m\n\u001b[0;32m--> 230\u001b[0m     \u001b[38;5;28;01mreturn\u001b[39;00m \u001b[38;5;28;43mlen\u001b[39;49m\u001b[43m(\u001b[49m\u001b[43mvalid_molecules\u001b[49m\u001b[43m)\u001b[49m\u001b[43m \u001b[49m\u001b[38;5;241;43m/\u001b[39;49m\u001b[43m \u001b[49m\u001b[38;5;28;43mlen\u001b[39;49m\u001b[43m(\u001b[49m\u001b[43mmolecules\u001b[49m\u001b[43m)\u001b[49m\n",
      "\u001b[0;31mZeroDivisionError\u001b[0m: division by zero"
     ]
    }
   ],
   "source": [
    "for model, generated_molecules in all_generated_molecules.items():\n",
    "    if \"GSchNet\" in model:\n",
    "        generated_molecules_with_H_removed = generated_molecules\n",
    "    else:\n",
    "        if \"train\" in model:\n",
    "            H_removed = train_H_removed\n",
    "        else:\n",
    "            H_removed = test_H_removed\n",
    "\n",
    "        generated_molecules_with_H_removed = []\n",
    "        for molecule, H_removed in zip(generated_molecules, H_removed):\n",
    "            if H_removed:\n",
    "                generated_molecules_with_H_removed.append(molecule)\n",
    "    \n",
    "    validity_fraction = compute_validity(generated_molecules_with_H_removed, get_all_valid_molecules(generated_molecules_with_H_removed))\n",
    "    print(f\"{model}: {100 * validity_fraction:0.2f}\")"
   ]
  },
  {
   "cell_type": "code",
   "execution_count": null,
   "metadata": {},
   "outputs": [],
   "source": [
    "# Original submission: conditional validity experiment\n",
    "# Symphony: 4950000: 98.5%\n",
    "# Symphony: 7530000: 96.65%\n",
    "# Symphony: 9930000: 95.5%\n",
    "# Symphony: 28600000: 94%"
   ]
  },
  {
   "cell_type": "code",
   "execution_count": null,
   "metadata": {},
   "outputs": [],
   "source": [
    "all_generated_molecules[\"Symphony (train)\"][0]"
   ]
  },
  {
   "cell_type": "code",
   "execution_count": null,
   "metadata": {},
   "outputs": [],
   "source": [
    "generated_molecules_with_H_removed = []\n",
    "true_molecules_with_H_removed = []\n",
    "for generated_molecule, true_molecule, H_removed in zip(all_generated_molecules[\"Symphony (train)\"], train_mol_list, train_H_removed):\n",
    "    if H_removed:\n",
    "        generated_molecules_with_H_removed.append(generated_molecule)\n",
    "        true_molecules_with_H_removed.append(true_molecule)\n",
    "\n",
    "print(generated_molecules_with_H_removed[0], true_molecules_with_H_removed[0])\n",
    "ase_mols = [\n",
    "    ase.Atoms(\n",
    "        symbols=[atom.GetSymbol() for atom in generated_molecules_with_H_removed[0].GetAtoms()],\n",
    "        positions=generated_molecules_with_H_removed[0].GetConformer().GetPositions(),\n",
    "    ),\n",
    "    true_molecules_with_H_removed[0]]\n",
    "\n",
    "nv.show_ase(ase_mols[0])\n"
   ]
  },
  {
   "cell_type": "code",
   "execution_count": null,
   "metadata": {},
   "outputs": [],
   "source": [
    "nv.show_ase(ase_mols[1])"
   ]
  },
  {
   "cell_type": "code",
   "execution_count": null,
   "metadata": {},
   "outputs": [],
   "source": [
    "print(len(all_generated_molecules[\"GSchNet (train)\"]))\n",
    "print(len(train_mol_list))\n",
    "\n",
    "print(len(all_generated_molecules[\"GSchNet (test)\"]))\n",
    "print(len(test_mol_list))"
   ]
  },
  {
   "cell_type": "code",
   "execution_count": null,
   "metadata": {},
   "outputs": [],
   "source": [
    "invalid_molecules_symphony = [mol for mol in all_generated_molecules[\"Symphony (train)\"][:100] if not check_molecule_validity(mol)]\n",
    "invalid_molecules_gschnet = [mol for mol in all_generated_molecules[\"GSchNet (train)\"][:100] if not check_molecule_validity(mol)]"
   ]
  },
  {
   "cell_type": "code",
   "execution_count": null,
   "metadata": {},
   "outputs": [],
   "source": [
    "invalid_molecules_ase = [\n",
    "    ase.Atoms(\n",
    "        symbols=[atom.GetSymbol() for atom in mol.GetAtoms()],\n",
    "        positions=mol.GetConformer().GetPositions(),\n",
    "    )\n",
    "    for mol in invalid_molecules_symphony\n",
    "]\n",
    "nv.show_ase(invalid_molecules_ase[2], gui=True)        "
   ]
  }
 ],
 "metadata": {
  "kernelspec": {
   "display_name": ".venv",
   "language": "python",
   "name": "python3"
  },
  "language_info": {
   "codemirror_mode": {
    "name": "ipython",
    "version": 3
   },
   "file_extension": ".py",
   "mimetype": "text/x-python",
   "name": "python",
   "nbconvert_exporter": "python",
   "pygments_lexer": "ipython3",
   "version": "3.10.13"
  },
  "orig_nbformat": 4
 },
 "nbformat": 4,
 "nbformat_minor": 2
}
