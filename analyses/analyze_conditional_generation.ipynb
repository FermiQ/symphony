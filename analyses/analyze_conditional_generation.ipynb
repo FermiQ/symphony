{
 "cells": [
  {
   "cell_type": "code",
   "execution_count": 52,
   "metadata": {},
   "outputs": [],
   "source": [
    "import sys\n",
    "import ase\n",
    "import nglview as nv\n",
    "import numpy as np\n",
    "\n",
    "sys.path.append('../')\n"
   ]
  },
  {
   "cell_type": "code",
   "execution_count": 53,
   "metadata": {},
   "outputs": [],
   "source": [
    "generated_paths = {\n",
    "    \"Symphony (train)\": \"/Users/ameyad/Documents/spherical-harmonic-net/conditional_generation/symphony/train/qm9_bessel_embedding_attempt6_edm_splits/e3schnet_and_nequip/interactions=3/l=5/position_channels=2/channels=64/fait=1.0/pit=1.0/step=9930000/molecules/\",\n",
    "    \"Symphony (test)\": \"/Users/ameyad/Documents/spherical-harmonic-net/conditional_generation/symphony/test/qm9_bessel_embedding_attempt6_edm_splits/e3schnet_and_nequip/interactions=3/l=5/position_channels=2/channels=64/fait=1.0/pit=1.0/step=9930000/molecules/\",\n",
    "    \"GSchNet (train)\": \"/Users/ameyad/Documents/spherical-harmonic-net/conditional_generation/gschnet_generated_train_and_test/train\",\n",
    "    \"GSchNet (test)\": \"/Users/ameyad/Documents/spherical-harmonic-net/conditional_generation/gschnet_generated_train_and_test/test\",\n",
    "}"
   ]
  },
  {
   "cell_type": "code",
   "execution_count": 54,
   "metadata": {},
   "outputs": [],
   "source": [
    "from analyses.metrics import *"
   ]
  },
  {
   "cell_type": "code",
   "execution_count": 55,
   "metadata": {},
   "outputs": [
    {
     "name": "stderr",
     "output_type": "stream",
     "text": [
      "[16:00:11] Warning: molecule is tagged as 3D, but all Z coords are zero\n",
      "[16:00:12] Warning: molecule is tagged as 3D, but all Z coords are zero\n"
     ]
    },
    {
     "name": "stdout",
     "output_type": "stream",
     "text": [
      "../qm9_data/edm_splits.npz\n"
     ]
    }
   ],
   "source": [
    "from symphony.data import qm9\n",
    "all_mols = qm9.load_qm9(\"../qm9_data\", use_edm_splits=True, check_molecule_sanity=False)\n",
    "num_mols = 1000\n",
    "test_mols = all_mols[-num_mols:]\n",
    "train_mols = all_mols[:num_mols]\n",
    "\n",
    "def get_fragment_list(mols: Sequence[ase.Atoms], num_mols: int):\n",
    "    fragments = []\n",
    "    H_removed = []\n",
    "    for i in range(num_mols):\n",
    "        mol = mols[i]\n",
    "        num_atoms = len(mol)\n",
    "        for j in range(num_atoms):\n",
    "            fragment = ase.Atoms(\n",
    "                positions=np.vstack([mol.positions[:j], mol.positions[j + 1 :]]),\n",
    "                numbers=np.concatenate([mol.numbers[:j], mol.numbers[j + 1 :]]),\n",
    "            )\n",
    "            fragments.append(fragment)\n",
    "            H_removed.append(mol.numbers[j] == 1)\n",
    "    return fragments, H_removed\n",
    "\n",
    "# Ensure that the number of molecules is a multiple of num_seeds_per_chunk.\n",
    "train_mol_list, train_H_removed = get_fragment_list(train_mols, num_mols)\n",
    "test_mol_list, test_H_removed = get_fragment_list(test_mols, num_mols)"
   ]
  },
  {
   "cell_type": "code",
   "execution_count": 56,
   "metadata": {},
   "outputs": [],
   "source": [
    "def get_key_fn(model):\n",
    "    assert (\"Symphony\" in model) ^ (\"GSchNet\" in model)\n",
    "    def key_fn(x):\n",
    "        if \"GSchNet\" in model:\n",
    "            tokens = x.removesuffix(\".xyz\").split('_')\n",
    "            return (int(tokens[1][3:]), int(tokens[2]))\n",
    "        else:\n",
    "            return int(x.removesuffix(\".xyz\").split(\"=\")[-1])\n",
    "    return key_fn\n",
    "\n",
    "\n",
    "def get_all_molecules(model: str, molecules_dir: str) -> List[Chem.Mol]:\n",
    "    \"\"\"Returns all molecules in a directory.\"\"\"\n",
    "    molecules = []\n",
    "    molecules_files = [f for f in os.listdir(molecules_dir) if f.endswith(\".xyz\")]\n",
    "    for molecules_file in sorted(molecules_files, key=get_key_fn(model)):\n",
    "        if not molecules_file.endswith(\".xyz\"):\n",
    "            continue\n",
    "\n",
    "        molecules_file = os.path.join(molecules_dir, molecules_file)\n",
    "        mol = xyz_to_rdkit_molecule(molecules_file)\n",
    "        molecules.append(mol)\n",
    "\n",
    "    return molecules\n",
    "\n",
    "\n",
    "all_generated_molecules = {\n",
    "    model: get_all_molecules(model, molecules_dir) for model, molecules_dir in generated_paths.items()\n",
    "}"
   ]
  },
  {
   "cell_type": "code",
   "execution_count": 57,
   "metadata": {},
   "outputs": [
    {
     "name": "stdout",
     "output_type": "stream",
     "text": [
      "0.5127637189213134\n"
     ]
    }
   ],
   "source": [
    "print(np.mean(train_H_removed))"
   ]
  },
  {
   "cell_type": "code",
   "execution_count": 58,
   "metadata": {},
   "outputs": [
    {
     "name": "stdout",
     "output_type": "stream",
     "text": [
      "Symphony (train): 95.57\n",
      "Symphony (test): 95.43\n",
      "GSchNet (train): 97.91\n",
      "GSchNet (test): 98.15\n"
     ]
    }
   ],
   "source": [
    "for model, generated_molecules in all_generated_molecules.items():\n",
    "    if \"GSchNet\" in model:\n",
    "        generated_molecules_with_H_removed = generated_molecules\n",
    "    else:\n",
    "        if \"train\" in model:\n",
    "            H_removed = train_H_removed\n",
    "        else:\n",
    "            H_removed = test_H_removed\n",
    "\n",
    "        generated_molecules_with_H_removed = []\n",
    "        for molecule, H_removed in zip(generated_molecules, H_removed):\n",
    "            if H_removed:\n",
    "                generated_molecules_with_H_removed.append(molecule)\n",
    "    \n",
    "    validity_fraction = compute_validity(generated_molecules_with_H_removed, get_all_valid_molecules(generated_molecules_with_H_removed))\n",
    "    print(f\"{model}: {100 * validity_fraction:0.2f}\")"
   ]
  },
  {
   "cell_type": "code",
   "execution_count": 59,
   "metadata": {},
   "outputs": [],
   "source": [
    "# Original submission: conditional validity experiment\n",
    "# Symphony: 4950000: 98.5%\n",
    "# Symphony: 7530000: 96.65%\n",
    "# Symphony: 9930000: 95.5%\n",
    "# Symphony: 28600000: 94%"
   ]
  },
  {
   "cell_type": "code",
   "execution_count": 60,
   "metadata": {},
   "outputs": [
    {
     "data": {
      "image/png": "[encoded data removed]",
      "text/plain": [
       "<rdkit.Chem.rdchem.Mol at 0x308525b20>"
      ]
     },
     "execution_count": 60,
     "metadata": {},
     "output_type": "execute_result"
    }
   ],
   "source": [
    "all_generated_molecules[\"Symphony (train)\"][0]"
   ]
  },
  {
   "cell_type": "code",
   "execution_count": 61,
   "metadata": {},
   "outputs": [
    {
     "name": "stdout",
     "output_type": "stream",
     "text": [
      "<rdkit.Chem.rdchem.Mol object at 0x3085246d0> Atoms(symbols='C3FN2OCNH3', pbc=False)\n"
     ]
    },
    {
     "data": {
      "application/vnd.jupyter.widget-view+json": {
       "model_id": "e2d71801c2ca4555984be3121122f2df",
       "version_major": 2,
       "version_minor": 0
      },
      "text/plain": [
       "NGLWidget()"
      ]
     },
     "metadata": {},
     "output_type": "display_data"
    }
   ],
   "source": [
    "generated_molecules_with_H_removed = []\n",
    "true_molecules_with_H_removed = []\n",
    "for generated_molecule, true_molecule, H_removed in zip(all_generated_molecules[\"Symphony (train)\"], train_mol_list, train_H_removed):\n",
    "    if H_removed:\n",
    "        generated_molecules_with_H_removed.append(generated_molecule)\n",
    "        true_molecules_with_H_removed.append(true_molecule)\n",
    "\n",
    "print(generated_molecules_with_H_removed[0], true_molecules_with_H_removed[0])\n",
    "ase_mols = [\n",
    "    ase.Atoms(\n",
    "        symbols=[atom.GetSymbol() for atom in generated_molecules_with_H_removed[0].GetAtoms()],\n",
    "        positions=generated_molecules_with_H_removed[0].GetConformer().GetPositions(),\n",
    "    ),\n",
    "    true_molecules_with_H_removed[0]]\n",
    "\n",
    "nv.show_ase(ase_mols[0])\n"
   ]
  },
  {
   "cell_type": "code",
   "execution_count": 62,
   "metadata": {},
   "outputs": [
    {
     "data": {
      "application/vnd.jupyter.widget-view+json": {
       "model_id": "0bdbe5ffaa614ed7844ebfc0d247fd88",
       "version_major": 2,
       "version_minor": 0
      },
      "text/plain": [
       "NGLWidget()"
      ]
     },
     "metadata": {},
     "output_type": "display_data"
    }
   ],
   "source": [
    "nv.show_ase(ase_mols[1])"
   ]
  },
  {
   "cell_type": "code",
   "execution_count": 63,
   "metadata": {},
   "outputs": [
    {
     "name": "stdout",
     "output_type": "stream",
     "text": [
      "9254\n",
      "18059\n",
      "9262\n",
      "18071\n"
     ]
    }
   ],
   "source": [
    "print(len(all_generated_molecules[\"GSchNet (train)\"]))\n",
    "print(len(train_mol_list))\n",
    "\n",
    "print(len(all_generated_molecules[\"GSchNet (test)\"]))\n",
    "print(len(test_mol_list))"
   ]
  },
  {
   "cell_type": "code",
   "execution_count": 64,
   "metadata": {},
   "outputs": [],
   "source": [
    "invalid_molecules_symphony = [mol for mol in all_generated_molecules[\"Symphony (train)\"][:100] if not check_molecule_validity(mol)]\n",
    "invalid_molecules_gschnet = [mol for mol in all_generated_molecules[\"GSchNet (train)\"][:100] if not check_molecule_validity(mol)]"
   ]
  },
  {
   "cell_type": "code",
   "execution_count": 65,
   "metadata": {},
   "outputs": [
    {
     "data": {
      "application/vnd.jupyter.widget-view+json": {
       "model_id": "8c5386f6138d48ef85bc06863cd1891d",
       "version_major": 2,
       "version_minor": 0
      },
      "text/plain": [
       "NGLWidget()"
      ]
     },
     "metadata": {},
     "output_type": "display_data"
    },
    {
     "data": {
      "application/vnd.jupyter.widget-view+json": {
       "model_id": "80a6edde4916432c8d35c5764c94d856",
       "version_major": 2,
       "version_minor": 0
      },
      "text/plain": [
       "Tab(children=(Box(children=(Box(children=(Box(children=(Label(value='step'), IntSlider(value=1, min=-100)), la…"
      ]
     },
     "metadata": {},
     "output_type": "display_data"
    }
   ],
   "source": [
    "invalid_molecules_ase = [\n",
    "    ase.Atoms(\n",
    "        symbols=[atom.GetSymbol() for atom in mol.GetAtoms()],\n",
    "        positions=mol.GetConformer().GetPositions(),\n",
    "    )\n",
    "    for mol in invalid_molecules_symphony\n",
    "]\n",
    "nv.show_ase(invalid_molecules_ase[2], gui=True)        "
   ]
  }
 ],
 "metadata": {
  "kernelspec": {
   "display_name": ".venv",
   "language": "python",
   "name": "python3"
  },
  "language_info": {
   "codemirror_mode": {
    "name": "ipython",
    "version": 3
   },
   "file_extension": ".py",
   "mimetype": "text/x-python",
   "name": "python",
   "nbconvert_exporter": "python",
   "pygments_lexer": "ipython3",
   "version": "3.10.12"
  },
  "orig_nbformat": 4
 },
 "nbformat": 4,
 "nbformat_minor": 2
}
