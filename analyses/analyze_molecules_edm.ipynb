{
 "cells": [
  {
   "cell_type": "code",
   "execution_count": 1,
   "metadata": {},
   "outputs": [],
   "source": [
    "import sys\n",
    "sys.path.append('../')"
   ]
  },
  {
   "cell_type": "code",
   "execution_count": 2,
   "metadata": {},
   "outputs": [],
   "source": [
    "%load_ext autoreload"
   ]
  },
  {
   "cell_type": "code",
   "execution_count": 3,
   "metadata": {},
   "outputs": [
    {
     "name": "stderr",
     "output_type": "stream",
     "text": [
      "/Users/ameyad/Documents/spherical-harmonic-net/.venv/lib/python3.10/site-packages/flax/struct.py:136: FutureWarning: jax.tree_util.register_keypaths is deprecated, and will be removed in a future release. Please use `register_pytree_with_keys()` instead.\n",
      "  jax.tree_util.register_keypaths(data_clz, keypaths)\n",
      "/Users/ameyad/Documents/spherical-harmonic-net/.venv/lib/python3.10/site-packages/flax/struct.py:136: FutureWarning: jax.tree_util.register_keypaths is deprecated, and will be removed in a future release. Please use `register_pytree_with_keys()` instead.\n",
      "  jax.tree_util.register_keypaths(data_clz, keypaths)\n",
      "/Users/ameyad/Documents/spherical-harmonic-net/.venv/lib/python3.10/site-packages/flax/struct.py:136: FutureWarning: jax.tree_util.register_keypaths is deprecated, and will be removed in a future release. Please use `register_pytree_with_keys()` instead.\n",
      "  jax.tree_util.register_keypaths(data_clz, keypaths)\n"
     ]
    }
   ],
   "source": [
    "%autoreload 2\n",
    "from analyses.metrics import *"
   ]
  },
  {
   "cell_type": "code",
   "execution_count": 6,
   "metadata": {},
   "outputs": [],
   "source": [
    "generated_paths = {\n",
    "    \"QM9\": \"/Users/ameyad/Documents/spherical-harmonic-net/others/qm9_xyz\",\n",
    "    # \"Symphony_v3_132k\": \"/Users/ameyad/Documents/spherical-harmonic-net/analyses/analysed_workdirs/qm9_bessel_embedding_attempt3_radius_fixed/e3schnet_and_nequip/interactions=3/l=5/position_channels=2/channels=64/fait=1.0/pit=1.0/step=1320000/molecules\",\n",
    "    # \"Symphony_v3_330k\": \"/Users/ameyad/Documents/spherical-harmonic-net/analyses/analysed_workdirs/qm9_bessel_embedding_attempt3_radius_fixed/e3schnet_and_nequip/interactions=3/l=5/position_channels=2/channels=64/fait=1.0/pit=1.0/step=3300000/molecules\",\n",
    "    # \"Symphony_v5_132k\": \"/Users/ameyad/Documents/spherical-harmonic-net/analyses/analysed_workdirs/qm9_bessel_embedding_attempt5_lower_lr_0.05noise/e3schnet_and_nequip/interactions=3/l=5/position_channels=2/channels=64/fait=1.0/pit=1.0/step=1320000/molecules\",\n",
    "    # \"Symphony_v5_249k\": \"/Users/ameyad/Documents/spherical-harmonic-net/analyses/analysed_workdirs/qm9_bessel_embedding_attempt5_lower_lr_0.05noise/e3schnet_and_nequip/interactions=3/l=5/position_channels=2/channels=64/fait=1.0/pit=1.0/step=2490000/molecules\",\n",
    "    \"Symphony\": \"/Users/ameyad/Documents/spherical-harmonic-net/analyses/analysed_workdirs/qm9_bessel_embedding_attempt6_edm_splits/e3schnet_and_nequip/interactions=3/l=5/position_channels=2/channels=64/fait=1.0/pit=1.0/step=4950000/molecules\",\n",
    "    \"EDM\": \"/Users/ameyad/Documents/spherical-harmonic-net/others/edm/samples_edm_xyz\",\n",
    "    \"GSchNet\": \"/Users/ameyad/Documents/spherical-harmonic-net/others/gschnet-edm/molecules\",\n",
    "    \"GSphereNet\": \"/Users/ameyad/Documents/spherical-harmonic-net/others/gspherenet/molecules\",\n",
    "}"
   ]
  },
  {
   "cell_type": "code",
   "execution_count": 11,
   "metadata": {},
   "outputs": [
    {
     "name": "stdout",
     "output_type": "stream",
     "text": [
      "Validity over 10000 molecules: 64.02%\n",
      "Uniqueness over 6402 valid molecules: 97.92%\n",
      "Novelty over 6269 unique valid molecules: 60.50%\n",
      "Symphony\n",
      "                                                path  \\\n",
      "0  /Users/ameyad/Documents/spherical-harmonic-net...   \n",
      "\n",
      "   fraction_molecules_stable  fraction_atoms_stable  num_generated  \\\n",
      "0                     0.4154               0.906873          10000   \n",
      "\n",
      "   num_valid_generated  num_valid_and_unique_generated  \\\n",
      "0               6402.0                          6269.0   \n",
      "\n",
      "   num_valid_and_unique_and_novel_generated  fraction_valid  \\\n",
      "0                                    3793.0          0.6402   \n",
      "\n",
      "   fraction_unique_of_valid  fraction_valid_and_unique  \\\n",
      "0                  0.979225                     0.6269   \n",
      "\n",
      "   fraction_novel_of_valid_and_unique  fraction_valid_and_unique_and_novel  \n",
      "0                            0.605041                               0.3793  \n",
      "\n"
     ]
    }
   ],
   "source": [
    "for model, molecules_dir in generated_paths.items():\n",
    "    if model == \"QM9\":\n",
    "        continue\n",
    "    results = get_edm_analyses_results(molecules_dir, read_as_sdf=False)\n",
    "    print(model)\n",
    "    print(results)\n",
    "    print()\n",
    "    break"
   ]
  }
 ],
 "metadata": {
  "kernelspec": {
   "display_name": "openbabel",
   "language": "python",
   "name": "python3"
  },
  "language_info": {
   "codemirror_mode": {
    "name": "ipython",
    "version": 3
   },
   "file_extension": ".py",
   "mimetype": "text/x-python",
   "name": "python",
   "nbconvert_exporter": "python",
   "pygments_lexer": "ipython3",
   "version": "3.10.12"
  },
  "orig_nbformat": 4
 },
 "nbformat": 4,
 "nbformat_minor": 2
}
