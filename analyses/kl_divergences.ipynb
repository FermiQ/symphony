{
 "cells": [
  {
   "cell_type": "code",
   "execution_count": 1,
   "metadata": {},
   "outputs": [],
   "source": [
    "import functools\n",
    "\n",
    "import optax\n",
    "import jax.numpy as jnp\n",
    "import jax\n",
    "import e3nn_jax as e3nn\n",
    "import matplotlib.pyplot as plt\n",
    "import seaborn as sns\n",
    "import matplotlib.colors\n",
    "import plotly.graph_objects as go\n",
    "\n",
    "import sys\n",
    "sys.path.append('../')"
   ]
  },
  {
   "cell_type": "code",
   "execution_count": 2,
   "metadata": {},
   "outputs": [],
   "source": [
    "from symphony import loss\n",
    "from symphony import models"
   ]
  },
  {
   "cell_type": "code",
   "execution_count": 3,
   "metadata": {},
   "outputs": [],
   "source": [
    "target_positions = jnp.asarray([[[1., 0., 0.], [0., 1., 0.], [0., 0., 1.]]])\n",
    "# target_positions = jnp.asarray([[1., 0., 0.]])\n",
    "target_position_inverse_temperature = 10000.\n",
    "lmax = 3\n",
    "res_beta = 40\n",
    "res_alpha = 39"
   ]
  },
  {
   "cell_type": "code",
   "execution_count": 4,
   "metadata": {},
   "outputs": [
    {
     "data": {
      "text/plain": [
       "SphericalSignal(shape=(1, 40, 39), res_beta=40, res_alpha=39, quadrature=soft, p_val=1, p_arg=-1)\n",
       "[[[ 0.        0.        0.       ...  0.        0.        0.      ]\n",
       "  [ 0.        0.        0.       ...  0.        0.        0.      ]\n",
       "  [ 0.        0.        0.       ...  0.        0.        0.      ]\n",
       "  ...\n",
       "  [ 0.        0.        0.       ...  0.        0.        0.      ]\n",
       "  [ 0.        0.        0.       ...  0.        0.        0.      ]\n",
       "  [19.714487 19.714487 19.714487 ... 19.714487 19.714487 19.714487]]]"
      ]
     },
     "execution_count": 4,
     "metadata": {},
     "output_type": "execute_result"
    }
   ],
   "source": [
    "log_true_angular_coeffs = jax.vmap(\n",
    "    lambda pos: loss.target_position_to_log_angular_coeffs(\n",
    "        pos, target_position_inverse_temperature=target_position_inverse_temperature, lmax=lmax,\n",
    "    )\n",
    ")(target_positions)\n",
    "\n",
    "compute_grid_of_joint_distribution_fn = functools.partial(\n",
    "        models.compute_grid_of_joint_distribution,\n",
    "        res_beta=res_beta,\n",
    "        res_alpha=res_alpha,\n",
    "        quadrature=\"soft\",\n",
    "    )\n",
    "true_angular_dist = jax.vmap(\n",
    "    compute_grid_of_joint_distribution_fn,\n",
    ")(jnp.ones((target_positions.shape[0], target_positions.shape[1], 1)), log_true_angular_coeffs)\n",
    "true_angular_dist.grid_values = true_angular_dist.grid_values[:, 0, :, :]\n",
    "mean_true_angular_dist = e3nn.SphericalSignal(\n",
    "    grid_values=true_angular_dist.grid_values.mean(axis=1),\n",
    "    quadrature=true_angular_dist.quadrature\n",
    ")\n",
    "mean_true_angular_dist\n"
   ]
  },
  {
   "cell_type": "code",
   "execution_count": 5,
   "metadata": {},
   "outputs": [],
   "source": [
    "def coeffs_to_dist(log_predicted_angular_coeffs):\n",
    "    predicted_angular_dist = compute_grid_of_joint_distribution_fn(jnp.ones((1,)), log_predicted_angular_coeffs)\n",
    "    predicted_angular_dist = predicted_angular_dist[0, :, :]\n",
    "    return predicted_angular_dist\n",
    "\n",
    "\n",
    "def coeffs_to_logits(log_predicted_angular_coeffs):\n",
    "    predicted_angular_dist = coeffs_to_dist(log_predicted_angular_coeffs)\n",
    "    predicted_angular_logits = predicted_angular_dist.apply(models.safe_log)\n",
    "    return predicted_angular_logits"
   ]
  },
  {
   "cell_type": "code",
   "execution_count": 6,
   "metadata": {},
   "outputs": [],
   "source": [
    "def factorized_position_loss(coeffs, dist) -> jnp.ndarray:\n",
    "    \"\"\"Computes the loss over position probabilities using separate losses for the radial and the angular components.\"\"\"\n",
    "    # Radial loss is simply the negative log-likelihood loss.\n",
    "    # loss_radial = -preds.globals.radial_logits.sum(axis=-1)\n",
    "    loss_radial = 0.\n",
    "\n",
    "    predicted_angular_logits = coeffs_to_logits(coeffs)\n",
    "    # The angular loss is the KL divergence between the predicted and the true angular distributions.\n",
    "    res_beta, res_alpha = (\n",
    "        predicted_angular_logits.res_beta,\n",
    "        predicted_angular_logits.res_alpha,\n",
    "    )\n",
    "\n",
    "    # jax.debug.print(\"max={x}\", x=true_angular_dist.grid_values.max())\n",
    "    # jax.debug.print(\"min={x}\", x=true_angular_dist.grid_values.min())\n",
    "    assert predicted_angular_logits.shape == (\n",
    "        res_beta,\n",
    "        res_alpha,\n",
    "    ), (predicted_angular_logits.shape, dist.shape)\n",
    "    dist.grid_values = dist.grid_values.reshape(res_beta, res_alpha)\n",
    "\n",
    "    loss_angular = loss.kl_divergence_on_spheres(\n",
    "        dist, predicted_angular_logits\n",
    "    )\n",
    "\n",
    "    loss_position = loss_radial + loss_angular\n",
    "    return loss_position\n"
   ]
  },
  {
   "cell_type": "code",
   "execution_count": 7,
   "metadata": {},
   "outputs": [],
   "source": [
    "@jax.jit\n",
    "def loss_fn(coeffs, target_dist):\n",
    "    return factorized_position_loss(coeffs, target_dist).mean()\n",
    "\n",
    "@functools.partial(jax.jit, static_argnames=(\"tx\", \"use_mean_dist\",))\n",
    "def step_fn(rng, coeffs, opt_state, tx, use_mean_dist):\n",
    "    if use_mean_dist:\n",
    "        target_dist = mean_true_angular_dist\n",
    "    else:\n",
    "        step_rng, rng = jax.random.split(rng)\n",
    "        target_index = jax.random.choice(step_rng, a=target_positions.shape[0])\n",
    "        target_dist = true_angular_dist[target_index:target_index+1]\n",
    "\n",
    "    grads = jax.grad(loss_fn)(coeffs, target_dist)\n",
    "    loss_val = loss_fn(coeffs, mean_true_angular_dist)\n",
    "    updates, opt_state = tx.update(grads, opt_state)\n",
    "    coeffs = optax.apply_updates(coeffs, updates)\n",
    "    return rng, coeffs, opt_state, loss_val"
   ]
  },
  {
   "cell_type": "code",
   "execution_count": 8,
   "metadata": {},
   "outputs": [
    {
     "name": "stdout",
     "output_type": "stream",
     "text": [
      "step=9999: loss=2.534858226776123\n",
      "step=9999: loss=0.022061586380004883\n",
      "step=9999: loss=0.007269382476806641\n",
      "step=9999: loss=0.04304194450378418\n",
      "step=9999: loss=0.8999682664871216\n",
      "step=9999: loss=2.9829752445220947\n"
     ]
    },
    {
     "ename": "IndexError",
     "evalue": "Array slice indices must have static start/stop/step to be used with NumPy indexing syntax. Found slice(Traced<ShapedArray(int32[])>with<DynamicJaxprTrace(level=1/0)>, Traced<ShapedArray(int32[])>with<DynamicJaxprTrace(level=1/0)>, None). To index a statically sized array at a dynamic position, try lax.dynamic_slice/dynamic_update_slice (JAX does not support dynamically sized arrays within JIT compiled functions).",
     "output_type": "error",
     "traceback": [
      "\u001b[0;31m---------------------------------------------------------------------------\u001b[0m",
      "\u001b[0;31mIndexError\u001b[0m                                Traceback (most recent call last)",
      "Cell \u001b[0;32mIn[8], line 25\u001b[0m\n\u001b[1;32m     22\u001b[0m     all_steps\u001b[38;5;241m.\u001b[39mappend(step)\n\u001b[1;32m     23\u001b[0m     all_losses\u001b[38;5;241m.\u001b[39mappend(\u001b[38;5;28mfloat\u001b[39m(loss_val))\n\u001b[0;32m---> 25\u001b[0m rng, coeffs, opt_state, loss_val \u001b[38;5;241m=\u001b[39m \u001b[43mstep_fn\u001b[49m\u001b[43m(\u001b[49m\u001b[43mrng\u001b[49m\u001b[43m,\u001b[49m\u001b[43m \u001b[49m\u001b[43mcoeffs\u001b[49m\u001b[43m,\u001b[49m\u001b[43m \u001b[49m\u001b[43mopt_state\u001b[49m\u001b[43m,\u001b[49m\u001b[43m \u001b[49m\u001b[43mtx\u001b[49m\u001b[43m,\u001b[49m\u001b[43m \u001b[49m\u001b[43muse_mean_dist\u001b[49m\u001b[43m)\u001b[49m\n\u001b[1;32m     26\u001b[0m \u001b[38;5;28;01mif\u001b[39;00m step \u001b[38;5;241m==\u001b[39m \u001b[38;5;241m10000\u001b[39m \u001b[38;5;241m-\u001b[39m \u001b[38;5;241m1\u001b[39m:\n\u001b[1;32m     27\u001b[0m     \u001b[38;5;28mprint\u001b[39m(\u001b[38;5;124mf\u001b[39m\u001b[38;5;124m\"\u001b[39m\u001b[38;5;124mstep=\u001b[39m\u001b[38;5;132;01m{\u001b[39;00mstep\u001b[38;5;132;01m}\u001b[39;00m\u001b[38;5;124m: loss=\u001b[39m\u001b[38;5;132;01m{\u001b[39;00mloss_val\u001b[38;5;132;01m}\u001b[39;00m\u001b[38;5;124m\"\u001b[39m)\n",
      "    \u001b[0;31m[... skipping hidden 12 frame]\u001b[0m\n",
      "Cell \u001b[0;32mIn[7], line 12\u001b[0m, in \u001b[0;36mstep_fn\u001b[0;34m(rng, coeffs, opt_state, tx, use_mean_dist)\u001b[0m\n\u001b[1;32m     10\u001b[0m     step_rng, rng \u001b[38;5;241m=\u001b[39m jax\u001b[38;5;241m.\u001b[39mrandom\u001b[38;5;241m.\u001b[39msplit(rng)\n\u001b[1;32m     11\u001b[0m     target_index \u001b[38;5;241m=\u001b[39m jax\u001b[38;5;241m.\u001b[39mrandom\u001b[38;5;241m.\u001b[39mchoice(step_rng, a\u001b[38;5;241m=\u001b[39mtarget_positions\u001b[38;5;241m.\u001b[39mshape[\u001b[38;5;241m0\u001b[39m])\n\u001b[0;32m---> 12\u001b[0m     target_dist \u001b[38;5;241m=\u001b[39m \u001b[43mtrue_angular_dist\u001b[49m\u001b[43m[\u001b[49m\u001b[43mtarget_index\u001b[49m\u001b[43m:\u001b[49m\u001b[43mtarget_index\u001b[49m\u001b[38;5;241;43m+\u001b[39;49m\u001b[38;5;241;43m1\u001b[39;49m\u001b[43m]\u001b[49m\n\u001b[1;32m     14\u001b[0m grads \u001b[38;5;241m=\u001b[39m jax\u001b[38;5;241m.\u001b[39mgrad(loss_fn)(coeffs, target_dist)\n\u001b[1;32m     15\u001b[0m loss_val \u001b[38;5;241m=\u001b[39m loss_fn(coeffs, mean_true_angular_dist)\n",
      "File \u001b[0;32m~/anaconda3/envs/sh-net/lib/python3.10/site-packages/e3nn_jax/_src/s2grid.py:655\u001b[0m, in \u001b[0;36mSphericalSignal.__getitem__\u001b[0;34m(self, index)\u001b[0m\n\u001b[1;32m    654\u001b[0m \u001b[38;5;28;01mdef\u001b[39;00m \u001b[38;5;21m__getitem__\u001b[39m(\u001b[38;5;28mself\u001b[39m, index) \u001b[38;5;241m-\u001b[39m\u001b[38;5;241m>\u001b[39m \u001b[38;5;124m\"\u001b[39m\u001b[38;5;124mSphericalSignal\u001b[39m\u001b[38;5;124m\"\u001b[39m:\n\u001b[0;32m--> 655\u001b[0m     grid_values \u001b[38;5;241m=\u001b[39m \u001b[38;5;28;43mself\u001b[39;49m\u001b[38;5;241;43m.\u001b[39;49m\u001b[43mgrid_values\u001b[49m\u001b[43m[\u001b[49m\u001b[43mindex\u001b[49m\u001b[43m]\u001b[49m\n\u001b[1;32m    657\u001b[0m     \u001b[38;5;28;01mif\u001b[39;00m grid_values\u001b[38;5;241m.\u001b[39mndim \u001b[38;5;241m<\u001b[39m \u001b[38;5;241m2\u001b[39m:\n\u001b[1;32m    658\u001b[0m         \u001b[38;5;28;01mraise\u001b[39;00m \u001b[38;5;167;01mValueError\u001b[39;00m(\n\u001b[1;32m    659\u001b[0m             \u001b[38;5;124m\"\u001b[39m\u001b[38;5;124mThis indexing does not produce something that can be interpreted as a signal on the sphere. \u001b[39m\u001b[38;5;124m\"\u001b[39m\n\u001b[1;32m    660\u001b[0m             \u001b[38;5;124m\"\u001b[39m\u001b[38;5;124mConsider using `SphericalSignal.grid_values` instead.\u001b[39m\u001b[38;5;124m\"\u001b[39m\n\u001b[1;32m    661\u001b[0m         )\n",
      "File \u001b[0;32m~/anaconda3/envs/sh-net/lib/python3.10/site-packages/jax/_src/array.py:336\u001b[0m, in \u001b[0;36mArrayImpl.__getitem__\u001b[0;34m(self, idx)\u001b[0m\n\u001b[1;32m    334\u001b[0m   \u001b[38;5;28;01mreturn\u001b[39;00m lax_numpy\u001b[38;5;241m.\u001b[39m_rewriting_take(\u001b[38;5;28mself\u001b[39m, idx)\n\u001b[1;32m    335\u001b[0m \u001b[38;5;28;01melse\u001b[39;00m:\n\u001b[0;32m--> 336\u001b[0m   \u001b[38;5;28;01mreturn\u001b[39;00m \u001b[43mlax_numpy\u001b[49m\u001b[38;5;241;43m.\u001b[39;49m\u001b[43m_rewriting_take\u001b[49m\u001b[43m(\u001b[49m\u001b[38;5;28;43mself\u001b[39;49m\u001b[43m,\u001b[49m\u001b[43m \u001b[49m\u001b[43midx\u001b[49m\u001b[43m)\u001b[49m\n",
      "File \u001b[0;32m~/anaconda3/envs/sh-net/lib/python3.10/site-packages/jax/_src/numpy/lax_numpy.py:4494\u001b[0m, in \u001b[0;36m_rewriting_take\u001b[0;34m(arr, idx, indices_are_sorted, unique_indices, mode, fill_value)\u001b[0m\n\u001b[1;32m   4491\u001b[0m       \u001b[38;5;28;01mreturn\u001b[39;00m lax\u001b[38;5;241m.\u001b[39mdynamic_index_in_dim(arr, idx, keepdims\u001b[38;5;241m=\u001b[39m\u001b[38;5;28;01mFalse\u001b[39;00m)\n\u001b[1;32m   4493\u001b[0m treedef, static_idx, dynamic_idx \u001b[38;5;241m=\u001b[39m _split_index_for_jit(idx, arr\u001b[38;5;241m.\u001b[39mshape)\n\u001b[0;32m-> 4494\u001b[0m \u001b[38;5;28;01mreturn\u001b[39;00m \u001b[43m_gather\u001b[49m\u001b[43m(\u001b[49m\u001b[43marr\u001b[49m\u001b[43m,\u001b[49m\u001b[43m \u001b[49m\u001b[43mtreedef\u001b[49m\u001b[43m,\u001b[49m\u001b[43m \u001b[49m\u001b[43mstatic_idx\u001b[49m\u001b[43m,\u001b[49m\u001b[43m \u001b[49m\u001b[43mdynamic_idx\u001b[49m\u001b[43m,\u001b[49m\u001b[43m \u001b[49m\u001b[43mindices_are_sorted\u001b[49m\u001b[43m,\u001b[49m\n\u001b[1;32m   4495\u001b[0m \u001b[43m               \u001b[49m\u001b[43munique_indices\u001b[49m\u001b[43m,\u001b[49m\u001b[43m \u001b[49m\u001b[43mmode\u001b[49m\u001b[43m,\u001b[49m\u001b[43m \u001b[49m\u001b[43mfill_value\u001b[49m\u001b[43m)\u001b[49m\n",
      "File \u001b[0;32m~/anaconda3/envs/sh-net/lib/python3.10/site-packages/jax/_src/numpy/lax_numpy.py:4503\u001b[0m, in \u001b[0;36m_gather\u001b[0;34m(arr, treedef, static_idx, dynamic_idx, indices_are_sorted, unique_indices, mode, fill_value)\u001b[0m\n\u001b[1;32m   4500\u001b[0m \u001b[38;5;28;01mdef\u001b[39;00m \u001b[38;5;21m_gather\u001b[39m(arr, treedef, static_idx, dynamic_idx, indices_are_sorted,\n\u001b[1;32m   4501\u001b[0m             unique_indices, mode, fill_value):\n\u001b[1;32m   4502\u001b[0m   idx \u001b[38;5;241m=\u001b[39m _merge_static_and_dynamic_indices(treedef, static_idx, dynamic_idx)\n\u001b[0;32m-> 4503\u001b[0m   indexer \u001b[38;5;241m=\u001b[39m \u001b[43m_index_to_gather\u001b[49m\u001b[43m(\u001b[49m\u001b[43mshape\u001b[49m\u001b[43m(\u001b[49m\u001b[43marr\u001b[49m\u001b[43m)\u001b[49m\u001b[43m,\u001b[49m\u001b[43m \u001b[49m\u001b[43midx\u001b[49m\u001b[43m)\u001b[49m  \u001b[38;5;66;03m# shared with _scatter_update\u001b[39;00m\n\u001b[1;32m   4504\u001b[0m   y \u001b[38;5;241m=\u001b[39m arr\n\u001b[1;32m   4506\u001b[0m   \u001b[38;5;28;01mif\u001b[39;00m fill_value \u001b[38;5;129;01mis\u001b[39;00m \u001b[38;5;129;01mnot\u001b[39;00m \u001b[38;5;28;01mNone\u001b[39;00m:\n",
      "File \u001b[0;32m~/anaconda3/envs/sh-net/lib/python3.10/site-packages/jax/_src/numpy/lax_numpy.py:4729\u001b[0m, in \u001b[0;36m_index_to_gather\u001b[0;34m(x_shape, idx, normalize_indices)\u001b[0m\n\u001b[1;32m   4720\u001b[0m \u001b[38;5;28;01mif\u001b[39;00m \u001b[38;5;129;01mnot\u001b[39;00m \u001b[38;5;28mall\u001b[39m(_is_slice_element_none_or_constant_or_symbolic(elt)\n\u001b[1;32m   4721\u001b[0m            \u001b[38;5;28;01mfor\u001b[39;00m elt \u001b[38;5;129;01min\u001b[39;00m (i\u001b[38;5;241m.\u001b[39mstart, i\u001b[38;5;241m.\u001b[39mstop, i\u001b[38;5;241m.\u001b[39mstep)):\n\u001b[1;32m   4722\u001b[0m   msg \u001b[38;5;241m=\u001b[39m (\u001b[38;5;124m\"\u001b[39m\u001b[38;5;124mArray slice indices must have static start/stop/step to be used \u001b[39m\u001b[38;5;124m\"\u001b[39m\n\u001b[1;32m   4723\u001b[0m          \u001b[38;5;124m\"\u001b[39m\u001b[38;5;124mwith NumPy indexing syntax. \u001b[39m\u001b[38;5;124m\"\u001b[39m\n\u001b[1;32m   4724\u001b[0m          \u001b[38;5;124mf\u001b[39m\u001b[38;5;124m\"\u001b[39m\u001b[38;5;124mFound slice(\u001b[39m\u001b[38;5;132;01m{\u001b[39;00mi\u001b[38;5;241m.\u001b[39mstart\u001b[38;5;132;01m}\u001b[39;00m\u001b[38;5;124m, \u001b[39m\u001b[38;5;132;01m{\u001b[39;00mi\u001b[38;5;241m.\u001b[39mstop\u001b[38;5;132;01m}\u001b[39;00m\u001b[38;5;124m, \u001b[39m\u001b[38;5;132;01m{\u001b[39;00mi\u001b[38;5;241m.\u001b[39mstep\u001b[38;5;132;01m}\u001b[39;00m\u001b[38;5;124m). \u001b[39m\u001b[38;5;124m\"\u001b[39m\n\u001b[0;32m   (...)\u001b[0m\n\u001b[1;32m   4727\u001b[0m          \u001b[38;5;124m\"\u001b[39m\u001b[38;5;124mdynamic_update_slice (JAX does not support dynamically sized \u001b[39m\u001b[38;5;124m\"\u001b[39m\n\u001b[1;32m   4728\u001b[0m          \u001b[38;5;124m\"\u001b[39m\u001b[38;5;124marrays within JIT compiled functions).\u001b[39m\u001b[38;5;124m\"\u001b[39m)\n\u001b[0;32m-> 4729\u001b[0m   \u001b[38;5;28;01mraise\u001b[39;00m \u001b[38;5;167;01mIndexError\u001b[39;00m(msg)\n\u001b[1;32m   4731\u001b[0m start, step, slice_size \u001b[38;5;241m=\u001b[39m _preprocess_slice(i, x_shape[x_axis])\n\u001b[1;32m   4732\u001b[0m slice_shape\u001b[38;5;241m.\u001b[39mappend(slice_size)\n",
      "\u001b[0;31mIndexError\u001b[0m: Array slice indices must have static start/stop/step to be used with NumPy indexing syntax. Found slice(Traced<ShapedArray(int32[])>with<DynamicJaxprTrace(level=1/0)>, Traced<ShapedArray(int32[])>with<DynamicJaxprTrace(level=1/0)>, None). To index a statically sized array at a dynamic position, try lax.dynamic_slice/dynamic_update_slice (JAX does not support dynamically sized arrays within JIT compiled functions)."
     ]
    }
   ],
   "source": [
    "all_losses_by_hparams = {}\n",
    "all_steps_by_hparams = {}\n",
    "all_coeffs_by_hparams = {}\n",
    "\n",
    "for use_mean_dist in [True, False]:\n",
    "    for learning_rate in [1e1, 1e0, 1e-1, 1e-2, 1e-3, 1e-4]:\n",
    "        \n",
    "        rng = jax.random.PRNGKey(0)\n",
    "        init_coeffs = e3nn.normal(e3nn.s2_irreps(lmax=lmax), rng)\n",
    "        tx = optax.adam(learning_rate)\n",
    "        opt_state = tx.init(init_coeffs)\n",
    "\n",
    "        coeffs = init_coeffs\n",
    "        loss_val = float(loss_fn(coeffs, mean_true_angular_dist))\n",
    "\n",
    "        all_coeffs = []\n",
    "        all_steps = []\n",
    "        all_losses = []\n",
    "        for step in range(10000):\n",
    "            if step % 1000 == 0:\n",
    "                all_coeffs.append(coeffs)\n",
    "                all_steps.append(step)\n",
    "                all_losses.append(float(loss_val))\n",
    "\n",
    "            rng, coeffs, opt_state, loss_val = step_fn(rng, coeffs, opt_state, tx, use_mean_dist)\n",
    "            if step == 10000 - 1:\n",
    "                print(f\"step={step}: loss={loss_val}\")\n",
    "\n",
    "        all_losses_by_hparams[(use_mean_dist, learning_rate)] = all_losses\n",
    "        all_steps_by_hparams[(use_mean_dist, learning_rate)] = all_steps\n",
    "        all_coeffs_by_hparams[(use_mean_dist, learning_rate)] = all_coeffs"
   ]
  },
  {
   "cell_type": "code",
   "execution_count": null,
   "metadata": {},
   "outputs": [],
   "source": []
  }
 ],
 "metadata": {
  "kernelspec": {
   "display_name": "sh-net",
   "language": "python",
   "name": "python3"
  },
  "language_info": {
   "codemirror_mode": {
    "name": "ipython",
    "version": 3
   },
   "file_extension": ".py",
   "mimetype": "text/x-python",
   "name": "python",
   "nbconvert_exporter": "python",
   "pygments_lexer": "ipython3",
   "version": "3.10.13"
  }
 },
 "nbformat": 4,
 "nbformat_minor": 2
}
