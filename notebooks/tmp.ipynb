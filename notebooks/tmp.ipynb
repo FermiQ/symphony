{
 "cells": [
  {
   "cell_type": "code",
   "execution_count": 1,
   "metadata": {},
   "outputs": [
    {
     "name": "stderr",
     "output_type": "stream",
     "text": [
      "/Users/songk/miniconda3/envs/sh-net/lib/python3.10/site-packages/flax/struct.py:136: FutureWarning: jax.tree_util.register_keypaths is deprecated, and will be removed in a future release. Please use `register_pytree_with_keys()` instead.\n",
      "  jax.tree_util.register_keypaths(data_clz, keypaths)\n",
      "/Users/songk/miniconda3/envs/sh-net/lib/python3.10/site-packages/flax/struct.py:136: FutureWarning: jax.tree_util.register_keypaths is deprecated, and will be removed in a future release. Please use `register_pytree_with_keys()` instead.\n",
      "  jax.tree_util.register_keypaths(data_clz, keypaths)\n"
     ]
    }
   ],
   "source": [
    "import ase\n",
    "import jax\n",
    "import jax.numpy as jnp\n",
    "import sys\n",
    "sys.path.append('..')\n",
    "import fragments\n",
    "import input_pipeline"
   ]
  },
  {
   "cell_type": "code",
   "execution_count": 2,
   "metadata": {},
   "outputs": [],
   "source": [
    "mol = ase.io.read(\"../analyses/molecules/downloaded/C6H6.xyz\")\n",
    "mol = input_pipeline.ase_atoms_to_jraph_graph(mol, jnp.asarray([1, 6, 7, 8, 9]), 1.5)"
   ]
  },
  {
   "cell_type": "code",
   "execution_count": 3,
   "metadata": {},
   "outputs": [
    {
     "name": "stdout",
     "output_type": "stream",
     "text": [
      "[ 1  5  6  0  2  7  1  3  8  2  4  9  3  5 10  0  4 11  0  1  2  3  4  5]\n",
      "[ 0  0  0  1  1  1  2  2  2  3  3  3  4  4  4  5  5  5  6  7  8  9 10 11]\n",
      "[1 1 1 1 1 1 0 0 0 0 0 0]\n"
     ]
    }
   ],
   "source": [
    "print(mol.senders)\n",
    "print(mol.receivers)\n",
    "print(mol.nodes.species)"
   ]
  },
  {
   "cell_type": "code",
   "execution_count": 7,
   "metadata": {},
   "outputs": [
    {
     "name": "stdout",
     "output_type": "stream",
     "text": [
      "[1]\n",
      "[1 1]\n",
      "[1 1 1]\n",
      "[1 1 1 1]\n",
      "[1 1 1 1 1]\n",
      "[1 1 1 1 1 1]\n",
      "[1 0 1 1 1 1 1]\n",
      "[1 1 0 0 1 1 1 1]\n",
      "[1 1 1 1 1 0 0 0 1]\n",
      "[1 1 1 0 0 0 0 1 1 1]\n",
      "[1 1 1 1 0 0 0 0 0 1 1]\n",
      "[1 1 1 1 1 1 0 0 0 0 0 0]\n"
     ]
    }
   ],
   "source": [
    "for fragment in fragments.generate_fragments(\n",
    "    jax.random.PRNGKey(1), mol, 2, heavy_first=True#, mode=\"radius\"\n",
    "):\n",
    "    print(fragment.nodes.species)"
   ]
  },
  {
   "cell_type": "code",
   "execution_count": null,
   "metadata": {},
   "outputs": [],
   "source": []
  }
 ],
 "metadata": {
  "kernelspec": {
   "display_name": "sh-net",
   "language": "python",
   "name": "python3"
  },
  "language_info": {
   "codemirror_mode": {
    "name": "ipython",
    "version": 3
   },
   "file_extension": ".py",
   "mimetype": "text/x-python",
   "name": "python",
   "nbconvert_exporter": "python",
   "pygments_lexer": "ipython3",
   "version": "3.10.0"
  },
  "orig_nbformat": 4
 },
 "nbformat": 4,
 "nbformat_minor": 2
}
