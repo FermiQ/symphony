{
 "cells": [
  {
   "cell_type": "code",
   "execution_count": null,
   "metadata": {},
   "outputs": [],
   "source": [
    "# Imports\n",
    "from typing import *\n",
    "import ase\n",
    "import e3nn_jax as e3nn\n",
    "import jax\n",
    "import jax.numpy as jnp\n",
    "import plotly.graph_objects as go\n",
    "import plotly.subplots\n",
    "\n",
    "import ml_collections\n",
    "import logging\n",
    "import ase.io\n",
    "import ase.visualize\n",
    "import PIL\n",
    "import numpy as np\n",
    "import matplotlib.pyplot as plt\n",
    "import os\n",
    "import seaborn as sns\n",
    "\n",
    "logging.getLogger().setLevel(logging.INFO)\n",
    "\n",
    "import sys\n",
    "sys.path.append(\"..\")\n",
    "\n",
    "import analyses.analysis as analysis\n",
    "import analyses.visualize_atom_removals as visualize_atom_removals\n",
    "import configs.nequip\n",
    "import train as train\n",
    "import input_pipeline_tf as input_pipeline_tf\n",
    "import models as models"
   ]
  },
  {
   "cell_type": "code",
   "execution_count": null,
   "metadata": {},
   "outputs": [],
   "source": [
    "def spherical_harmonics_as_signals(l: int) -> Iterable[e3nn.SphericalSignal]:\n",
    "    \"\"\"Yields the spherical harmonics of degree l as a sequence of e3nn.SphericalSignal objects for each m such that -l <= m <= l.\"\"\"\n",
    "    res = (50, 49)\n",
    "    for m in range(-l, l + 1):\n",
    "        coeffs = e3nn.IrrepsArray(e3nn.s2_irreps(l)[-1], jnp.asarray([1. if md == m else 0. for md in range(-l, l + 1)]))\n",
    "        yield e3nn.to_s2grid(coeffs, *res, quadrature=\"soft\", p_val=1, p_arg=-1)\n",
    "\n",
    "def plot_spherical_harmonics(l: int) -> go.Figure:\n",
    "    \"\"\"Plots the spherical harmonics of degree l on a single row of subplots with one column for each m such that -l <= m <= l.\"\"\"\n",
    "    fig = plotly.subplots.make_subplots(rows=1, cols=2*l + 1, specs=[[{'type': 'surface'} for _ in range(2*l + 1)]], subplot_titles=[r\"$\\huge{Y^2_{\" + str(m) + r\"}(\\theta, \\phi)}$\" for m in range(-l, l + 1)])\n",
    "    camera = dict(\n",
    "        up=dict(x=0, y=0, z=1),\n",
    "        center=dict(x=0, y=0, z=0),\n",
    "        eye=dict(x=3.25, y=3.25, z=3.25)\n",
    "    )\n",
    "\n",
    "    for index, sig in enumerate(spherical_harmonics_as_signals(l), start=1):\n",
    "        fig.add_trace(go.Surface(sig.plotly_surface(scale_radius_by_amplitude=True), colorscale='plasma', cmax=2, cmin=-2, showscale=(index == 2*l + 1), colorbar=dict(lenmode='fraction', len=0.5, thickness=20)), row=1, col=index)\n",
    "        fig.layout[f\"scene{index}\"].camera = camera\n",
    "        fig.layout[f\"scene{index}\"].xaxis.showticklabels = False\n",
    "        fig.layout[f\"scene{index}\"].yaxis.showticklabels = False\n",
    "        fig.layout[f\"scene{index}\"].zaxis.showticklabels = False\n",
    "        fig.layout[f\"scene{index}\"].xaxis.title = \"\"\n",
    "        fig.layout[f\"scene{index}\"].yaxis.title = \"\"\n",
    "        fig.layout[f\"scene{index}\"].zaxis.title = \"\"\n",
    "        #fig.layout.autosize = True\n",
    "\n",
    "        # fig.layout[f\"scene{index}\"].yaxis.automargin = True\n",
    "        # fig.layout[f\"scene{index}\"].zaxis.automargin = True\n",
    "\n",
    "    fig.update_layout(title=r\"$\\huge{\\text{Spherical Harmonics} \\ Y^2(\\theta, \\phi)}$\", title_x=0.5)\n",
    "    fig.update_layout(font_family=\"Serif\", font_size=32)\n",
    "    fig.update_annotations(yshift=-50, font_size=32)\n",
    "    fig.update_layout(margin=dict(l=10,r=10,b=0,t=40))\n",
    "    return fig\n",
    "\n",
    "plot_spherical_harmonics(l=2)"
   ]
  },
  {
   "cell_type": "code",
   "execution_count": null,
   "metadata": {},
   "outputs": [],
   "source": [
    "fig = plot_spherical_harmonics(l=2)\n",
    "fig.write_image(\"spherical_harmonics_l=2.pdf\", width=1000, height=400)"
   ]
  }
 ],
 "metadata": {
  "kernelspec": {
   "display_name": ".venv",
   "language": "python",
   "name": "python3"
  },
  "language_info": {
   "codemirror_mode": {
    "name": "ipython",
    "version": 3
   },
   "file_extension": ".py",
   "mimetype": "text/x-python",
   "name": "python",
   "nbconvert_exporter": "python",
   "pygments_lexer": "ipython3",
   "version": "3.10.10"
  },
  "orig_nbformat": 4
 },
 "nbformat": 4,
 "nbformat_minor": 2
}
