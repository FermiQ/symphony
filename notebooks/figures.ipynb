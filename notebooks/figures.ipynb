{
 "cells": [
  {
   "cell_type": "code",
   "execution_count": 33,
   "metadata": {},
   "outputs": [],
   "source": [
    "# Imports\n",
    "from typing import *\n",
    "import ase\n",
    "import ase.db\n",
    "import ase.io\n",
    "import chex\n",
    "import e3nn_jax as e3nn\n",
    "import jax\n",
    "import jax.numpy as jnp\n",
    "import jraph\n",
    "import logging\n",
    "import numpy as np\n",
    "import optax\n",
    "import os\n",
    "import plotly\n",
    "import plotly.graph_objects as go\n",
    "import tqdm\n",
    "\n",
    "logging.getLogger().setLevel(logging.INFO)\n",
    "\n",
    "import sys\n",
    "sys.path.append(\"..\")\n",
    "\n",
    "import analyses.analysis as analysis\n",
    "import analyses.generate_molecules as generate_molecules\n",
    "import analyses.visualize_atom_removals as visualize_atom_removals\n",
    "from symphony import datatypes\n",
    "import symphony.data.input_pipeline as input_pipeline\n",
    "import symphony.models as models\n",
    "import symphony.train as train\n"
   ]
  },
  {
   "cell_type": "code",
   "execution_count": null,
   "metadata": {},
   "outputs": [],
   "source": [
    "with ase.db.connect('../qm9_data/qm9gen.db') as conn:\n",
    "    for row in conn.select(id=10):\n",
    "        mol = row.toatoms()"
   ]
  },
  {
   "cell_type": "code",
   "execution_count": 15,
   "metadata": {},
   "outputs": [],
   "source": [
    "workdir = \"/home/ameyad/spherical-harmonic-net/workdirs/qm9_bessel_embedding_attempt6_edm_splits/e3schnet_and_nequip/interactions=3/l=5/position_channels=2/channels=64\"\n",
    "outputdir = '../analyses/outputs/figures'\n",
    "beta_species = 1.\n",
    "beta_position = 1.\n",
    "step = '4950000'\n",
    "num_seeds = 1\n",
    "num_seeds_per_chunk = 1\n",
    "init_molecule = '../analyses/molecules/downloaded/CH3.xyz'  # file name is fine\n",
    "max_num_atoms = 35\n",
    "visualize = True"
   ]
  },
  {
   "cell_type": "code",
   "execution_count": 16,
   "metadata": {},
   "outputs": [
    {
     "name": "stderr",
     "output_type": "stream",
     "text": [
      "INFO:root:Initial molecule: CH3 with numbers [6 1 1 1] and positions [[ 0.        0.        0.      ]\n",
      " [ 0.629118  0.629118  0.629118]\n",
      " [-0.629118 -0.629118  0.629118]\n",
      " [ 0.629118 -0.629118 -0.629118]]\n",
      "INFO:root:{'add_noise_to_positions': True, 'compute_padding_dynamically': False, 'dataset': 'qm9', 'eval_every_steps': 30000, 'focus_and_target_species_predictor': {'activation': 'softplus', 'compute_global_embedding': False, 'embedder_config': {'activation': 'shifted_softplus', 'cutoff': 5.0, 'max_ell': 2, 'model': 'E3SchNet', 'num_channels': 64, 'num_filters': 16, 'num_interactions': 3, 'num_radial_basis_functions': 8}, 'latent_size': 128, 'num_layers': 3}, 'fragment_logic': 'nn_edm', 'freeze_node_embedders': False, 'learning_rate': 0.0005, 'learning_rate_schedule': 'constant', 'learning_rate_schedule_kwargs': {'decay_steps': 50000, 'init_value': 0.0005, 'peak_value': 0.001, 'warmup_steps': 2000}, 'log_every_steps': 1000, 'loss_kwargs': {'ignore_position_loss_for_small_fragments': False, 'mask_atom_types': False, 'position_loss_type': 'kl_divergence', 'radial_loss_scaling_factor': 1.0, 'radius_rbf_variance': 1e-05, 'target_position_inverse_temperature': 20.0, 'target_position_lmax': 5}, 'mask_atom_types': False, 'max_n_edges': 1440, 'max_n_graphs': 16, 'max_n_nodes': 480, 'momentum': None, 'nn_cutoff': 5.0, 'nn_tolerance': 0.5, 'num_eval_steps': 3000, 'num_eval_steps_at_end_of_training': 5000, 'num_train_steps': 10000000, 'optimizer': 'adam', 'position_noise_std': 0.05, 'rng_seed': 0, 'root_dir': '/radish/qm9_fragments_fixed/nn_edm', 'shuffle_datasets': True, 'target_position_predictor': {'apply_gate': False, 'embedder_config': {'activation': 'softplus', 'avg_num_neighbors': 300.0, 'even_activation': 'swish', 'max_ell': 5, 'mlp_activation': 'swish', 'mlp_n_layers': 2, 'model': 'NequIP', 'num_basis_fns': 8, 'num_channels': 64, 'num_interactions': 3, 'odd_activation': 'tanh', 'r_max': 5, 'skip_connection': True, 'use_pseudoscalars_and_pseudovectors': False}, 'factorized': False, 'max_radius': 2.0, 'min_radius': 0.9, 'num_channels': 2, 'num_radii': 64, 'radial_mlp_activation': 'swish', 'radial_mlp_latent_size': 128, 'radial_mlp_num_layers': 2, 'res_alpha': 359, 'res_beta': 180}, 'test_molecules': (120000, 135000), 'train_molecules': (0, 100000), 'train_on_split_smaller_than_chunk': False, 'val_molecules': (100000, 120000)}\n"
     ]
    }
   ],
   "source": [
    "# Create initial molecule, if provided.\n",
    "if type(init_molecule) == str:\n",
    "    init_molecule, init_molecule_name = analysis.construct_molecule(init_molecule)\n",
    "    logging.info(\n",
    "        f\"Initial molecule: {init_molecule.get_chemical_formula()} with numbers {init_molecule.numbers} and positions {init_molecule.positions}\"\n",
    "    )\n",
    "else:\n",
    "    init_molecule_name = str(init_molecule.symbols)\n",
    "\n",
    "# Load model.\n",
    "name = analysis.name_from_workdir(workdir)\n",
    "model, params, config = analysis.load_model_at_step(\n",
    "    workdir, step, run_in_evaluation_mode=True\n",
    ")\n",
    "config = config.unlock()\n",
    "if \"position_updater\" in config:\n",
    "    del config[\"position_updater\"]\n",
    "logging.info(config.to_dict())\n",
    "\n",
    "# Prepare initial fragment.\n",
    "init_fragment = input_pipeline.ase_atoms_to_jraph_graph(\n",
    "    init_molecule, models.ATOMIC_NUMBERS, config.nn_cutoff\n",
    ")\n",
    "init_fragment = jraph.pad_with_graphs(\n",
    "    init_fragment,\n",
    "    n_node=(max_num_atoms + 1),\n",
    "    n_edge=(max_num_atoms + 1) ** 2,\n",
    "    n_graph=2,\n",
    ")\n",
    "init_fragment = jax.tree_map(jnp.asarray, init_fragment)\n",
    "\n",
    "@jax.jit\n",
    "def chunk_and_apply(\n",
    "    params: optax.Params, rngs: chex.PRNGKey\n",
    ") -> Tuple[datatypes.Fragments, datatypes.Predictions]:\n",
    "    \"\"\"Chunks the seeds and applies the model sequentially over all chunks.\"\"\"\n",
    "\n",
    "    def apply_on_chunk(\n",
    "        rngs: chex.PRNGKey,\n",
    "    ) -> Tuple[datatypes.Fragments, datatypes.Predictions]:\n",
    "        \"\"\"Applies the model on a single chunk.\"\"\"\n",
    "        apply_fn = lambda padded_fragment, rng: model.apply(\n",
    "            params,\n",
    "            rng,\n",
    "            padded_fragment,\n",
    "            beta_species,\n",
    "            beta_position,\n",
    "        )\n",
    "        generate_for_one_seed_fn = lambda rng: generate_molecules.generate_for_one_seed(\n",
    "            apply_fn,\n",
    "            init_fragment,\n",
    "            max_num_atoms,\n",
    "            config.nn_cutoff,\n",
    "            rng,\n",
    "            return_intermediates=visualize,\n",
    "        )\n",
    "        return jax.vmap(generate_for_one_seed_fn)(rngs)\n",
    "\n",
    "    rngs = rngs.reshape((num_seeds // num_seeds_per_chunk, num_seeds_per_chunk, -1))\n",
    "    results = jax.lax.map(apply_on_chunk, rngs)\n",
    "    return jax.tree_map(lambda arr: arr.reshape((-1, *arr.shape[2:])), results)"
   ]
  },
  {
   "cell_type": "code",
   "execution_count": 17,
   "metadata": {},
   "outputs": [],
   "source": [
    "# Generate molecules for all seeds.\n",
    "seed = 0\n",
    "rng = jax.random.PRNGKey(0)\n",
    "rngs = jnp.asarray([rng])\n",
    "\n",
    "# Compute compilation time.\n",
    "chunk_and_apply.lower(params, rngs).compile()\n",
    "\n",
    "# Generate molecules (and intermediate steps, if visualizing).\n",
    "final_padded_fragments, stops = chunk_and_apply(params, rngs)\n",
    "\n",
    "# We already have the final padded fragment.\n",
    "final_padded_fragments = jax.tree_map(\n",
    "    lambda x: x[seed], final_padded_fragments\n",
    ")"
   ]
  },
  {
   "cell_type": "code",
   "execution_count": 27,
   "metadata": {},
   "outputs": [],
   "source": [
    "# Get the padded fragment and predictions for this seed.\n",
    "preds_for_seed = jax.tree_map(lambda x: x[seed], stops)\n",
    "\n",
    "frags = []\n",
    "for step in range(max_num_atoms):\n",
    "    if step == 0:\n",
    "        padded_fragment = init_fragment\n",
    "    else:\n",
    "        padded_fragment = jax.tree_map(\n",
    "            lambda x: x[step - 1], final_padded_fragments\n",
    "        )\n",
    "    pred = jax.tree_map(lambda x: x[step], preds_for_seed)\n",
    "\n",
    "    # Save visualization of generation process.\n",
    "    fragment = jraph.unpad_with_graphs(padded_fragment)\n",
    "    pred = jraph.unpad_with_graphs(pred)\n",
    "    fragment = fragment._replace(\n",
    "        globals=jax.tree_map(\n",
    "            lambda x: np.squeeze(x, axis=0), fragment.globals\n",
    "        )\n",
    "    )\n",
    "    pred = pred._replace(\n",
    "        globals=jax.tree_map(lambda x: np.squeeze(x, axis=0), pred.globals)\n",
    "    )\n",
    "    frags.append((fragment, pred))"
   ]
  },
  {
   "cell_type": "code",
   "execution_count": 30,
   "metadata": {},
   "outputs": [],
   "source": [
    "fragment, pred = frags[3]"
   ]
  },
  {
   "cell_type": "code",
   "execution_count": 77,
   "metadata": {},
   "outputs": [],
   "source": [
    "def spherical_harmonics_as_signals(l: int) -> Iterable[e3nn.SphericalSignal]:\n",
    "    \"\"\"Yields the spherical harmonics of degree l as a sequence of e3nn.SphericalSignal objects for each m such that -l <= m <= l.\"\"\"\n",
    "    res = (50, 49)\n",
    "    for m in range(-l, l + 1):\n",
    "        coeffs = e3nn.IrrepsArray(e3nn.s2_irreps(l)[-1], jnp.asarray([1. if md == m else 0. for md in range(-l, l + 1)]))\n",
    "        yield e3nn.to_s2grid(coeffs, *res, quadrature=\"soft\", p_val=1, p_arg=-1)\n",
    "\n",
    "def plot_spherical_harmonics(lmax: int) -> go.Figure:\n",
    "    \"\"\"Plots the spherical harmonics of degree l on a single row of subplots with one column for each m such that -l <= m <= l.\"\"\"\n",
    "    fig = plotly.subplots.make_subplots(rows=lmax + 1, cols=2*lmax + 1, specs=[[{'type': 'surface'} for _ in range(2*lmax + 1)] for _ in range(lmax + 1)])\n",
    "    for l in range(lmax + 1):\n",
    "        for m, sig in enumerate(spherical_harmonics_as_signals(l), start=-l):\n",
    "            index = lmax + m + 1\n",
    "            fig.add_trace(go.Surface(sig.plotly_surface(scale_radius_by_amplitude=True), colorscale='plasma', cmax=2, cmin=-2, showscale=False, colorbar=dict(lenmode='fraction', len=0.5, thickness=20)), row=l + 1, col=index)\n",
    "\n",
    "    fig.update_layout(margin=dict(l=10,r=10,b=10,t=10))\n",
    "    camera = dict(\n",
    "        up=dict(x=0, y=0, z=1),\n",
    "        center=dict(x=0, y=0, z=0),\n",
    "        eye=dict(x=1.25, y=1.25, z=1.25)\n",
    "    )\n",
    "    axis_props = dict(title=\"\", showticklabels=False, showgrid=False, zeroline=False, showbackground=False)\n",
    "    fig.update_scenes(camera=camera, xaxis=axis_props, yaxis=axis_props, zaxis=axis_props) # hide all the xticks\n",
    "    return fig\n"
   ]
  },
  {
   "cell_type": "code",
   "execution_count": 44,
   "metadata": {},
   "outputs": [],
   "source": [
    "def id_to_element(specie_id):\n",
    "    element_dict = [1, 6, 7, 8, 9]\n",
    "    return element_dict[specie_id]"
   ]
  },
  {
   "cell_type": "code",
   "execution_count": 46,
   "metadata": {},
   "outputs": [],
   "source": [
    "init_mol = ase.Atoms(positions=fragment.nodes.positions, numbers=list(map(id_to_element, fragment.nodes.species)))"
   ]
  },
  {
   "cell_type": "code",
   "execution_count": 43,
   "metadata": {},
   "outputs": [
    {
     "data": {
      "text/plain": [
       "Array([1, 0, 0, 0, 1, 3, 1], dtype=int32)"
      ]
     },
     "execution_count": 43,
     "metadata": {},
     "output_type": "execute_result"
    }
   ],
   "source": [
    "fragment.nodes.species"
   ]
  },
  {
   "cell_type": "code",
   "execution_count": 89,
   "metadata": {},
   "outputs": [],
   "source": [
    "def plot_decomposition(f_signal: e3nn.SphericalSignal, lmax: int):\n",
    "    fig = plotly.subplots.make_subplots(rows=1, cols=2*lmax + 1, specs=[[{'type': 'surface'} for _ in range(2*lmax + 1)] for _ in range(1)])\n",
    "    fig.add_trace(\n",
    "        go.Surface(\n",
    "            f_signal.plotly_surface(scale_radius_by_amplitude=True),\n",
    "            cmin=-2,\n",
    "            cmax=2\n",
    "    ), row=1, col=1)\n",
    "\n",
    "    num_non_zero_coeffs = 0\n",
    "    f_coeffs = e3nn.from_s2grid(f_signal, e3nn.s2_irreps(lmax + 1), normalization=\"integral\")\n",
    "    for l in range(lmax + 1):\n",
    "        c_l = f_coeffs.filter(e3nn.Irreps([(1, (l, (-1) ** (l)))]))\n",
    "        print(c_l)\n",
    "        for index, sig in enumerate(spherical_harmonics_as_signals(l)):\n",
    "            if np.abs(c_l.array[index]) > 1e-2:\n",
    "                try:\n",
    "                    fig.add_trace(go.Surface(sig.plotly_surface(scale_radius_by_amplitude=True), colorscale='plasma', cmax=2, cmin=-2, showscale=False, colorbar=dict(lenmode='fraction', len=0.5, thickness=20)), row=1, col=num_non_zero_coeffs + 2)\n",
    "                    num_non_zero_coeffs += 1\n",
    "                except:\n",
    "                    print(1, num_non_zero_coeffs + 2)\n",
    "                    raise Exception\n",
    "    fig.update_traces(showscale=False)\n",
    "    fig.update_layout(margin=dict(l=10,r=10,b=10,t=10))\n",
    "    camera=dict(\n",
    "            up=dict(x=0, y=0, z=1),\n",
    "            center=dict(x=0, y=0, z=0),\n",
    "            eye=dict(x=4.25, y=-4.25, z=4.25)\n",
    "    )\n",
    "    axis_props = dict(title=\"\", showticklabels=False, showgrid=False, zeroline=False, showbackground=False)\n",
    "    fig.update_scenes(camera=camera, xaxis=axis_props, yaxis=axis_props, zaxis=axis_props) # hide all the xticks\n",
    "\n",
    "    return fig\n"
   ]
  },
  {
   "cell_type": "code",
   "execution_count": 85,
   "metadata": {},
   "outputs": [],
   "source": [
    "radius = jnp.sqrt(jnp.sum((fragment.nodes.positions[6] - frags[4][0].nodes.positions[-1])**2))\n",
    "rad_index = 12"
   ]
  },
  {
   "cell_type": "code",
   "execution_count": 90,
   "metadata": {},
   "outputs": [
    {
     "name": "stdout",
     "output_type": "stream",
     "text": [
      "1x0e [-19.213167]\n",
      "1x1o [ 0.23197708  0.10139324 -0.25141567]\n",
      "1x2e [ 0.4163386   0.24635902  0.44629362  1.0692436  -0.1214186 ]\n",
      "1 7\n"
     ]
    },
    {
     "ename": "Exception",
     "evalue": "",
     "output_type": "error",
     "traceback": [
      "\u001b[0;31m---------------------------------------------------------------------------\u001b[0m",
      "\u001b[0;31mIndexError\u001b[0m                                Traceback (most recent call last)",
      "File \u001b[0;32m~/anaconda3/envs/sh-net/lib/python3.10/site-packages/plotly/_subplots.py:1386\u001b[0m, in \u001b[0;36m_set_trace_grid_reference\u001b[0;34m(trace, layout, grid_ref, row, col, secondary_y)\u001b[0m\n\u001b[1;32m   1385\u001b[0m \u001b[39mtry\u001b[39;00m:\n\u001b[0;32m-> 1386\u001b[0m     subplot_refs \u001b[39m=\u001b[39m grid_ref[row \u001b[39m-\u001b[39;49m \u001b[39m1\u001b[39;49m][col \u001b[39m-\u001b[39;49m \u001b[39m1\u001b[39;49m]\n\u001b[1;32m   1387\u001b[0m \u001b[39mexcept\u001b[39;00m \u001b[39mIndexError\u001b[39;00m:\n",
      "\u001b[0;31mIndexError\u001b[0m: list index out of range",
      "\nDuring handling of the above exception, another exception occurred:\n",
      "\u001b[0;31mException\u001b[0m                                 Traceback (most recent call last)",
      "\u001b[1;32m/home/songk/spherical-harmonic-net/notebooks/figures.ipynb Cell 14\u001b[0m line \u001b[0;36m1\n\u001b[1;32m     <a href='vscode-notebook-cell://ssh-remote%2Bpotato.mit.edu/home/songk/spherical-harmonic-net/notebooks/figures.ipynb#X34sdnNjb2RlLXJlbW90ZQ%3D%3D?line=16'>17</a>\u001b[0m \u001b[39mtry\u001b[39;00m:\n\u001b[0;32m---> <a href='vscode-notebook-cell://ssh-remote%2Bpotato.mit.edu/home/songk/spherical-harmonic-net/notebooks/figures.ipynb#X34sdnNjb2RlLXJlbW90ZQ%3D%3D?line=17'>18</a>\u001b[0m     fig\u001b[39m.\u001b[39;49madd_trace(go\u001b[39m.\u001b[39;49mSurface(sig\u001b[39m.\u001b[39;49mplotly_surface(scale_radius_by_amplitude\u001b[39m=\u001b[39;49m\u001b[39mTrue\u001b[39;49;00m), colorscale\u001b[39m=\u001b[39;49m\u001b[39m'\u001b[39;49m\u001b[39mplasma\u001b[39;49m\u001b[39m'\u001b[39;49m, cmax\u001b[39m=\u001b[39;49m\u001b[39m2\u001b[39;49m, cmin\u001b[39m=\u001b[39;49m\u001b[39m-\u001b[39;49m\u001b[39m2\u001b[39;49m, showscale\u001b[39m=\u001b[39;49m\u001b[39mFalse\u001b[39;49;00m, colorbar\u001b[39m=\u001b[39;49m\u001b[39mdict\u001b[39;49m(lenmode\u001b[39m=\u001b[39;49m\u001b[39m'\u001b[39;49m\u001b[39mfraction\u001b[39;49m\u001b[39m'\u001b[39;49m, \u001b[39mlen\u001b[39;49m\u001b[39m=\u001b[39;49m\u001b[39m0.5\u001b[39;49m, thickness\u001b[39m=\u001b[39;49m\u001b[39m20\u001b[39;49m)), row\u001b[39m=\u001b[39;49m\u001b[39m1\u001b[39;49m, col\u001b[39m=\u001b[39;49mnum_non_zero_coeffs \u001b[39m+\u001b[39;49m \u001b[39m2\u001b[39;49m)\n\u001b[1;32m     <a href='vscode-notebook-cell://ssh-remote%2Bpotato.mit.edu/home/songk/spherical-harmonic-net/notebooks/figures.ipynb#X34sdnNjb2RlLXJlbW90ZQ%3D%3D?line=18'>19</a>\u001b[0m     num_non_zero_coeffs \u001b[39m+\u001b[39m\u001b[39m=\u001b[39m \u001b[39m1\u001b[39m\n",
      "File \u001b[0;32m~/anaconda3/envs/sh-net/lib/python3.10/site-packages/plotly/graph_objs/_figure.py:900\u001b[0m, in \u001b[0;36mFigure.add_trace\u001b[0;34m(self, trace, row, col, secondary_y, exclude_empty_subplots)\u001b[0m\n\u001b[1;32m    828\u001b[0m \u001b[39m\u001b[39m\u001b[39m\"\"\"\u001b[39;00m\n\u001b[1;32m    829\u001b[0m \n\u001b[1;32m    830\u001b[0m \u001b[39mAdd a trace to the figure\u001b[39;00m\n\u001b[0;32m   (...)\u001b[0m\n\u001b[1;32m    898\u001b[0m \n\u001b[1;32m    899\u001b[0m \u001b[39m\"\"\"\u001b[39;00m\n\u001b[0;32m--> 900\u001b[0m \u001b[39mreturn\u001b[39;00m \u001b[39msuper\u001b[39;49m(Figure, \u001b[39mself\u001b[39;49m)\u001b[39m.\u001b[39;49madd_trace(\n\u001b[1;32m    901\u001b[0m     trace, row, col, secondary_y, exclude_empty_subplots\n\u001b[1;32m    902\u001b[0m )\n",
      "File \u001b[0;32m~/anaconda3/envs/sh-net/lib/python3.10/site-packages/plotly/basedatatypes.py:2108\u001b[0m, in \u001b[0;36mBaseFigure.add_trace\u001b[0;34m(self, trace, row, col, secondary_y, exclude_empty_subplots)\u001b[0m\n\u001b[1;32m   2106\u001b[0m     \u001b[39mreturn\u001b[39;00m \u001b[39mself\u001b[39m\n\u001b[0;32m-> 2108\u001b[0m \u001b[39mreturn\u001b[39;00m \u001b[39mself\u001b[39;49m\u001b[39m.\u001b[39;49madd_traces(\n\u001b[1;32m   2109\u001b[0m     data\u001b[39m=\u001b[39;49m[trace],\n\u001b[1;32m   2110\u001b[0m     rows\u001b[39m=\u001b[39;49m[row] \u001b[39mif\u001b[39;49;00m row \u001b[39mis\u001b[39;49;00m \u001b[39mnot\u001b[39;49;00m \u001b[39mNone\u001b[39;49;00m \u001b[39melse\u001b[39;49;00m \u001b[39mNone\u001b[39;49;00m,\n\u001b[1;32m   2111\u001b[0m     cols\u001b[39m=\u001b[39;49m[col] \u001b[39mif\u001b[39;49;00m col \u001b[39mis\u001b[39;49;00m \u001b[39mnot\u001b[39;49;00m \u001b[39mNone\u001b[39;49;00m \u001b[39melse\u001b[39;49;00m \u001b[39mNone\u001b[39;49;00m,\n\u001b[1;32m   2112\u001b[0m     secondary_ys\u001b[39m=\u001b[39;49m[secondary_y] \u001b[39mif\u001b[39;49;00m secondary_y \u001b[39mis\u001b[39;49;00m \u001b[39mnot\u001b[39;49;00m \u001b[39mNone\u001b[39;49;00m \u001b[39melse\u001b[39;49;00m \u001b[39mNone\u001b[39;49;00m,\n\u001b[1;32m   2113\u001b[0m     exclude_empty_subplots\u001b[39m=\u001b[39;49mexclude_empty_subplots,\n\u001b[1;32m   2114\u001b[0m )\n",
      "File \u001b[0;32m~/anaconda3/envs/sh-net/lib/python3.10/site-packages/plotly/graph_objs/_figure.py:980\u001b[0m, in \u001b[0;36mFigure.add_traces\u001b[0;34m(self, data, rows, cols, secondary_ys, exclude_empty_subplots)\u001b[0m\n\u001b[1;32m    912\u001b[0m \u001b[39m\u001b[39m\u001b[39m\"\"\"\u001b[39;00m\n\u001b[1;32m    913\u001b[0m \n\u001b[1;32m    914\u001b[0m \u001b[39mAdd traces to the figure\u001b[39;00m\n\u001b[0;32m   (...)\u001b[0m\n\u001b[1;32m    978\u001b[0m \n\u001b[1;32m    979\u001b[0m \u001b[39m\"\"\"\u001b[39;00m\n\u001b[0;32m--> 980\u001b[0m \u001b[39mreturn\u001b[39;00m \u001b[39msuper\u001b[39;49m(Figure, \u001b[39mself\u001b[39;49m)\u001b[39m.\u001b[39;49madd_traces(\n\u001b[1;32m    981\u001b[0m     data, rows, cols, secondary_ys, exclude_empty_subplots\n\u001b[1;32m    982\u001b[0m )\n",
      "File \u001b[0;32m~/anaconda3/envs/sh-net/lib/python3.10/site-packages/plotly/basedatatypes.py:2238\u001b[0m, in \u001b[0;36mBaseFigure.add_traces\u001b[0;34m(self, data, rows, cols, secondary_ys, exclude_empty_subplots)\u001b[0m\n\u001b[1;32m   2237\u001b[0m     \u001b[39mfor\u001b[39;00m trace, row, col, secondary_y \u001b[39min\u001b[39;00m \u001b[39mzip\u001b[39m(data, rows, cols, secondary_ys):\n\u001b[0;32m-> 2238\u001b[0m         \u001b[39mself\u001b[39;49m\u001b[39m.\u001b[39;49m_set_trace_grid_position(trace, row, col, secondary_y)\n\u001b[1;32m   2240\u001b[0m \u001b[39mif\u001b[39;00m exclude_empty_subplots:\n",
      "File \u001b[0;32m~/anaconda3/envs/sh-net/lib/python3.10/site-packages/plotly/basedatatypes.py:2330\u001b[0m, in \u001b[0;36mBaseFigure._set_trace_grid_position\u001b[0;34m(self, trace, row, col, secondary_y)\u001b[0m\n\u001b[1;32m   2329\u001b[0m grid_ref \u001b[39m=\u001b[39m \u001b[39mself\u001b[39m\u001b[39m.\u001b[39m_validate_get_grid_ref()\n\u001b[0;32m-> 2330\u001b[0m \u001b[39mreturn\u001b[39;00m _set_trace_grid_reference(\n\u001b[1;32m   2331\u001b[0m     trace, \u001b[39mself\u001b[39;49m\u001b[39m.\u001b[39;49mlayout, grid_ref, row, col, secondary_y\n\u001b[1;32m   2332\u001b[0m )\n",
      "File \u001b[0;32m~/anaconda3/envs/sh-net/lib/python3.10/site-packages/plotly/_subplots.py:1388\u001b[0m, in \u001b[0;36m_set_trace_grid_reference\u001b[0;34m(trace, layout, grid_ref, row, col, secondary_y)\u001b[0m\n\u001b[1;32m   1387\u001b[0m \u001b[39mexcept\u001b[39;00m \u001b[39mIndexError\u001b[39;00m:\n\u001b[0;32m-> 1388\u001b[0m     \u001b[39mraise\u001b[39;00m \u001b[39mException\u001b[39;00m(\n\u001b[1;32m   1389\u001b[0m         \u001b[39m\"\u001b[39m\u001b[39mThe (row, col) pair sent is out of \u001b[39m\u001b[39m\"\u001b[39m\n\u001b[1;32m   1390\u001b[0m         \u001b[39m\"\u001b[39m\u001b[39mrange. Use Figure.print_grid to view the \u001b[39m\u001b[39m\"\u001b[39m\n\u001b[1;32m   1391\u001b[0m         \u001b[39m\"\u001b[39m\u001b[39msubplot grid. \u001b[39m\u001b[39m\"\u001b[39m\n\u001b[1;32m   1392\u001b[0m     )\n\u001b[1;32m   1394\u001b[0m \u001b[39mif\u001b[39;00m \u001b[39mnot\u001b[39;00m subplot_refs:\n",
      "\u001b[0;31mException\u001b[0m: The (row, col) pair sent is out of range. Use Figure.print_grid to view the subplot grid. ",
      "\nDuring handling of the above exception, another exception occurred:\n",
      "\u001b[0;31mException\u001b[0m                                 Traceback (most recent call last)",
      "\u001b[1;32m/home/songk/spherical-harmonic-net/notebooks/figures.ipynb Cell 14\u001b[0m line \u001b[0;36m1\n\u001b[0;32m----> <a href='vscode-notebook-cell://ssh-remote%2Bpotato.mit.edu/home/songk/spherical-harmonic-net/notebooks/figures.ipynb#X34sdnNjb2RlLXJlbW90ZQ%3D%3D?line=0'>1</a>\u001b[0m plot_decomposition(pred\u001b[39m.\u001b[39;49mglobals\u001b[39m.\u001b[39;49mposition_logits[rad_index], lmax\u001b[39m=\u001b[39;49m\u001b[39m2\u001b[39;49m)\n",
      "\u001b[1;32m/home/songk/spherical-harmonic-net/notebooks/figures.ipynb Cell 14\u001b[0m line \u001b[0;36m2\n\u001b[1;32m     <a href='vscode-notebook-cell://ssh-remote%2Bpotato.mit.edu/home/songk/spherical-harmonic-net/notebooks/figures.ipynb#X34sdnNjb2RlLXJlbW90ZQ%3D%3D?line=19'>20</a>\u001b[0m             \u001b[39mexcept\u001b[39;00m:\n\u001b[1;32m     <a href='vscode-notebook-cell://ssh-remote%2Bpotato.mit.edu/home/songk/spherical-harmonic-net/notebooks/figures.ipynb#X34sdnNjb2RlLXJlbW90ZQ%3D%3D?line=20'>21</a>\u001b[0m                 \u001b[39mprint\u001b[39m(\u001b[39m1\u001b[39m, num_non_zero_coeffs \u001b[39m+\u001b[39m \u001b[39m2\u001b[39m)\n\u001b[0;32m---> <a href='vscode-notebook-cell://ssh-remote%2Bpotato.mit.edu/home/songk/spherical-harmonic-net/notebooks/figures.ipynb#X34sdnNjb2RlLXJlbW90ZQ%3D%3D?line=21'>22</a>\u001b[0m                 \u001b[39mraise\u001b[39;00m \u001b[39mException\u001b[39;00m\n\u001b[1;32m     <a href='vscode-notebook-cell://ssh-remote%2Bpotato.mit.edu/home/songk/spherical-harmonic-net/notebooks/figures.ipynb#X34sdnNjb2RlLXJlbW90ZQ%3D%3D?line=22'>23</a>\u001b[0m fig\u001b[39m.\u001b[39mupdate_traces(showscale\u001b[39m=\u001b[39m\u001b[39mFalse\u001b[39;00m)\n\u001b[1;32m     <a href='vscode-notebook-cell://ssh-remote%2Bpotato.mit.edu/home/songk/spherical-harmonic-net/notebooks/figures.ipynb#X34sdnNjb2RlLXJlbW90ZQ%3D%3D?line=23'>24</a>\u001b[0m fig\u001b[39m.\u001b[39mupdate_layout(margin\u001b[39m=\u001b[39m\u001b[39mdict\u001b[39m(l\u001b[39m=\u001b[39m\u001b[39m10\u001b[39m,r\u001b[39m=\u001b[39m\u001b[39m10\u001b[39m,b\u001b[39m=\u001b[39m\u001b[39m10\u001b[39m,t\u001b[39m=\u001b[39m\u001b[39m10\u001b[39m))\n",
      "\u001b[0;31mException\u001b[0m: "
     ]
    }
   ],
   "source": [
    "plot_decomposition(pred.globals.position_logits[rad_index], lmax=2)"
   ]
  },
  {
   "cell_type": "code",
   "execution_count": null,
   "metadata": {},
   "outputs": [],
   "source": []
  }
 ],
 "metadata": {
  "kernelspec": {
   "display_name": ".venv",
   "language": "python",
   "name": "python3"
  },
  "language_info": {
   "codemirror_mode": {
    "name": "ipython",
    "version": 3
   },
   "file_extension": ".py",
   "mimetype": "text/x-python",
   "name": "python",
   "nbconvert_exporter": "python",
   "pygments_lexer": "ipython3",
   "version": "3.10.13"
  },
  "orig_nbformat": 4
 },
 "nbformat": 4,
 "nbformat_minor": 2
}
