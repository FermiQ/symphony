{
 "cells": [
  {
   "cell_type": "code",
   "execution_count": 5,
   "metadata": {},
   "outputs": [],
   "source": [
    "from ase.atoms import Atoms\n",
    "import ase.io\n",
    "from ase.visualize import view\n",
    "import ipywidgets as widgets\n",
    "import numpy as np\n",
    "import plotly.express as px\n",
    "import plotly.graph_objects as go\n",
    "\n",
    "import sys\n",
    "\n",
    "sys.path.append(\"../analyses\")\n",
    "import visualize_atom_removals"
   ]
  },
  {
   "cell_type": "code",
   "execution_count": 3,
   "metadata": {},
   "outputs": [],
   "source": [
    "all_molecules = []\n",
    "for i in range(64):\n",
    "    try:\n",
    "        molecule = ase.io.read(f'../analyses/molecules/generated/v5/mace/interactions=4/l=5/channels=32/beta=1.0/step=best/C_seed={i}.xyz')\n",
    "    except:\n",
    "        molecule = ase.io.read(f'../analyses/molecules/generated/v5/mace/interactions=4/l=5/channels=32/beta=1.0/step=best/C_seed={i}_NaN.xyz')\n",
    "    all_molecules.append(molecule)\n"
   ]
  },
  {
   "cell_type": "code",
   "execution_count": 4,
   "metadata": {},
   "outputs": [
    {
     "ename": "TypeError",
     "evalue": "visualize_predictions() missing 2 required positional arguments: 'pred' and 'input_molecule'",
     "output_type": "error",
     "traceback": [
      "\u001b[0;31m---------------------------------------------------------------------------\u001b[0m",
      "\u001b[0;31mTypeError\u001b[0m                                 Traceback (most recent call last)",
      "Cell \u001b[0;32mIn[4], line 1\u001b[0m\n\u001b[0;32m----> 1\u001b[0m visualize_atom_removals\u001b[39m.\u001b[39;49mvisualize_predictions()\n",
      "\u001b[0;31mTypeError\u001b[0m: visualize_predictions() missing 2 required positional arguments: 'pred' and 'input_molecule'"
     ]
    }
   ],
   "source": [
    "visualize_atom_removals.visualize_predictions()"
   ]
  },
  {
   "cell_type": "code",
   "execution_count": 6,
   "metadata": {},
   "outputs": [],
   "source": [
    "fig = go.Figure(data=go.Surface(x=all_molecules[0].positions[:, 0], y=all_molecules[0].positions[:, 1], z=all_molecules[0].positions[:, 2]))"
   ]
  },
  {
   "cell_type": "code",
   "execution_count": 7,
   "metadata": {},
   "outputs": [
    {
     "data": {
      "text/plain": [
       "(Surface({\n",
       "     'x': array([ 0.        ,  0.32641929, -0.37716016, -0.37716016, -0.40381271]),\n",
       "     'y': array([ 0.        , -0.42366105,  0.47709572,  0.47709572,  0.53816396]),\n",
       "     'z': array([ 0.        , -0.97265661,  1.09207535,  1.09207535,  1.23911774])\n",
       " }),)"
      ]
     },
     "execution_count": 7,
     "metadata": {},
     "output_type": "execute_result"
    }
   ],
   "source": [
    "fig.data"
   ]
  },
  {
   "cell_type": "code",
   "execution_count": null,
   "metadata": {},
   "outputs": [],
   "source": []
  }
 ],
 "metadata": {
  "kernelspec": {
   "display_name": "sh-net",
   "language": "python",
   "name": "python3"
  },
  "language_info": {
   "codemirror_mode": {
    "name": "ipython",
    "version": 3
   },
   "file_extension": ".py",
   "mimetype": "text/x-python",
   "name": "python",
   "nbconvert_exporter": "python",
   "pygments_lexer": "ipython3",
   "version": "3.10.0"
  },
  "orig_nbformat": 4
 },
 "nbformat": 4,
 "nbformat_minor": 2
}
