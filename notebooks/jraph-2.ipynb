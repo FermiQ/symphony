{
 "cells": [
  {
   "cell_type": "code",
   "execution_count": 1,
   "metadata": {},
   "outputs": [],
   "source": [
    "from collections import namedtuple\n",
    "from io import StringIO\n",
    "from typing import Iterator, Tuple\n",
    "\n",
    "import ase\n",
    "import ase.io\n",
    "from ase.atoms import Atoms\n",
    "import jax\n",
    "import jax.numpy as jnp\n",
    "import jraph\n",
    "import matplotlib.pyplot as plt\n",
    "import matscipy.neighbours\n",
    "import numpy as np\n",
    "\n",
    "\n",
    "import logging\n",
    "import os\n",
    "import zipfile\n",
    "from functools import cache\n",
    "from typing import List\n",
    "from urllib.request import urlopen\n",
    "\n",
    "import e3nn_jax as e3nn"
   ]
  },
  {
   "cell_type": "code",
   "execution_count": 2,
   "metadata": {},
   "outputs": [],
   "source": [
    "def download_url(url: str, root: str) -> str:\n",
    "    \"\"\"Download if file does not exist in root already. Returns path to file.\"\"\"\n",
    "    filename = url.rpartition(\"/\")[2]\n",
    "    file_path = os.path.join(root, filename)\n",
    "\n",
    "    try:\n",
    "        from tqdm import tqdm\n",
    "\n",
    "        progress = True\n",
    "    except ImportError:\n",
    "        progress = False\n",
    "\n",
    "    data = urlopen(url)\n",
    "    chunk_size = 1024\n",
    "    total_size = int(data.info()[\"Content-Length\"].strip())\n",
    "\n",
    "    if os.path.exists(file_path):\n",
    "        if os.path.getsize(file_path) == total_size:\n",
    "            logging.info(f\"Using downloaded and verified file: {file_path}\")\n",
    "            return file_path\n",
    "\n",
    "    logging.info(f\"Downloading {url} to {file_path}\")\n",
    "\n",
    "    with open(file_path, \"wb\") as f:\n",
    "        if progress:\n",
    "            with tqdm(total=total_size) as pbar:\n",
    "                while True:\n",
    "                    chunk = data.read(chunk_size)\n",
    "                    if not chunk:\n",
    "                        break\n",
    "                    f.write(chunk)\n",
    "                    pbar.update(chunk_size)\n",
    "        else:\n",
    "            while True:\n",
    "                chunk = data.read(chunk_size)\n",
    "                if not chunk:\n",
    "                    break\n",
    "                f.write(chunk)\n",
    "\n",
    "    return file_path\n",
    "\n",
    "\n",
    "def extract_zip(path: str, root: str):\n",
    "    \"\"\"Extract zip if content does not exist in root already.\"\"\"\n",
    "    logging.info(f\"Extracting {path} to {root}...\")\n",
    "    with zipfile.ZipFile(path, \"r\") as f:\n",
    "        for name in f.namelist():\n",
    "            if name.endswith(\"/\"):\n",
    "                logging.info(f\"Skip directory {name}\")\n",
    "                continue\n",
    "            out_path = os.path.join(root, name)\n",
    "            file_size = f.getinfo(name).file_size\n",
    "            if os.path.exists(out_path) and os.path.getsize(out_path) == file_size:\n",
    "                logging.info(f\"Skip existing file {name}\")\n",
    "                continue\n",
    "            logging.info(f\"Extracting {name} to {root}...\")\n",
    "            f.extract(name, root)\n",
    "\n",
    "\n",
    "def read_sdf(f):\n",
    "    while True:\n",
    "        name = f.readline()\n",
    "        if not name:\n",
    "            break\n",
    "\n",
    "        f.readline()\n",
    "        f.readline()\n",
    "\n",
    "        L1 = f.readline().split()\n",
    "        try:\n",
    "            natoms = int(L1[0])\n",
    "        except IndexError:\n",
    "            print(L1)\n",
    "            break\n",
    "\n",
    "        positions = []\n",
    "        symbols = []\n",
    "        for _ in range(natoms):\n",
    "            line = f.readline()\n",
    "            x, y, z, symbol = line.split()[:4]\n",
    "            symbols.append(symbol)\n",
    "            positions.append([float(x), float(y), float(z)])\n",
    "\n",
    "        yield Atoms(symbols=symbols, positions=positions)\n",
    "\n",
    "        while True:\n",
    "            line = f.readline()\n",
    "            if line.startswith(\"$$$$\"):\n",
    "                break\n",
    "\n",
    "\n",
    "@cache\n",
    "def load_qm9(root: str) -> List[Atoms]:\n",
    "    raw_url = \"https://deepchemdata.s3-us-west-1.amazonaws.com/datasets/molnet_publish/qm9.zip\"\n",
    "\n",
    "    if not os.path.exists(root):\n",
    "        os.makedirs(root)\n",
    "\n",
    "    path = download_url(raw_url, root)\n",
    "    extract_zip(path, root)\n",
    "\n",
    "    with open(os.path.join(root, \"gdb9.sdf\")) as f:\n",
    "        return list(read_sdf(f))"
   ]
  },
  {
   "cell_type": "code",
   "execution_count": 28,
   "metadata": {},
   "outputs": [],
   "source": [
    "NodesInfo = namedtuple(\"NodesInfo\", [\"positions\", \"atomic_numbers\"])\n",
    "\n",
    "\n",
    "def ase_atoms_to_jraph_graph(atoms: ase.Atoms, cutoff: float) -> jraph.GraphsTuple:\n",
    "    receivers, senders = matscipy.neighbours.neighbour_list(\n",
    "        quantities=\"ij\",\n",
    "        positions=atoms.positions,\n",
    "        cutoff=cutoff,\n",
    "        cell=np.eye(3)\n",
    "    )\n",
    "\n",
    "    return jraph.GraphsTuple(\n",
    "        nodes=NodesInfo(atoms.positions, atoms.numbers),\n",
    "        edges=None,\n",
    "        globals=None,\n",
    "        senders=senders,\n",
    "        receivers=receivers,\n",
    "        n_node=np.array([len(atoms)]),\n",
    "        n_edge=np.array([len(senders)]),\n",
    "    )\n"
   ]
  },
  {
   "cell_type": "code",
   "execution_count": 29,
   "metadata": {},
   "outputs": [],
   "source": [
    "molecules = load_qm9(\"qm9\")[:4]"
   ]
  },
  {
   "cell_type": "code",
   "execution_count": 5,
   "metadata": {},
   "outputs": [
    {
     "data": {
      "text/plain": [
       "[Atoms(symbols='CH4', pbc=False),\n",
       " Atoms(symbols='NH3', pbc=False),\n",
       " Atoms(symbols='OH2', pbc=False),\n",
       " Atoms(symbols='C2H2', pbc=False)]"
      ]
     },
     "execution_count": 5,
     "metadata": {},
     "output_type": "execute_result"
    }
   ],
   "source": [
    "molecules"
   ]
  },
  {
   "cell_type": "code",
   "execution_count": 30,
   "metadata": {},
   "outputs": [
    {
     "data": {
      "text/plain": [
       "array([[ 0.5995,  0.    ,  1.    ],\n",
       "       [-0.5995,  0.    ,  1.    ],\n",
       "       [-1.6616,  0.    ,  1.    ],\n",
       "       [ 1.6616,  0.    ,  1.    ]])"
      ]
     },
     "execution_count": 30,
     "metadata": {},
     "output_type": "execute_result"
    }
   ],
   "source": [
    "molecules[3].positions"
   ]
  },
  {
   "cell_type": "code",
   "execution_count": 30,
   "metadata": {},
   "outputs": [],
   "source": [
    "molecule_graphs = list(map(lambda m: ase_atoms_to_jraph_graph(m, 5.), molecules))"
   ]
  },
  {
   "cell_type": "code",
   "execution_count": 34,
   "metadata": {},
   "outputs": [
    {
     "data": {
      "text/plain": [
       "[GraphsTuple(nodes=NodesInfo(positions=array([[-1.2700e-02,  1.0858e+00,  8.0000e-03],\n",
       "        [ 2.2000e-03, -6.0000e-03,  2.0000e-03],\n",
       "        [ 1.0117e+00,  1.4638e+00,  3.0000e-04],\n",
       "        [-5.4080e-01,  1.4475e+00, -8.7660e-01],\n",
       "        [-5.2380e-01,  1.4379e+00,  9.0640e-01]]), atomic_numbers=array([6, 1, 1, 1, 1])), edges=None, receivers=array([0, 0, 0, 0, 1, 1, 1, 1, 2, 2, 2, 2, 3, 3, 3, 3, 4, 4, 4, 4],\n",
       "       dtype=int32), senders=array([1, 2, 3, 4, 0, 2, 3, 4, 0, 1, 3, 4, 0, 1, 2, 4, 0, 1, 2, 3],\n",
       "       dtype=int32), globals=None, n_node=array([5]), n_edge=array([20])),\n",
       " GraphsTuple(nodes=NodesInfo(positions=array([[-0.0404,  1.0241,  0.0626],\n",
       "        [ 0.0173,  0.0125, -0.0274],\n",
       "        [ 0.9158,  1.3587, -0.0288],\n",
       "        [-0.5203,  1.3435, -0.7755]]), atomic_numbers=array([7, 1, 1, 1])), edges=None, receivers=array([0, 0, 0, 1, 1, 1, 2, 2, 2, 3, 3, 3], dtype=int32), senders=array([1, 2, 3, 0, 2, 3, 0, 1, 3, 0, 1, 2], dtype=int32), globals=None, n_node=array([4]), n_edge=array([12])),\n",
       " GraphsTuple(nodes=NodesInfo(positions=array([[-3.4400e-02,  9.7750e-01,  7.6000e-03],\n",
       "        [ 6.4800e-02,  2.0600e-02,  1.5000e-03],\n",
       "        [ 8.7180e-01,  1.3008e+00,  7.0000e-04]]), atomic_numbers=array([8, 1, 1])), edges=None, receivers=array([0, 0, 1, 1, 2, 2], dtype=int32), senders=array([1, 2, 0, 2, 0, 1], dtype=int32), globals=None, n_node=array([3]), n_edge=array([6])),\n",
       " GraphsTuple(nodes=NodesInfo(positions=array([[ 0.5995,  0.    ,  1.    ],\n",
       "        [-0.5995,  0.    ,  1.    ],\n",
       "        [-1.6616,  0.    ,  1.    ],\n",
       "        [ 1.6616,  0.    ,  1.    ]]), atomic_numbers=array([6, 6, 1, 1])), edges=None, receivers=array([0, 0, 0, 1, 1, 1, 2, 2, 2, 3, 3, 3], dtype=int32), senders=array([1, 2, 3, 0, 2, 3, 0, 1, 3, 0, 1, 2], dtype=int32), globals=None, n_node=array([4]), n_edge=array([12]))]"
      ]
     },
     "execution_count": 34,
     "metadata": {},
     "output_type": "execute_result"
    }
   ],
   "source": [
    "molecule_graphs"
   ]
  },
  {
   "cell_type": "code",
   "execution_count": 31,
   "metadata": {},
   "outputs": [],
   "source": [
    "batched = jraph.batch(molecule_graphs)"
   ]
  },
  {
   "cell_type": "code",
   "execution_count": 36,
   "metadata": {},
   "outputs": [
    {
     "data": {
      "text/plain": [
       "GraphsTuple(nodes=NodesInfo(positions=DeviceArray([[-1.2700e-02,  1.0858e+00,  8.0000e-03],\n",
       "             [ 2.2000e-03, -6.0000e-03,  2.0000e-03],\n",
       "             [ 1.0117e+00,  1.4638e+00,  3.0000e-04],\n",
       "             [-5.4080e-01,  1.4475e+00, -8.7660e-01],\n",
       "             [-5.2380e-01,  1.4379e+00,  9.0640e-01],\n",
       "             [-4.0400e-02,  1.0241e+00,  6.2600e-02],\n",
       "             [ 1.7300e-02,  1.2500e-02, -2.7400e-02],\n",
       "             [ 9.1580e-01,  1.3587e+00, -2.8800e-02],\n",
       "             [-5.2030e-01,  1.3435e+00, -7.7550e-01],\n",
       "             [-3.4400e-02,  9.7750e-01,  7.6000e-03],\n",
       "             [ 6.4800e-02,  2.0600e-02,  1.5000e-03],\n",
       "             [ 8.7180e-01,  1.3008e+00,  7.0000e-04],\n",
       "             [ 5.9950e-01,  0.0000e+00,  1.0000e+00],\n",
       "             [-5.9950e-01,  0.0000e+00,  1.0000e+00],\n",
       "             [-1.6616e+00,  0.0000e+00,  1.0000e+00],\n",
       "             [ 1.6616e+00,  0.0000e+00,  1.0000e+00]], dtype=float32), atomic_numbers=DeviceArray([6, 1, 1, 1, 1, 7, 1, 1, 1, 8, 1, 1, 6, 6, 1, 1], dtype=int32)), edges=None, receivers=DeviceArray([ 0,  0,  0,  0,  1,  1,  1,  1,  2,  2,  2,  2,  3,  3,  3,\n",
       "              3,  4,  4,  4,  4,  5,  5,  5,  6,  6,  6,  7,  7,  7,  8,\n",
       "              8,  8,  9,  9, 10, 10, 11, 11, 12, 12, 12, 13, 13, 13, 14,\n",
       "             14, 14, 15, 15, 15], dtype=int32), senders=DeviceArray([ 1,  2,  3,  4,  0,  2,  3,  4,  0,  1,  3,  4,  0,  1,  2,\n",
       "              4,  0,  1,  2,  3,  6,  7,  8,  5,  7,  8,  5,  6,  8,  5,\n",
       "              6,  7, 10, 11,  9, 11,  9, 10, 13, 14, 15, 12, 14, 15, 12,\n",
       "             13, 15, 12, 13, 14], dtype=int32), globals=None, n_node=DeviceArray([5, 4, 3, 4], dtype=int32), n_edge=DeviceArray([20, 12,  6, 12], dtype=int32))"
      ]
     },
     "execution_count": 36,
     "metadata": {},
     "output_type": "execute_result"
    }
   ],
   "source": [
    "batched"
   ]
  },
  {
   "cell_type": "code",
   "execution_count": 8,
   "metadata": {},
   "outputs": [],
   "source": [
    "centers = e3nn.scatter_sum(batched.nodes.positions, nel=batched.n_node) / batched.n_node[:, jnp.newaxis]"
   ]
  },
  {
   "cell_type": "code",
   "execution_count": 9,
   "metadata": {},
   "outputs": [
    {
     "data": {
      "text/plain": [
       "(16, 3)"
      ]
     },
     "execution_count": 9,
     "metadata": {},
     "output_type": "execute_result"
    }
   ],
   "source": [
    "batched.nodes.positions.shape"
   ]
  },
  {
   "cell_type": "code",
   "execution_count": 11,
   "metadata": {},
   "outputs": [
    {
     "data": {
      "text/plain": [
       "DeviceArray([[-0.01267998,  1.0857999 ,  0.00802   ],\n",
       "             [-0.01267998,  1.0857999 ,  0.00802   ],\n",
       "             [-0.01267998,  1.0857999 ,  0.00802   ],\n",
       "             [-0.01267998,  1.0857999 ,  0.00802   ],\n",
       "             [-0.01267998,  1.0857999 ,  0.00802   ],\n",
       "             [ 0.0931    ,  0.9347    , -0.192275  ],\n",
       "             [ 0.0931    ,  0.9347    , -0.192275  ],\n",
       "             [ 0.0931    ,  0.9347    , -0.192275  ],\n",
       "             [ 0.0931    ,  0.9347    , -0.192275  ],\n",
       "             [ 0.30073333,  0.7663    ,  0.00326667],\n",
       "             [ 0.30073333,  0.7663    ,  0.00326667],\n",
       "             [ 0.30073333,  0.7663    ,  0.00326667],\n",
       "             [ 0.        ,  0.        ,  1.        ],\n",
       "             [ 0.        ,  0.        ,  1.        ],\n",
       "             [ 0.        ,  0.        ,  1.        ],\n",
       "             [ 0.        ,  0.        ,  1.        ]], dtype=float32)"
      ]
     },
     "execution_count": 11,
     "metadata": {},
     "output_type": "execute_result"
    }
   ],
   "source": [
    "jnp.repeat(centers, batched.n_node, axis=0)"
   ]
  },
  {
   "cell_type": "code",
   "execution_count": 49,
   "metadata": {},
   "outputs": [],
   "source": [
    "new_positions = batched.nodes.positions - jnp.repeat(centers, batched.n_node, axis=0)"
   ]
  },
  {
   "cell_type": "code",
   "execution_count": 50,
   "metadata": {},
   "outputs": [
    {
     "data": {
      "text/plain": [
       "DeviceArray([[-2.3841858e-08,  4.7683717e-08,  1.1920929e-08],\n",
       "             [ 0.0000000e+00, -1.4901161e-08,  0.0000000e+00],\n",
       "             [ 1.9868216e-08, -1.9868216e-08, -1.5522043e-10],\n",
       "             [ 0.0000000e+00,  0.0000000e+00,  0.0000000e+00]],            dtype=float32)"
      ]
     },
     "execution_count": 50,
     "metadata": {},
     "output_type": "execute_result"
    }
   ],
   "source": [
    "e3nn.scatter_sum(new_positions, nel=batched.n_node) / batched.n_node[:, jnp.newaxis]"
   ]
  },
  {
   "cell_type": "code",
   "execution_count": 52,
   "metadata": {},
   "outputs": [
    {
     "data": {
      "text/plain": [
       "DeviceArray([ 0,  5,  9, 12], dtype=int32)"
      ]
     },
     "execution_count": 52,
     "metadata": {},
     "output_type": "execute_result"
    }
   ],
   "source": [
    "jnp.concatenate([jnp.array([0]), jnp.cumsum(batched.n_node[:-1])])"
   ]
  },
  {
   "cell_type": "code",
   "execution_count": 26,
   "metadata": {},
   "outputs": [],
   "source": [
    "GlobalsInfo = namedtuple(\"GlobalsInfo\", [\"stop\", \"target_position\", \"target_atomic_number\"])\n",
    "mg = list(map(lambda t: t[0]._replace(globals=GlobalsInfo(False, t[1], t[1]*2)), zip(molecule_graphs, range(1, 1+len(molecule_graphs)))))"
   ]
  },
  {
   "cell_type": "code",
   "execution_count": 33,
   "metadata": {},
   "outputs": [],
   "source": [
    "key = jax.random.PRNGKey(0)\n",
    "graph_1 = jraph.GraphsTuple(nodes=jax.random.normal(key, (3, 64)),\n",
    "                  edges=jax.random.normal(key, (5, 64)),\n",
    "                  senders=jnp.array([0,0,1,1,2]),\n",
    "                  receivers=jnp.array([1,2,0,2,1]),\n",
    "                  n_node=jnp.array([3]),\n",
    "                  n_edge=jnp.array([5]),\n",
    "                  globals=jax.random.normal(key, (1, 64)))\n",
    "graph_2 = jraph.GraphsTuple(nodes=jax.random.normal(key, (5, 64)),\n",
    "                  edges=jax.random.normal(key, (10, 64)),\n",
    "                  senders=jnp.array([0,0,1,1,2,2,3,3,4,4]),\n",
    "                  receivers=jnp.array([1,2,0,2,1,0,2,1,3,2]),\n",
    "                  n_node=jnp.array([5]),\n",
    "                  n_edge=jnp.array([10]),\n",
    "                  globals=jax.random.normal(key, (1, 64)))\n",
    "batch_toy = jraph.batch([graph_1, graph_2])"
   ]
  },
  {
   "cell_type": "code",
   "execution_count": 35,
   "metadata": {},
   "outputs": [
    {
     "data": {
      "text/plain": [
       "DeviceArray([ 1.2799144 , -0.39865986, -0.5993886 , -0.7637496 ,\n",
       "             -0.8983587 , -0.23934689, -1.1704856 , -1.5712125 ,\n",
       "             -0.15792206,  1.8573927 , -0.04482319, -0.3219256 ,\n",
       "              0.8962585 , -0.15877262, -0.43754193, -1.5164709 ,\n",
       "             -1.3206071 ,  0.67375886, -0.12202369, -0.11324466,\n",
       "              0.24248654,  1.120143  , -0.85038954, -1.4255388 ,\n",
       "              0.44291094, -0.81818557, -1.6559185 ,  0.72194505,\n",
       "              0.5261831 ,  0.6698593 ,  0.7937533 ,  0.1336232 ,\n",
       "              0.27458718,  1.0185868 ,  0.48991668,  1.6080183 ,\n",
       "             -0.6469497 ,  0.5501491 ,  0.10167892,  0.2767068 ,\n",
       "             -1.3188282 , -1.5068529 ,  0.8500454 ,  0.5480819 ,\n",
       "              0.6765775 , -0.16574337, -0.6841306 ,  0.26070496,\n",
       "              1.038879  , -0.41015548, -1.2598792 ,  0.24818595,\n",
       "              1.1780113 ,  1.2147156 ,  0.11252337,  0.93331707,\n",
       "              0.658087  , -0.06883331,  0.3875602 , -0.22836444,\n",
       "              0.06383018, -0.7762402 ,  0.21750201,  0.05950322],            dtype=float32)"
      ]
     },
     "execution_count": 35,
     "metadata": {},
     "output_type": "execute_result"
    }
   ],
   "source": [
    "batch_toy.globals[0]"
   ]
  },
  {
   "cell_type": "code",
   "execution_count": null,
   "metadata": {},
   "outputs": [],
   "source": []
  }
 ],
 "metadata": {
  "kernelspec": {
   "display_name": "sh-net",
   "language": "python",
   "name": "python3"
  },
  "language_info": {
   "codemirror_mode": {
    "name": "ipython",
    "version": 3
   },
   "file_extension": ".py",
   "mimetype": "text/x-python",
   "name": "python",
   "nbconvert_exporter": "python",
   "pygments_lexer": "ipython3",
   "version": "3.10.6"
  },
  "orig_nbformat": 4,
  "vscode": {
   "interpreter": {
    "hash": "6812f6bea93996b24571ab32489b66aa23cd67ae28674218a16278d3e0431607"
   }
  }
 },
 "nbformat": 4,
 "nbformat_minor": 2
}
