{
 "cells": [
  {
   "cell_type": "code",
   "execution_count": 31,
   "metadata": {},
   "outputs": [],
   "source": [
    "import jraph\n",
    "import jax\n",
    "import jax.numpy as jnp\n",
    "import e3nn_jax as e3nn"
   ]
  },
  {
   "cell_type": "code",
   "execution_count": 32,
   "metadata": {},
   "outputs": [],
   "source": [
    "# Undirected graph: CH4\n",
    "ch3 = jraph.GraphsTuple(\n",
    "    nodes=jnp.array([4, 1, 1, 1, 1]),  # electrons to be shared\n",
    "    edges=jnp.array([0, 0, 0, 0]),  # bonds (initially empty)\n",
    "    globals=None,\n",
    "    senders=jnp.array([0, 0, 0, 0]),\n",
    "    receivers=jnp.array([1, 2, 3, 4]),\n",
    "    n_node=jnp.array([5]),\n",
    "    n_edge=jnp.array([4]),\n",
    ")"
   ]
  },
  {
   "cell_type": "code",
   "execution_count": 33,
   "metadata": {},
   "outputs": [],
   "source": [
    "def allocate(graph, per_edge):\n",
    "    e = graph.edges\n",
    "    n = graph.nodes\n",
    "    s = graph.senders\n",
    "    r = graph.receivers\n",
    "    e = e + per_edge\n",
    "    n = n.at[s].add(-per_edge)\n",
    "    n = n.at[r].add(-per_edge)\n",
    "    return graph._replace(edges=e, nodes=n)"
   ]
  },
  {
   "cell_type": "code",
   "execution_count": 34,
   "metadata": {},
   "outputs": [],
   "source": [
    "def allocation_imposed(graph):\n",
    "    num_nodes = graph.nodes.shape[0]\n",
    "    n = graph.nodes\n",
    "    e = graph.edges\n",
    "    s = graph.senders\n",
    "    r = graph.receivers\n",
    "\n",
    "    # Situation 1: I can't share to anyone else\n",
    "    x = jnp.zeros(num_nodes, dtype=jnp.int32)\n",
    "    x = x.at[s].add(n[r] > 0)\n",
    "    x = x.at[r].add(n[s] > 0)\n",
    "    x = (x == 1) & (n > 0)\n",
    "    a1 = jnp.where(x[s] | x[r], jnp.minimum(n[s], n[r]), 0)\n",
    "\n",
    "    # Situation 2: We need at least one electron per edge\n",
    "    a2 = jnp.maximum(0, 1 - e)\n",
    "\n",
    "    return jnp.maximum(a1, a2)\n",
    "\n",
    "\n",
    "def allocate_while_you_have_to(graph):\n",
    "    def cond(graph):\n",
    "        a = allocation_imposed(graph)\n",
    "        return jnp.any(a > 0)\n",
    "\n",
    "    def body(graph):\n",
    "        a = allocation_imposed(graph)\n",
    "        return allocate(graph, a)\n",
    "\n",
    "    return jax.lax.while_loop(cond, body, graph)"
   ]
  },
  {
   "cell_type": "code",
   "execution_count": 49,
   "metadata": {},
   "outputs": [],
   "source": [
    "def valence(graph):\n",
    "    \"\"\"\n",
    "    0 = valence OK\n",
    "    1 = Algorithm not finished\n",
    "    2 = Impossible to satisfy valence\n",
    "    \"\"\"\n",
    "    graph = allocate_while_you_have_to(graph)\n",
    "\n",
    "    edge_mistakes = graph.edges < 1\n",
    "    node_mistakse = graph.nodes < 0\n",
    "    node_incomplete = graph.nodes > 0\n",
    "\n",
    "    m = e3nn.scatter_sum(node_mistakse, nel=graph.n_node)\n",
    "    m += e3nn.scatter_sum(edge_mistakes, nel=graph.n_edge)\n",
    "    i = e3nn.scatter_sum(node_incomplete, nel=graph.n_node)\n",
    "\n",
    "    return jnp.where(m == 0, jnp.where(i == 0, 0, 1), 2)"
   ]
  },
  {
   "cell_type": "code",
   "execution_count": 50,
   "metadata": {},
   "outputs": [
    {
     "name": "stdout",
     "output_type": "stream",
     "text": [
      "[1 4 4 4 4 4 4 1]\n",
      "[0 0 0 0 0 0 0 0]\n"
     ]
    }
   ],
   "source": [
    "# Undirected graph: H-C-C-C-C-C-C-H\n",
    "graph = jraph.GraphsTuple(\n",
    "    nodes=jnp.array([1, 4, 4, 4, 4, 4, 4, 1]),  # electrons to be shared\n",
    "    edges=jnp.array([0, 0, 0, 0, 0, 0, 0]),  # bonds (no electrons at initial state)\n",
    "    globals=None,\n",
    "    senders=jnp.array([0, 1, 2, 3, 4, 5, 6]),\n",
    "    receivers=jnp.array([1, 2, 3, 4, 5, 6, 7]),\n",
    "    n_node=jnp.array([9]),\n",
    "    n_edge=jnp.array([7]),\n",
    ")\n",
    "print(graph.nodes)\n",
    "graph = allocate_while_you_have_to(graph)\n",
    "print(graph.nodes)"
   ]
  },
  {
   "cell_type": "code",
   "execution_count": 51,
   "metadata": {},
   "outputs": [
    {
     "data": {
      "text/plain": [
       "Array([0], dtype=int32, weak_type=True)"
      ]
     },
     "execution_count": 51,
     "metadata": {},
     "output_type": "execute_result"
    }
   ],
   "source": [
    "# Undirected graph: H-C-C-C-C-C-C-H\n",
    "graph = jraph.GraphsTuple(\n",
    "    nodes=jnp.array([1, 4, 4, 4, 4, 4, 4, 1]),  # electrons to be shared\n",
    "    edges=jnp.array([0, 0, 0, 0, 0, 0, 0]),  # bonds (no electrons at initial state)\n",
    "    globals=None,\n",
    "    senders=jnp.array([0, 1, 2, 3, 4, 5, 6]),\n",
    "    receivers=jnp.array([1, 2, 3, 4, 5, 6, 7]),\n",
    "    n_node=jnp.array([9]),\n",
    "    n_edge=jnp.array([7]),\n",
    ")\n",
    "valence(graph)"
   ]
  },
  {
   "cell_type": "code",
   "execution_count": 52,
   "metadata": {},
   "outputs": [
    {
     "data": {
      "text/plain": [
       "Array([0], dtype=int32, weak_type=True)"
      ]
     },
     "execution_count": 52,
     "metadata": {},
     "output_type": "execute_result"
    }
   ],
   "source": [
    "valence(ch3)"
   ]
  },
  {
   "cell_type": "code",
   "execution_count": 53,
   "metadata": {},
   "outputs": [
    {
     "name": "stdout",
     "output_type": "stream",
     "text": [
      "[3 3 3 3] [0 0 0 0]\n",
      "[1 1 1 1] [1 1 1 1]\n"
     ]
    },
    {
     "data": {
      "text/plain": [
       "Array([1], dtype=int32, weak_type=True)"
      ]
     },
     "execution_count": 53,
     "metadata": {},
     "output_type": "execute_result"
    }
   ],
   "source": [
    "# Undirected graph: square\n",
    "graph = jraph.GraphsTuple(\n",
    "    nodes=jnp.array([3, 3, 3, 3]),  # electrons to be shared\n",
    "    edges=jnp.array([0, 0, 0, 0]),  # bonds (no electrons at initial state)\n",
    "    globals=None,\n",
    "    senders=jnp.array([0, 1, 2, 3]),\n",
    "    receivers=jnp.array([1, 2, 3, 0]),\n",
    "    n_node=jnp.array([4]),\n",
    "    n_edge=jnp.array([4]),\n",
    ")\n",
    "print(graph.nodes, graph.edges)\n",
    "graph = allocate_while_you_have_to(graph)\n",
    "print(graph.nodes, graph.edges)\n",
    "valence(graph)"
   ]
  },
  {
   "cell_type": "code",
   "execution_count": null,
   "metadata": {},
   "outputs": [],
   "source": []
  }
 ],
 "metadata": {
  "kernelspec": {
   "display_name": "base3.10b",
   "language": "python",
   "name": "python3"
  },
  "language_info": {
   "codemirror_mode": {
    "name": "ipython",
    "version": 3
   },
   "file_extension": ".py",
   "mimetype": "text/x-python",
   "name": "python",
   "nbconvert_exporter": "python",
   "pygments_lexer": "ipython3",
   "version": "3.10.11"
  },
  "orig_nbformat": 4
 },
 "nbformat": 4,
 "nbformat_minor": 2
}
