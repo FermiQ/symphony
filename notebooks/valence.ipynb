{
 "cells": [
  {
   "cell_type": "code",
   "execution_count": 1,
   "metadata": {},
   "outputs": [],
   "source": [
    "import sys\n",
    "\n",
    "import e3nn_jax as e3nn\n",
    "import jax\n",
    "import jax.numpy as jnp\n",
    "import jraph\n",
    "import numpy as np\n",
    "\n",
    "sys.path.append(\"..\")\n",
    "\n",
    "import ase.build\n",
    "\n",
    "from input_pipeline import ase_atoms_to_jraph_graph"
   ]
  },
  {
   "cell_type": "code",
   "execution_count": 2,
   "metadata": {},
   "outputs": [],
   "source": [
    "# in the following code, graph is a jraph.GraphsTuple\n",
    "# undirected graph\n",
    "# nodes = valence electrons\n",
    "# edges = bonds (0 initially)\n",
    "\n",
    "\n",
    "def allocate(graph, per_edge):\n",
    "    \"\"\"\n",
    "    For each edge `e`, allocate `per_edge[e]` electrons from each vertex of the edge to the edge itself.\n",
    "    \"\"\"\n",
    "    e = graph.edges\n",
    "    n = graph.nodes\n",
    "    s, r = graph.senders, graph.receivers\n",
    "\n",
    "    # update valence values per edge/node\n",
    "    e = e + per_edge\n",
    "    n = n.at[s].add(-per_edge)\n",
    "    n = n.at[r].add(-per_edge)\n",
    "\n",
    "    return graph._replace(edges=e, nodes=n)\n",
    "\n",
    "\n",
    "def allocation_imposed(graph, edge_mask):\n",
    "    \"\"\"Computes the number of electrons to distribute per edge on the next allocation.\"\"\"\n",
    "    num_nodes = graph.nodes.shape[0]\n",
    "    e = graph.edges\n",
    "    n = graph.nodes\n",
    "    s, r = graph.senders, graph.receivers\n",
    "    m = edge_mask\n",
    "\n",
    "    ## Situation 1: Share electrons between nodes that have electrons to share\n",
    "    # a: how many neighbors have electrons to share\n",
    "    a = jnp.zeros(num_nodes, dtype=jnp.int32)\n",
    "    a = a.at[s].add(m & (n[r] > 0))\n",
    "    a = a.at[r].add(m & (n[s] > 0))\n",
    "\n",
    "    # a: only one neighbor has electrons to share AND I have electrons to share\n",
    "    a = (a == 1) & (n > 0)\n",
    "\n",
    "    # edge_alloc1: when one of the two sides NEED to share\n",
    "    edge_alloc1 = jnp.where(a[s] | a[r], jnp.minimum(n[s], n[r]), 0)\n",
    "\n",
    "    ## Situation 2: If edge has no electrons, allocate 1 electron to that edge\n",
    "    edge_alloc2 = jnp.maximum(0, 1 - e)\n",
    "\n",
    "    ## Situation 3: If edge_alloc has no electrons being distributed, but some node has electrons to give,\n",
    "    # choose a conformation in which to distribute electrons.\n",
    "\n",
    "    return jnp.where(m, jnp.maximum(edge_alloc1, edge_alloc2), 0)\n",
    "\n",
    "\n",
    "def allocate_while_you_have_to(graph, edge_mask):\n",
    "    def cond(graph):\n",
    "        a = allocation_imposed(graph, edge_mask)\n",
    "        return jnp.any(a > 0)\n",
    "\n",
    "    def body(graph):\n",
    "        a = allocation_imposed(graph, edge_mask)\n",
    "        return allocate(graph, a)\n",
    "\n",
    "    return jax.lax.while_loop(cond, body, graph)\n",
    "    # while cond(graph):\n",
    "    #     graph = body(graph)\n",
    "    #     print(graph)\n",
    "    # return graph\n",
    "\n",
    "\n",
    "@jax.jit\n",
    "def check_valence(graph, edge_mask=None):\n",
    "    \"\"\"\n",
    "    Checks if the graph satisfies the valence rules.\n",
    "\n",
    "    Args:\n",
    "    graph: a jraph.GraphsTuple\n",
    "        nodes: number of electrons that need to be shared\n",
    "        senders, receivers: undirected edges representing bonds\n",
    "\n",
    "    Returns:\n",
    "    0 = valence OK\n",
    "    1 = Algorithm not finished\n",
    "    2 = Impossible to satisfy valence\n",
    "    \"\"\"\n",
    "    if edge_mask is None:\n",
    "        edge_mask = jnp.ones(len(graph.senders), dtype=jnp.bool_)\n",
    "\n",
    "    graph = graph._replace(edges=jnp.zeros_like(graph.senders))\n",
    "\n",
    "    graph = allocate_while_you_have_to(graph, edge_mask)\n",
    "\n",
    "    edge_mistakes = edge_mask & (graph.edges < 1)\n",
    "    node_mistakes = graph.nodes < 0\n",
    "    node_incomplete = graph.nodes > 0\n",
    "\n",
    "    m = e3nn.scatter_sum(node_mistakes, nel=graph.n_node)\n",
    "    m += e3nn.scatter_sum(edge_mistakes, nel=graph.n_edge)\n",
    "    i = e3nn.scatter_sum(node_incomplete, nel=graph.n_node)\n",
    "\n",
    "    return jnp.where(m == 0, jnp.where(i == 0, 0, 1), 2)"
   ]
  },
  {
   "cell_type": "code",
   "execution_count": null,
   "metadata": {},
   "outputs": [],
   "source": []
  },
  {
   "cell_type": "code",
   "execution_count": 3,
   "metadata": {},
   "outputs": [
    {
     "data": {
      "text/plain": [
       "Array([ True], dtype=bool, weak_type=True)"
      ]
     },
     "execution_count": 3,
     "metadata": {},
     "output_type": "execute_result"
    }
   ],
   "source": [
    "# distance below which two atoms are for sure at least single bonded\n",
    "bond_dist = {\n",
    "    (6, 6): 1.50,\n",
    "    (1, 6): 1.20,\n",
    "    (8, 1): 1.00,\n",
    "    # (1, 7): ?,\n",
    "    # (7, 7): ?,\n",
    "    # (8, 6): ?,\n",
    "    # (6, 7): ?,\n",
    "    # (8, 7): ?,\n",
    "    # (9, 6): ?,\n",
    "    # (1, 1): ?,\n",
    "    # (9, 1): ?,\n",
    "    # (8, 9): ?,\n",
    "    # (8, 8): ?,\n",
    "    # (9, 9): ?,\n",
    "    # (9, 7): ?,\n",
    "}\n",
    "\n",
    "atomic_numbers = jnp.array([1, 6, 7, 8, 9])\n",
    "valence = jnp.array([1, 4, 3, 2, 1])\n",
    "\n",
    "bond_dist_matrix = np.zeros((len(atomic_numbers), len(atomic_numbers)))\n",
    "for (zi, zj), dist in bond_dist.items():\n",
    "    if np.isin(zi, atomic_numbers) and np.isin(zj, atomic_numbers):\n",
    "        si = np.searchsorted(atomic_numbers, zi)\n",
    "        sj = np.searchsorted(atomic_numbers, zj)\n",
    "        bond_dist_matrix[si, sj] = dist\n",
    "        bond_dist_matrix[sj, si] = dist\n",
    "\n",
    "bond_dist_matrix = jnp.asarray(bond_dist_matrix)\n",
    "\n",
    "mol = ase.build.molecule(\"C6H6\")\n",
    "nn_cutoff = 5.0\n",
    "graph = ase_atoms_to_jraph_graph(mol, atomic_numbers, nn_cutoff)\n",
    "d = jnp.linalg.norm(\n",
    "    graph.nodes.positions[graph.senders] - graph.nodes.positions[graph.receivers],\n",
    "    axis=-1,\n",
    ")\n",
    "si = graph.nodes.species[graph.senders]\n",
    "sj = graph.nodes.species[graph.receivers]\n",
    "\n",
    "out = check_valence(\n",
    "    graph._replace(nodes=valence[graph.nodes.species]),\n",
    "    (d < bond_dist_matrix[si, sj]) & (graph.senders < graph.receivers),\n",
    ")\n",
    "\n",
    "out <= 1"
   ]
  },
  {
   "cell_type": "code",
   "execution_count": null,
   "metadata": {},
   "outputs": [],
   "source": []
  },
  {
   "cell_type": "code",
   "execution_count": null,
   "metadata": {},
   "outputs": [],
   "source": []
  },
  {
   "cell_type": "code",
   "execution_count": 65,
   "metadata": {},
   "outputs": [
    {
     "name": "stdout",
     "output_type": "stream",
     "text": [
      "[4 1 1 1 1]\n",
      "[0 0 0 0 0]\n"
     ]
    },
    {
     "data": {
      "text/plain": [
       "Array([0], dtype=int32, weak_type=True)"
      ]
     },
     "execution_count": 65,
     "metadata": {},
     "output_type": "execute_result"
    }
   ],
   "source": [
    "# CH4 (edges directed the opposite way)\n",
    "\n",
    "graph = jraph.GraphsTuple(\n",
    "    nodes=jnp.array([4, 1, 1, 1, 1]),  # electrons to be shared\n",
    "    edges=jnp.array([0, 0, 0, 0]),  # bonds (initially empty)\n",
    "    globals=None,\n",
    "    senders=jnp.array([1, 0, 3, 4]),\n",
    "    receivers=jnp.array([0, 2, 0, 0]),\n",
    "    n_node=jnp.array([5]),\n",
    "    n_edge=jnp.array([4]),\n",
    ")\n",
    "print(graph.nodes)\n",
    "graph = allocate_while_you_have_to(graph)\n",
    "print(graph.nodes)\n",
    "valence(graph)"
   ]
  },
  {
   "cell_type": "code",
   "execution_count": 64,
   "metadata": {},
   "outputs": [
    {
     "name": "stdout",
     "output_type": "stream",
     "text": [
      "[1 4 4 4 4 4 4 1]\n",
      "[0 0 0 0 0 0 0 0]\n"
     ]
    }
   ],
   "source": [
    "# Undirected graph: H-C-C-C-C-C-C-H\n",
    "graph = jraph.GraphsTuple(\n",
    "    nodes=jnp.array([1, 4, 4, 4, 4, 4, 4, 1]),  # electrons to be shared\n",
    "    edges=jnp.array([0, 0, 0, 0, 0, 0, 0]),  # bonds (no electrons at initial state)\n",
    "    globals=None,\n",
    "    senders=jnp.array([0, 1, 2, 3, 4, 5, 6]),\n",
    "    receivers=jnp.array([1, 2, 3, 4, 5, 6, 7]),\n",
    "    n_node=jnp.array([9]),\n",
    "    n_edge=jnp.array([7]),\n",
    ")\n",
    "print(graph.nodes)\n",
    "graph = allocate_while_you_have_to(graph)\n",
    "print(graph.nodes)"
   ]
  },
  {
   "cell_type": "code",
   "execution_count": 54,
   "metadata": {},
   "outputs": [
    {
     "data": {
      "text/plain": [
       "Array([0], dtype=int32, weak_type=True)"
      ]
     },
     "execution_count": 54,
     "metadata": {},
     "output_type": "execute_result"
    }
   ],
   "source": [
    "# Undirected graph: H-C-C-C-C-C-C-H\n",
    "graph = jraph.GraphsTuple(\n",
    "    nodes=jnp.array([1, 4, 4, 4, 4, 4, 4, 1]),  # electrons to be shared\n",
    "    edges=jnp.array([0, 0, 0, 0, 0, 0, 0]),  # bonds (no electrons at initial state)\n",
    "    globals=None,\n",
    "    senders=jnp.array([0, 1, 2, 3, 4, 5, 6]),\n",
    "    receivers=jnp.array([1, 2, 3, 4, 5, 6, 7]),\n",
    "    n_node=jnp.array([9]),\n",
    "    n_edge=jnp.array([7]),\n",
    ")\n",
    "valence(graph)"
   ]
  },
  {
   "cell_type": "code",
   "execution_count": 88,
   "metadata": {},
   "outputs": [
    {
     "name": "stdout",
     "output_type": "stream",
     "text": [
      "[3 3 3 3] [0 0 0 0]\n",
      "[False False False False]\n",
      "[False False False False]\n",
      "[False False False False]\n",
      "[1 1 1 1] [1 1 1 1]\n",
      "[False False False False]\n"
     ]
    },
    {
     "data": {
      "text/plain": [
       "Array([1], dtype=int32, weak_type=True)"
      ]
     },
     "execution_count": 88,
     "metadata": {},
     "output_type": "execute_result"
    }
   ],
   "source": [
    "# Undirected graph: square\n",
    "graph = jraph.GraphsTuple(\n",
    "    nodes=jnp.array([3, 3, 3, 3]),  # electrons to be shared\n",
    "    edges=jnp.array([0, 0, 0, 0]),  # bonds (no electrons at initial state)\n",
    "    globals=None,\n",
    "    senders=jnp.array([0, 1, 2, 3]),\n",
    "    receivers=jnp.array([1, 2, 3, 0]),\n",
    "    n_node=jnp.array([4]),\n",
    "    n_edge=jnp.array([4]),\n",
    ")\n",
    "print(graph.nodes, graph.edges)\n",
    "graph = allocate_while_you_have_to(graph)\n",
    "print(graph.nodes, graph.edges)\n",
    "valence(graph)\n",
    "\n",
    "# nodes: [1 1 1 1]\n",
    "# edges: [1 1 1 1]\n",
    "# need to break the cycle somehow (i.e. just transfer electrons between (0, 1) and (2, 3), but not (1, 2) and (3, 0))"
   ]
  },
  {
   "cell_type": "code",
   "execution_count": 95,
   "metadata": {},
   "outputs": [
    {
     "name": "stdout",
     "output_type": "stream",
     "text": [
      "[False False  True  True]\n",
      "[False False  True  True]\n",
      "[False False False False]\n",
      "[0 0 0 0] [2 1 2 1]\n",
      "[False False False False]\n"
     ]
    },
    {
     "data": {
      "text/plain": [
       "Array([0], dtype=int32, weak_type=True)"
      ]
     },
     "execution_count": 95,
     "metadata": {},
     "output_type": "execute_result"
    }
   ],
   "source": [
    "# manually force a change\n",
    "nodes = jnp.array([0, 0, 1, 1])\n",
    "edges = jnp.array([2, 1, 1, 1])\n",
    "graph = graph._replace(nodes=nodes, edges=edges)\n",
    "graph = allocate_while_you_have_to(graph)\n",
    "print(graph.nodes, graph.edges)\n",
    "valence(graph)"
   ]
  },
  {
   "cell_type": "code",
   "execution_count": 77,
   "metadata": {},
   "outputs": [
    {
     "name": "stdout",
     "output_type": "stream",
     "text": [
      "[4 4 4 4 4 4 1 1 1 1 1 1] [0 0 0 0 0 0 0 0 0 0 0 0]\n",
      "[False False False False False False  True  True  True  True  True  True]\n",
      "[False False False False False False  True  True  True  True  True  True]\n",
      "[False False False False False False False False False False False False]\n",
      "[1 1 1 1 1 1 0 0 0 0 0 0] [1 1 1 1 1 1 1 1 1 1 1 1]\n",
      "[False False False False False False False False False False False False]\n"
     ]
    },
    {
     "data": {
      "text/plain": [
       "Array([1, 1, 1, 1, 1, 1, 0, 0, 0, 0, 0, 0], dtype=int32)"
      ]
     },
     "execution_count": 77,
     "metadata": {},
     "output_type": "execute_result"
    }
   ],
   "source": [
    "# benzene\n",
    "graph = jraph.GraphsTuple(\n",
    "    nodes=jnp.array([4, 4, 4, 4, 4, 4, 1, 1, 1, 1, 1, 1]),  # electrons to be shared\n",
    "    edges=jnp.array(\n",
    "        [0, 0, 0, 0, 0, 0, 0, 0, 0, 0, 0, 0]\n",
    "    ),  # bonds (no electrons at initial state)\n",
    "    globals=None,\n",
    "    senders=jnp.array([0, 1, 2, 3, 4, 5, 0, 1, 2, 3, 4, 5]),\n",
    "    receivers=jnp.array([1, 2, 3, 4, 5, 0, 6, 7, 8, 9, 10, 11]),\n",
    "    n_node=jnp.array([12]),\n",
    "    n_edge=jnp.array([12]),\n",
    ")\n",
    "print(graph.nodes, graph.edges)\n",
    "graph = allocate_while_you_have_to(graph)\n",
    "print(graph.nodes, graph.edges)\n",
    "valence(graph)\n",
    "\n",
    "graph.nodes"
   ]
  },
  {
   "cell_type": "code",
   "execution_count": 102,
   "metadata": {},
   "outputs": [
    {
     "name": "stdout",
     "output_type": "stream",
     "text": [
      "[4 4 4 4 2 1 1 1 1] [0 0 0 0 0 0 0 0 0]\n",
      "GraphsTuple(nodes=Array([1, 1, 1, 1, 0, 0, 0, 0, 0], dtype=int32), edges=Array([1, 1, 1, 1, 1, 1, 1, 1, 1], dtype=int32), receivers=Array([1, 2, 3, 4, 0, 5, 6, 7, 8], dtype=int32), senders=Array([0, 1, 2, 3, 4, 0, 1, 2, 3], dtype=int32), globals=None, n_node=Array([9], dtype=int32), n_edge=Array([9], dtype=int32))\n",
      "GraphsTuple(nodes=Array([0, 0, 0, 0, 0, 0, 0, 0, 0], dtype=int32), edges=Array([2, 1, 2, 1, 1, 1, 1, 1, 1], dtype=int32), receivers=Array([1, 2, 3, 4, 0, 5, 6, 7, 8], dtype=int32), senders=Array([0, 1, 2, 3, 4, 0, 1, 2, 3], dtype=int32), globals=None, n_node=Array([9], dtype=int32), n_edge=Array([9], dtype=int32))\n",
      "[0 0 0 0 0 0 0 0 0] [2 1 2 1 1 1 1 1 1]\n"
     ]
    },
    {
     "data": {
      "text/plain": [
       "Array([0, 0, 0, 0, 0, 0, 0, 0, 0], dtype=int32)"
      ]
     },
     "execution_count": 102,
     "metadata": {},
     "output_type": "execute_result"
    }
   ],
   "source": [
    "# furan - this DOES work\n",
    "graph = jraph.GraphsTuple(\n",
    "    nodes=jnp.array([4, 4, 4, 4, 2, 1, 1, 1, 1]),  # electrons to be shared\n",
    "    edges=jnp.array(\n",
    "        [0, 0, 0, 0, 0, 0, 0, 0, 0]\n",
    "    ),  # bonds (no electrons at initial state)\n",
    "    globals=None,\n",
    "    senders=jnp.array([0, 1, 2, 3, 4, 0, 1, 2, 3]),\n",
    "    receivers=jnp.array([1, 2, 3, 4, 0, 5, 6, 7, 8]),\n",
    "    n_node=jnp.array([9]),\n",
    "    n_edge=jnp.array([9]),\n",
    ")\n",
    "print(graph.nodes, graph.edges)\n",
    "graph = allocate_while_you_have_to(graph)\n",
    "print(graph.nodes, graph.edges)\n",
    "valence(graph)\n",
    "\n",
    "graph.nodes"
   ]
  },
  {
   "cell_type": "code",
   "execution_count": 100,
   "metadata": {},
   "outputs": [
    {
     "name": "stdout",
     "output_type": "stream",
     "text": [
      "[4 4 4 1 1 1 1 1 1] [0 0 0 0 0 0 0 0 0]\n",
      "[False False False  True  True  True  True  True  True]\n",
      "[False False False  True  True  True  True  True  True]\n",
      "[False False False False False False False False False]\n",
      "[0 0 0 0 0 0 0 0 0] [1 1 1 1 1 1 1 1 1]\n",
      "[False False False False False False False False False]\n"
     ]
    },
    {
     "data": {
      "text/plain": [
       "Array([0, 0, 0, 0, 0, 0, 0, 0, 0], dtype=int32)"
      ]
     },
     "execution_count": 100,
     "metadata": {},
     "output_type": "execute_result"
    }
   ],
   "source": [
    "# cyclopropane - this also works\n",
    "graph = jraph.GraphsTuple(\n",
    "    nodes=jnp.array([4, 4, 4, 1, 1, 1, 1, 1, 1]),  # electrons to be shared\n",
    "    edges=jnp.array(\n",
    "        [0, 0, 0, 0, 0, 0, 0, 0, 0]\n",
    "    ),  # bonds (no electrons at initial state)\n",
    "    globals=None,\n",
    "    senders=jnp.array([0, 1, 2, 0, 0, 1, 1, 2, 2]),\n",
    "    receivers=jnp.array(\n",
    "        [\n",
    "            1,\n",
    "            2,\n",
    "            0,\n",
    "            3,\n",
    "            4,\n",
    "            5,\n",
    "            6,\n",
    "            7,\n",
    "            8,\n",
    "        ]\n",
    "    ),\n",
    "    n_node=jnp.array([9]),\n",
    "    n_edge=jnp.array([9]),\n",
    ")\n",
    "print(graph.nodes, graph.edges)\n",
    "graph = allocate_while_you_have_to(graph)\n",
    "print(graph.nodes, graph.edges)\n",
    "valence(graph)\n",
    "\n",
    "graph.nodes"
   ]
  },
  {
   "cell_type": "code",
   "execution_count": 6,
   "metadata": {},
   "outputs": [
    {
     "name": "stdout",
     "output_type": "stream",
     "text": [
      "[4 4 4 4 4 4 4 4 4 4 1 1 1 1 1 1 1 1] [0 0 0 0 0 0 0 0 0 0 0 0 0 0 0 0 0 0 0]\n",
      "GraphsTuple(nodes=Array([1, 1, 1, 1, 1, 1, 1, 1, 1, 1, 0, 0, 0, 0, 0, 0, 0, 0], dtype=int32), edges=Array([1, 1, 1, 1, 1, 1, 1, 1, 1, 1, 1, 1, 1, 1, 1, 1, 1, 1, 1], dtype=int32), receivers=Array([ 1,  2,  3,  4,  5,  0,  6,  7,  8,  9,  5, 10, 11, 12, 13, 14, 15,\n",
      "       16, 17], dtype=int32), senders=Array([0, 1, 2, 3, 4, 5, 0, 6, 7, 8, 9, 1, 2, 3, 4, 6, 7, 8, 9], dtype=int32), globals=None, n_node=Array([19], dtype=int32), n_edge=Array([19], dtype=int32))\n",
      "[1 1 1 1 1 1 1 1 1 1 0 0 0 0 0 0 0 0] [1 1 1 1 1 1 1 1 1 1 1 1 1 1 1 1 1 1 1]\n"
     ]
    },
    {
     "data": {
      "text/plain": [
       "Array([1, 1, 1, 1, 1, 1, 1, 1, 1, 1, 0, 0, 0, 0, 0, 0, 0, 0], dtype=int32)"
      ]
     },
     "execution_count": 6,
     "metadata": {},
     "output_type": "execute_result"
    }
   ],
   "source": [
    "# napthalene\n",
    "graph = jraph.GraphsTuple(\n",
    "    nodes=jnp.array(\n",
    "        [4, 4, 4, 4, 4, 4, 4, 4, 4, 4, 1, 1, 1, 1, 1, 1, 1, 1]\n",
    "    ),  # electrons to be shared\n",
    "    edges=jnp.array(\n",
    "        [0, 0, 0, 0, 0, 0, 0, 0, 0, 0, 0, 0, 0, 0, 0, 0, 0, 0, 0]\n",
    "    ),  # bonds (no electrons at initial state)\n",
    "    globals=None,\n",
    "    senders=jnp.array([0, 1, 2, 3, 4, 5, 0, 6, 7, 8, 9, 1, 2, 3, 4, 6, 7, 8, 9]),\n",
    "    receivers=jnp.array(\n",
    "        [1, 2, 3, 4, 5, 0, 6, 7, 8, 9, 5, 10, 11, 12, 13, 14, 15, 16, 17]\n",
    "    ),\n",
    "    n_node=jnp.array([19]),\n",
    "    n_edge=jnp.array([19]),\n",
    ")\n",
    "print(graph.nodes, graph.edges)\n",
    "graph = allocate_while_you_have_to(graph)\n",
    "print(graph.nodes, graph.edges)\n",
    "valence(graph)\n",
    "\n",
    "graph.nodes"
   ]
  },
  {
   "cell_type": "code",
   "execution_count": null,
   "metadata": {},
   "outputs": [],
   "source": []
  },
  {
   "cell_type": "code",
   "execution_count": 3,
   "metadata": {},
   "outputs": [],
   "source": [
    "import ase.build\n",
    "\n",
    "import sys\n",
    "\n",
    "sys.path.append(\"..\")\n",
    "from analyses.check_valence import check_valence\n",
    "import analyses.analysis as analysis"
   ]
  },
  {
   "cell_type": "code",
   "execution_count": 11,
   "metadata": {},
   "outputs": [],
   "source": [
    "mol = ase.build.molecule(\"C6H6\")\n",
    "pybel = analysis.construct_pybel_mol(mol)"
   ]
  },
  {
   "cell_type": "code",
   "execution_count": 12,
   "metadata": {},
   "outputs": [
    {
     "name": "stdout",
     "output_type": "stream",
     "text": [
      "3 4\n",
      "3 4\n",
      "3 4\n",
      "3 4\n",
      "3 4\n",
      "3 4\n",
      "1 1\n",
      "1 1\n",
      "1 1\n",
      "1 1\n",
      "1 1\n",
      "1 1\n"
     ]
    }
   ],
   "source": [
    "for atom in pybel.atoms:\n",
    "    print(atom.OBAtom.GetExplicitDegree(), atom.OBAtom.GetExplicitValence())"
   ]
  },
  {
   "cell_type": "code",
   "execution_count": null,
   "metadata": {},
   "outputs": [],
   "source": []
  }
 ],
 "metadata": {
  "kernelspec": {
   "display_name": "base3.10b",
   "language": "python",
   "name": "python3"
  },
  "language_info": {
   "codemirror_mode": {
    "name": "ipython",
    "version": 3
   },
   "file_extension": ".py",
   "mimetype": "text/x-python",
   "name": "python",
   "nbconvert_exporter": "python",
   "pygments_lexer": "ipython3",
   "version": "3.10.11"
  },
  "orig_nbformat": 4
 },
 "nbformat": 4,
 "nbformat_minor": 2
}
