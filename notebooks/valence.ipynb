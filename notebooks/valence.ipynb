{
 "cells": [
  {
   "cell_type": "code",
   "execution_count": 1,
   "metadata": {},
   "outputs": [
    {
     "name": "stderr",
     "output_type": "stream",
     "text": [
      "/Users/songk/miniconda3/envs/sh-net/lib/python3.10/site-packages/flax/struct.py:136: FutureWarning: jax.tree_util.register_keypaths is deprecated, and will be removed in a future release. Please use `register_pytree_with_keys()` instead.\n",
      "  jax.tree_util.register_keypaths(data_clz, keypaths)\n",
      "/Users/songk/miniconda3/envs/sh-net/lib/python3.10/site-packages/flax/struct.py:136: FutureWarning: jax.tree_util.register_keypaths is deprecated, and will be removed in a future release. Please use `register_pytree_with_keys()` instead.\n",
      "  jax.tree_util.register_keypaths(data_clz, keypaths)\n"
     ]
    }
   ],
   "source": [
    "import jraph\n",
    "import jax\n",
    "import jax.numpy as jnp\n",
    "import e3nn_jax as e3nn"
   ]
  },
  {
   "cell_type": "code",
   "execution_count": 19,
   "metadata": {},
   "outputs": [],
   "source": [
    "# Undirected graph: CH4\n",
    "ch3 = jraph.GraphsTuple(\n",
    "    nodes=jnp.array([4, 1, 1, 1, 1]),  # electrons to be shared\n",
    "    edges=jnp.array([0, 0, 0, 0]),  # bonds (initially empty)\n",
    "    globals=None,\n",
    "    senders=jnp.array([0, 0, 0, 0]),\n",
    "    receivers=jnp.array([1, 2, 3, 4]),\n",
    "    n_node=jnp.array([5]),\n",
    "    n_edge=jnp.array([4]),\n",
    ")"
   ]
  },
  {
   "cell_type": "code",
   "execution_count": 3,
   "metadata": {},
   "outputs": [],
   "source": [
    "def allocate(graph, per_edge):\n",
    "    \"\"\"\n",
    "    For each edge `e`, allocate `per_edge[e]` electrons from each vertex of the edge to the edge itself.\n",
    "    \"\"\"\n",
    "    valence_edges = graph.edges\n",
    "    valence_nodes = graph.nodes\n",
    "    valence_senders = graph.senders\n",
    "    valence_receivers = graph.receivers\n",
    "\n",
    "    # update valence values per edge/node\n",
    "    valence_edges = valence_edges + per_edge\n",
    "    valence_nodes = valence_nodes.at[valence_senders].add(-per_edge)\n",
    "    valence_nodes = valence_nodes.at[valence_receivers].add(-per_edge)\n",
    "\n",
    "    return graph._replace(edges=valence_edges, nodes=valence_nodes)"
   ]
  },
  {
   "cell_type": "code",
   "execution_count": 4,
   "metadata": {},
   "outputs": [],
   "source": [
    "def allocation_imposed(graph):\n",
    "    \"\"\"Computes the number of electrons to distribute per edge on the next allocation.\"\"\"\n",
    "    num_nodes = graph.nodes.shape[0]\n",
    "    valence_edges = graph.edges\n",
    "    valence_nodes = graph.nodes\n",
    "    valence_senders = graph.senders\n",
    "    valence_receivers = graph.receivers\n",
    "\n",
    "    # Situation 1: Share electrons between nodes that have electrons to give\n",
    "    node_alloc = jnp.zeros(num_nodes, dtype=jnp.int32)\n",
    "    # for each edge, add 1 to each sender if receiver still has electrons to give\n",
    "    node_alloc = node_alloc.at[valence_senders].add(valence_nodes[valence_receivers] > 0)\n",
    "    # for each edge, add 1 to each receiver if sender still has electrons to give\n",
    "    node_alloc = node_alloc.at[valence_receivers].add(valence_nodes[valence_senders] > 0)\n",
    "    node_alloc = (node_alloc == 1) & (valence_nodes > 0)\n",
    "\n",
    "    # for each edge, if sender or receiver has at least 1 electron to give,\n",
    "    # set edge allocation to the smaller of the two valences\n",
    "    edge_alloc1 = jnp.where(\n",
    "        node_alloc[valence_senders] | node_alloc[valence_receivers],\n",
    "        jnp.minimum(valence_nodes[valence_senders], valence_nodes[valence_receivers]),\n",
    "        0\n",
    "    )\n",
    "\n",
    "    # Situation 2: If edge has no electrons, allocate 1 electron to that edge\n",
    "    edge_alloc2 = jnp.maximum(0, 1 - valence_edges)\n",
    "\n",
    "    edge_alloc = jnp.maximum(edge_alloc1, edge_alloc2)\n",
    "\n",
    "    # Situation 3: If edge_alloc has no electrons being distributed, but some node has electrons to give,\n",
    "    # choose a conformation in which to distribute electrons.\n",
    "\n",
    "\n",
    "    return edge_alloc\n",
    "\n",
    "\n",
    "def allocate_while_you_have_to(graph):\n",
    "    def cond(graph):\n",
    "        a = allocation_imposed(graph)\n",
    "        return jnp.any(a > 0)\n",
    "\n",
    "    def body(graph):\n",
    "        a = allocation_imposed(graph)\n",
    "        return allocate(graph, a)\n",
    "\n",
    "    # return jax.lax.while_loop(cond, body, graph)\n",
    "    while cond(graph):\n",
    "        graph = body(graph)\n",
    "        print(graph)\n",
    "    return graph"
   ]
  },
  {
   "cell_type": "code",
   "execution_count": 5,
   "metadata": {},
   "outputs": [],
   "source": [
    "def valence(graph):\n",
    "    \"\"\"\n",
    "    0 = valence OK\n",
    "    1 = Algorithm not finished\n",
    "    2 = Impossible to satisfy valence\n",
    "    \"\"\"\n",
    "    graph = allocate_while_you_have_to(graph)\n",
    "\n",
    "    edge_mistakes = graph.edges < 1\n",
    "    node_mistakes = graph.nodes < 0\n",
    "    node_incomplete = graph.nodes > 0\n",
    "\n",
    "    m = e3nn.scatter_sum(node_mistakes, nel=graph.n_node)\n",
    "    m += e3nn.scatter_sum(edge_mistakes, nel=graph.n_edge)\n",
    "    i = e3nn.scatter_sum(node_incomplete, nel=graph.n_node)\n",
    "\n",
    "    return jnp.where(m == 0, jnp.where(i == 0, 0, 1), 2)"
   ]
  },
  {
   "cell_type": "code",
   "execution_count": 65,
   "metadata": {},
   "outputs": [
    {
     "name": "stdout",
     "output_type": "stream",
     "text": [
      "[4 1 1 1 1]\n",
      "[0 0 0 0 0]\n"
     ]
    },
    {
     "data": {
      "text/plain": [
       "Array([0], dtype=int32, weak_type=True)"
      ]
     },
     "execution_count": 65,
     "metadata": {},
     "output_type": "execute_result"
    }
   ],
   "source": [
    "# CH4 (edges directed the opposite way)\n",
    "\n",
    "graph = jraph.GraphsTuple(\n",
    "    nodes=jnp.array([4, 1, 1, 1, 1]),  # electrons to be shared\n",
    "    edges=jnp.array([0, 0, 0, 0]),  # bonds (initially empty)\n",
    "    globals=None,\n",
    "    senders=jnp.array([1, 0, 3, 4]),\n",
    "    receivers=jnp.array([0, 2, 0, 0]),\n",
    "    n_node=jnp.array([5]),\n",
    "    n_edge=jnp.array([4]),\n",
    ")\n",
    "print(graph.nodes)\n",
    "graph = allocate_while_you_have_to(graph)\n",
    "print(graph.nodes)\n",
    "valence(graph)"
   ]
  },
  {
   "cell_type": "code",
   "execution_count": 64,
   "metadata": {},
   "outputs": [
    {
     "name": "stdout",
     "output_type": "stream",
     "text": [
      "[1 4 4 4 4 4 4 1]\n",
      "[0 0 0 0 0 0 0 0]\n"
     ]
    }
   ],
   "source": [
    "# Undirected graph: H-C-C-C-C-C-C-H\n",
    "graph = jraph.GraphsTuple(\n",
    "    nodes=jnp.array([1, 4, 4, 4, 4, 4, 4, 1]),  # electrons to be shared\n",
    "    edges=jnp.array([0, 0, 0, 0, 0, 0, 0]),  # bonds (no electrons at initial state)\n",
    "    globals=None,\n",
    "    senders=jnp.array([0, 1, 2, 3, 4, 5, 6]),\n",
    "    receivers=jnp.array([1, 2, 3, 4, 5, 6, 7]),\n",
    "    n_node=jnp.array([9]),\n",
    "    n_edge=jnp.array([7]),\n",
    ")\n",
    "print(graph.nodes)\n",
    "graph = allocate_while_you_have_to(graph)\n",
    "print(graph.nodes)"
   ]
  },
  {
   "cell_type": "code",
   "execution_count": 54,
   "metadata": {},
   "outputs": [
    {
     "data": {
      "text/plain": [
       "Array([0], dtype=int32, weak_type=True)"
      ]
     },
     "execution_count": 54,
     "metadata": {},
     "output_type": "execute_result"
    }
   ],
   "source": [
    "# Undirected graph: H-C-C-C-C-C-C-H\n",
    "graph = jraph.GraphsTuple(\n",
    "    nodes=jnp.array([1, 4, 4, 4, 4, 4, 4, 1]),  # electrons to be shared\n",
    "    edges=jnp.array([0, 0, 0, 0, 0, 0, 0]),  # bonds (no electrons at initial state)\n",
    "    globals=None,\n",
    "    senders=jnp.array([0, 1, 2, 3, 4, 5, 6]),\n",
    "    receivers=jnp.array([1, 2, 3, 4, 5, 6, 7]),\n",
    "    n_node=jnp.array([9]),\n",
    "    n_edge=jnp.array([7]),\n",
    ")\n",
    "valence(graph)"
   ]
  },
  {
   "cell_type": "code",
   "execution_count": 88,
   "metadata": {},
   "outputs": [
    {
     "name": "stdout",
     "output_type": "stream",
     "text": [
      "[3 3 3 3] [0 0 0 0]\n",
      "[False False False False]\n",
      "[False False False False]\n",
      "[False False False False]\n",
      "[1 1 1 1] [1 1 1 1]\n",
      "[False False False False]\n"
     ]
    },
    {
     "data": {
      "text/plain": [
       "Array([1], dtype=int32, weak_type=True)"
      ]
     },
     "execution_count": 88,
     "metadata": {},
     "output_type": "execute_result"
    }
   ],
   "source": [
    "# Undirected graph: square\n",
    "graph = jraph.GraphsTuple(\n",
    "    nodes=jnp.array([3, 3, 3, 3]),  # electrons to be shared\n",
    "    edges=jnp.array([0, 0, 0, 0]),  # bonds (no electrons at initial state)\n",
    "    globals=None,\n",
    "    senders=jnp.array([0, 1, 2, 3]),\n",
    "    receivers=jnp.array([1, 2, 3, 0]),\n",
    "    n_node=jnp.array([4]),\n",
    "    n_edge=jnp.array([4]),\n",
    ")\n",
    "print(graph.nodes, graph.edges)\n",
    "graph = allocate_while_you_have_to(graph)\n",
    "print(graph.nodes, graph.edges)\n",
    "valence(graph)\n",
    "\n",
    "# nodes: [1 1 1 1]\n",
    "# edges: [1 1 1 1]\n",
    "# need to break the cycle somehow (i.e. just transfer electrons between (0, 1) and (2, 3), but not (1, 2) and (3, 0))"
   ]
  },
  {
   "cell_type": "code",
   "execution_count": 95,
   "metadata": {},
   "outputs": [
    {
     "name": "stdout",
     "output_type": "stream",
     "text": [
      "[False False  True  True]\n",
      "[False False  True  True]\n",
      "[False False False False]\n",
      "[0 0 0 0] [2 1 2 1]\n",
      "[False False False False]\n"
     ]
    },
    {
     "data": {
      "text/plain": [
       "Array([0], dtype=int32, weak_type=True)"
      ]
     },
     "execution_count": 95,
     "metadata": {},
     "output_type": "execute_result"
    }
   ],
   "source": [
    "# manually force a change\n",
    "nodes = jnp.array([0, 0, 1, 1])\n",
    "edges = jnp.array([2, 1, 1, 1])\n",
    "graph = graph._replace(nodes=nodes, edges=edges)\n",
    "graph = allocate_while_you_have_to(graph)\n",
    "print(graph.nodes, graph.edges)\n",
    "valence(graph)"
   ]
  },
  {
   "cell_type": "code",
   "execution_count": 77,
   "metadata": {},
   "outputs": [
    {
     "name": "stdout",
     "output_type": "stream",
     "text": [
      "[4 4 4 4 4 4 1 1 1 1 1 1] [0 0 0 0 0 0 0 0 0 0 0 0]\n",
      "[False False False False False False  True  True  True  True  True  True]\n",
      "[False False False False False False  True  True  True  True  True  True]\n",
      "[False False False False False False False False False False False False]\n",
      "[1 1 1 1 1 1 0 0 0 0 0 0] [1 1 1 1 1 1 1 1 1 1 1 1]\n",
      "[False False False False False False False False False False False False]\n"
     ]
    },
    {
     "data": {
      "text/plain": [
       "Array([1, 1, 1, 1, 1, 1, 0, 0, 0, 0, 0, 0], dtype=int32)"
      ]
     },
     "execution_count": 77,
     "metadata": {},
     "output_type": "execute_result"
    }
   ],
   "source": [
    "# benzene\n",
    "graph = jraph.GraphsTuple(\n",
    "    nodes=jnp.array([4,4,4,4,4,4,1,1,1,1,1,1]),  # electrons to be shared\n",
    "    edges=jnp.array([0,0,0,0,0,0,0,0,0,0,0,0]),  # bonds (no electrons at initial state)\n",
    "    globals=None,\n",
    "    senders=jnp.array([0, 1, 2, 3, 4, 5, 0, 1, 2, 3, 4, 5]),\n",
    "    receivers=jnp.array([1, 2, 3, 4, 5, 0, 6, 7, 8, 9, 10, 11]),\n",
    "    n_node=jnp.array([12]),\n",
    "    n_edge=jnp.array([12]),\n",
    ")\n",
    "print(graph.nodes, graph.edges)\n",
    "graph = allocate_while_you_have_to(graph)\n",
    "print(graph.nodes, graph.edges)\n",
    "valence(graph)\n",
    "\n",
    "graph.nodes\n"
   ]
  },
  {
   "cell_type": "code",
   "execution_count": 102,
   "metadata": {},
   "outputs": [
    {
     "name": "stdout",
     "output_type": "stream",
     "text": [
      "[4 4 4 4 2 1 1 1 1] [0 0 0 0 0 0 0 0 0]\n",
      "GraphsTuple(nodes=Array([1, 1, 1, 1, 0, 0, 0, 0, 0], dtype=int32), edges=Array([1, 1, 1, 1, 1, 1, 1, 1, 1], dtype=int32), receivers=Array([1, 2, 3, 4, 0, 5, 6, 7, 8], dtype=int32), senders=Array([0, 1, 2, 3, 4, 0, 1, 2, 3], dtype=int32), globals=None, n_node=Array([9], dtype=int32), n_edge=Array([9], dtype=int32))\n",
      "GraphsTuple(nodes=Array([0, 0, 0, 0, 0, 0, 0, 0, 0], dtype=int32), edges=Array([2, 1, 2, 1, 1, 1, 1, 1, 1], dtype=int32), receivers=Array([1, 2, 3, 4, 0, 5, 6, 7, 8], dtype=int32), senders=Array([0, 1, 2, 3, 4, 0, 1, 2, 3], dtype=int32), globals=None, n_node=Array([9], dtype=int32), n_edge=Array([9], dtype=int32))\n",
      "[0 0 0 0 0 0 0 0 0] [2 1 2 1 1 1 1 1 1]\n"
     ]
    },
    {
     "data": {
      "text/plain": [
       "Array([0, 0, 0, 0, 0, 0, 0, 0, 0], dtype=int32)"
      ]
     },
     "execution_count": 102,
     "metadata": {},
     "output_type": "execute_result"
    }
   ],
   "source": [
    "# furan - this DOES work\n",
    "graph = jraph.GraphsTuple(\n",
    "    nodes=jnp.array([4,4,4,4,2, 1,1,1,1]),  # electrons to be shared\n",
    "    edges=jnp.array([0,0,0,0,0, 0,0,0,0]),  # bonds (no electrons at initial state)\n",
    "    globals=None,\n",
    "    senders=jnp.array([0, 1, 2, 3, 4, 0, 1, 2, 3]),\n",
    "    receivers=jnp.array([1, 2, 3, 4, 0, 5, 6, 7, 8]),\n",
    "    n_node=jnp.array([9]),\n",
    "    n_edge=jnp.array([9]),\n",
    ")\n",
    "print(graph.nodes, graph.edges)\n",
    "graph = allocate_while_you_have_to(graph)\n",
    "print(graph.nodes, graph.edges)\n",
    "valence(graph)\n",
    "\n",
    "graph.nodes\n"
   ]
  },
  {
   "cell_type": "code",
   "execution_count": 100,
   "metadata": {},
   "outputs": [
    {
     "name": "stdout",
     "output_type": "stream",
     "text": [
      "[4 4 4 1 1 1 1 1 1] [0 0 0 0 0 0 0 0 0]\n",
      "[False False False  True  True  True  True  True  True]\n",
      "[False False False  True  True  True  True  True  True]\n",
      "[False False False False False False False False False]\n",
      "[0 0 0 0 0 0 0 0 0] [1 1 1 1 1 1 1 1 1]\n",
      "[False False False False False False False False False]\n"
     ]
    },
    {
     "data": {
      "text/plain": [
       "Array([0, 0, 0, 0, 0, 0, 0, 0, 0], dtype=int32)"
      ]
     },
     "execution_count": 100,
     "metadata": {},
     "output_type": "execute_result"
    }
   ],
   "source": [
    "# cyclopropane - this also works\n",
    "graph = jraph.GraphsTuple(\n",
    "    nodes=jnp.array([4,4,4, 1,1,1,1,1,1]),  # electrons to be shared\n",
    "    edges=jnp.array([0,0,0, 0,0,0,0,0,0]),  # bonds (no electrons at initial state)\n",
    "    globals=None,\n",
    "    senders=jnp.array([0, 1, 2, 0, 0, 1, 1, 2, 2]),\n",
    "    receivers=jnp.array([1, 2, 0, 3, 4, 5, 6, 7, 8,]),\n",
    "    n_node=jnp.array([9]),\n",
    "    n_edge=jnp.array([9]),\n",
    ")\n",
    "print(graph.nodes, graph.edges)\n",
    "graph = allocate_while_you_have_to(graph)\n",
    "print(graph.nodes, graph.edges)\n",
    "valence(graph)\n",
    "\n",
    "graph.nodes\n"
   ]
  },
  {
   "cell_type": "code",
   "execution_count": 6,
   "metadata": {},
   "outputs": [
    {
     "name": "stdout",
     "output_type": "stream",
     "text": [
      "[4 4 4 4 4 4 4 4 4 4 1 1 1 1 1 1 1 1] [0 0 0 0 0 0 0 0 0 0 0 0 0 0 0 0 0 0 0]\n",
      "GraphsTuple(nodes=Array([1, 1, 1, 1, 1, 1, 1, 1, 1, 1, 0, 0, 0, 0, 0, 0, 0, 0], dtype=int32), edges=Array([1, 1, 1, 1, 1, 1, 1, 1, 1, 1, 1, 1, 1, 1, 1, 1, 1, 1, 1], dtype=int32), receivers=Array([ 1,  2,  3,  4,  5,  0,  6,  7,  8,  9,  5, 10, 11, 12, 13, 14, 15,\n",
      "       16, 17], dtype=int32), senders=Array([0, 1, 2, 3, 4, 5, 0, 6, 7, 8, 9, 1, 2, 3, 4, 6, 7, 8, 9], dtype=int32), globals=None, n_node=Array([19], dtype=int32), n_edge=Array([19], dtype=int32))\n",
      "[1 1 1 1 1 1 1 1 1 1 0 0 0 0 0 0 0 0] [1 1 1 1 1 1 1 1 1 1 1 1 1 1 1 1 1 1 1]\n"
     ]
    },
    {
     "data": {
      "text/plain": [
       "Array([1, 1, 1, 1, 1, 1, 1, 1, 1, 1, 0, 0, 0, 0, 0, 0, 0, 0], dtype=int32)"
      ]
     },
     "execution_count": 6,
     "metadata": {},
     "output_type": "execute_result"
    }
   ],
   "source": [
    "# napthalene\n",
    "graph = jraph.GraphsTuple(\n",
    "    nodes=jnp.array([4,4,4,4,4,4,4,4,4,4, 1,1,1,1,1,1,1,1]),  # electrons to be shared\n",
    "    edges=jnp.array([0,0,0,0,0,0,0,0,0,0,0, 0,0,0,0,0,0,0,0]),  # bonds (no electrons at initial state)\n",
    "    globals=None,\n",
    "    senders=jnp.array([0, 1, 2, 3, 4, 5, 0, 6, 7, 8, 9, 1, 2, 3, 4, 6, 7, 8, 9]),\n",
    "    receivers=jnp.array([1, 2, 3, 4, 5, 0, 6, 7, 8, 9, 5, 10, 11, 12, 13, 14, 15, 16, 17]),\n",
    "    n_node=jnp.array([19]),\n",
    "    n_edge=jnp.array([19]),\n",
    ")\n",
    "print(graph.nodes, graph.edges)\n",
    "graph = allocate_while_you_have_to(graph)\n",
    "print(graph.nodes, graph.edges)\n",
    "valence(graph)\n",
    "\n",
    "graph.nodes\n"
   ]
  },
  {
   "cell_type": "code",
   "execution_count": null,
   "metadata": {},
   "outputs": [],
   "source": []
  },
  {
   "cell_type": "code",
   "execution_count": 3,
   "metadata": {},
   "outputs": [],
   "source": [
    "import ase.build\n",
    "\n",
    "import sys\n",
    "sys.path.append('..')\n",
    "from analyses.check_valence import check_valence\n",
    "import analyses.analysis as analysis"
   ]
  },
  {
   "cell_type": "code",
   "execution_count": 11,
   "metadata": {},
   "outputs": [],
   "source": [
    "mol = ase.build.molecule(\"C6H6\")\n",
    "pybel = analysis.construct_pybel_mol(mol)"
   ]
  },
  {
   "cell_type": "code",
   "execution_count": 12,
   "metadata": {},
   "outputs": [
    {
     "name": "stdout",
     "output_type": "stream",
     "text": [
      "3 4\n",
      "3 4\n",
      "3 4\n",
      "3 4\n",
      "3 4\n",
      "3 4\n",
      "1 1\n",
      "1 1\n",
      "1 1\n",
      "1 1\n",
      "1 1\n",
      "1 1\n"
     ]
    }
   ],
   "source": [
    "for atom in pybel.atoms:\n",
    "    print(atom.OBAtom.GetExplicitDegree(), atom.OBAtom.GetExplicitValence())"
   ]
  },
  {
   "cell_type": "code",
   "execution_count": null,
   "metadata": {},
   "outputs": [],
   "source": []
  }
 ],
 "metadata": {
  "kernelspec": {
   "display_name": "base3.10b",
   "language": "python",
   "name": "python3"
  },
  "language_info": {
   "codemirror_mode": {
    "name": "ipython",
    "version": 3
   },
   "file_extension": ".py",
   "mimetype": "text/x-python",
   "name": "python",
   "nbconvert_exporter": "python",
   "pygments_lexer": "ipython3",
   "version": "3.10.0"
  },
  "orig_nbformat": 4
 },
 "nbformat": 4,
 "nbformat_minor": 2
}
