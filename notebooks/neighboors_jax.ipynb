{
 "cells": [
  {
   "cell_type": "code",
   "execution_count": 1,
   "metadata": {},
   "outputs": [],
   "source": [
    "from functools import partial\n",
    "\n",
    "import jax\n",
    "import jax.numpy as jnp\n",
    "import numpy as np\n",
    "from jax import lax"
   ]
  },
  {
   "cell_type": "code",
   "execution_count": 2,
   "metadata": {},
   "outputs": [],
   "source": [
    "@partial(jax.jit, static_argnames=(\"num_edges\",))\n",
    "def naive(pos, n_node, cutoff: float, num_edges: int, active=None):\n",
    "    num_nodes = pos.shape[0]\n",
    "    dist = jnp.linalg.norm(pos[None, :, :] - pos[:, None, :], axis=-1)\n",
    "    i = jnp.repeat(jnp.arange(len(n_node)), n_node, total_repeat_length=num_nodes)\n",
    "    adj = (0 < dist) & (dist <= cutoff) & (i[None, :] == i[:, None])\n",
    "    if active is not None:\n",
    "        adj = adj & jnp.repeat(active, n_node, total_repeat_length=num_nodes)\n",
    "    senders, receivers = jnp.nonzero(adj, size=num_edges, fill_value=num_nodes)\n",
    "    n_edge_per_node = jnp.sum(adj, axis=1)\n",
    "    n_edge = jnp.zeros(len(n_node), jnp.int32).at[i].add(n_edge_per_node)\n",
    "    return senders, receivers, n_edge\n",
    "\n",
    "\n",
    "@partial(jax.jit, static_argnames=(\"num_edges\",))\n",
    "def better(pos, n_node, cutoff: float, num_edges: int, active=None):\n",
    "    cum_node = jnp.concatenate([jnp.array([0]), jnp.cumsum(n_node)])\n",
    "\n",
    "    def body_graph(carry, graph_index):\n",
    "        def body_node_out(i, carry):\n",
    "            def body_node_in(j, carry):\n",
    "                count, senders, receivers = carry\n",
    "                dist = jnp.linalg.norm(pos[i] - pos[j])\n",
    "\n",
    "                senders = senders.at[count].set(i)\n",
    "                receivers = receivers.at[count].set(j)\n",
    "                count = count + (dist <= cutoff)\n",
    "\n",
    "                senders = senders.at[count].set(j)\n",
    "                receivers = receivers.at[count].set(i)\n",
    "                count = count + (dist <= cutoff)\n",
    "\n",
    "                return count, senders, receivers\n",
    "\n",
    "            return lax.fori_loop(i + 1, cum_node[graph_index + 1], body_node_in, carry)\n",
    "\n",
    "        lower, upper = cum_node[graph_index], cum_node[graph_index + 1]\n",
    "        if active is not None:\n",
    "            upper = jnp.where(active[graph_index], upper, lower)\n",
    "\n",
    "        count, senders, receivers = lax.fori_loop(lower, upper, body_node_out, carry)\n",
    "        return (count, senders, receivers), count - carry[0]\n",
    "\n",
    "    num_nodes = pos.shape[0]\n",
    "    senders = num_nodes * jnp.ones(num_edges, jnp.int32)\n",
    "    receivers = num_nodes * jnp.ones(num_edges, jnp.int32)\n",
    "    (count, senders, receivers), n_edge = lax.scan(\n",
    "        body_graph, (0, senders, receivers), jnp.arange(len(n_node))\n",
    "    )\n",
    "    senders = senders.at[count].set(num_nodes)\n",
    "    receivers = receivers.at[count].set(num_nodes)\n",
    "    return senders, receivers, n_edge"
   ]
  },
  {
   "cell_type": "code",
   "execution_count": 3,
   "metadata": {},
   "outputs": [
    {
     "data": {
      "text/plain": [
       "Array([4, 0, 0, 2], dtype=int32, weak_type=True)"
      ]
     },
     "execution_count": 3,
     "metadata": {},
     "output_type": "execute_result"
    }
   ],
   "source": [
    "# check naive and better give the same results\n",
    "\n",
    "pos = jax.random.normal(jax.random.PRNGKey(0), (14, 3))\n",
    "n_node = jnp.array([3, 4, 3, 4])\n",
    "num_edges = 50\n",
    "active = jnp.array([1, 0, 0, 1])\n",
    "cutoff = 2.5\n",
    "\n",
    "\n",
    "senders, receivers, n_edge = better(pos, n_node, cutoff, num_edges, active)\n",
    "i = jnp.argsort(receivers)\n",
    "senders, receivers = senders[i], receivers[i]\n",
    "i = jnp.argsort(senders)\n",
    "senders, receivers = senders[i], receivers[i]\n",
    "\n",
    "\n",
    "senders2, receivers2, n_edge2 = naive(pos, n_node, cutoff, num_edges, active)\n",
    "\n",
    "np.testing.assert_array_equal(n_edge, n_edge2)\n",
    "np.testing.assert_array_equal(receivers, receivers2)\n",
    "np.testing.assert_array_equal(senders, senders2)\n",
    "\n",
    "n_edge"
   ]
  },
  {
   "cell_type": "code",
   "execution_count": null,
   "metadata": {},
   "outputs": [],
   "source": []
  }
 ],
 "metadata": {
  "kernelspec": {
   "display_name": "base3.10b",
   "language": "python",
   "name": "python3"
  },
  "language_info": {
   "codemirror_mode": {
    "name": "ipython",
    "version": 3
   },
   "file_extension": ".py",
   "mimetype": "text/x-python",
   "name": "python",
   "nbconvert_exporter": "python",
   "pygments_lexer": "ipython3",
   "version": "3.10.12"
  },
  "orig_nbformat": 4
 },
 "nbformat": 4,
 "nbformat_minor": 2
}
