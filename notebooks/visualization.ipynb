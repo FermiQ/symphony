{
 "cells": [
  {
   "cell_type": "code",
   "execution_count": 49,
   "metadata": {},
   "outputs": [],
   "source": [
    "from ase.atoms import Atoms\n",
    "from ase.io import write\n",
    "from ase.visualize import view\n",
    "import e3nn_jax as e3nn\n",
    "import jax\n",
    "import jax.numpy as jnp\n",
    "import jraph\n",
    "import plotly.graph_objects as go\n",
    "import sys\n",
    "\n",
    "sys.path.append('..')\n",
    "sys.path.append('../analyses')\n",
    "import analysis\n",
    "import datatypes\n",
    "import input_pipeline_tf\n",
    "import models\n",
    "import train"
   ]
  },
  {
   "cell_type": "code",
   "execution_count": 50,
   "metadata": {},
   "outputs": [],
   "source": [
    "config, best_state_train, best_state_eval, metrics_for_best_state = analysis.load_from_workdir('../workdirs/mace/interactions=2/l=3/channels=32', load_pickled_params=False)\n",
    "rng = jax.random.PRNGKey(config.rng_seed)\n",
    "rng, dataset_rng = jax.random.split(rng)\n",
    "datasets = input_pipeline_tf.get_datasets(dataset_rng, config)\n",
    "\n",
    "cutoff = 5.0\n",
    "epsilon = 1e-4"
   ]
  },
  {
   "cell_type": "code",
   "execution_count": 51,
   "metadata": {},
   "outputs": [
    {
     "data": {
      "text/plain": [
       "{'val': {'total_loss': array(1.5165603, dtype=float32),\n",
       "  'focus_loss': array(0.4437537, dtype=float32),\n",
       "  'atom_type_loss': array(0.70975226, dtype=float32),\n",
       "  'position_loss': array(0.36305448, dtype=float32)},\n",
       " 'test': {'total_loss': array(1.2162731, dtype=float32),\n",
       "  'focus_loss': array(0.4060237, dtype=float32),\n",
       "  'atom_type_loss': array(0.63641983, dtype=float32),\n",
       "  'position_loss': array(0.17382975, dtype=float32)}}"
      ]
     },
     "execution_count": 51,
     "metadata": {},
     "output_type": "execute_result"
    }
   ],
   "source": [
    "metrics_for_best_state"
   ]
  },
  {
   "cell_type": "code",
   "execution_count": 63,
   "metadata": {},
   "outputs": [],
   "source": [
    "example_graph = next(datasets[\"test\"].as_numpy_iterator())\n",
    "frag = datatypes.Fragment.from_graphstuple(example_graph)\n",
    "frag = jax.tree_map(jnp.asarray, frag)\n",
    "\n",
    "frag_unpadded = jraph.unpad_with_graphs(frag)\n",
    "molecules = jraph.unbatch(frag_unpadded)"
   ]
  },
  {
   "cell_type": "code",
   "execution_count": 64,
   "metadata": {},
   "outputs": [],
   "source": [
    "# grab losses\n",
    "\n",
    "for i in range(len(molecules)):\n",
    "    mol = molecules[i]\n",
    "    preds = train.get_predictions(best_state_eval, mol, rng)\n",
    "    mol_loss = train.generation_loss(preds, mol, config.loss_kwargs.radius_rbf_variance)\n",
    "    with open('interactions=2_l=3_channels=32_frag=1_loss.txt', 'a') as f:\n",
    "        f.write(f'molecule {i}:\\n')\n",
    "        f.write(f'total loss = {mol_loss[0].tolist()[0]}\\n')\n",
    "        f.write(f'focus loss = {mol_loss[1][0].tolist()[0]}\\n')\n",
    "        f.write(f'species loss = {mol_loss[1][1].tolist()[0]}\\n')\n",
    "        f.write(f'position loss = {mol_loss[1][2].tolist()[0]}\\n')\n",
    "        f.write('\\n')"
   ]
  },
  {
   "cell_type": "code",
   "execution_count": 65,
   "metadata": {},
   "outputs": [],
   "source": [
    "mol_num = 4\n",
    "mol = molecules[mol_num]\n",
    "species_list = mol.nodes.species.tolist()\n",
    "positions_list = mol.nodes.positions.tolist()\n",
    "target_species = mol.globals.target_species.tolist()[0]\n",
    "target_position = mol.globals.target_positions.tolist()[0]\n",
    "\n",
    "preds = train.get_predictions(best_state_eval, mol, rng)\n",
    "focus_index = preds.focus_indices.tolist()[0]\n",
    "true_focus_index = 0\n",
    "# add stop probability\n",
    "focus_probs = jax.nn.softmax(jnp.concatenate([preds.focus_logits, jnp.array([0])]))\n",
    "\n",
    "pred_species = preds.target_species.tolist()[0]\n",
    "pred_position = preds.position_vectors.tolist()[0]"
   ]
  },
  {
   "cell_type": "code",
   "execution_count": 66,
   "metadata": {},
   "outputs": [],
   "source": [
    "atomic_numbers = jnp.array([1, 6, 7, 8, 9])\n",
    "numbers_to_symbols = {1: 'H', 6: 'C', 7: 'N', 8: 'O', 9: 'F'}\n",
    "elements = list(numbers_to_symbols.values())\n",
    "\n",
    "# covalent bond radii, in angstroms\n",
    "element_radii = [0.32, 0.75, 0.71, 0.63, 0.64]\n",
    "\n",
    "def get_numbers(species: jnp.ndarray):\n",
    "    numbers = []\n",
    "    for i in species:\n",
    "        numbers.append(atomic_numbers[i])\n",
    "    return jnp.array(numbers)"
   ]
  },
  {
   "cell_type": "code",
   "execution_count": 67,
   "metadata": {},
   "outputs": [
    {
     "data": {
      "application/vnd.jupyter.widget-view+json": {
       "model_id": "fe2aa01e79c348ecbee49a09695c6365",
       "version_major": 2,
       "version_minor": 0
      },
      "text/plain": [
       "HBox(children=(NGLWidget(), VBox(children=(Dropdown(description='Show', options=('All', 'C', 'O', 'H'), value=…"
      ]
     },
     "metadata": {},
     "output_type": "display_data"
    }
   ],
   "source": [
    "mol_atoms = Atoms(positions=positions_list, numbers=get_numbers(species_list))\n",
    "v = view(mol_atoms, viewer='ngl')\n",
    "\n",
    "num_nodes = mol.n_node[0].tolist()\n",
    "\n",
    "for i in range(num_nodes):\n",
    "    focus_prob = focus_probs.tolist()[i]\n",
    "    species = species_list[i]\n",
    "\n",
    "    # add focus probability highlights for each atom\n",
    "    v.view.shape.add_sphere(\n",
    "        positions_list[i],\n",
    "        [1, 0.85, 0],\n",
    "        element_radii[species] * 0.6,\n",
    "        f\"atom {i} ({elements[species]}): focus probability {focus_prob:.3f}\",\n",
    "    )\n",
    "    v.view.update_representation(component=i+1, opacity=focus_prob)\n",
    "\n",
    "# add true focus highlight\n",
    "v.view.shape.add_sphere(\n",
    "    positions_list[0],\n",
    "    [0, 1, 0],\n",
    "    element_radii[species_list[0]] * 0.6,\n",
    "    f\"atom {i} ({elements[species_list[0]]}): true focus (probability {focus_probs.tolist()[0]:.3f})\",\n",
    ")\n",
    "v.view.update_representation(component=num_nodes+1, opacity=0.4)\n",
    "\n",
    "# add the next atom we're adding to this molecule, predicted specie + highlight\n",
    "v.view.shape.add_sphere(\n",
    "    pred_position,\n",
    "    [1, 0, 1],\n",
    "    element_radii[pred_species] * 0.5,\n",
    "    f\"predicted atom: {elements[pred_species]}\",\n",
    ")\n",
    "\n",
    "# add the target atom\n",
    "v.view.shape.add_sphere(\n",
    "    target_position,\n",
    "    [0, 1, 1],\n",
    "    element_radii[target_species] * 0.5,\n",
    "    f\"target atom: {elements[target_species]}\",\n",
    ")\n",
    "# v.view.update_representation(component=num_nodes+3, opacity=0.6)\n",
    "\n",
    "# add an arrow from selected focus\n",
    "pred_focus_position = positions_list[focus_index]\n",
    "v.view.shape.add_arrow(\n",
    "    pred_focus_position,\n",
    "    pred_position,\n",
    "    [1, 0.85, 0],\n",
    "    0.1,\n",
    "    f'distance: {jnp.sqrt(jnp.sum((jnp.array(pred_position)-jnp.array(pred_focus_position))**2)):.3f} A'\n",
    ")\n",
    "\n",
    "v"
   ]
  },
  {
   "cell_type": "code",
   "execution_count": 68,
   "metadata": {},
   "outputs": [],
   "source": [
    "v.view.download_image(f'frag1_mol{mol_num}.png')"
   ]
  },
  {
   "cell_type": "code",
   "execution_count": null,
   "metadata": {},
   "outputs": [],
   "source": []
  }
 ],
 "metadata": {
  "kernelspec": {
   "display_name": "sh-net",
   "language": "python",
   "name": "python3"
  },
  "language_info": {
   "codemirror_mode": {
    "name": "ipython",
    "version": 3
   },
   "file_extension": ".py",
   "mimetype": "text/x-python",
   "name": "python",
   "nbconvert_exporter": "python",
   "pygments_lexer": "ipython3",
   "version": "3.10.6"
  },
  "latex_envs": {
   "LaTeX_envs_menu_present": true,
   "autoclose": false,
   "autocomplete": true,
   "bibliofile": "biblio.bib",
   "cite_by": "apalike",
   "current_citInitial": 1,
   "eqLabelWithNumbers": true,
   "eqNumInitial": 1,
   "hotkeys": {
    "equation": "Ctrl-E",
    "itemize": "Ctrl-I"
   },
   "labels_anchors": false,
   "latex_user_defs": false,
   "report_style_numbering": false,
   "user_envs_cfg": false
  },
  "toc": {
   "base_numbering": 1,
   "nav_menu": {},
   "number_sections": true,
   "sideBar": true,
   "skip_h1_title": false,
   "title_cell": "Table of Contents",
   "title_sidebar": "Contents",
   "toc_cell": false,
   "toc_position": {},
   "toc_section_display": true,
   "toc_window_display": false
  },
  "vscode": {
   "interpreter": {
    "hash": "6812f6bea93996b24571ab32489b66aa23cd67ae28674218a16278d3e0431607"
   }
  }
 },
 "nbformat": 4,
 "nbformat_minor": 2
}
