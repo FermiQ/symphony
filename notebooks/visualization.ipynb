{
 "cells": [
  {
   "cell_type": "code",
   "execution_count": 14,
   "metadata": {},
   "outputs": [],
   "source": [
    "from ase.atoms import Atoms\n",
    "from ase.io import write\n",
    "from ase.visualize import view\n",
    "import jax\n",
    "import jax.numpy as jnp\n",
    "import sys\n",
    "sys.path.append('..')\n",
    "import analysis\n",
    "from configs import haikumace\n",
    "import datatypes\n",
    "from input_pipeline_tf import get_datasets\n",
    "from models import get_first_node_indices\n",
    "from train import evaluate_step, get_predictions"
   ]
  },
  {
   "cell_type": "code",
   "execution_count": 4,
   "metadata": {},
   "outputs": [
    {
     "name": "stdout",
     "output_type": "stream",
     "text": [
      "/home/songk/atomicarchitects/spherical_harmonic_net/qm9_data_tf/\n"
     ]
    }
   ],
   "source": [
    "config, best_state, metrics_for_best_state = analysis.load_from_workdir('../workdirs/mace0')"
   ]
  },
  {
   "cell_type": "code",
   "execution_count": 5,
   "metadata": {},
   "outputs": [
    {
     "name": "stdout",
     "output_type": "stream",
     "text": [
      "/home/songk/atomicarchitects/spherical_harmonic_net/qm9_data_tf/\n"
     ]
    }
   ],
   "source": [
    "cutoff = 5.0\n",
    "key = jax.random.PRNGKey(0)\n",
    "epsilon = 1e-4\n",
    "\n",
    "qm9_datasets = get_datasets(key, config)\n",
    "# atoms = qm9_data[1]"
   ]
  },
  {
   "cell_type": "code",
   "execution_count": 6,
   "metadata": {},
   "outputs": [],
   "source": [
    "example_graph = next(qm9_datasets[\"test\"].as_numpy_iterator())\n",
    "frag = datatypes.Fragment.from_graphstuple(example_graph)\n",
    "frag = jax.tree_map(jnp.asarray, frag)"
   ]
  },
  {
   "cell_type": "code",
   "execution_count": 7,
   "metadata": {},
   "outputs": [],
   "source": [
    "atomic_numbers = jnp.array([1, 6, 7, 8, 9])\n",
    "numbers_to_symbols = {1: 'H', 6: 'C', 7: 'N', 8: 'O', 9: 'F'}\n",
    "\n",
    "def get_numbers(species: jnp.ndarray):\n",
    "    numbers = []\n",
    "    for i in species:\n",
    "        numbers.append(atomic_numbers[i])\n",
    "    return jnp.array(numbers)"
   ]
  },
  {
   "cell_type": "code",
   "execution_count": 8,
   "metadata": {},
   "outputs": [],
   "source": [
    "preds = get_predictions(best_state, frag)"
   ]
  },
  {
   "cell_type": "code",
   "execution_count": 18,
   "metadata": {},
   "outputs": [],
   "source": [
    "true_focus = get_first_node_indices(frag)\n",
    "# this is what the current setup is using as the foci anyway; should be changed later"
   ]
  },
  {
   "cell_type": "code",
   "execution_count": 28,
   "metadata": {},
   "outputs": [],
   "source": [
    "positions_split = frag.nodes.positions.split(true_focus[1:], axis=0)\n",
    "species_split = frag.nodes.species.split(true_focus[1:], axis=0)"
   ]
  },
  {
   "cell_type": "code",
   "execution_count": 38,
   "metadata": {},
   "outputs": [
    {
     "ename": "AttributeError",
     "evalue": "'super' object has no attribute '_ipython_display_'",
     "output_type": "error",
     "traceback": [
      "\u001b[0;31m---------------------------------------------------------------------------\u001b[0m",
      "\u001b[0;31mAttributeError\u001b[0m                            Traceback (most recent call last)",
      "\u001b[1;32m/home/songk/atomicarchitects/spherical_harmonic_net/notebooks/visualization.ipynb Cell 9\u001b[0m in \u001b[0;36m3\n\u001b[1;32m      <a href='vscode-notebook-cell:/home/songk/atomicarchitects/spherical_harmonic_net/notebooks/visualization.ipynb#X10sZmlsZQ%3D%3D?line=0'>1</a>\u001b[0m ndx \u001b[39m=\u001b[39m \u001b[39m8\u001b[39m\n\u001b[1;32m      <a href='vscode-notebook-cell:/home/songk/atomicarchitects/spherical_harmonic_net/notebooks/visualization.ipynb#X10sZmlsZQ%3D%3D?line=1'>2</a>\u001b[0m frag_atoms \u001b[39m=\u001b[39m Atoms(positions\u001b[39m=\u001b[39mpositions_split[ndx], numbers\u001b[39m=\u001b[39mget_numbers(species_split[ndx]))\n\u001b[0;32m----> <a href='vscode-notebook-cell:/home/songk/atomicarchitects/spherical_harmonic_net/notebooks/visualization.ipynb#X10sZmlsZQ%3D%3D?line=2'>3</a>\u001b[0m view(frag_atoms, viewer\u001b[39m=\u001b[39;49m\u001b[39m'\u001b[39;49m\u001b[39mngl\u001b[39;49m\u001b[39m'\u001b[39;49m)\n",
      "File \u001b[0;32m~/anaconda3/envs/sh-net/lib/python3.10/site-packages/ase/visualize/__init__.py:10\u001b[0m, in \u001b[0;36mview\u001b[0;34m(atoms, data, viewer, repeat, block)\u001b[0m\n\u001b[1;32m      7\u001b[0m     \u001b[39mreturn\u001b[39;00m\n\u001b[1;32m      9\u001b[0m vwr \u001b[39m=\u001b[39m viewers[viewer\u001b[39m.\u001b[39mlower()]\n\u001b[0;32m---> 10\u001b[0m handle \u001b[39m=\u001b[39m vwr\u001b[39m.\u001b[39;49mview(atoms, data\u001b[39m=\u001b[39;49mdata, repeat\u001b[39m=\u001b[39;49mrepeat)\n\u001b[1;32m     12\u001b[0m \u001b[39mif\u001b[39;00m block \u001b[39mand\u001b[39;00m \u001b[39mhasattr\u001b[39m(handle, \u001b[39m'\u001b[39m\u001b[39mwait\u001b[39m\u001b[39m'\u001b[39m):\n\u001b[1;32m     13\u001b[0m     status \u001b[39m=\u001b[39m handle\u001b[39m.\u001b[39mwait()\n",
      "File \u001b[0;32m~/anaconda3/envs/sh-net/lib/python3.10/site-packages/ase/visualize/external.py:105\u001b[0m, in \u001b[0;36mPyViewer.view\u001b[0;34m(self, atoms, data, repeat)\u001b[0m\n\u001b[1;32m    103\u001b[0m \u001b[39mif\u001b[39;00m repeat \u001b[39mis\u001b[39;00m \u001b[39mnot\u001b[39;00m \u001b[39mNone\u001b[39;00m:\n\u001b[1;32m    104\u001b[0m     atoms \u001b[39m=\u001b[39m atoms\u001b[39m.\u001b[39mrepeat(repeat)\n\u001b[0;32m--> 105\u001b[0m \u001b[39mreturn\u001b[39;00m func(atoms)\n",
      "File \u001b[0;32m~/anaconda3/envs/sh-net/lib/python3.10/site-packages/ase/visualize/external.py:113\u001b[0m, in \u001b[0;36mPyViewer.ngl\u001b[0;34m(self, atoms)\u001b[0m\n\u001b[1;32m    111\u001b[0m \u001b[39mdef\u001b[39;00m \u001b[39mngl\u001b[39m(\u001b[39mself\u001b[39m, atoms):\n\u001b[1;32m    112\u001b[0m     \u001b[39mfrom\u001b[39;00m \u001b[39mase\u001b[39;00m\u001b[39m.\u001b[39;00m\u001b[39mvisualize\u001b[39;00m\u001b[39m.\u001b[39;00m\u001b[39mngl\u001b[39;00m \u001b[39mimport\u001b[39;00m view_ngl\n\u001b[0;32m--> 113\u001b[0m     \u001b[39mreturn\u001b[39;00m view_ngl(atoms)\n",
      "File \u001b[0;32m~/anaconda3/envs/sh-net/lib/python3.10/site-packages/ase/visualize/ngl.py:116\u001b[0m, in \u001b[0;36mview_ngl\u001b[0;34m(atoms, w, h)\u001b[0m\n\u001b[1;32m    105\u001b[0m \u001b[39mdef\u001b[39;00m \u001b[39mview_ngl\u001b[39m(atoms, w\u001b[39m=\u001b[39m\u001b[39m500\u001b[39m, h\u001b[39m=\u001b[39m\u001b[39m500\u001b[39m):\n\u001b[1;32m    106\u001b[0m     \u001b[39m\"\"\"\u001b[39;00m\n\u001b[1;32m    107\u001b[0m \u001b[39m    Returns the nglviewer + some control widgets in the VBox ipywidget.\u001b[39;00m\n\u001b[1;32m    108\u001b[0m \u001b[39m    The viewer supports any Atoms objectand any sequence of Atoms objects.\u001b[39;00m\n\u001b[0;32m   (...)\u001b[0m\n\u001b[1;32m    114\u001b[0m \u001b[39m        VBox ipywidget containing view control widgets\u001b[39;00m\n\u001b[1;32m    115\u001b[0m \u001b[39m    \"\"\"\u001b[39;00m\n\u001b[0;32m--> 116\u001b[0m     \u001b[39mreturn\u001b[39;00m NGLDisplay(atoms, w, h)\u001b[39m.\u001b[39mgui\n",
      "File \u001b[0;32m~/anaconda3/envs/sh-net/lib/python3.10/site-packages/ase/visualize/ngl.py:14\u001b[0m, in \u001b[0;36mNGLDisplay.__init__\u001b[0;34m(self, atoms, xsize, ysize)\u001b[0m\n\u001b[1;32m     13\u001b[0m \u001b[39mdef\u001b[39;00m \u001b[39m__init__\u001b[39m(\u001b[39mself\u001b[39m, atoms, xsize\u001b[39m=\u001b[39m\u001b[39m500\u001b[39m, ysize\u001b[39m=\u001b[39m\u001b[39m500\u001b[39m):\n\u001b[0;32m---> 14\u001b[0m     \u001b[39mimport\u001b[39;00m \u001b[39mnglview\u001b[39;00m\n\u001b[1;32m     15\u001b[0m     \u001b[39mimport\u001b[39;00m \u001b[39mnglview\u001b[39;00m\u001b[39m.\u001b[39;00m\u001b[39mcolor\u001b[39;00m\n\u001b[1;32m     17\u001b[0m     \u001b[39mfrom\u001b[39;00m \u001b[39mipywidgets\u001b[39;00m \u001b[39mimport\u001b[39;00m Dropdown, FloatSlider, IntSlider, HBox, VBox\n",
      "File \u001b[0;32m~/anaconda3/envs/sh-net/lib/python3.10/site-packages/nglview/__init__.py:4\u001b[0m\n\u001b[1;32m      1\u001b[0m \u001b[39mimport\u001b[39;00m \u001b[39mwarnings\u001b[39;00m\n\u001b[1;32m      3\u001b[0m \u001b[39m# for doc\u001b[39;00m\n\u001b[0;32m----> 4\u001b[0m \u001b[39mfrom\u001b[39;00m \u001b[39m.\u001b[39;00m \u001b[39mimport\u001b[39;00m adaptor, datafiles, show, widget\n\u001b[1;32m      5\u001b[0m \u001b[39mfrom\u001b[39;00m \u001b[39m.\u001b[39;00m\u001b[39m_version\u001b[39;00m \u001b[39mimport\u001b[39;00m get_versions\n\u001b[1;32m      6\u001b[0m \u001b[39mfrom\u001b[39;00m \u001b[39m.\u001b[39;00m\u001b[39madaptor\u001b[39;00m \u001b[39mimport\u001b[39;00m \u001b[39m*\u001b[39m\n",
      "File \u001b[0;32m~/anaconda3/envs/sh-net/lib/python3.10/site-packages/nglview/show.py:13\u001b[0m\n\u001b[1;32m      3\u001b[0m \u001b[39mfrom\u001b[39;00m \u001b[39m.\u001b[39;00m \u001b[39mimport\u001b[39;00m datafiles\n\u001b[1;32m      4\u001b[0m \u001b[39mfrom\u001b[39;00m \u001b[39m.\u001b[39;00m\u001b[39madaptor\u001b[39;00m \u001b[39mimport\u001b[39;00m (ASEStructure, ASETrajectory, BiopythonStructure,\n\u001b[1;32m      5\u001b[0m                       FileStructure, HTMDTrajectory, IODataStructure,\n\u001b[1;32m      6\u001b[0m                       IOTBXStructure, MDAnalysisTrajectory, MDTrajTrajectory,\n\u001b[0;32m   (...)\u001b[0m\n\u001b[1;32m     11\u001b[0m                       RdkitStructure,\n\u001b[1;32m     12\u001b[0m                       TextStructure)\n\u001b[0;32m---> 13\u001b[0m \u001b[39mfrom\u001b[39;00m \u001b[39m.\u001b[39;00m\u001b[39mwidget\u001b[39;00m \u001b[39mimport\u001b[39;00m NGLWidget\n\u001b[1;32m     15\u001b[0m __all__ \u001b[39m=\u001b[39m [\n\u001b[1;32m     16\u001b[0m     \u001b[39m'\u001b[39m\u001b[39mdemo\u001b[39m\u001b[39m'\u001b[39m,\n\u001b[1;32m     17\u001b[0m     \u001b[39m'\u001b[39m\u001b[39mshow_pdbid\u001b[39m\u001b[39m'\u001b[39m,\n\u001b[0;32m   (...)\u001b[0m\n\u001b[1;32m     40\u001b[0m     \u001b[39m'\u001b[39m\u001b[39mshow_biopython\u001b[39m\u001b[39m'\u001b[39m,\n\u001b[1;32m     41\u001b[0m ]\n\u001b[1;32m     44\u001b[0m \u001b[39mdef\u001b[39;00m \u001b[39mshow_pdbid\u001b[39m(pdbid, \u001b[39m*\u001b[39m\u001b[39m*\u001b[39mkwargs):\n",
      "File \u001b[0;32m~/anaconda3/envs/sh-net/lib/python3.10/site-packages/nglview/widget.py:19\u001b[0m\n\u001b[1;32m     15\u001b[0m \u001b[39mfrom\u001b[39;00m \u001b[39mtraitlets\u001b[39;00m \u001b[39mimport\u001b[39;00m (Bool, CaselessStrEnum, Dict, Instance, Int, Integer,\n\u001b[1;32m     16\u001b[0m                        List, Unicode, observe, validate)\n\u001b[1;32m     17\u001b[0m \u001b[39mimport\u001b[39;00m \u001b[39mtraitlets\u001b[39;00m\n\u001b[0;32m---> 19\u001b[0m \u001b[39mfrom\u001b[39;00m \u001b[39m.\u001b[39;00m \u001b[39mimport\u001b[39;00m color, interpolate\n\u001b[1;32m     20\u001b[0m \u001b[39mfrom\u001b[39;00m \u001b[39m.\u001b[39;00m\u001b[39madaptor\u001b[39;00m \u001b[39mimport\u001b[39;00m Structure, Trajectory\n\u001b[1;32m     21\u001b[0m \u001b[39mfrom\u001b[39;00m \u001b[39m.\u001b[39;00m\u001b[39mcomponent\u001b[39;00m \u001b[39mimport\u001b[39;00m ComponentViewer\n",
      "File \u001b[0;32m~/anaconda3/envs/sh-net/lib/python3.10/site-packages/nglview/color.py:114\u001b[0m\n\u001b[1;32m    110\u001b[0m         \u001b[39melse\u001b[39;00m:\n\u001b[1;32m    111\u001b[0m             \u001b[39mraise\u001b[39;00m \u001b[39mValueError\u001b[39;00m(\u001b[39mf\u001b[39m\u001b[39m\"\u001b[39m\u001b[39m{\u001b[39;00mobj\u001b[39m}\u001b[39;00m\u001b[39m must be either list of list or string\u001b[39m\u001b[39m\"\u001b[39m)\n\u001b[0;32m--> 114\u001b[0m ColormakerRegistry \u001b[39m=\u001b[39m _ColormakerRegistry()\n",
      "File \u001b[0;32m~/anaconda3/envs/sh-net/lib/python3.10/site-packages/nglview/base.py:10\u001b[0m, in \u001b[0;36m_singleton.<locals>.getinstance\u001b[0;34m()\u001b[0m\n\u001b[1;32m      8\u001b[0m \u001b[39mdef\u001b[39;00m \u001b[39mgetinstance\u001b[39m():\n\u001b[1;32m      9\u001b[0m     \u001b[39mif\u001b[39;00m \u001b[39mcls\u001b[39m \u001b[39mnot\u001b[39;00m \u001b[39min\u001b[39;00m instances:\n\u001b[0;32m---> 10\u001b[0m         instances[\u001b[39mcls\u001b[39m] \u001b[39m=\u001b[39m \u001b[39mcls\u001b[39;49m()\n\u001b[1;32m     11\u001b[0m     \u001b[39mreturn\u001b[39;00m instances[\u001b[39mcls\u001b[39m]\n",
      "File \u001b[0;32m~/anaconda3/envs/sh-net/lib/python3.10/site-packages/nglview/color.py:47\u001b[0m, in \u001b[0;36m_ColormakerRegistry.__init__\u001b[0;34m(self, *args, **kwargs)\u001b[0m\n\u001b[1;32m     45\u001b[0m \u001b[39mtry\u001b[39;00m:\n\u001b[1;32m     46\u001b[0m     get_ipython() \u001b[39m# only display in notebook\u001b[39;00m\n\u001b[0;32m---> 47\u001b[0m     \u001b[39mself\u001b[39;49m\u001b[39m.\u001b[39;49m_ipython_display_()\n\u001b[1;32m     48\u001b[0m \u001b[39mexcept\u001b[39;00m \u001b[39mNameError\u001b[39;00m:\n\u001b[1;32m     49\u001b[0m     \u001b[39mpass\u001b[39;00m\n",
      "File \u001b[0;32m~/anaconda3/envs/sh-net/lib/python3.10/site-packages/nglview/color.py:54\u001b[0m, in \u001b[0;36m_ColormakerRegistry._ipython_display_\u001b[0;34m(self, **kwargs)\u001b[0m\n\u001b[1;32m     52\u001b[0m \u001b[39mif\u001b[39;00m \u001b[39mself\u001b[39m\u001b[39m.\u001b[39m_ready:\n\u001b[1;32m     53\u001b[0m     \u001b[39mreturn\u001b[39;00m\n\u001b[0;32m---> 54\u001b[0m \u001b[39msuper\u001b[39;49m()\u001b[39m.\u001b[39;49m_ipython_display_(\u001b[39m*\u001b[39m\u001b[39m*\u001b[39mkwargs)\n",
      "\u001b[0;31mAttributeError\u001b[0m: 'super' object has no attribute '_ipython_display_'"
     ]
    }
   ],
   "source": [
    "ndx = 8\n",
    "frag_atoms = Atoms(positions=positions_split[ndx], numbers=get_numbers(species_split[ndx]))\n",
    "view(frag_atoms, viewer='ngl')"
   ]
  },
  {
   "cell_type": "code",
   "execution_count": null,
   "metadata": {},
   "outputs": [],
   "source": [
    "# save to image files instead:\n",
    "for i, frag_to_write in enumerate(frags):\n",
    "    write(f'image{i}.png', Atoms(positions=frag_to_write.nodes.positions, numbers=get_numbers(frag_to_write.nodes.species)))"
   ]
  },
  {
   "cell_type": "code",
   "execution_count": null,
   "metadata": {},
   "outputs": [],
   "source": []
  }
 ],
 "metadata": {
  "kernelspec": {
   "display_name": "sh-net",
   "language": "python",
   "name": "python3"
  },
  "language_info": {
   "codemirror_mode": {
    "name": "ipython",
    "version": 3
   },
   "file_extension": ".py",
   "mimetype": "text/x-python",
   "name": "python",
   "nbconvert_exporter": "python",
   "pygments_lexer": "ipython3",
   "version": "3.10.6"
  },
  "latex_envs": {
   "LaTeX_envs_menu_present": true,
   "autoclose": false,
   "autocomplete": true,
   "bibliofile": "biblio.bib",
   "cite_by": "apalike",
   "current_citInitial": 1,
   "eqLabelWithNumbers": true,
   "eqNumInitial": 1,
   "hotkeys": {
    "equation": "Ctrl-E",
    "itemize": "Ctrl-I"
   },
   "labels_anchors": false,
   "latex_user_defs": false,
   "report_style_numbering": false,
   "user_envs_cfg": false
  },
  "toc": {
   "base_numbering": 1,
   "nav_menu": {},
   "number_sections": true,
   "sideBar": true,
   "skip_h1_title": false,
   "title_cell": "Table of Contents",
   "title_sidebar": "Contents",
   "toc_cell": false,
   "toc_position": {},
   "toc_section_display": true,
   "toc_window_display": false
  },
  "vscode": {
   "interpreter": {
    "hash": "6812f6bea93996b24571ab32489b66aa23cd67ae28674218a16278d3e0431607"
   }
  }
 },
 "nbformat": 4,
 "nbformat_minor": 2
}
