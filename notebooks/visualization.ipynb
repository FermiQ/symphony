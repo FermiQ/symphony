{
 "cells": [
  {
   "cell_type": "code",
   "execution_count": 1,
   "metadata": {},
   "outputs": [
    {
     "name": "stderr",
     "output_type": "stream",
     "text": [
      "No GPU/TPU found, falling back to CPU. (Set TF_CPP_MIN_LOG_LEVEL=0 and rerun for more info.)\n"
     ]
    }
   ],
   "source": [
    "from ase.atoms import Atoms\n",
    "from ase.io import write\n",
    "from ase.visualize import view\n",
    "import e3nn_jax as e3nn\n",
    "import jax\n",
    "import jax.numpy as jnp\n",
    "import jraph\n",
    "import sys\n",
    "sys.path.append('..')\n",
    "import analysis\n",
    "import datatypes\n",
    "from input_pipeline_tf import get_datasets\n",
    "from models import get_first_node_indices, segment_sample\n",
    "from train import get_predictions"
   ]
  },
  {
   "cell_type": "code",
   "execution_count": 2,
   "metadata": {},
   "outputs": [
    {
     "name": "stdout",
     "output_type": "stream",
     "text": [
      "WARNING:tensorflow:From /home/songk/anaconda3/envs/sh-net/lib/python3.10/site-packages/tensorflow/python/autograph/pyct/static_analysis/liveness.py:83: Analyzer.lamba_check (from tensorflow.python.autograph.pyct.static_analysis.liveness) is deprecated and will be removed after 2023-09-23.\n",
      "Instructions for updating:\n",
      "Lambda fuctions will be no more assumed to be used in the statement where they are used, or at least in the same block. https://github.com/tensorflow/tensorflow/issues/56089\n"
     ]
    },
    {
     "name": "stderr",
     "output_type": "stream",
     "text": [
      "WARNING:tensorflow:From /home/songk/anaconda3/envs/sh-net/lib/python3.10/site-packages/tensorflow/python/autograph/pyct/static_analysis/liveness.py:83: Analyzer.lamba_check (from tensorflow.python.autograph.pyct.static_analysis.liveness) is deprecated and will be removed after 2023-09-23.\n",
      "Instructions for updating:\n",
      "Lambda fuctions will be no more assumed to be used in the statement where they are used, or at least in the same block. https://github.com/tensorflow/tensorflow/issues/56089\n"
     ]
    }
   ],
   "source": [
    "config, best_state, metrics_for_best_state, datasets = analysis.load_from_workdir('../workdirs/mace/interactions=1/l=0/channels=64')"
   ]
  },
  {
   "cell_type": "code",
   "execution_count": 3,
   "metadata": {},
   "outputs": [
    {
     "data": {
      "text/plain": [
       "{'val': {'total_loss': array(8.657066, dtype=float32),\n",
       "  'focus_loss': array(0.56171024, dtype=float32),\n",
       "  'atom_type_loss': array(0.86556536, dtype=float32),\n",
       "  'position_loss': array(7.229792, dtype=float32)},\n",
       " 'test': {'total_loss': array(8.863261, dtype=float32),\n",
       "  'focus_loss': array(0.44567674, dtype=float32),\n",
       "  'atom_type_loss': array(0.8436947, dtype=float32),\n",
       "  'position_loss': array(7.57389, dtype=float32)}}"
      ]
     },
     "execution_count": 3,
     "metadata": {},
     "output_type": "execute_result"
    }
   ],
   "source": [
    "metrics_for_best_state"
   ]
  },
  {
   "cell_type": "code",
   "execution_count": 4,
   "metadata": {},
   "outputs": [],
   "source": [
    "cutoff = 5.0\n",
    "key = jax.random.PRNGKey(0)\n",
    "epsilon = 1e-4"
   ]
  },
  {
   "cell_type": "code",
   "execution_count": 5,
   "metadata": {},
   "outputs": [],
   "source": [
    "example_graph = next(datasets[\"test\"].as_numpy_iterator())\n",
    "frag = datatypes.Fragment.from_graphstuple(example_graph)\n",
    "frag = jax.tree_map(jnp.asarray, frag)\n",
    "num_nodes = frag.nodes.positions.shape[0]\n",
    "num_graphs = frag.n_node.shape[0]"
   ]
  },
  {
   "cell_type": "code",
   "execution_count": 6,
   "metadata": {},
   "outputs": [],
   "source": [
    "frag_unpadded = jraph.unpad_with_graphs(frag)\n",
    "molecules = jraph.unbatch(frag_unpadded)"
   ]
  },
  {
   "cell_type": "code",
   "execution_count": 7,
   "metadata": {},
   "outputs": [],
   "source": [
    "mol = molecules[2]"
   ]
  },
  {
   "cell_type": "code",
   "execution_count": 8,
   "metadata": {},
   "outputs": [],
   "source": [
    "preds = get_predictions(best_state, mol, key)\n",
    "true_focus_indices = get_first_node_indices(mol)\n",
    "\n",
    "# add stop\n",
    "focus_probs = jax.nn.softmax(jnp.concatenate([preds.focus_logits, jnp.array([0])]))\n",
    "# jnp.set_printoptions(precision=3, suppress=True)"
   ]
  },
  {
   "cell_type": "code",
   "execution_count": 13,
   "metadata": {},
   "outputs": [],
   "source": [
    "atomic_numbers = jnp.array([1, 6, 7, 8, 9])\n",
    "numbers_to_symbols = {1: 'H', 6: 'C', 7: 'N', 8: 'O', 9: 'F'}\n",
    "elements = list(numbers_to_symbols.values())\n",
    "\n",
    "# covalent bond radii, in angstroms\n",
    "element_radii = [0.32, 0.75, 0.71, 0.63, 0.64]\n",
    "\n",
    "def get_numbers(species: jnp.ndarray):\n",
    "    numbers = []\n",
    "    for i in species:\n",
    "        numbers.append(atomic_numbers[i])\n",
    "    return jnp.array(numbers)"
   ]
  },
  {
   "cell_type": "code",
   "execution_count": 12,
   "metadata": {},
   "outputs": [],
   "source": [
    "pred_species = preds.target_species.tolist()[0]"
   ]
  },
  {
   "cell_type": "code",
   "execution_count": 11,
   "metadata": {},
   "outputs": [
    {
     "data": {
      "text/plain": [
       "1x0e\n",
       "[[[-4.120972  ]\n",
       "  [-4.092948  ]\n",
       "  [-5.1138535 ]\n",
       "  [-5.158257  ]\n",
       "  [-4.5202165 ]\n",
       "  [-3.386344  ]\n",
       "  [-4.229885  ]\n",
       "  [-3.3213027 ]\n",
       "  [-2.0735316 ]\n",
       "  [-1.7883668 ]\n",
       "  [-0.5897599 ]\n",
       "  [ 0.4420494 ]\n",
       "  [ 1.3838742 ]\n",
       "  [ 3.2845714 ]\n",
       "  [ 4.5754986 ]\n",
       "  [ 5.726662  ]\n",
       "  [ 6.4547367 ]\n",
       "  [ 6.7055197 ]\n",
       "  [ 6.6437073 ]\n",
       "  [ 6.1172595 ]\n",
       "  [ 5.2017245 ]\n",
       "  [ 4.1756997 ]\n",
       "  [ 2.4395177 ]\n",
       "  [ 0.05779187]\n",
       "  [-2.2834876 ]\n",
       "  [-2.4535067 ]\n",
       "  [-3.1805484 ]\n",
       "  [-2.590728  ]\n",
       "  [-1.7091949 ]\n",
       "  [-2.7569616 ]\n",
       "  [-1.4706519 ]\n",
       "  [-1.2866036 ]\n",
       "  [-1.5887159 ]\n",
       "  [-2.7202535 ]\n",
       "  [-3.4202318 ]\n",
       "  [-2.2981281 ]\n",
       "  [-4.0578175 ]\n",
       "  [-1.5514712 ]\n",
       "  [-1.6524652 ]\n",
       "  [-1.9525069 ]\n",
       "  [-2.5296748 ]\n",
       "  [-3.1790006 ]\n",
       "  [-3.811808  ]\n",
       "  [-2.9042213 ]\n",
       "  [-2.3503883 ]\n",
       "  [-2.6280155 ]\n",
       "  [-4.322109  ]\n",
       "  [-3.6532114 ]\n",
       "  [-3.550451  ]\n",
       "  [-4.1777525 ]\n",
       "  [-4.6460443 ]\n",
       "  [-5.419183  ]\n",
       "  [-6.019831  ]\n",
       "  [-4.622957  ]\n",
       "  [-3.7174263 ]\n",
       "  [-5.173094  ]\n",
       "  [-3.699925  ]\n",
       "  [-3.9911768 ]\n",
       "  [-3.7409046 ]\n",
       "  [-5.400814  ]\n",
       "  [-4.7032943 ]\n",
       "  [-4.132673  ]\n",
       "  [-4.119808  ]\n",
       "  [-4.383623  ]]]"
      ]
     },
     "execution_count": 11,
     "metadata": {},
     "output_type": "execute_result"
    }
   ],
   "source": [
    "preds.position_coeffs"
   ]
  },
  {
   "cell_type": "code",
   "execution_count": 84,
   "metadata": {},
   "outputs": [
    {
     "data": {
      "application/vnd.jupyter.widget-view+json": {
       "model_id": "f54e537205564c79ad10242d48d84784",
       "version_major": 2,
       "version_minor": 0
      },
      "text/plain": [
       "HBox(children=(NGLWidget(), VBox(children=(Dropdown(description='Show', options=('All', 'O', 'H', 'C'), value=…"
      ]
     },
     "metadata": {},
     "output_type": "display_data"
    }
   ],
   "source": [
    "mol_atoms = Atoms(positions=mol.nodes.positions.tolist(), numbers=get_numbers(mol.nodes.species.tolist()))\n",
    "v = view(mol_atoms, viewer='ngl')\n",
    "\n",
    "# add focus probability highlights for each atom\n",
    "for i in range(mol.n_node[0]):\n",
    "    focus_prob = focus_probs.tolist()[i]\n",
    "    v.view.shape.add_sphere(\n",
    "        mol.nodes.positions[i].tolist(),\n",
    "        [1, 0.85, 0],\n",
    "        element_radii[mol.nodes.species.tolist()[i]] * 0.6,\n",
    "        f\"atom {i}: focus probability {focus_prob:.3f}\",\n",
    "    )\n",
    "    v.view.update_representation(component=i+1, opacity=focus_prob)\n",
    "v\n",
    "\n",
    "# add the next atom we're adding to this molecule, predicted specie + highlight\n",
    "v.view.shape.add_sphere(\n",
    "    mol.nodes.positions[i].tolist(),\n",
    "    [1, 0, 1],\n",
    "    element_radii[mol.nodes.species.tolist()[i]],\n",
    "    f\"predicted atom: {pred_species}\",\n",
    ")"
   ]
  },
  {
   "cell_type": "code",
   "execution_count": null,
   "metadata": {},
   "outputs": [],
   "source": []
  },
  {
   "cell_type": "code",
   "execution_count": null,
   "metadata": {},
   "outputs": [],
   "source": []
  }
 ],
 "metadata": {
  "kernelspec": {
   "display_name": "sh-net",
   "language": "python",
   "name": "python3"
  },
  "language_info": {
   "codemirror_mode": {
    "name": "ipython",
    "version": 3
   },
   "file_extension": ".py",
   "mimetype": "text/x-python",
   "name": "python",
   "nbconvert_exporter": "python",
   "pygments_lexer": "ipython3",
   "version": "3.10.6"
  },
  "latex_envs": {
   "LaTeX_envs_menu_present": true,
   "autoclose": false,
   "autocomplete": true,
   "bibliofile": "biblio.bib",
   "cite_by": "apalike",
   "current_citInitial": 1,
   "eqLabelWithNumbers": true,
   "eqNumInitial": 1,
   "hotkeys": {
    "equation": "Ctrl-E",
    "itemize": "Ctrl-I"
   },
   "labels_anchors": false,
   "latex_user_defs": false,
   "report_style_numbering": false,
   "user_envs_cfg": false
  },
  "toc": {
   "base_numbering": 1,
   "nav_menu": {},
   "number_sections": true,
   "sideBar": true,
   "skip_h1_title": false,
   "title_cell": "Table of Contents",
   "title_sidebar": "Contents",
   "toc_cell": false,
   "toc_position": {},
   "toc_section_display": true,
   "toc_window_display": false
  },
  "vscode": {
   "interpreter": {
    "hash": "6812f6bea93996b24571ab32489b66aa23cd67ae28674218a16278d3e0431607"
   }
  }
 },
 "nbformat": 4,
 "nbformat_minor": 2
}
