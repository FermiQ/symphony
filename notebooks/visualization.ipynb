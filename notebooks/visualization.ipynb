{
 "cells": [
  {
   "cell_type": "code",
   "execution_count": 1,
   "metadata": {},
   "outputs": [
    {
     "name": "stderr",
     "output_type": "stream",
     "text": [
      "2023-02-27 12:23:54.169595: W tensorflow/compiler/xla/stream_executor/platform/default/dso_loader.cc:64] Could not load dynamic library 'libcudart.so.11.0'; dlerror: libcudart.so.11.0: cannot open shared object file: No such file or directory\n",
      "2023-02-27 12:23:55.794771: W tensorflow/compiler/xla/stream_executor/platform/default/dso_loader.cc:64] Could not load dynamic library 'libnvinfer.so.7'; dlerror: libnvinfer.so.7: cannot open shared object file: No such file or directory\n",
      "2023-02-27 12:23:55.794889: W tensorflow/compiler/xla/stream_executor/platform/default/dso_loader.cc:64] Could not load dynamic library 'libnvinfer_plugin.so.7'; dlerror: libnvinfer_plugin.so.7: cannot open shared object file: No such file or directory\n",
      "2023-02-27 12:23:55.794901: W tensorflow/compiler/tf2tensorrt/utils/py_utils.cc:38] TF-TRT Warning: Cannot dlopen some TensorRT libraries. If you would like to use Nvidia GPU with TensorRT, please make sure the missing libraries mentioned above are installed properly.\n",
      "No GPU/TPU found, falling back to CPU. (Set TF_CPP_MIN_LOG_LEVEL=0 and rerun for more info.)\n"
     ]
    }
   ],
   "source": [
    "from ase.atoms import Atoms\n",
    "from ase.io import write\n",
    "from ase.visualize import view\n",
    "import jax\n",
    "import jax.numpy as jnp\n",
    "import sys\n",
    "sys.path.append('..')\n",
    "import analysis\n",
    "import datatypes\n",
    "from input_pipeline import ase_atoms_to_jraph_graph, generate_fragments\n",
    "from qm9 import load_qm9"
   ]
  },
  {
   "cell_type": "code",
   "execution_count": 2,
   "metadata": {},
   "outputs": [
    {
     "name": "stdout",
     "output_type": "stream",
     "text": [
      "/Users/ameyad/Documents/qm9_data_tf/\n"
     ]
    },
    {
     "ename": "FileNotFoundError",
     "evalue": "[Errno 2] No such file or directory: '/Users/ameyad/Documents/qm9_data_tf/'",
     "output_type": "error",
     "traceback": [
      "\u001b[0;31m---------------------------------------------------------------------------\u001b[0m",
      "\u001b[0;31mFileNotFoundError\u001b[0m                         Traceback (most recent call last)",
      "Cell \u001b[0;32mIn [2], line 1\u001b[0m\n\u001b[0;32m----> 1\u001b[0m config, best_state, metrics_for_best_state \u001b[39m=\u001b[39m analysis\u001b[39m.\u001b[39;49mload_from_workdir(\u001b[39m'\u001b[39;49m\u001b[39m../workdirs/mace1\u001b[39;49m\u001b[39m'\u001b[39;49m)\n",
      "File \u001b[0;32m~/atomicarchitects/spherical_harmonic_net/notebooks/../analysis.py:65\u001b[0m, in \u001b[0;36mload_from_workdir\u001b[0;34m(workdir)\u001b[0m\n\u001b[1;32m     62\u001b[0m rng, dataset_rng \u001b[39m=\u001b[39m jax\u001b[39m.\u001b[39mrandom\u001b[39m.\u001b[39msplit(rng)\n\u001b[1;32m     64\u001b[0m \u001b[39m# Obtain graphs.\u001b[39;00m\n\u001b[0;32m---> 65\u001b[0m datasets \u001b[39m=\u001b[39m input_pipeline_tf\u001b[39m.\u001b[39;49mget_datasets(dataset_rng, config)\n\u001b[1;32m     66\u001b[0m train_iter \u001b[39m=\u001b[39m datasets[\u001b[39m\"\u001b[39m\u001b[39mtrain\u001b[39m\u001b[39m\"\u001b[39m]\u001b[39m.\u001b[39mas_numpy_iterator()\n\u001b[1;32m     67\u001b[0m init_graphs \u001b[39m=\u001b[39m \u001b[39mnext\u001b[39m(train_iter)\n",
      "File \u001b[0;32m~/atomicarchitects/spherical_harmonic_net/notebooks/../input_pipeline_tf.py:22\u001b[0m, in \u001b[0;36mget_datasets\u001b[0;34m(rng, config)\u001b[0m\n\u001b[1;32m     19\u001b[0m \u001b[39m\"\"\"Loads and preprocesses the QM9 dataset as tf.data.Datasets for each split.\"\"\"\u001b[39;00m\n\u001b[1;32m     21\u001b[0m \u001b[39m# Get the raw datasets.\u001b[39;00m\n\u001b[0;32m---> 22\u001b[0m datasets \u001b[39m=\u001b[39m get_raw_qm9_datasets(\n\u001b[1;32m     23\u001b[0m     rng,\n\u001b[1;32m     24\u001b[0m     config\u001b[39m.\u001b[39;49mroot_dir,\n\u001b[1;32m     25\u001b[0m     config\u001b[39m.\u001b[39;49mnum_train_files,\n\u001b[1;32m     26\u001b[0m     config\u001b[39m.\u001b[39;49mnum_val_files,\n\u001b[1;32m     27\u001b[0m     config\u001b[39m.\u001b[39;49mnum_test_files,\n\u001b[1;32m     28\u001b[0m )\n\u001b[1;32m     30\u001b[0m \u001b[39m# Convert to jraph.GraphsTuple.\u001b[39;00m\n\u001b[1;32m     31\u001b[0m \u001b[39mfor\u001b[39;00m split, dataset_split \u001b[39min\u001b[39;00m datasets\u001b[39m.\u001b[39mitems():\n",
      "File \u001b[0;32m~/atomicarchitects/spherical_harmonic_net/notebooks/../input_pipeline_tf.py:77\u001b[0m, in \u001b[0;36mget_raw_qm9_datasets\u001b[0;34m(rng, root_dir, num_train_files, num_val_files, num_test_files)\u001b[0m\n\u001b[1;32m     75\u001b[0m \u001b[39mprint\u001b[39m(root_dir)\n\u001b[1;32m     76\u001b[0m \u001b[39m# Root directory of the dataset.\u001b[39;00m\n\u001b[0;32m---> 77\u001b[0m filenames \u001b[39m=\u001b[39m os\u001b[39m.\u001b[39;49mlistdir(root_dir)\n\u001b[1;32m     78\u001b[0m filenames \u001b[39m=\u001b[39m [os\u001b[39m.\u001b[39mpath\u001b[39m.\u001b[39mjoin(root_dir, f) \u001b[39mfor\u001b[39;00m f \u001b[39min\u001b[39;00m filenames \u001b[39mif\u001b[39;00m \u001b[39m\"\u001b[39m\u001b[39mdataset_tf\u001b[39m\u001b[39m\"\u001b[39m \u001b[39min\u001b[39;00m f]\n\u001b[1;32m     80\u001b[0m \u001b[39m# Shuffle the filenames.\u001b[39;00m\n",
      "\u001b[0;31mFileNotFoundError\u001b[0m: [Errno 2] No such file or directory: '/Users/ameyad/Documents/qm9_data_tf/'"
     ]
    }
   ],
   "source": [
    "config, best_state, metrics_for_best_state = analysis.load_from_workdir('../workdirs/mace1')"
   ]
  },
  {
   "cell_type": "code",
   "execution_count": 5,
   "metadata": {},
   "outputs": [],
   "source": [
    "atoms = load_qm9(\"qm9_data\")[1]"
   ]
  },
  {
   "cell_type": "code",
   "execution_count": 51,
   "metadata": {},
   "outputs": [],
   "source": [
    "atomic_numbers = jnp.array([1, 6, 7, 8, 9])  # is there a way to get just the number from a jax array, not a (1,) slice?\n",
    "numbers_to_symbols = {1: 'H', 6: 'C', 7: 'N', 8: 'O', 9: 'F'}\n",
    "\n",
    "def get_numbers(species: jnp.ndarray):\n",
    "    numbers = []\n",
    "    for i in species:\n",
    "        numbers.append(atomic_numbers[i])\n",
    "    return jnp.array(numbers)"
   ]
  },
  {
   "cell_type": "code",
   "execution_count": 8,
   "metadata": {},
   "outputs": [],
   "source": [
    "cutoff = 5.0\n",
    "key = jax.random.PRNGKey(0)\n",
    "epsilon = 1e-4\n",
    "\n",
    "graph = ase_atoms_to_jraph_graph(atoms, atomic_numbers, cutoff)\n",
    "frags = generate_fragments(key, graph, len(atomic_numbers), epsilon)\n",
    "frags = list(frags)"
   ]
  },
  {
   "cell_type": "code",
   "execution_count": 63,
   "metadata": {},
   "outputs": [
    {
     "data": {
      "text/html": [
       "<html>\n",
       "\n",
       " <head>\n",
       "\n",
       "  <title>ASE atomic visualization</title>\n",
       "\n",
       "  <link rel=\"stylesheet\" type=\"text/css\"\n",
       "\n",
       "   href=\"https://www.x3dom.org/x3dom/release/x3dom.css\">\n",
       "\n",
       "  </link>\n",
       "\n",
       "  <script type=\"text/javascript\"\n",
       "\n",
       "   src=\"https://www.x3dom.org/x3dom/release/x3dom.js\">\n",
       "\n",
       "  </script>\n",
       "\n",
       " </head>\n",
       "\n",
       " <body>\n",
       "\n",
       "  <X3D>\n",
       "\n",
       "   <Scene>\n",
       "\n",
       "    <Transform translation=\"-0.04 1.02 0.06\">\n",
       "\n",
       "     <Shape>\n",
       "\n",
       "      <Appearance>\n",
       "\n",
       "       <Material diffuseColor=\"0.188 0.314 0.973\" specularColor=\"0.5 0.5 0.5\">\n",
       "\n",
       "       </Material>\n",
       "\n",
       "      </Appearance>\n",
       "\n",
       "      <Sphere radius=\"0.71\">\n",
       "\n",
       "      </Sphere>\n",
       "\n",
       "     </Shape>\n",
       "\n",
       "    </Transform>\n",
       "\n",
       "    <Transform translation=\"0.02 0.01 -0.03\">\n",
       "\n",
       "     <Shape>\n",
       "\n",
       "      <Appearance>\n",
       "\n",
       "       <Material diffuseColor=\"1.000 1.000 1.000\" specularColor=\"0.5 0.5 0.5\">\n",
       "\n",
       "       </Material>\n",
       "\n",
       "      </Appearance>\n",
       "\n",
       "      <Sphere radius=\"0.31\">\n",
       "\n",
       "      </Sphere>\n",
       "\n",
       "     </Shape>\n",
       "\n",
       "    </Transform>\n",
       "\n",
       "    <Transform translation=\"0.92 1.36 -0.03\">\n",
       "\n",
       "     <Shape>\n",
       "\n",
       "      <Appearance>\n",
       "\n",
       "       <Material diffuseColor=\"1.000 1.000 1.000\" specularColor=\"0.5 0.5 0.5\">\n",
       "\n",
       "       </Material>\n",
       "\n",
       "      </Appearance>\n",
       "\n",
       "      <Sphere radius=\"0.31\">\n",
       "\n",
       "      </Sphere>\n",
       "\n",
       "     </Shape>\n",
       "\n",
       "    </Transform>\n",
       "\n",
       "    <Transform translation=\"-0.52 1.34 -0.78\">\n",
       "\n",
       "     <Shape>\n",
       "\n",
       "      <Appearance>\n",
       "\n",
       "       <Material diffuseColor=\"1.000 1.000 1.000\" specularColor=\"0.5 0.5 0.5\">\n",
       "\n",
       "       </Material>\n",
       "\n",
       "      </Appearance>\n",
       "\n",
       "      <Sphere radius=\"0.31\">\n",
       "\n",
       "      </Sphere>\n",
       "\n",
       "     </Shape>\n",
       "\n",
       "    </Transform>\n",
       "\n",
       "   </Scene>\n",
       "\n",
       "  </X3D>\n",
       "\n",
       " </body>\n",
       "\n",
       "</html>\n",
       "\n"
      ],
      "text/plain": [
       "<IPython.core.display.HTML object>"
      ]
     },
     "execution_count": 63,
     "metadata": {},
     "output_type": "execute_result"
    }
   ],
   "source": [
    "frag = frags[3]\n",
    "frag_atoms = Atoms(positions=frag.nodes.positions, numbers=get_numbers(frag.nodes.species))\n",
    "view(frag_atoms, viewer='x3d')"
   ]
  },
  {
   "cell_type": "code",
   "execution_count": null,
   "metadata": {},
   "outputs": [],
   "source": [
    "# save to image files instead:\n",
    "for i, frag_to_write in enumerate(frags):\n",
    "    write(f'image{i}.png', Atoms(positions=frag_to_write.nodes.positions, numbers=get_numbers(frag_to_write.nodes.species)))"
   ]
  }
 ],
 "metadata": {
  "kernelspec": {
   "display_name": "sh-net",
   "language": "python",
   "name": "python3"
  },
  "language_info": {
   "codemirror_mode": {
    "name": "ipython",
    "version": 3
   },
   "file_extension": ".py",
   "mimetype": "text/x-python",
   "name": "python",
   "nbconvert_exporter": "python",
   "pygments_lexer": "ipython3",
   "version": "3.10.6"
  },
  "orig_nbformat": 4,
  "vscode": {
   "interpreter": {
    "hash": "6812f6bea93996b24571ab32489b66aa23cd67ae28674218a16278d3e0431607"
   }
  }
 },
 "nbformat": 4,
 "nbformat_minor": 2
}
