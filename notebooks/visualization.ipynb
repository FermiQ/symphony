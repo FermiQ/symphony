{
 "cells": [
  {
   "cell_type": "code",
   "execution_count": null,
   "metadata": {},
   "outputs": [],
   "source": [
    "from ase.atoms import Atoms\n",
    "from ase.io import write\n",
    "from ase.visualize import view\n",
    "import e3nn_jax as e3nn\n",
    "import jax\n",
    "import jax.numpy as jnp\n",
    "import jraph\n",
    "import plotly.express as px\n",
    "import plotly.graph_objects as go\n",
    "import sys\n",
    "import tensorflow as tf\n",
    "\n",
    "sys.path.append('..')\n",
    "sys.path.append('../analyses')\n",
    "import analysis\n",
    "import datatypes\n",
    "import input_pipeline_tf\n",
    "import models\n",
    "import train"
   ]
  },
  {
   "cell_type": "code",
   "execution_count": null,
   "metadata": {},
   "outputs": [],
   "source": [
    "atomic_numbers = jnp.array([1, 6, 7, 8, 9])\n",
    "numbers_to_symbols = {1: 'H', 6: 'C', 7: 'N', 8: 'O', 9: 'F'}\n",
    "elements = list(numbers_to_symbols.values())\n",
    "\n",
    "# covalent bond radii, in angstroms\n",
    "element_radii = [0.32, 0.75, 0.71, 0.63, 0.64]\n",
    "\n",
    "def get_numbers(species: jnp.ndarray):\n",
    "    numbers = []\n",
    "    for i in species:\n",
    "        numbers.append(atomic_numbers[i])\n",
    "    return jnp.array(numbers)"
   ]
  },
  {
   "cell_type": "code",
   "execution_count": null,
   "metadata": {},
   "outputs": [],
   "source": [
    "tf.config.experimental.set_visible_devices([], \"GPU\")\n",
    "\n",
    "config, best_state_train, best_state_eval, metrics_for_best_state = analysis.load_from_workdir('/home/ameyad/spherical-harmonic-net/workdirs/v5/e3schnet/interactions=4/l=5/channels=32/', load_pickled_params=False)\n",
    "rng = jax.random.PRNGKey(config.rng_seed)\n",
    "rng, dataset_rng = jax.random.split(rng)\n",
    "datasets = input_pipeline_tf.get_datasets(dataset_rng, config)\n",
    "\n",
    "cutoff = 5.0\n",
    "epsilon = 1e-4\n",
    "\n",
    "frag_num = -1"
   ]
  },
  {
   "cell_type": "code",
   "execution_count": null,
   "metadata": {},
   "outputs": [],
   "source": [
    "metrics_for_best_state"
   ]
  },
  {
   "cell_type": "code",
   "execution_count": null,
   "metadata": {},
   "outputs": [],
   "source": [
    "example_graph = next(datasets[\"test\"].as_numpy_iterator())\n",
    "frag = datatypes.Fragments.from_graphstuple(example_graph)\n",
    "frag = jax.tree_map(jnp.asarray, frag)\n",
    "frag_num += 1\n",
    "\n",
    "frag_unpadded = jraph.unpad_with_graphs(frag)\n",
    "molecules = jraph.unbatch(frag_unpadded)"
   ]
  },
  {
   "cell_type": "code",
   "execution_count": null,
   "metadata": {},
   "outputs": [],
   "source": [
    "mol_num = 2\n",
    "mol = molecules[mol_num]\n",
    "species_list = mol.nodes.species.tolist()\n",
    "positions_list = mol.nodes.positions.tolist()\n",
    "target_species = mol.globals.target_species.tolist()[0]\n",
    "target_position = mol.globals.target_positions.tolist()[0]\n",
    "target_position = [target_position[i]+positions_list[0][i] for i in range(3)]\n",
    "true_focus_index = 0\n",
    "\n",
    "preds = train.get_predictions(best_state_train, mol, rng)"
   ]
  },
  {
   "cell_type": "markdown",
   "metadata": {},
   "source": [
    "### train mode"
   ]
  },
  {
   "cell_type": "code",
   "execution_count": null,
   "metadata": {},
   "outputs": [],
   "source": [
    "preds"
   ]
  },
  {
   "cell_type": "code",
   "execution_count": null,
   "metadata": {},
   "outputs": [],
   "source": [
    "focus_probs = jax.nn.softmax(jnp.concatenate([preds.nodes.focus_logits, jnp.array([0])]))\n",
    "true_focus = len(focus_probs)-1 if mol.globals.stop[0] else 0\n",
    "bar_colors = ['#ef553b' if i == true_focus else '#636efa' for i in range(len(focus_probs))]\n",
    "focus_fig = go.Figure([go.Bar(x=jnp.arange(focus_probs.shape[0]-1), y=focus_probs[:-1], marker_color=bar_colors, showlegend=False),\n",
    "                        go.Bar(x=[len(focus_probs)], y=[focus_probs[-1]], showlegend=False, text='STOP', marker_color='#ef63f9')])\n",
    "focus_fig.update_xaxes(title='Atom index')\n",
    "focus_fig.update_yaxes(title='Predicted Probability')\n",
    "focus_fig.show()"
   ]
  },
  {
   "cell_type": "code",
   "execution_count": null,
   "metadata": {},
   "outputs": [],
   "source": [
    "species_probs = jax.nn.softmax(preds.globals.target_species_logits.squeeze(axis=0))\n",
    "\n",
    "bar_colors = ['#ef553b' if i == target_species else '#636efa' for i in range(len(models.ATOMIC_NUMBERS))]\n",
    "species_fig = go.Figure([go.Bar(x=list(map(lambda z: numbers_to_symbols[z], models.ATOMIC_NUMBERS)),\n",
    "                                y=species_probs,\n",
    "                                marker_color=bar_colors)])\n",
    "species_fig.update_xaxes(title='Predicted Type')\n",
    "species_fig.update_yaxes(title='Predicted Probability')\n",
    "species_fig.show()"
   ]
  },
  {
   "cell_type": "code",
   "execution_count": null,
   "metadata": {},
   "outputs": [],
   "source": [
    "# radial distribution\n",
    "\n",
    "rel_target_position = mol.globals.target_positions[0].tolist()\n",
    "target_radius = jnp.linalg.norm(mol.globals.target_positions[0]).item()\n",
    "\n",
    "RADII = models.RADII\n",
    "radial_probs = preds.globals.position_probs.integrate().array.squeeze(\n",
    "    axis=(0, -1)\n",
    ")\n",
    "\n",
    "radius_fig = go.Figure([go.Bar(x=RADII, y=radial_probs)])\n",
    "radius_fig.add_vline(target_radius, line_color='red')\n",
    "radius_fig.update_xaxes(title='Radius (A)')  # give axis label (do this for the other graphs too )\n",
    "radius_fig.show()\n"
   ]
  },
  {
   "cell_type": "code",
   "execution_count": null,
   "metadata": {},
   "outputs": [],
   "source": [
    "# angular distributions per radius\n",
    "\n",
    "P = jax.tree_util.tree_map(lambda x: x.squeeze(0), preds.globals.position_probs.resample(30, 51, 5))\n",
    "prob_surfaces = jax.vmap(lambda x: x.plotly_surface())(P)\n",
    "\n",
    "sphere_bound = e3nn.SphericalSignal(jnp.ones((30, 51)), 'soft')\n",
    "s_surface = sphere_bound.plotly_surface()\n",
    "\n",
    "surface_list = [go.Surface(\n",
    "            jax.tree_map(lambda x: x[i] * RADII[i], prob_surfaces),\n",
    "            opacity=1,\n",
    "            colorscale=[[0, \"rgba(13,8,135,0)\"], [0.14, \"rgba(84,2,163,0.14)\"], [0.29, \"rgba(139,10,165,0.29)\"], [0.43, \"rgba(185,50,137,0.43)\"], [0.57, \"rgba(219,92,104,0.57)\"], [0.71, \"rgba(244,136,73,0.71)\"], [0.86, \"rgba(254,188,43,0.86)\"], [1, \"rgba(240,239,33,255)\"]],\n",
    "            cmin=0,\n",
    "            cmax=RADII[i].item() / 2,\n",
    "            showscale=False)\n",
    "        for i in range(64)]\n"
   ]
  },
  {
   "cell_type": "code",
   "execution_count": null,
   "metadata": {},
   "outputs": [],
   "source": [
    "\n",
    "# all the radii\n",
    "fig = go.Figure(surface_list + [\n",
    "            go.Scatter3d(x=[0, rel_target_position[0]], y=[0, rel_target_position[1]], z=[0, rel_target_position[2]], mode=\"lines\"),\n",
    "            go.Scatter3d(x=[rel_target_position[0]], y=[rel_target_position[1]], z=[rel_target_position[2]], marker={\"size\": 2}),\n",
    "        ])\n",
    "# the below line is for a global color scale on [0, 1], in contrast to the default [0, max]\n",
    "# fig.update_layout(coloraxis={'colorscale':[[0, \"rgba(13,8,135,0)\"], [0.14, \"rgba(84,2,163,0.14)\"], [0.29, \"rgba(139,10,165,0.29)\"], [0.43, \"rgba(185,50,137,0.43)\"], [0.57, \"rgba(219,92,104,0.57)\"], [0.71, \"rgba(244,136,73,0.71)\"], [0.86, \"rgba(254,188,43,0.86)\"], [1, \"rgba(240,239,33,255)\"]]})\n",
    "fig.update_layout(template='simple_white')\n",
    "fig.show()"
   ]
  },
  {
   "cell_type": "code",
   "execution_count": null,
   "metadata": {},
   "outputs": [],
   "source": [
    "mol.nodes.species"
   ]
  },
  {
   "cell_type": "code",
   "execution_count": null,
   "metadata": {},
   "outputs": [],
   "source": [
    "mol.globals.stop"
   ]
  },
  {
   "cell_type": "code",
   "execution_count": null,
   "metadata": {},
   "outputs": [],
   "source": [
    "e3nn.norm(preds.position_coeffs[0, 37, :])"
   ]
  },
  {
   "cell_type": "markdown",
   "metadata": {},
   "source": [
    "### evaluate mode"
   ]
  },
  {
   "cell_type": "code",
   "execution_count": null,
   "metadata": {},
   "outputs": [],
   "source": [
    "preds = train.get_predictions(best_state_eval, mol, rng)\n",
    "\n",
    "focus_index = preds.focus_indices.tolist()[0]\n",
    "# add stop probability\n",
    "focus_probs = jax.nn.softmax(jnp.concatenate([preds.focus_logits, jnp.array([0])]))\n",
    "\n",
    "pred_species = preds.target_species.tolist()[0]\n",
    "pred_position = preds.position_vectors.tolist()[0]\n",
    "pred_position = [pred_position[i]+positions_list[focus_index][i] for i in range(3)]"
   ]
  },
  {
   "cell_type": "code",
   "execution_count": null,
   "metadata": {},
   "outputs": [],
   "source": [
    "preds.target_species_logits"
   ]
  },
  {
   "cell_type": "code",
   "execution_count": null,
   "metadata": {},
   "outputs": [],
   "source": [
    "mol_atoms = Atoms(positions=positions_list, numbers=get_numbers(species_list))\n",
    "v = view(mol_atoms, viewer='ngl')\n",
    "\n",
    "num_nodes = mol.n_node[0].tolist()\n",
    "\n",
    "for i in range(num_nodes):\n",
    "    focus_prob = focus_probs.tolist()[i]\n",
    "    species = species_list[i]\n",
    "\n",
    "    # add focus probability highlights for each atom\n",
    "    v.view.shape.add_sphere(\n",
    "        positions_list[i],\n",
    "        [1, 0.85, 0],\n",
    "        element_radii[species] * 0.6,\n",
    "        f\"atom {i} ({elements[species]}): focus probability {focus_prob:.3f}\",\n",
    "    )\n",
    "    v.view.update_representation(component=i+1, opacity=focus_prob)\n",
    "\n",
    "# add true focus highlight\n",
    "v.view.shape.add_sphere(\n",
    "    positions_list[0],\n",
    "    [0, 1, 0],\n",
    "    element_radii[species_list[0]] * 0.6,\n",
    "    f\"atom {i} ({elements[species_list[0]]}): true focus (probability {focus_probs.tolist()[0]:.3f})\",\n",
    ")\n",
    "v.view.update_representation(component=num_nodes+1, opacity=0.4)\n",
    "\n",
    "# add the next atom we're adding to this molecule, predicted specie + highlight\n",
    "v.view.shape.add_sphere(\n",
    "    pred_position,\n",
    "    [1, 0, 1],\n",
    "    element_radii[pred_species] * 0.5,\n",
    "    f\"predicted atom: {elements[pred_species]}\",\n",
    ")\n",
    "\n",
    "# add the target atom\n",
    "v.view.shape.add_sphere(\n",
    "    target_position,\n",
    "    [0, 1, 1],\n",
    "    element_radii[target_species] * 0.5,\n",
    "    f\"target atom: {elements[target_species]}\",\n",
    ")\n",
    "\n",
    "# add an arrow from selected focus\n",
    "pred_focus_position = positions_list[focus_index]\n",
    "v.view.shape.add_arrow(\n",
    "    pred_focus_position,\n",
    "    pred_position,\n",
    "    [1, 0.85, 0],\n",
    "    0.1,\n",
    "    f'distance: {jnp.sqrt(jnp.sum((jnp.array(pred_position)-jnp.array(pred_focus_position))**2)):.3f} A'\n",
    ")\n",
    "\n",
    "v"
   ]
  },
  {
   "cell_type": "code",
   "execution_count": null,
   "metadata": {},
   "outputs": [],
   "source": [
    "v.view.download_image(f'frag{frag_num}_mol{mol_num}.png')"
   ]
  },
  {
   "cell_type": "code",
   "execution_count": null,
   "metadata": {},
   "outputs": [],
   "source": [
    "# write losses to file\n",
    "\n",
    "for i in range(len(molecules)):\n",
    "    mol = molecules[i]\n",
    "    preds = train.get_predictions(best_state_train, mol, rng)\n",
    "    mol_loss = train.generation_loss(preds, mol, config.loss_kwargs.radius_rbf_variance)\n",
    "    with open(f'interactions=2_l=3_channels=32_frag={frag_num}_loss.txt', 'a') as f:\n",
    "        f.write(f'molecule {i}:\\n')\n",
    "        f.write(f'total loss = {mol_loss[0].tolist()[0]}\\n')\n",
    "        f.write(f'focus loss = {mol_loss[1][0].tolist()[0]}\\n')\n",
    "        f.write(f'species loss = {mol_loss[1][1].tolist()[0]}\\n')\n",
    "        f.write(f'position loss = {mol_loss[1][2].tolist()[0]}\\n')\n",
    "        f.write('\\n')"
   ]
  },
  {
   "cell_type": "code",
   "execution_count": null,
   "metadata": {},
   "outputs": [],
   "source": []
  }
 ],
 "metadata": {
  "kernelspec": {
   "display_name": ".venv",
   "language": "python",
   "name": "python3"
  },
  "language_info": {
   "codemirror_mode": {
    "name": "ipython",
    "version": 3
   },
   "file_extension": ".py",
   "mimetype": "text/x-python",
   "name": "python",
   "nbconvert_exporter": "python",
   "pygments_lexer": "ipython3",
   "version": "3.10.13"
  },
  "latex_envs": {
   "LaTeX_envs_menu_present": true,
   "autoclose": false,
   "autocomplete": true,
   "bibliofile": "biblio.bib",
   "cite_by": "apalike",
   "current_citInitial": 1,
   "eqLabelWithNumbers": true,
   "eqNumInitial": 1,
   "hotkeys": {
    "equation": "Ctrl-E",
    "itemize": "Ctrl-I"
   },
   "labels_anchors": false,
   "latex_user_defs": false,
   "report_style_numbering": false,
   "user_envs_cfg": false
  },
  "toc": {
   "base_numbering": 1,
   "nav_menu": {},
   "number_sections": true,
   "sideBar": true,
   "skip_h1_title": false,
   "title_cell": "Table of Contents",
   "title_sidebar": "Contents",
   "toc_cell": false,
   "toc_position": {},
   "toc_section_display": true,
   "toc_window_display": false
  },
  "vscode": {
   "interpreter": {
    "hash": "c45d96c58491a395ddcd8e473c3845279123da787cb66983d65c138d89f394de"
   }
  }
 },
 "nbformat": 4,
 "nbformat_minor": 2
}
