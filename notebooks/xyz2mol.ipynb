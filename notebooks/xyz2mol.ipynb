{
 "cells": [
  {
   "cell_type": "code",
   "execution_count": null,
   "metadata": {},
   "outputs": [],
   "source": [
    "import os\n",
    "from rdkit import Chem\n",
    "from rdkit.Chem import Draw\n",
    "from rdkit.Chem.Draw import IPythonConsole\n",
    "from rdkit.Chem import rdDetermineBonds\n",
    "IPythonConsole.ipython_3d = True\n",
    "import rdkit\n",
    "rdkit.__version__"
   ]
  },
  {
   "cell_type": "code",
   "execution_count": null,
   "metadata": {},
   "outputs": [],
   "source": [
    "mols = []\n",
    "names = []\n",
    "molecules_dir = \"/Users/ameyad/Documents/spherical-harmonic-net/analyses/analysed_workdirs/qm9_global_embedding_exp_with_noise/nequip/interactions=3/l=4/position_channels=5/channels=64/global_embed=True/fait=1.0/pit=1.0/step=best/molecules/\"\n",
    "#molecules_dir = \"/Users/ameyad/Documents/spherical-harmonic-net/analyses/molecules/downloaded\"\n",
    "for molecules_file in os.listdir(molecules_dir):\n",
    "    if not molecules_file.endswith(\".xyz\"):\n",
    "        continue\n",
    "\n",
    "    mol = Chem.MolFromXYZFile(os.path.join(molecules_dir, molecules_file))\n",
    "    mol = Chem.Mol(mol)\n",
    "    valid_charge = False\n",
    "    for charge in [0, -1, 1]:\n",
    "        try:\n",
    "            rdDetermineBonds.DetermineBonds(mol,charge=charge)\n",
    "            valid_charge = True\n",
    "            break\n",
    "        except ValueError:\n",
    "            continue\n",
    "    \n",
    "    if not valid_charge:\n",
    "        print(f\"Could not find valid charge for {molecules_file}\")\n",
    "        continue\n",
    "    \n",
    "    print(f\"Found valid charge {charge} for {molecules_file}\")\n",
    "\n",
    "    for bond in mol.GetBonds():\n",
    "        if bond.GetBondType() == Chem.BondType.DOUBLE:\n",
    "            bond.SetStereo(Chem.BondStereo.STEREONONE)\n",
    "        elif bond.GetBondType() == Chem.BondType.SINGLE:\n",
    "            bond.SetBondDir(Chem.BondDir.NONE)\n",
    "\n",
    "    # suppl = Chem.ResonanceMolSupplier(conn_mol,Chem.ResonanceFlags.UNCONSTRAINED_ANIONS | Chem.ResonanceFlags.UNCONSTRAINED_CATIONS)\n",
    "    # for res_mol in suppl:\n",
    "    #     if res_mol is None:\n",
    "    #         continue\n",
    "    #     print(res_mol)\n",
    "    mols.append(mol)\n",
    "    names.append(molecules_file)\n",
    "\n",
    "\n",
    "Draw.MolsToGridImage(mols, molsPerRow=4, legends=names, useSVG=True)        "
   ]
  },
  {
   "cell_type": "code",
   "execution_count": null,
   "metadata": {},
   "outputs": [],
   "source": [
    "def load_molecule_sdf(file):\n",
    "    mol = Chem.SDMolSupplier(file, removeHs=False)[0]\n",
    "    if mol is None:\n",
    "        return None\n",
    "\n",
    "    positions = mol.GetConformer().GetPositions()\n",
    "    atom_types = [encoder[atom.GetAtomicNum()] for atom in mol.GetAtoms()]\n",
    "    bond_orders = rdkit.Chem.rdmolops.GetAdjacencyMatrix(mol, useBO=True)\n",
    "    return positions, atom_types, None, None, bond_orders\n",
    "\n",
    "encoder = {\n",
    "    1: 0,\n",
    "    5: 1,\n",
    "    6: 2,\n",
    "    7: 3,\n",
    "    8: 4,\n",
    "}\n",
    "path = \"/Users/ameyad/Documents/spherical-harmonic-net/analyses/analysed_workdirs/qm9_global_embedding_exp_with_noise/nequip/interactions=3/l=4/position_channels=5/channels=64/global_embed=True/fait=1.0/pit=1.0/step=best_old/bonded_and_relaxed_molecules/C6H5_seed=0.sdf\"\n",
    "load_molecule_sdf(path)"
   ]
  }
 ],
 "metadata": {
  "kernelspec": {
   "display_name": ".venv",
   "language": "python",
   "name": "python3"
  },
  "language_info": {
   "codemirror_mode": {
    "name": "ipython",
    "version": 3
   },
   "file_extension": ".py",
   "mimetype": "text/x-python",
   "name": "python",
   "nbconvert_exporter": "python",
   "pygments_lexer": "ipython3",
   "version": "3.10.12"
  },
  "orig_nbformat": 4
 },
 "nbformat": 4,
 "nbformat_minor": 2
}
