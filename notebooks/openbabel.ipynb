{
 "cells": [
  {
   "cell_type": "code",
   "execution_count": 22,
   "metadata": {},
   "outputs": [],
   "source": [
    "import ase\n",
    "import ase.build\n",
    "import numpy as np\n",
    "from openbabel import openbabel as ob\n",
    "import os\n",
    "import pickle\n",
    "import pandas as pd\n",
    "import sys\n",
    "from typing import Tuple\n",
    "\n",
    "sys.path.append('..')\n",
    "sys.path.append('../analyses')\n",
    "import qm9"
   ]
  },
  {
   "cell_type": "code",
   "execution_count": 5,
   "metadata": {},
   "outputs": [],
   "source": [
    "### from analysis.py\n",
    "def construct_molecule(molecule_str: str) -> Tuple[ase.Atoms, str]:\n",
    "    \"\"\"Returns a molecule from the given input string.\n",
    "\n",
    "    The input is interpreted either as an index for the QM9 dataset,\n",
    "    a name for ase.build.molecule(),\n",
    "    or a file with atomic numbers and coordinates for ase.io.read().\n",
    "    \"\"\"\n",
    "    # If we believe the string is a file, try to read it.\n",
    "    if os.path.exists(molecule_str):\n",
    "        filename = os.path.basename(molecule_str).split(\".\")[0]\n",
    "        return ase.io.read(molecule_str), filename\n",
    "\n",
    "    # A number is interpreted as a QM9 molecule index.\n",
    "    if molecule_str.isdigit():\n",
    "        dataset = qm9.load_qm9(\"qm9_data\")\n",
    "        molecule = dataset[int(molecule_str)]\n",
    "        return molecule, f\"qm9_index={molecule_str}\"\n",
    "\n",
    "    # If the string is a valid molecule name, try to build it.\n",
    "    molecule = ase.build.molecule(molecule_str)\n",
    "    return molecule, molecule.get_chemical_formula()"
   ]
  },
  {
   "cell_type": "code",
   "execution_count": 13,
   "metadata": {},
   "outputs": [],
   "source": [
    "methane = construct_molecule('CH4')[0]"
   ]
  },
  {
   "cell_type": "code",
   "execution_count": 15,
   "metadata": {},
   "outputs": [],
   "source": [
    "obmol = ob.OBMol()\n",
    "obmol.BeginModify()\n",
    "for p, n in zip(methane.positions, methane.numbers):\n",
    "    obatom = obmol.NewAtom()\n",
    "    obatom.SetAtomicNum(int(n))\n",
    "    obatom.SetVector(*p.tolist())\n",
    "# infer bonds and bond order\n",
    "obmol.ConnectTheDots()\n",
    "obmol.PerceiveBondOrders()\n",
    "obmol.EndModify()"
   ]
  },
  {
   "cell_type": "code",
   "execution_count": 23,
   "metadata": {},
   "outputs": [
    {
     "ename": "TypeError",
     "evalue": "Wrong number or type of arguments for overloaded function 'OBFingerprint_GetFingerprint'.\n  Possible C/C++ prototypes are:\n    OpenBabel::OBFingerprint::GetFingerprint(OpenBabel::OBBase *,std::vector< unsigned int,std::allocator< unsigned int > > &,int)\n    OpenBabel::OBFingerprint::GetFingerprint(OpenBabel::OBBase *,std::vector< unsigned int,std::allocator< unsigned int > > &)\n",
     "output_type": "error",
     "traceback": [
      "\u001b[0;31m---------------------------------------------------------------------------\u001b[0m",
      "\u001b[0;31mTypeError\u001b[0m                                 Traceback (most recent call last)",
      "Cell \u001b[0;32mIn[23], line 1\u001b[0m\n\u001b[0;32m----> 1\u001b[0m ob\u001b[39m.\u001b[39;49mOBFingerprint\u001b[39m.\u001b[39;49mGetFingerprint(obmol)\n",
      "\u001b[0;31mTypeError\u001b[0m: Wrong number or type of arguments for overloaded function 'OBFingerprint_GetFingerprint'.\n  Possible C/C++ prototypes are:\n    OpenBabel::OBFingerprint::GetFingerprint(OpenBabel::OBBase *,std::vector< unsigned int,std::allocator< unsigned int > > &,int)\n    OpenBabel::OBFingerprint::GetFingerprint(OpenBabel::OBBase *,std::vector< unsigned int,std::allocator< unsigned int > > &)\n"
     ]
    }
   ],
   "source": [
    "ob.OBFingerprint.GetFingerprint(obmol)"
   ]
  },
  {
   "cell_type": "code",
   "execution_count": null,
   "metadata": {},
   "outputs": [],
   "source": []
  }
 ],
 "metadata": {
  "kernelspec": {
   "display_name": "sh-net",
   "language": "python",
   "name": "python3"
  },
  "language_info": {
   "codemirror_mode": {
    "name": "ipython",
    "version": 3
   },
   "file_extension": ".py",
   "mimetype": "text/x-python",
   "name": "python",
   "nbconvert_exporter": "python",
   "pygments_lexer": "ipython3",
   "version": "3.10.0"
  },
  "orig_nbformat": 4
 },
 "nbformat": 4,
 "nbformat_minor": 2
}
