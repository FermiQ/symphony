{
 "cells": [
  {
   "cell_type": "code",
   "execution_count": 1,
   "metadata": {},
   "outputs": [],
   "source": [
    "from collections import namedtuple\n",
    "from io import StringIO\n",
    "from typing import Iterator, Tuple\n",
    "\n",
    "import ase\n",
    "import ase.io\n",
    "import jax\n",
    "import jax.numpy as jnp\n",
    "import jraph\n",
    "import matplotlib.pyplot as plt\n",
    "import matscipy.neighbours\n",
    "import numpy as np"
   ]
  },
  {
   "cell_type": "code",
   "execution_count": 2,
   "metadata": {},
   "outputs": [],
   "source": [
    "NodesInfo = namedtuple(\"NodesInfo\", [\"positions\", \"atomic_numbers\"])\n",
    "\n",
    "\n",
    "def ase_atoms_to_jraph_graph(atoms: ase.Atoms, cutoff: float) -> jraph.GraphsTuple:\n",
    "    receivers, senders = matscipy.neighbours.neighbour_list(\n",
    "        quantities=\"ij\",\n",
    "        positions=atoms.positions,\n",
    "        cutoff=cutoff,\n",
    "    )\n",
    "\n",
    "    return jraph.GraphsTuple(\n",
    "        nodes=NodesInfo(atoms.positions, atoms.numbers),\n",
    "        edges=None,\n",
    "        globals=None,\n",
    "        senders=senders,\n",
    "        receivers=receivers,\n",
    "        n_node=np.array([len(atoms)]),\n",
    "        n_edge=np.array([len(senders)]),\n",
    "    )\n"
   ]
  },
  {
   "cell_type": "code",
   "execution_count": 3,
   "metadata": {},
   "outputs": [],
   "source": [
    "def draw_graph(\n",
    "    positions: jnp.ndarray,\n",
    "    senders: jnp.ndarray,\n",
    "    receivers: jnp.ndarray,\n",
    "    node_color: jnp.ndarray = None,\n",
    "    edge_color: jnp.ndarray = None,\n",
    "):\n",
    "    positions -= positions.mean(axis=0)\n",
    "\n",
    "    if len(positions) > 1:\n",
    "        cov = np.cov(positions.T)\n",
    "        _, v = jnp.linalg.eigh(cov)\n",
    "        positions = positions @ v\n",
    "\n",
    "    if edge_color is None:\n",
    "        edge_color = jnp.zeros_like(senders)\n",
    "    if node_color is None:\n",
    "        node_color = jnp.zeros_like(positions[:, 0])\n",
    "\n",
    "    edge_color = edge_color.astype(jnp.float32)\n",
    "\n",
    "    plt.scatter(positions[:, 1], positions[:, 2], c=node_color, cmap=\"tab10\", zorder=2, s=100)\n",
    "    plt.axis(\"equal\")\n",
    "    for s, r, c in zip(senders, receivers, edge_color):\n",
    "        c = plt.cm.tab10(c)\n",
    "        plt.plot(positions[[s, r], 1], positions[[s, r], 2], zorder=1, color=c)\n"
   ]
  },
  {
   "cell_type": "code",
   "execution_count": 4,
   "metadata": {},
   "outputs": [],
   "source": [
    "def subgraph(graph: jraph.GraphsTuple, nodes: np.ndarray) -> jraph.GraphsTuple:\n",
    "    \"\"\"Extract a subgraph from a graph.\n",
    "\n",
    "    Args:\n",
    "        graph: The graph to extract a subgraph from.\n",
    "        nodes: The indices of the nodes to extract.\n",
    "\n",
    "    Returns:\n",
    "        The subgraph.\n",
    "    \"\"\"\n",
    "    assert len(graph.n_edge) == 1 and len(graph.n_node) == 1, \"Only single graphs supported.\"\n",
    "\n",
    "    # Find all edges that connect to the nodes.\n",
    "    edges = np.isin(graph.senders, nodes) & np.isin(graph.receivers, nodes)\n",
    "\n",
    "    new_node_indices = -np.ones(graph.n_node[0], dtype=int)\n",
    "    new_node_indices[nodes] = np.arange(len(nodes))\n",
    "\n",
    "    return jraph.GraphsTuple(\n",
    "        nodes=jax.tree_util.tree_map(lambda x: x[nodes], graph.nodes),\n",
    "        edges=jax.tree_util.tree_map(lambda x: x[edges], graph.edges),\n",
    "        globals=graph.globals,\n",
    "        senders=new_node_indices[graph.senders[edges]],\n",
    "        receivers=new_node_indices[graph.receivers[edges]],\n",
    "        n_node=np.array([len(nodes)]),\n",
    "        n_edge=np.array([np.sum(edges)]),\n",
    "    )"
   ]
  },
  {
   "cell_type": "code",
   "execution_count": 5,
   "metadata": {},
   "outputs": [],
   "source": [
    "GlobalsInfo = namedtuple(\"GlobalsInfo\", [\"stop\", \"target_position\", \"target_atomic_number\"])\n",
    "\n",
    "\n",
    "def generative_sequence(rng: jnp.ndarray, graph: jraph.GraphsTuple, epsilon: float = 0.01) -> Iterator[jraph.GraphsTuple]:\n",
    "    \"\"\"Generative sequence for a molecular graph.\n",
    "\n",
    "    Args:\n",
    "        rng: The random number generator.\n",
    "        graph: The molecular graph.\n",
    "        epsilon: Tolerance for the nearest neighbours.\n",
    "\n",
    "    Returns:\n",
    "        A generator that yields the next subgraph.\n",
    "        - The globals are:\n",
    "            - a boolean indicating whether the molecule is complete\n",
    "            - the target position and atomic number\n",
    "        - The last node is the focus node.\n",
    "    \"\"\"\n",
    "    assert len(graph.n_edge) == 1 and len(graph.n_node) == 1, \"Only single graphs supported.\"\n",
    "    assert graph.n_node[0] >= 2, \"Graph must have at least two nodes.\"\n",
    "\n",
    "    vectors = graph.nodes.positions[graph.receivers] - graph.nodes.positions[graph.senders]\n",
    "    dist = np.linalg.norm(vectors, axis=1)  # [n_edge]\n",
    "\n",
    "    # pick a random initial node\n",
    "    rng, k = jax.random.split(rng)\n",
    "    first_node = jax.random.randint(k, shape=(), minval=0, maxval=graph.n_node[0])\n",
    "\n",
    "    min_dist = dist[graph.senders == first_node].min()\n",
    "    targets = graph.receivers[(graph.senders == first_node) & (dist < min_dist + epsilon)]\n",
    "\n",
    "    # pick a random target\n",
    "    rng, k = jax.random.split(rng)\n",
    "    target = jax.random.choice(k, targets, shape=())\n",
    "\n",
    "    globals = GlobalsInfo(\n",
    "        stop=jnp.array([False], dtype=bool),  # [1]\n",
    "        target_position=graph.nodes.positions[target][None],  # [1, 3]\n",
    "        target_atomic_number=graph.nodes.atomic_numbers[target][None],  # [1]\n",
    "    )\n",
    "    yield subgraph(graph, jnp.array([first_node]))._replace(globals=globals)\n",
    "\n",
    "    visited = jnp.array([first_node, target])\n",
    "\n",
    "    for _ in range(graph.n_node[0] - 2):\n",
    "        mask = jnp.isin(graph.senders, visited) & ~jnp.isin(graph.receivers, visited)\n",
    "        min_dist = dist[mask].min()\n",
    "\n",
    "        maks = mask & (dist < min_dist + epsilon)\n",
    "        i = jnp.where(maks)[0]\n",
    "        \n",
    "        # pick a random edge\n",
    "        rng, k = jax.random.split(rng)\n",
    "        edge = jax.random.choice(k, i, shape=())\n",
    "\n",
    "        focus_node = graph.senders[edge]\n",
    "        target_node = graph.receivers[edge]\n",
    "\n",
    "        globals = GlobalsInfo(\n",
    "            stop=jnp.array([False], dtype=bool),  # [1]\n",
    "            target_position=graph.nodes.positions[target_node][None],  # [1, 3]\n",
    "            target_atomic_number=graph.nodes.atomic_numbers[target_node][None],  # [1]\n",
    "        )\n",
    "        yield subgraph(graph, visited)._replace(globals=globals)\n",
    "\n",
    "        visited = jnp.concatenate([visited, jnp.array([target_node])])\n",
    "\n",
    "    globals = GlobalsInfo(\n",
    "        stop=jnp.array([True], dtype=bool),  # [1]\n",
    "        target_position=jnp.zeros((1, 3)),  # [1, 3]\n",
    "        target_atomic_number=jnp.array([0], dtype=int),  # [1]\n",
    "    )\n",
    "    yield graph._replace(globals=globals)"
   ]
  },
  {
   "cell_type": "code",
   "execution_count": 6,
   "metadata": {},
   "outputs": [
    {
     "name": "stderr",
     "output_type": "stream",
     "text": [
      "WARNING:absl:No GPU/TPU found, falling back to CPU. (Set TF_CPP_MIN_LOG_LEVEL=0 and rerun for more info.)\n"
     ]
    },
    {
     "data": {
      "image/png": "[encoded data removed]",
      "text/plain": [
       "<Figure size 432x288 with 1 Axes>"
      ]
     },
     "metadata": {
      "needs_background": "light"
     },
     "output_type": "display_data"
    },
    {
     "data": {
      "image/png": "[encoded data removed]",
      "text/plain": [
       "<Figure size 432x288 with 1 Axes>"
      ]
     },
     "metadata": {
      "needs_background": "light"
     },
     "output_type": "display_data"
    },
    {
     "data": {
      "image/png": "[encoded data removed]",
      "text/plain": [
       "<Figure size 432x288 with 1 Axes>"
      ]
     },
     "metadata": {
      "needs_background": "light"
     },
     "output_type": "display_data"
    },
    {
     "data": {
      "image/png": "[encoded data removed]",
      "text/plain": [
       "<Figure size 432x288 with 1 Axes>"
      ]
     },
     "metadata": {
      "needs_background": "light"
     },
     "output_type": "display_data"
    }
   ],
   "source": [
    "ammonia = ase.io.read(\n",
    "    StringIO(\n",
    "        \"\"\"4\n",
    "Azane\n",
    "  N     -0.0353     -0.0440      0.0285\n",
    "  H      0.2658      0.6496      0.6822\n",
    "  H      0.7774     -0.4532     -0.3850\n",
    "  H     -0.5522      0.4148     -0.6935\n",
    "\"\"\"\n",
    "    ),\n",
    "    format=\"xyz\",\n",
    ")\n",
    "ammonia = ase_atoms_to_jraph_graph(ammonia, cutoff=1.5)\n",
    "\n",
    "\n",
    "for graph in generative_sequence(jax.random.PRNGKey(1), ammonia):\n",
    "    plt.figure()\n",
    "    draw_graph(\n",
    "        jnp.concatenate([graph.nodes.positions, graph.globals.target_position]),\n",
    "        graph.senders,\n",
    "        graph.receivers,\n",
    "        node_color=jnp.concatenate([graph.nodes.atomic_numbers, jnp.array([0])]),\n",
    "    )\n"
   ]
  },
  {
   "cell_type": "code",
   "execution_count": 7,
   "metadata": {},
   "outputs": [
    {
     "data": {
      "text/plain": [
       "GraphsTuple(nodes=NodesInfo(positions=array([[-0.0353, -0.044 ,  0.0285],\n",
       "       [ 0.2658,  0.6496,  0.6822],\n",
       "       [ 0.7774, -0.4532, -0.385 ],\n",
       "       [-0.5522,  0.4148, -0.6935]]), atomic_numbers=array([7, 1, 1, 1])), edges=None, receivers=array([0, 0, 0, 1, 2, 3], dtype=int32), senders=array([1, 2, 3, 0, 0, 0], dtype=int32), globals=None, n_node=array([4]), n_edge=array([6]))"
      ]
     },
     "execution_count": 7,
     "metadata": {},
     "output_type": "execute_result"
    }
   ],
   "source": [
    "ammonia"
   ]
  },
  {
   "cell_type": "code",
   "execution_count": null,
   "metadata": {},
   "outputs": [],
   "source": []
  },
  {
   "cell_type": "code",
   "execution_count": null,
   "metadata": {},
   "outputs": [],
   "source": []
  }
 ],
 "metadata": {
  "kernelspec": {
   "display_name": "sh-net",
   "language": "python",
   "name": "python3"
  },
  "language_info": {
   "codemirror_mode": {
    "name": "ipython",
    "version": 3
   },
   "file_extension": ".py",
   "mimetype": "text/x-python",
   "name": "python",
   "nbconvert_exporter": "python",
   "pygments_lexer": "ipython3",
   "version": "3.10.6"
  },
  "orig_nbformat": 4,
  "vscode": {
   "interpreter": {
    "hash": "6812f6bea93996b24571ab32489b66aa23cd67ae28674218a16278d3e0431607"
   }
  }
 },
 "nbformat": 4,
 "nbformat_minor": 2
}
