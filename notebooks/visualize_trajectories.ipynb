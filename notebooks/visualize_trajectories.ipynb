{
 "cells": [
  {
   "cell_type": "code",
   "execution_count": 1,
   "metadata": {},
   "outputs": [
    {
     "data": {
      "application/vnd.jupyter.widget-view+json": {
       "model_id": "93ba0218629b4a3a9903b5e89458f0a9",
       "version_major": 2,
       "version_minor": 0
      },
      "text/plain": []
     },
     "metadata": {},
     "output_type": "display_data"
    }
   ],
   "source": [
    "import ase.io\n",
    "import nglview"
   ]
  },
  {
   "cell_type": "code",
   "execution_count": 1,
   "metadata": {},
   "outputs": [
    {
     "ename": "ModuleNotFoundError",
     "evalue": "No module named 'pymol'",
     "output_type": "error",
     "traceback": [
      "\u001b[0;31m---------------------------------------------------------------------------\u001b[0m",
      "\u001b[0;31mModuleNotFoundError\u001b[0m                       Traceback (most recent call last)",
      "Cell \u001b[0;32mIn[1], line 1\u001b[0m\n\u001b[0;32m----> 1\u001b[0m \u001b[39mfrom\u001b[39;00m \u001b[39mpymol\u001b[39;00m \u001b[39mimport\u001b[39;00m cmd\n\u001b[1;32m      2\u001b[0m cmd\u001b[39m.\u001b[39mfragment(\u001b[39m'\u001b[39m\u001b[39mala\u001b[39m\u001b[39m'\u001b[39m)\n\u001b[1;32m      3\u001b[0m cmd\u001b[39m.\u001b[39morient()\n",
      "\u001b[0;31mModuleNotFoundError\u001b[0m: No module named 'pymol'"
     ]
    }
   ],
   "source": [
    "from pymol import cmd\n",
    "cmd.fragment('ala')\n",
    "cmd.orient()"
   ]
  },
  {
   "cell_type": "code",
   "execution_count": 8,
   "metadata": {},
   "outputs": [
    {
     "ename": "InvalidULMFileError",
     "evalue": "This is not an ULM formatted file.",
     "output_type": "error",
     "traceback": [
      "\u001b[0;31m---------------------------------------------------------------------------\u001b[0m",
      "\u001b[0;31mInvalidULMFileError\u001b[0m                       Traceback (most recent call last)",
      "Cell \u001b[0;32mIn[8], line 5\u001b[0m\n\u001b[1;32m      3\u001b[0m     traj \u001b[39m=\u001b[39m ase\u001b[39m.\u001b[39mio\u001b[39m.\u001b[39mread(filename, index\u001b[39m=\u001b[39m\u001b[39m'\u001b[39m\u001b[39m:\u001b[39m\u001b[39m'\u001b[39m)\n\u001b[1;32m      4\u001b[0m \u001b[39melif\u001b[39;00m filename\u001b[39m.\u001b[39mendswith(\u001b[39m'\u001b[39m\u001b[39m.traj\u001b[39m\u001b[39m'\u001b[39m):\n\u001b[0;32m----> 5\u001b[0m     traj \u001b[39m=\u001b[39m ase\u001b[39m.\u001b[39;49mio\u001b[39m.\u001b[39;49mTrajectory(filename)\n\u001b[1;32m      6\u001b[0m view \u001b[39m=\u001b[39m nglview\u001b[39m.\u001b[39mshow_asetraj(traj)\n\u001b[1;32m      7\u001b[0m view\n",
      "File \u001b[0;32m~/Documents/spherical-harmonic-net/.venv/lib/python3.10/site-packages/ase/io/trajectory.py:50\u001b[0m, in \u001b[0;36mTrajectory\u001b[0;34m(filename, mode, atoms, properties, master)\u001b[0m\n\u001b[1;32m     21\u001b[0m \u001b[39m\u001b[39m\u001b[39m\"\"\"A Trajectory can be created in read, write or append mode.\u001b[39;00m\n\u001b[1;32m     22\u001b[0m \n\u001b[1;32m     23\u001b[0m \u001b[39mParameters:\u001b[39;00m\n\u001b[0;32m   (...)\u001b[0m\n\u001b[1;32m     47\u001b[0m \u001b[39mThe atoms, properties and master arguments are ignores in read mode.\u001b[39;00m\n\u001b[1;32m     48\u001b[0m \u001b[39m\"\"\"\u001b[39;00m\n\u001b[1;32m     49\u001b[0m \u001b[39mif\u001b[39;00m mode \u001b[39m==\u001b[39m \u001b[39m'\u001b[39m\u001b[39mr\u001b[39m\u001b[39m'\u001b[39m:\n\u001b[0;32m---> 50\u001b[0m     \u001b[39mreturn\u001b[39;00m TrajectoryReader(filename)\n\u001b[1;32m     51\u001b[0m \u001b[39mreturn\u001b[39;00m TrajectoryWriter(filename, mode, atoms, properties, master\u001b[39m=\u001b[39mmaster)\n",
      "File \u001b[0;32m~/Documents/spherical-harmonic-net/.venv/lib/python3.10/site-packages/ase/io/trajectory.py:225\u001b[0m, in \u001b[0;36mTrajectoryReader.__init__\u001b[0;34m(self, filename)\u001b[0m\n\u001b[1;32m    222\u001b[0m \u001b[39mself\u001b[39m\u001b[39m.\u001b[39mpbc \u001b[39m=\u001b[39m \u001b[39mNone\u001b[39;00m\n\u001b[1;32m    223\u001b[0m \u001b[39mself\u001b[39m\u001b[39m.\u001b[39mmasses \u001b[39m=\u001b[39m \u001b[39mNone\u001b[39;00m\n\u001b[0;32m--> 225\u001b[0m \u001b[39mself\u001b[39;49m\u001b[39m.\u001b[39;49m_open(filename)\n",
      "File \u001b[0;32m~/Documents/spherical-harmonic-net/.venv/lib/python3.10/site-packages/ase/io/trajectory.py:235\u001b[0m, in \u001b[0;36mTrajectoryReader._open\u001b[0;34m(self, filename)\u001b[0m\n\u001b[1;32m    233\u001b[0m \u001b[39mdef\u001b[39;00m \u001b[39m_open\u001b[39m(\u001b[39mself\u001b[39m, filename):\n\u001b[1;32m    234\u001b[0m     \u001b[39mimport\u001b[39;00m \u001b[39mase\u001b[39;00m\u001b[39m.\u001b[39;00m\u001b[39mio\u001b[39;00m\u001b[39m.\u001b[39;00m\u001b[39mulm\u001b[39;00m \u001b[39mas\u001b[39;00m \u001b[39mulm\u001b[39;00m\n\u001b[0;32m--> 235\u001b[0m     \u001b[39mself\u001b[39m\u001b[39m.\u001b[39mbackend \u001b[39m=\u001b[39m ulm\u001b[39m.\u001b[39;49mopen(filename, \u001b[39m'\u001b[39;49m\u001b[39mr\u001b[39;49m\u001b[39m'\u001b[39;49m)\n\u001b[1;32m    236\u001b[0m     \u001b[39mself\u001b[39m\u001b[39m.\u001b[39m_read_header()\n",
      "File \u001b[0;32m~/Documents/spherical-harmonic-net/.venv/lib/python3.10/site-packages/ase/io/ulm.py:156\u001b[0m, in \u001b[0;36mopen\u001b[0;34m(filename, mode, index, tag)\u001b[0m\n\u001b[1;32m    154\u001b[0m \u001b[39mif\u001b[39;00m mode \u001b[39m==\u001b[39m \u001b[39m'\u001b[39m\u001b[39mr\u001b[39m\u001b[39m'\u001b[39m:\n\u001b[1;32m    155\u001b[0m     \u001b[39massert\u001b[39;00m tag \u001b[39mis\u001b[39;00m \u001b[39mNone\u001b[39;00m\n\u001b[0;32m--> 156\u001b[0m     \u001b[39mreturn\u001b[39;00m Reader(filename, index \u001b[39mor\u001b[39;49;00m \u001b[39m0\u001b[39;49m)\n\u001b[1;32m    157\u001b[0m \u001b[39mif\u001b[39;00m mode \u001b[39mnot\u001b[39;00m \u001b[39min\u001b[39;00m \u001b[39m'\u001b[39m\u001b[39mwa\u001b[39m\u001b[39m'\u001b[39m:\n\u001b[1;32m    158\u001b[0m     \u001b[39m2\u001b[39m \u001b[39m/\u001b[39m \u001b[39m0\u001b[39m\n",
      "File \u001b[0;32m~/Documents/spherical-harmonic-net/.venv/lib/python3.10/site-packages/ase/io/ulm.py:484\u001b[0m, in \u001b[0;36mReader.__init__\u001b[0;34m(self, fd, index, data, _little_endian)\u001b[0m\n\u001b[1;32m    480\u001b[0m \u001b[39mself\u001b[39m\u001b[39m.\u001b[39m_index \u001b[39m=\u001b[39m index\n\u001b[1;32m    482\u001b[0m \u001b[39mif\u001b[39;00m data \u001b[39mis\u001b[39;00m \u001b[39mNone\u001b[39;00m:\n\u001b[1;32m    483\u001b[0m     (\u001b[39mself\u001b[39m\u001b[39m.\u001b[39m_tag, \u001b[39mself\u001b[39m\u001b[39m.\u001b[39m_version, \u001b[39mself\u001b[39m\u001b[39m.\u001b[39m_nitems, \u001b[39mself\u001b[39m\u001b[39m.\u001b[39m_pos0,\n\u001b[0;32m--> 484\u001b[0m      \u001b[39mself\u001b[39m\u001b[39m.\u001b[39m_offsets) \u001b[39m=\u001b[39m read_header(fd)\n\u001b[1;32m    485\u001b[0m     \u001b[39mif\u001b[39;00m \u001b[39mself\u001b[39m\u001b[39m.\u001b[39m_nitems \u001b[39m>\u001b[39m \u001b[39m0\u001b[39m:\n\u001b[1;32m    486\u001b[0m         data \u001b[39m=\u001b[39m \u001b[39mself\u001b[39m\u001b[39m.\u001b[39m_read_data(index)\n",
      "File \u001b[0;32m~/Documents/spherical-harmonic-net/.venv/lib/python3.10/site-packages/ase/io/ulm.py:458\u001b[0m, in \u001b[0;36mread_header\u001b[0;34m(fd)\u001b[0m\n\u001b[1;32m    456\u001b[0m fd\u001b[39m.\u001b[39mseek(\u001b[39m0\u001b[39m)\n\u001b[1;32m    457\u001b[0m \u001b[39mif\u001b[39;00m fd\u001b[39m.\u001b[39mread(\u001b[39m8\u001b[39m) \u001b[39mnot\u001b[39;00m \u001b[39min\u001b[39;00m [\u001b[39mb\u001b[39m\u001b[39m'\u001b[39m\u001b[39m- of Ulm\u001b[39m\u001b[39m'\u001b[39m, \u001b[39mb\u001b[39m\u001b[39m'\u001b[39m\u001b[39mAFFormat\u001b[39m\u001b[39m'\u001b[39m]:\n\u001b[0;32m--> 458\u001b[0m     \u001b[39mraise\u001b[39;00m InvalidULMFileError(\u001b[39m'\u001b[39m\u001b[39mThis is not an ULM formatted file.\u001b[39m\u001b[39m'\u001b[39m)\n\u001b[1;32m    459\u001b[0m tag \u001b[39m=\u001b[39m fd\u001b[39m.\u001b[39mread(\u001b[39m16\u001b[39m)\u001b[39m.\u001b[39mdecode(\u001b[39m'\u001b[39m\u001b[39mascii\u001b[39m\u001b[39m'\u001b[39m)\u001b[39m.\u001b[39mrstrip()\n\u001b[1;32m    460\u001b[0m version, nitems, pos0 \u001b[39m=\u001b[39m readints(fd, \u001b[39m3\u001b[39m)\n",
      "\u001b[0;31mInvalidULMFileError\u001b[0m: This is not an ULM formatted file."
     ]
    }
   ],
   "source": [
    "filename = '/Users/ameyad/Documents/spherical-harmonic-net/analyses/relaxations/v4/mace/interactions=1/l=1/channels=32/beta=1.0/molecule_49.traj'\n",
    "if filename.endswith('.xyz'):\n",
    "    traj = ase.io.read(filename, index=':')\n",
    "elif filename.endswith('.traj'):\n",
    "    traj = ase.io.Trajectory(filename)\n",
    "view = nglview.show_asetraj(traj)\n",
    "view"
   ]
  },
  {
   "cell_type": "code",
   "execution_count": 6,
   "metadata": {},
   "outputs": [
    {
     "data": {
      "application/vnd.jupyter.widget-view+json": {
       "model_id": "0d466daea29147bd8df2271d14cdbed6",
       "version_major": 2,
       "version_minor": 0
      },
      "text/plain": [
       "IntProgress(value=0, description='Rendering ...', max=11)"
      ]
     },
     "execution_count": 6,
     "metadata": {},
     "output_type": "execute_result"
    }
   ],
   "source": [
    "from nglview.contrib.movie import MovieMaker\n",
    "download_folder = './'\n",
    "output = 'my.gif'\n",
    "mov = MovieMaker(view, download_folder=download_folder, output=output)\n",
    "mov.make()"
   ]
  }
 ],
 "metadata": {
  "kernelspec": {
   "display_name": ".venv",
   "language": "python",
   "name": "python3"
  },
  "language_info": {
   "codemirror_mode": {
    "name": "ipython",
    "version": 3
   },
   "file_extension": ".py",
   "mimetype": "text/x-python",
   "name": "python",
   "nbconvert_exporter": "python",
   "pygments_lexer": "ipython3",
   "version": "3.10.10"
  },
  "orig_nbformat": 4
 },
 "nbformat": 4,
 "nbformat_minor": 2
}
