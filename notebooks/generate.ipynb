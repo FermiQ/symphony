{
 "cells": [
  {
   "cell_type": "code",
   "execution_count": 13,
   "metadata": {},
   "outputs": [],
   "source": [
    "import os\n",
    "import pickle\n",
    "import sys\n",
    "\n",
    "import ase\n",
    "import ase.data\n",
    "import ase.io\n",
    "import ase.visualize\n",
    "import jax\n",
    "import jax.numpy as jnp\n",
    "import jraph\n",
    "import ml_collections\n",
    "import numpy as np\n",
    "import tqdm\n",
    "import yaml\n",
    "\n",
    "from typing import List\n",
    "\n",
    "os.environ[\"CUDA_VISIBLE_DEVICES\"] = \"4\"\n",
    "\n",
    "sys.path.append('..')"
   ]
  },
  {
   "cell_type": "code",
   "execution_count": 6,
   "metadata": {},
   "outputs": [
    {
     "name": "stderr",
     "output_type": "stream",
     "text": [
      "/Users/songk/miniconda3/envs/sh-net/lib/python3.10/site-packages/tqdm/auto.py:22: TqdmWarning: IProgress not found. Please update jupyter and ipywidgets. See https://ipywidgets.readthedocs.io/en/stable/user_install.html\n",
      "  from .autonotebook import tqdm as notebook_tqdm\n",
      "/Users/songk/miniconda3/envs/sh-net/lib/python3.10/site-packages/flax/struct.py:136: FutureWarning: jax.tree_util.register_keypaths is deprecated, and will be removed in a future release. Please use `register_pytree_with_keys()` instead.\n",
      "  jax.tree_util.register_keypaths(data_clz, keypaths)\n"
     ]
    }
   ],
   "source": [
    "import datatypes\n",
    "import input_pipeline\n",
    "import qm9\n",
    "from analyses import analysis\n",
    "from models import ATOMIC_NUMBERS, RADII, create_model"
   ]
  },
  {
   "cell_type": "code",
   "execution_count": 7,
   "metadata": {},
   "outputs": [],
   "source": [
    "# path = \"/home/ameyad/spherical-harmonic-net/workdirs/v3/mace/interactions=3/l=2/channels=32\"\n",
    "# path = \"/home/ameyad/spherical-harmonic-net/workdirs/v3/e3schnet/interactions=4/l=3/channels=32\"\n",
    "# path = \"/home/ameyad/spherical-harmonic-net/workdirs/v3/mace/interactions=4/l=3/channels=32\"\n",
    "path = \"/Users/songk/atomicarchitects/spherical_harmonic_net/workdirs/v3/mace/interactions=4/l=5/channels=32\"\n",
    "\n",
    "with open(path + \"/checkpoints/params.pkl\", 'rb') as f:\n",
    "    params = pickle.load(f)\n",
    "with open(path + \"/config.yml\", \"rt\") as config_file:\n",
    "    config = yaml.unsafe_load(config_file)\n",
    "\n",
    "assert config is not None\n",
    "config = ml_collections.ConfigDict(config)"
   ]
  },
  {
   "cell_type": "code",
   "execution_count": 8,
   "metadata": {},
   "outputs": [
    {
     "data": {
      "text/plain": [
       "activation: softplus\n",
       "avg_num_neighbors: 15.0\n",
       "checkpoint_every_steps: 1000\n",
       "eval_every_steps: 1000\n",
       "focus_predictor:\n",
       "  latent_size: 128\n",
       "  num_layers: 2\n",
       "learning_rate: 0.001\n",
       "log_every_steps: 1000\n",
       "loss_kwargs:\n",
       "  radius_rbf_variance: 0.001\n",
       "max_ell: 5\n",
       "max_n_edges: 1024\n",
       "max_n_graphs: 64\n",
       "max_n_nodes: 512\n",
       "model: MACE\n",
       "nn_cutoff: 5.0\n",
       "nn_tolerance: 0.5\n",
       "num_basis_fns: 8\n",
       "num_channels: 32\n",
       "num_eval_steps: 100\n",
       "num_eval_steps_at_end_of_training: 5000\n",
       "num_interactions: 4\n",
       "num_species: 5\n",
       "num_train_steps: 20000\n",
       "optimizer: adam\n",
       "r_max: 5\n",
       "rng_seed: 0\n",
       "root_dir: /Users/songk/atomicarchitects/spherical_harmonic_net/qm9_data_tf/data_tf2\n",
       "target_position_predictor:\n",
       "  res_alpha: 359\n",
       "  res_beta: 180\n",
       "target_species_predictor:\n",
       "  latent_size: 128\n",
       "  num_layers: 2\n",
       "test_molecules: !!python/tuple\n",
       "- 53568\n",
       "- 133920\n",
       "train_molecules: !!python/tuple\n",
       "- 0\n",
       "- 47616\n",
       "val_molecules: !!python/tuple\n",
       "- 47616\n",
       "- 53568"
      ]
     },
     "execution_count": 8,
     "metadata": {},
     "output_type": "execute_result"
    }
   ],
   "source": [
    "config.target_position_predictor.res_alpha = 359\n",
    "config.target_position_predictor.res_beta = 180\n",
    "\n",
    "config"
   ]
  },
  {
   "cell_type": "code",
   "execution_count": 9,
   "metadata": {},
   "outputs": [],
   "source": [
    "model = create_model(config, run_in_evaluation_mode=True)\n",
    "apply_fn = jax.jit(model.apply)\n",
    "\n",
    "def apply(frag, seed, beta):\n",
    "    frags = jraph.pad_with_graphs(frag, 32, 1024, 2)\n",
    "    preds = apply_fn(params, seed, frags, beta)\n",
    "    pred = jraph.unpad_with_graphs(preds)\n",
    "    return pred"
   ]
  },
  {
   "cell_type": "code",
   "execution_count": 10,
   "metadata": {},
   "outputs": [],
   "source": [
    "def append_pred_to_ase_atoms(molecule: ase.Atoms, pred: datatypes.Predictions) -> ase.Atoms:\n",
    "    focus = pred.globals.focus_indices.squeeze(0)\n",
    "    pos_focus = molecule.positions[focus]\n",
    "    pos_rel = pred.globals.position_vectors.squeeze(0)\n",
    "\n",
    "    new_specie = jnp.array(\n",
    "        ATOMIC_NUMBERS[pred.globals.target_species.squeeze(0).item()]\n",
    "    )\n",
    "    new_position = pos_focus + pos_rel\n",
    "\n",
    "    return ase.Atoms(\n",
    "        positions=jnp.concatenate([molecule.positions, new_position[None, :]], axis=0),\n",
    "        numbers=jnp.concatenate([molecule.numbers, new_specie[None]], axis=0),\n",
    "    )\n"
   ]
  },
  {
   "cell_type": "code",
   "execution_count": 11,
   "metadata": {},
   "outputs": [
    {
     "name": "stdout",
     "output_type": "stream",
     "text": [
      "v3_mace_interactions=4_l=5_channels=32_beta=1\n"
     ]
    }
   ],
   "source": [
    "name = path.split(\"/\")[-5:]\n",
    "name = \"_\".join(name)\n",
    "\n",
    "beta = 1\n",
    "\n",
    "name = f\"{name}_beta={beta}\"\n",
    "\n",
    "print(name)"
   ]
  },
  {
   "cell_type": "code",
   "execution_count": 12,
   "metadata": {},
   "outputs": [
    {
     "name": "stderr",
     "output_type": "stream",
     "text": [
      "  2%|▏         | 1/64 [02:34<2:42:35, 154.86s/it]"
     ]
    },
    {
     "name": "stdout",
     "output_type": "stream",
     "text": [
      "Generated molecule 0 of 15 atoms\n"
     ]
    },
    {
     "name": "stderr",
     "output_type": "stream",
     "text": [
      "  3%|▎         | 2/64 [02:56<1:19:00, 76.45s/it] "
     ]
    },
    {
     "name": "stdout",
     "output_type": "stream",
     "text": [
      "Generated molecule 1 of 14 atoms\n"
     ]
    },
    {
     "name": "stderr",
     "output_type": "stream",
     "text": [
      "  5%|▍         | 3/64 [03:10<48:40, 47.88s/it]  "
     ]
    },
    {
     "name": "stdout",
     "output_type": "stream",
     "text": [
      "Generated molecule 2 of 9 atoms\n"
     ]
    },
    {
     "name": "stderr",
     "output_type": "stream",
     "text": [
      "  6%|▋         | 4/64 [04:00<48:36, 48.60s/it]"
     ]
    },
    {
     "name": "stdout",
     "output_type": "stream",
     "text": [
      "Generated molecule 3 of 30 atoms\n"
     ]
    },
    {
     "name": "stderr",
     "output_type": "stream",
     "text": [
      "  8%|▊         | 5/64 [04:38<44:15, 45.00s/it]"
     ]
    },
    {
     "name": "stdout",
     "output_type": "stream",
     "text": [
      "Generated molecule 4 of 24 atoms\n"
     ]
    },
    {
     "name": "stderr",
     "output_type": "stream",
     "text": [
      "  9%|▉         | 6/64 [04:52<33:22, 34.53s/it]"
     ]
    },
    {
     "name": "stdout",
     "output_type": "stream",
     "text": [
      "Generated molecule 5 of 9 atoms\n"
     ]
    },
    {
     "name": "stderr",
     "output_type": "stream",
     "text": [
      " 11%|█         | 7/64 [05:11<27:56, 29.41s/it]"
     ]
    },
    {
     "name": "stdout",
     "output_type": "stream",
     "text": [
      "Generated molecule 6 of 12 atoms\n"
     ]
    },
    {
     "name": "stderr",
     "output_type": "stream",
     "text": [
      " 12%|█▎        | 8/64 [05:31<24:34, 26.33s/it]"
     ]
    },
    {
     "name": "stdout",
     "output_type": "stream",
     "text": [
      "Generated molecule 7 of 12 atoms\n"
     ]
    },
    {
     "name": "stderr",
     "output_type": "stream",
     "text": [
      " 14%|█▍        | 9/64 [05:49<21:39, 23.62s/it]"
     ]
    },
    {
     "name": "stdout",
     "output_type": "stream",
     "text": [
      "Generated molecule 8 of 11 atoms\n"
     ]
    },
    {
     "name": "stderr",
     "output_type": "stream",
     "text": [
      " 16%|█▌        | 10/64 [06:28<25:36, 28.46s/it]"
     ]
    },
    {
     "name": "stdout",
     "output_type": "stream",
     "text": [
      "Generated molecule 9 of 25 atoms\n"
     ]
    },
    {
     "name": "stderr",
     "output_type": "stream",
     "text": [
      " 19%|█▉        | 12/64 [07:52<29:57, 34.58s/it]"
     ]
    },
    {
     "name": "stdout",
     "output_type": "stream",
     "text": [
      "Generated molecule 11 of 21 atoms\n"
     ]
    },
    {
     "name": "stderr",
     "output_type": "stream",
     "text": [
      " 20%|██        | 13/64 [08:06<24:05, 28.35s/it]"
     ]
    },
    {
     "name": "stdout",
     "output_type": "stream",
     "text": [
      "Generated molecule 12 of 9 atoms\n"
     ]
    },
    {
     "name": "stderr",
     "output_type": "stream",
     "text": [
      " 22%|██▏       | 14/64 [08:32<23:06, 27.74s/it]"
     ]
    },
    {
     "name": "stdout",
     "output_type": "stream",
     "text": [
      "Generated molecule 13 of 17 atoms\n"
     ]
    },
    {
     "name": "stderr",
     "output_type": "stream",
     "text": [
      " 27%|██▋       | 17/64 [10:27<25:14, 32.22s/it]"
     ]
    },
    {
     "name": "stdout",
     "output_type": "stream",
     "text": [
      "Generated molecule 16 of 12 atoms\n"
     ]
    },
    {
     "name": "stderr",
     "output_type": "stream",
     "text": [
      " 30%|██▉       | 19/64 [11:21<20:45, 27.67s/it]"
     ]
    },
    {
     "name": "stdout",
     "output_type": "stream",
     "text": [
      "Generated molecule 18 of 4 atoms\n"
     ]
    },
    {
     "name": "stderr",
     "output_type": "stream",
     "text": [
      " 31%|███▏      | 20/64 [11:27<15:34, 21.23s/it]"
     ]
    },
    {
     "name": "stdout",
     "output_type": "stream",
     "text": [
      "Generated molecule 19 of 4 atoms\n"
     ]
    },
    {
     "name": "stderr",
     "output_type": "stream",
     "text": [
      " 33%|███▎      | 21/64 [11:45<14:38, 20.44s/it]"
     ]
    },
    {
     "name": "stdout",
     "output_type": "stream",
     "text": [
      "Generated molecule 20 of 12 atoms\n"
     ]
    },
    {
     "name": "stderr",
     "output_type": "stream",
     "text": [
      " 34%|███▍      | 22/64 [12:08<14:52, 21.25s/it]"
     ]
    },
    {
     "name": "stdout",
     "output_type": "stream",
     "text": [
      "Generated molecule 21 of 15 atoms\n"
     ]
    },
    {
     "name": "stderr",
     "output_type": "stream",
     "text": [
      " 36%|███▌      | 23/64 [12:25<13:38, 19.97s/it]"
     ]
    },
    {
     "name": "stdout",
     "output_type": "stream",
     "text": [
      "Generated molecule 22 of 11 atoms\n"
     ]
    },
    {
     "name": "stderr",
     "output_type": "stream",
     "text": [
      " 39%|███▉      | 25/64 [13:30<16:12, 24.94s/it]"
     ]
    },
    {
     "name": "stdout",
     "output_type": "stream",
     "text": [
      "Generated molecule 24 of 11 atoms\n"
     ]
    },
    {
     "name": "stderr",
     "output_type": "stream",
     "text": [
      " 41%|████      | 26/64 [13:43<13:24, 21.16s/it]"
     ]
    },
    {
     "name": "stdout",
     "output_type": "stream",
     "text": [
      "Generated molecule 25 of 8 atoms\n"
     ]
    },
    {
     "name": "stderr",
     "output_type": "stream",
     "text": [
      " 42%|████▏     | 27/64 [14:03<12:51, 20.85s/it]"
     ]
    },
    {
     "name": "stdout",
     "output_type": "stream",
     "text": [
      "Generated molecule 26 of 13 atoms\n"
     ]
    },
    {
     "name": "stderr",
     "output_type": "stream",
     "text": [
      " 44%|████▍     | 28/64 [14:20<11:53, 19.83s/it]"
     ]
    },
    {
     "name": "stdout",
     "output_type": "stream",
     "text": [
      "Generated molecule 27 of 11 atoms\n"
     ]
    },
    {
     "name": "stderr",
     "output_type": "stream",
     "text": [
      " 45%|████▌     | 29/64 [14:42<11:54, 20.42s/it]"
     ]
    },
    {
     "name": "stdout",
     "output_type": "stream",
     "text": [
      "Generated molecule 28 of 14 atoms\n"
     ]
    },
    {
     "name": "stderr",
     "output_type": "stream",
     "text": [
      " 48%|████▊     | 31/64 [15:39<12:22, 22.49s/it]"
     ]
    },
    {
     "name": "stdout",
     "output_type": "stream",
     "text": [
      "Generated molecule 30 of 4 atoms\n"
     ]
    },
    {
     "name": "stderr",
     "output_type": "stream",
     "text": [
      " 52%|█████▏    | 33/64 [16:59<15:47, 30.57s/it]"
     ]
    },
    {
     "name": "stdout",
     "output_type": "stream",
     "text": [
      "Generated molecule 32 of 20 atoms\n"
     ]
    },
    {
     "name": "stderr",
     "output_type": "stream",
     "text": [
      " 53%|█████▎    | 34/64 [17:27<14:53, 29.78s/it]"
     ]
    },
    {
     "name": "stdout",
     "output_type": "stream",
     "text": [
      "Generated molecule 33 of 18 atoms\n"
     ]
    },
    {
     "name": "stderr",
     "output_type": "stream",
     "text": [
      " 55%|█████▍    | 35/64 [17:40<12:05, 25.03s/it]"
     ]
    },
    {
     "name": "stdout",
     "output_type": "stream",
     "text": [
      "Generated molecule 34 of 9 atoms\n"
     ]
    },
    {
     "name": "stderr",
     "output_type": "stream",
     "text": [
      " 56%|█████▋    | 36/64 [18:22<14:01, 30.06s/it]"
     ]
    },
    {
     "name": "stdout",
     "output_type": "stream",
     "text": [
      "Generated molecule 35 of 27 atoms\n"
     ]
    },
    {
     "name": "stderr",
     "output_type": "stream",
     "text": [
      " 58%|█████▊    | 37/64 [18:58<14:17, 31.77s/it]"
     ]
    },
    {
     "name": "stdout",
     "output_type": "stream",
     "text": [
      "Generated molecule 36 of 23 atoms\n"
     ]
    },
    {
     "name": "stderr",
     "output_type": "stream",
     "text": [
      " 59%|█████▉    | 38/64 [19:22<12:46, 29.48s/it]"
     ]
    },
    {
     "name": "stdout",
     "output_type": "stream",
     "text": [
      "Generated molecule 37 of 15 atoms\n"
     ]
    },
    {
     "name": "stderr",
     "output_type": "stream",
     "text": [
      " 61%|██████    | 39/64 [19:38<10:34, 25.36s/it]"
     ]
    },
    {
     "name": "stdout",
     "output_type": "stream",
     "text": [
      "Generated molecule 38 of 10 atoms\n"
     ]
    },
    {
     "name": "stderr",
     "output_type": "stream",
     "text": [
      " 62%|██████▎   | 40/64 [19:55<09:10, 22.94s/it]"
     ]
    },
    {
     "name": "stdout",
     "output_type": "stream",
     "text": [
      "Generated molecule 39 of 11 atoms\n"
     ]
    },
    {
     "name": "stderr",
     "output_type": "stream",
     "text": [
      " 64%|██████▍   | 41/64 [20:19<08:50, 23.05s/it]"
     ]
    },
    {
     "name": "stdout",
     "output_type": "stream",
     "text": [
      "Generated molecule 40 of 15 atoms\n"
     ]
    },
    {
     "name": "stderr",
     "output_type": "stream",
     "text": [
      " 66%|██████▌   | 42/64 [20:48<09:10, 25.03s/it]"
     ]
    },
    {
     "name": "stdout",
     "output_type": "stream",
     "text": [
      "Generated molecule 41 of 19 atoms\n"
     ]
    },
    {
     "name": "stderr",
     "output_type": "stream",
     "text": [
      " 67%|██████▋   | 43/64 [21:15<08:55, 25.51s/it]"
     ]
    },
    {
     "name": "stdout",
     "output_type": "stream",
     "text": [
      "Generated molecule 42 of 17 atoms\n"
     ]
    },
    {
     "name": "stderr",
     "output_type": "stream",
     "text": [
      " 69%|██████▉   | 44/64 [21:26<07:03, 21.15s/it]"
     ]
    },
    {
     "name": "stdout",
     "output_type": "stream",
     "text": [
      "Generated molecule 43 of 7 atoms\n"
     ]
    },
    {
     "name": "stderr",
     "output_type": "stream",
     "text": [
      " 70%|███████   | 45/64 [21:45<06:28, 20.44s/it]"
     ]
    },
    {
     "name": "stdout",
     "output_type": "stream",
     "text": [
      "Generated molecule 44 of 12 atoms\n"
     ]
    },
    {
     "name": "stderr",
     "output_type": "stream",
     "text": [
      " 72%|███████▏  | 46/64 [22:25<07:54, 26.36s/it]"
     ]
    },
    {
     "name": "stdout",
     "output_type": "stream",
     "text": [
      "Generated molecule 45 of 26 atoms\n"
     ]
    },
    {
     "name": "stderr",
     "output_type": "stream",
     "text": [
      " 75%|███████▌  | 48/64 [23:25<07:06, 26.67s/it]"
     ]
    },
    {
     "name": "stdout",
     "output_type": "stream",
     "text": [
      "Generated molecule 47 of 8 atoms\n"
     ]
    },
    {
     "name": "stderr",
     "output_type": "stream",
     "text": [
      " 77%|███████▋  | 49/64 [24:43<10:29, 41.94s/it]"
     ]
    },
    {
     "name": "stdout",
     "output_type": "stream",
     "text": [
      "Generated molecule 48 of 21 atoms\n"
     ]
    },
    {
     "name": "stderr",
     "output_type": "stream",
     "text": [
      " 80%|███████▉  | 51/64 [37:37<41:12, 190.22s/it]"
     ]
    },
    {
     "name": "stdout",
     "output_type": "stream",
     "text": [
      "Generated molecule 50 of 13 atoms\n"
     ]
    },
    {
     "name": "stderr",
     "output_type": "stream",
     "text": [
      " 83%|████████▎ | 53/64 [41:27<26:41, 145.59s/it]"
     ]
    },
    {
     "name": "stdout",
     "output_type": "stream",
     "text": [
      "Generated molecule 52 of 29 atoms\n"
     ]
    },
    {
     "name": "stderr",
     "output_type": "stream",
     "text": [
      " 84%|████████▍ | 54/64 [41:56<18:23, 110.39s/it]"
     ]
    },
    {
     "name": "stdout",
     "output_type": "stream",
     "text": [
      "Generated molecule 53 of 18 atoms\n"
     ]
    },
    {
     "name": "stderr",
     "output_type": "stream",
     "text": [
      " 86%|████████▌ | 55/64 [42:18<12:36, 84.10s/it] "
     ]
    },
    {
     "name": "stdout",
     "output_type": "stream",
     "text": [
      "Generated molecule 54 of 14 atoms\n"
     ]
    },
    {
     "name": "stderr",
     "output_type": "stream",
     "text": [
      " 88%|████████▊ | 56/64 [42:45<08:55, 66.97s/it]"
     ]
    },
    {
     "name": "stdout",
     "output_type": "stream",
     "text": [
      "Generated molecule 55 of 17 atoms\n"
     ]
    },
    {
     "name": "stderr",
     "output_type": "stream",
     "text": [
      " 89%|████████▉ | 57/64 [43:10<06:20, 54.39s/it]"
     ]
    },
    {
     "name": "stdout",
     "output_type": "stream",
     "text": [
      "Generated molecule 56 of 16 atoms\n"
     ]
    },
    {
     "name": "stderr",
     "output_type": "stream",
     "text": [
      " 92%|█████████▏| 59/64 [44:36<04:00, 48.05s/it]"
     ]
    },
    {
     "name": "stdout",
     "output_type": "stream",
     "text": [
      "Generated molecule 58 of 24 atoms\n"
     ]
    },
    {
     "name": "stderr",
     "output_type": "stream",
     "text": [
      " 94%|█████████▍| 60/64 [44:57<02:38, 39.72s/it]"
     ]
    },
    {
     "name": "stdout",
     "output_type": "stream",
     "text": [
      "Generated molecule 59 of 13 atoms\n"
     ]
    },
    {
     "name": "stderr",
     "output_type": "stream",
     "text": [
      " 95%|█████████▌| 61/64 [45:25<01:49, 36.36s/it]"
     ]
    },
    {
     "name": "stdout",
     "output_type": "stream",
     "text": [
      "Generated molecule 60 of 18 atoms\n"
     ]
    },
    {
     "name": "stderr",
     "output_type": "stream",
     "text": [
      " 97%|█████████▋| 62/64 [45:58<01:10, 35.37s/it]"
     ]
    },
    {
     "name": "stdout",
     "output_type": "stream",
     "text": [
      "Generated molecule 61 of 21 atoms\n"
     ]
    },
    {
     "name": "stderr",
     "output_type": "stream",
     "text": [
      " 98%|█████████▊| 63/64 [46:18<00:30, 30.82s/it]"
     ]
    },
    {
     "name": "stdout",
     "output_type": "stream",
     "text": [
      "Generated molecule 62 of 13 atoms\n"
     ]
    },
    {
     "name": "stderr",
     "output_type": "stream",
     "text": [
      "100%|██████████| 64/64 [46:47<00:00, 43.87s/it]"
     ]
    },
    {
     "name": "stdout",
     "output_type": "stream",
     "text": [
      "Generated molecule 63 of 18 atoms\n"
     ]
    },
    {
     "name": "stderr",
     "output_type": "stream",
     "text": [
      "\n"
     ]
    }
   ],
   "source": [
    "molecules = []\n",
    "\n",
    "if not os.path.exists(f\"gen/{name}\"):\n",
    "    os.mkdir(f\"gen/{name}\")\n",
    "\n",
    "for seed in tqdm.tqdm(range(64)):\n",
    "    molecule = ase.Atoms(\n",
    "        positions=jnp.array([[0, 0, 0.0]]),\n",
    "        numbers=jnp.array([6]),\n",
    "    )\n",
    "\n",
    "    rng = jax.random.PRNGKey(seed)\n",
    "    for step in range(31):\n",
    "        k, rng = jax.random.split(rng)\n",
    "        frag = input_pipeline.ase_atoms_to_jraph_graph(\n",
    "            molecule, ATOMIC_NUMBERS, config.nn_cutoff\n",
    "        )\n",
    "        pred = apply(frag, k, beta)\n",
    "\n",
    "        stop = pred.globals.stop.squeeze(0).item()\n",
    "        if stop:\n",
    "            molecules.append(molecule)\n",
    "\n",
    "            ase.io.write(f\"gen/{name}/molecule_{seed}.xyz\", molecule)\n",
    "\n",
    "            print(f\"Generated molecule {seed} of {len(molecule)} atoms\")\n",
    "            break\n",
    "\n",
    "        molecule = append_pred_to_ase_atoms(molecule, pred)\n"
   ]
  },
  {
   "cell_type": "code",
   "execution_count": 14,
   "metadata": {},
   "outputs": [],
   "source": [
    "def ase_to_mol_dict(molecules: List[ase.Atoms], save=True, model_path=None, file_name=None):\n",
    "    '''from G-SchNet: https://github.com/atomistic-machine-learning/G-SchNet'''\n",
    "\n",
    "    generated = (\n",
    "        {}\n",
    "    )\n",
    "    for mol in molecules:\n",
    "        l = mol.get_atomic_numbers().shape[0]\n",
    "        if l not in generated:\n",
    "            generated[l] = {\n",
    "                \"_positions\": np.array([mol.get_positions()]),\n",
    "                \"_atomic_numbers\": np.array([mol.get_atomic_numbers()]),\n",
    "            }\n",
    "        else:\n",
    "            generated[l][\"_positions\"] = np.append(\n",
    "                generated[l][\"_positions\"],\n",
    "                np.array([mol.get_positions()]),\n",
    "                0,\n",
    "            )\n",
    "            generated[l][\"_atomic_numbers\"] = np.append(\n",
    "                generated[l][\"_atomic_numbers\"],\n",
    "                np.array([mol.get_atomic_numbers()]),\n",
    "                0,\n",
    "            )\n",
    "\n",
    "    return generated"
   ]
  },
  {
   "cell_type": "code",
   "execution_count": 15,
   "metadata": {},
   "outputs": [
    {
     "data": {
      "text/plain": [
       "'v3_mace_interactions=4_l=5_channels=32_beta=1'"
      ]
     },
     "execution_count": 15,
     "metadata": {},
     "output_type": "execute_result"
    }
   ],
   "source": [
    "name"
   ]
  },
  {
   "cell_type": "code",
   "execution_count": 16,
   "metadata": {},
   "outputs": [],
   "source": [
    "with open(f'gen/{name}/molecules.pkl', 'wb') as f:\n",
    "    pickle.dump(molecules, f)"
   ]
  },
  {
   "cell_type": "code",
   "execution_count": 17,
   "metadata": {},
   "outputs": [],
   "source": [
    "mol_dict = ase_to_mol_dict(molecules)"
   ]
  },
  {
   "cell_type": "code",
   "execution_count": 20,
   "metadata": {},
   "outputs": [],
   "source": [
    "with open(\"../workdirs/generated/generated_molecules.mol_dict\", \"wb\") as f:\n",
    "    pickle.dump(mol_dict, f)"
   ]
  },
  {
   "cell_type": "code",
   "execution_count": null,
   "metadata": {},
   "outputs": [],
   "source": []
  }
 ],
 "metadata": {
  "kernelspec": {
   "display_name": ".venv",
   "language": "python",
   "name": "python3"
  },
  "language_info": {
   "codemirror_mode": {
    "name": "ipython",
    "version": 3
   },
   "file_extension": ".py",
   "mimetype": "text/x-python",
   "name": "python",
   "nbconvert_exporter": "python",
   "pygments_lexer": "ipython3",
   "version": "3.10.0"
  },
  "orig_nbformat": 4,
  "vscode": {
   "interpreter": {
    "hash": "c45d96c58491a395ddcd8e473c3845279123da787cb66983d65c138d89f394de"
   }
  }
 },
 "nbformat": 4,
 "nbformat_minor": 2
}
