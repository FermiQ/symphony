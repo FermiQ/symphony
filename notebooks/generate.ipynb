{
 "cells": [
  {
   "cell_type": "code",
   "execution_count": 1,
   "metadata": {},
   "outputs": [],
   "source": [
    "import os\n",
    "import pickle\n",
    "import sys\n",
    "\n",
    "import ase\n",
    "import ase.data\n",
    "import ase.io\n",
    "import ase.visualize\n",
    "import jax\n",
    "import jax.numpy as jnp\n",
    "import jraph\n",
    "import ml_collections\n",
    "import tqdm\n",
    "import yaml\n",
    "\n",
    "os.environ[\"CUDA_VISIBLE_DEVICES\"] = \"4\"\n",
    "\n",
    "sys.path.append('..')"
   ]
  },
  {
   "cell_type": "code",
   "execution_count": 8,
   "metadata": {},
   "outputs": [
    {
     "name": "stderr",
     "output_type": "stream",
     "text": [
      "/Users/songk/miniconda3/envs/sh-net/lib/python3.10/site-packages/flax/struct.py:136: FutureWarning: jax.tree_util.register_keypaths is deprecated, and will be removed in a future release. Please use `register_pytree_with_keys()` instead.\n",
      "  jax.tree_util.register_keypaths(data_clz, keypaths)\n"
     ]
    },
    {
     "ename": "ModuleNotFoundError",
     "evalue": "No module named 'utility_classes'",
     "output_type": "error",
     "traceback": [
      "\u001b[0;31m---------------------------------------------------------------------------\u001b[0m",
      "\u001b[0;31mModuleNotFoundError\u001b[0m                       Traceback (most recent call last)",
      "Cell \u001b[0;32mIn[8], line 4\u001b[0m\n\u001b[1;32m      2\u001b[0m \u001b[39mimport\u001b[39;00m \u001b[39minput_pipeline\u001b[39;00m\n\u001b[1;32m      3\u001b[0m \u001b[39mimport\u001b[39;00m \u001b[39mqm9\u001b[39;00m\n\u001b[0;32m----> 4\u001b[0m \u001b[39mfrom\u001b[39;00m \u001b[39manalyses\u001b[39;00m \u001b[39mimport\u001b[39;00m analysis\n\u001b[1;32m      5\u001b[0m \u001b[39mfrom\u001b[39;00m \u001b[39mmodels\u001b[39;00m \u001b[39mimport\u001b[39;00m ATOMIC_NUMBERS, RADII, create_model\n",
      "File \u001b[0;32m~/atomicarchitects/spherical_harmonic_net/notebooks/../analyses/analysis.py:23\u001b[0m\n\u001b[1;32m     20\u001b[0m sys\u001b[39m.\u001b[39mpath\u001b[39m.\u001b[39mappend(\u001b[39m\"\u001b[39m\u001b[39m..\u001b[39m\u001b[39m\"\u001b[39m)\n\u001b[1;32m     22\u001b[0m \u001b[39mimport\u001b[39;00m \u001b[39mdatatypes\u001b[39;00m  \u001b[39m# noqa: E402\u001b[39;00m\n\u001b[0;32m---> 23\u001b[0m \u001b[39mimport\u001b[39;00m \u001b[39minput_pipeline_tf\u001b[39;00m  \u001b[39m# noqa: E402\u001b[39;00m\n\u001b[1;32m     24\u001b[0m \u001b[39mimport\u001b[39;00m \u001b[39mmodels\u001b[39;00m  \u001b[39m# noqa: E402\u001b[39;00m\n\u001b[1;32m     25\u001b[0m \u001b[39mimport\u001b[39;00m \u001b[39mtrain\u001b[39;00m  \u001b[39m# noqa: E402\u001b[39;00m\n",
      "File \u001b[0;32m~/atomicarchitects/spherical_harmonic_net/notebooks/../input_pipeline_tf.py:21\u001b[0m\n\u001b[1;32m     18\u001b[0m \u001b[39mimport\u001b[39;00m \u001b[39mjraph\u001b[39;00m\n\u001b[1;32m     19\u001b[0m \u001b[39mimport\u001b[39;00m \u001b[39mml_collections\u001b[39;00m\n\u001b[0;32m---> 21\u001b[0m \u001b[39mfrom\u001b[39;00m \u001b[39mutility_classes\u001b[39;00m \u001b[39mimport\u001b[39;00m Molecule, ConnectivityCompressor\n\u001b[1;32m     22\u001b[0m \u001b[39mimport\u001b[39;00m \u001b[39mdatatypes\u001b[39;00m\n\u001b[1;32m     23\u001b[0m \u001b[39mimport\u001b[39;00m \u001b[39mmodels\u001b[39;00m\n",
      "\u001b[0;31mModuleNotFoundError\u001b[0m: No module named 'utility_classes'"
     ]
    }
   ],
   "source": [
    "import datatypes\n",
    "import input_pipeline\n",
    "import qm9\n",
    "from analyses import analysis\n",
    "from models import ATOMIC_NUMBERS, RADII, create_model"
   ]
  },
  {
   "cell_type": "code",
   "execution_count": 3,
   "metadata": {},
   "outputs": [
    {
     "ename": "FileNotFoundError",
     "evalue": "[Errno 2] No such file or directory: '/home/ameyad/spherical-harmonic-net/workdirs/v3/mace/interactions=4/l=3/channels=32/checkpoints/params.pkl'",
     "output_type": "error",
     "traceback": [
      "\u001b[0;31m---------------------------------------------------------------------------\u001b[0m",
      "\u001b[0;31mFileNotFoundError\u001b[0m                         Traceback (most recent call last)",
      "Cell \u001b[0;32mIn[3], line 5\u001b[0m\n\u001b[1;32m      2\u001b[0m path \u001b[39m=\u001b[39m \u001b[39m\"\u001b[39m\u001b[39m/home/ameyad/spherical-harmonic-net/workdirs/v3/e3schnet/interactions=4/l=3/channels=32\u001b[39m\u001b[39m\"\u001b[39m\n\u001b[1;32m      3\u001b[0m path \u001b[39m=\u001b[39m \u001b[39m\"\u001b[39m\u001b[39m/home/ameyad/spherical-harmonic-net/workdirs/v3/mace/interactions=4/l=3/channels=32\u001b[39m\u001b[39m\"\u001b[39m\n\u001b[0;32m----> 5\u001b[0m \u001b[39mwith\u001b[39;00m \u001b[39mopen\u001b[39;49m(path \u001b[39m+\u001b[39;49m \u001b[39m\"\u001b[39;49m\u001b[39m/checkpoints/params.pkl\u001b[39;49m\u001b[39m\"\u001b[39;49m, \u001b[39m'\u001b[39;49m\u001b[39mrb\u001b[39;49m\u001b[39m'\u001b[39;49m) \u001b[39mas\u001b[39;00m f:\n\u001b[1;32m      6\u001b[0m     params \u001b[39m=\u001b[39m pickle\u001b[39m.\u001b[39mload(f)\n\u001b[1;32m      7\u001b[0m \u001b[39mwith\u001b[39;00m \u001b[39mopen\u001b[39m(path \u001b[39m+\u001b[39m \u001b[39m\"\u001b[39m\u001b[39m/config.yml\u001b[39m\u001b[39m\"\u001b[39m, \u001b[39m\"\u001b[39m\u001b[39mrt\u001b[39m\u001b[39m\"\u001b[39m) \u001b[39mas\u001b[39;00m config_file:\n",
      "File \u001b[0;32m~/Documents/spherical-harmonic-net/.venv/lib/python3.10/site-packages/IPython/core/interactiveshell.py:282\u001b[0m, in \u001b[0;36m_modified_open\u001b[0;34m(file, *args, **kwargs)\u001b[0m\n\u001b[1;32m    275\u001b[0m \u001b[39mif\u001b[39;00m file \u001b[39min\u001b[39;00m {\u001b[39m0\u001b[39m, \u001b[39m1\u001b[39m, \u001b[39m2\u001b[39m}:\n\u001b[1;32m    276\u001b[0m     \u001b[39mraise\u001b[39;00m \u001b[39mValueError\u001b[39;00m(\n\u001b[1;32m    277\u001b[0m         \u001b[39mf\u001b[39m\u001b[39m\"\u001b[39m\u001b[39mIPython won\u001b[39m\u001b[39m'\u001b[39m\u001b[39mt let you open fd=\u001b[39m\u001b[39m{\u001b[39;00mfile\u001b[39m}\u001b[39;00m\u001b[39m by default \u001b[39m\u001b[39m\"\u001b[39m\n\u001b[1;32m    278\u001b[0m         \u001b[39m\"\u001b[39m\u001b[39mas it is likely to crash IPython. If you know what you are doing, \u001b[39m\u001b[39m\"\u001b[39m\n\u001b[1;32m    279\u001b[0m         \u001b[39m\"\u001b[39m\u001b[39myou can use builtins\u001b[39m\u001b[39m'\u001b[39m\u001b[39m open.\u001b[39m\u001b[39m\"\u001b[39m\n\u001b[1;32m    280\u001b[0m     )\n\u001b[0;32m--> 282\u001b[0m \u001b[39mreturn\u001b[39;00m io_open(file, \u001b[39m*\u001b[39;49margs, \u001b[39m*\u001b[39;49m\u001b[39m*\u001b[39;49mkwargs)\n",
      "\u001b[0;31mFileNotFoundError\u001b[0m: [Errno 2] No such file or directory: '/home/ameyad/spherical-harmonic-net/workdirs/v3/mace/interactions=4/l=3/channels=32/checkpoints/params.pkl'"
     ]
    }
   ],
   "source": [
    "# path = \"/home/ameyad/spherical-harmonic-net/workdirs/v3/mace/interactions=3/l=2/channels=32\"\n",
    "# path = \"/home/ameyad/spherical-harmonic-net/workdirs/v3/e3schnet/interactions=4/l=3/channels=32\"\n",
    "# path = \"/home/ameyad/spherical-harmonic-net/workdirs/v3/mace/interactions=4/l=3/channels=32\"\n",
    "path = \"/Users/songk/atomicarchitects/spherical_harmonic_net/workdirs/v3/mace/interactions=4/l=5/channels=32\"\n",
    "\n",
    "with open(path + \"/checkpoints/params.pkl\", 'rb') as f:\n",
    "    params = pickle.load(f)\n",
    "with open(path + \"/config.yml\", \"rt\") as config_file:\n",
    "    config = yaml.unsafe_load(config_file)\n",
    "\n",
    "assert config is not None\n",
    "config = ml_collections.ConfigDict(config)"
   ]
  },
  {
   "cell_type": "code",
   "execution_count": 13,
   "metadata": {},
   "outputs": [
    {
     "data": {
      "text/plain": [
       "activation: softplus\n",
       "avg_num_neighbors: 15.0\n",
       "checkpoint_every_steps: 1000\n",
       "eval_every_steps: 1000\n",
       "focus_predictor:\n",
       "  latent_size: 128\n",
       "  num_layers: 2\n",
       "learning_rate: 0.001\n",
       "log_every_steps: 1000\n",
       "loss_kwargs:\n",
       "  radius_rbf_variance: 0.001\n",
       "max_ell: 4\n",
       "max_n_graphs: 32\n",
       "model: MACE\n",
       "nn_cutoff: 5.0\n",
       "nn_tolerance: 0.5\n",
       "num_basis_fns: 8\n",
       "num_channels: 32\n",
       "num_eval_steps: 100\n",
       "num_eval_steps_at_end_of_training: 5000\n",
       "num_interactions: 8\n",
       "num_species: 5\n",
       "num_train_steps: 20000\n",
       "optimizer: adam\n",
       "r_max: 5\n",
       "rng_seed: 0\n",
       "root_dir: /home/ameyad/qm9_data_tf/data_tf2\n",
       "target_position_predictor:\n",
       "  res_alpha: 359\n",
       "  res_beta: 180\n",
       "target_species_predictor:\n",
       "  latent_size: 128\n",
       "  num_layers: 2\n",
       "test_molecules: !!python/tuple\n",
       "- 53568\n",
       "- 133920\n",
       "train_molecules: !!python/tuple\n",
       "- 0\n",
       "- 47616\n",
       "val_molecules: !!python/tuple\n",
       "- 47616\n",
       "- 53568"
      ]
     },
     "execution_count": 13,
     "metadata": {},
     "output_type": "execute_result"
    }
   ],
   "source": [
    "config.target_position_predictor.res_alpha = 359\n",
    "config.target_position_predictor.res_beta = 180\n",
    "\n",
    "config"
   ]
  },
  {
   "cell_type": "code",
   "execution_count": 5,
   "metadata": {},
   "outputs": [],
   "source": [
    "model = create_model(config, run_in_evaluation_mode=True)\n",
    "apply_fn = jax.jit(model.apply)\n",
    "\n",
    "def apply(frag, seed, beta):\n",
    "    frags = jraph.pad_with_graphs(frag, 32, 1024, 2)\n",
    "    preds = apply_fn(params, seed, frags, beta)\n",
    "    pred = jraph.unpad_with_graphs(preds)\n",
    "    return pred"
   ]
  },
  {
   "cell_type": "code",
   "execution_count": 6,
   "metadata": {},
   "outputs": [],
   "source": [
    "def append_pred_to_ase_atoms(molecule: ase.Atoms, pred: datatypes.Predictions) -> ase.Atoms:\n",
    "    focus = pred.globals.focus_indices.squeeze(0)\n",
    "    pos_focus = molecule.positions[focus]\n",
    "    pos_rel = pred.globals.position_vectors.squeeze(0)\n",
    "\n",
    "    new_specie = jnp.array(\n",
    "        ATOMIC_NUMBERS[pred.globals.target_species.squeeze(0).item()]\n",
    "    )\n",
    "    new_position = pos_focus + pos_rel\n",
    "\n",
    "    return ase.Atoms(\n",
    "        positions=jnp.concatenate([molecule.positions, new_position[None, :]], axis=0),\n",
    "        numbers=jnp.concatenate([molecule.numbers, new_specie[None]], axis=0),\n",
    "    )\n"
   ]
  },
  {
   "cell_type": "code",
   "execution_count": 16,
   "metadata": {},
   "outputs": [
    {
     "name": "stdout",
     "output_type": "stream",
     "text": [
      "v4_mace_interactions=8_l=4_channels=32_beta=1\n"
     ]
    }
   ],
   "source": [
    "name = path.split(\"/\")[-5:]\n",
    "name = \"_\".join(name)\n",
    "\n",
    "beta = 1\n",
    "\n",
    "name = f\"{name}_beta={beta}\"\n",
    "\n",
    "print(name)"
   ]
  },
  {
   "cell_type": "code",
   "execution_count": 17,
   "metadata": {},
   "outputs": [
    {
     "name": "stderr",
     "output_type": "stream",
     "text": [
      "100%|██████████| 64/64 [31:24<00:00, 29.44s/it]  \n"
     ]
    }
   ],
   "source": [
    "molecules = []\n",
    "\n",
    "if not os.path.exists(f\"gen/{name}\"):\n",
    "    os.mkdir(f\"gen/{name}\")\n",
    "\n",
    "for seed in tqdm.tqdm(range(64)):\n",
    "    molecule = ase.Atoms(\n",
    "        positions=jnp.array([[0, 0, 0.0]]),\n",
    "        numbers=jnp.array([6]),\n",
    "    )\n",
    "\n",
    "    rng = jax.random.PRNGKey(seed)\n",
    "    for step in range(31):\n",
    "        k, rng = jax.random.split(rng)\n",
    "        frag = input_pipeline.ase_atoms_to_jraph_graph(\n",
    "            molecule, ATOMIC_NUMBERS, config.nn_cutoff\n",
    "        )\n",
    "        pred = apply(frag, k, beta)\n",
    "\n",
    "        stop = pred.globals.stop.squeeze(0).item()\n",
    "        if stop:\n",
    "            molecules.append(molecule)\n",
    "\n",
    "            ase.io.write(f\"gen/{name}/molecule_{seed}.xyz\", molecule)\n",
    "\n",
    "            print(f\"Generated molecule {seed} of {len(molecule)} atoms\")\n",
    "            break\n",
    "\n",
    "        molecule = append_pred_to_ase_atoms(molecule, pred)\n"
   ]
  },
  {
   "cell_type": "code",
   "execution_count": null,
   "metadata": {},
   "outputs": [],
   "source": [
    "def ase_to_mol_dict(generated_frag: datatypes.Fragments, save=True, model_path=None, file_name=None):\n",
    "    '''from G-SchNet: https://github.com/atomistic-machine-learning/G-SchNet'''\n",
    "\n",
    "    generated = (\n",
    "        {}\n",
    "    )\n",
    "    for mol in jraph.unbatch(generated_frag):\n",
    "        l = mol.nodes.species.shape[0]\n",
    "        if l not in generated:\n",
    "            generated[l] = {\n",
    "                \"_positions\": np.array([mol.nodes.positions]),\n",
    "                \"_atomic_numbers\": np.array([list(map(\n",
    "                    lambda z: models.ATOMIC_NUMBERS[z],\n",
    "                    mol.nodes.species\n",
    "                ))]),\n",
    "            }\n",
    "        else:\n",
    "            generated[l][\"_positions\"] = np.append(\n",
    "                generated[l][\"_positions\"],\n",
    "                np.array([mol.nodes.positions]),\n",
    "                0,\n",
    "            )\n",
    "            generated[l][\"_atomic_numbers\"] = np.append(\n",
    "                generated[l][\"_atomic_numbers\"],\n",
    "                np.array([list(map(\n",
    "                    lambda z: models.ATOMIC_NUMBERS[z],\n",
    "                    mol.nodes.species\n",
    "                ))]),\n",
    "                0,\n",
    "            )\n",
    "\n",
    "    return generated"
   ]
  },
  {
   "cell_type": "code",
   "execution_count": 10,
   "metadata": {},
   "outputs": [
    {
     "data": {
      "text/plain": [
       "'v4_mace_interactions=2_l=4_channels=32_beta=10'"
      ]
     },
     "execution_count": 9,
     "metadata": {},
     "output_type": "execute_result"
    }
   ],
   "source": [
    "name"
   ]
  },
  {
   "cell_type": "code",
   "execution_count": 11,
   "metadata": {},
   "outputs": [],
   "source": [
    "with open(f'gen/{name}/molecules.pkl', 'wb') as f:\n",
    "    pickle.dump(molecules, f)"
   ]
  },
  {
   "cell_type": "code",
   "execution_count": null,
   "metadata": {},
   "outputs": [],
   "source": []
  }
 ],
 "metadata": {
  "kernelspec": {
   "display_name": ".venv",
   "language": "python",
   "name": "python3"
  },
  "language_info": {
   "codemirror_mode": {
    "name": "ipython",
    "version": 3
   },
   "file_extension": ".py",
   "mimetype": "text/x-python",
   "name": "python",
   "nbconvert_exporter": "python",
   "pygments_lexer": "ipython3",
<<<<<<< HEAD
   "version": "3.10.0"
=======
   "version": "3.10.8"
>>>>>>> 845e222456c05cf63803b66fe97604dc0817b569
  },
  "orig_nbformat": 4,
  "vscode": {
   "interpreter": {
    "hash": "c45d96c58491a395ddcd8e473c3845279123da787cb66983d65c138d89f394de"
   }
  }
 },
 "nbformat": 4,
 "nbformat_minor": 2
}
