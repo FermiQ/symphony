{
 "cells": [
  {
   "cell_type": "code",
   "execution_count": 1,
   "metadata": {},
   "outputs": [],
   "source": [
    "import os\n",
    "import pickle\n",
    "import sys\n",
    "\n",
    "import ase\n",
    "import ase.data\n",
    "import ase.io\n",
    "import ase.visualize\n",
    "import jax\n",
    "import jax.numpy as jnp\n",
    "import jraph\n",
    "import ml_collections\n",
    "import tqdm\n",
    "import yaml\n",
    "\n",
    "sys.path.append('..')"
   ]
  },
  {
   "cell_type": "code",
   "execution_count": 8,
   "metadata": {},
   "outputs": [
    {
     "name": "stderr",
     "output_type": "stream",
     "text": [
      "/Users/songk/miniconda3/envs/sh-net/lib/python3.10/site-packages/flax/struct.py:136: FutureWarning: jax.tree_util.register_keypaths is deprecated, and will be removed in a future release. Please use `register_pytree_with_keys()` instead.\n",
      "  jax.tree_util.register_keypaths(data_clz, keypaths)\n"
     ]
    },
    {
     "ename": "ModuleNotFoundError",
     "evalue": "No module named 'utility_classes'",
     "output_type": "error",
     "traceback": [
      "\u001b[0;31m---------------------------------------------------------------------------\u001b[0m",
      "\u001b[0;31mModuleNotFoundError\u001b[0m                       Traceback (most recent call last)",
      "Cell \u001b[0;32mIn[8], line 4\u001b[0m\n\u001b[1;32m      2\u001b[0m \u001b[39mimport\u001b[39;00m \u001b[39minput_pipeline\u001b[39;00m\n\u001b[1;32m      3\u001b[0m \u001b[39mimport\u001b[39;00m \u001b[39mqm9\u001b[39;00m\n\u001b[0;32m----> 4\u001b[0m \u001b[39mfrom\u001b[39;00m \u001b[39manalyses\u001b[39;00m \u001b[39mimport\u001b[39;00m analysis\n\u001b[1;32m      5\u001b[0m \u001b[39mfrom\u001b[39;00m \u001b[39mmodels\u001b[39;00m \u001b[39mimport\u001b[39;00m ATOMIC_NUMBERS, RADII, create_model\n",
      "File \u001b[0;32m~/atomicarchitects/spherical_harmonic_net/notebooks/../analyses/analysis.py:23\u001b[0m\n\u001b[1;32m     20\u001b[0m sys\u001b[39m.\u001b[39mpath\u001b[39m.\u001b[39mappend(\u001b[39m\"\u001b[39m\u001b[39m..\u001b[39m\u001b[39m\"\u001b[39m)\n\u001b[1;32m     22\u001b[0m \u001b[39mimport\u001b[39;00m \u001b[39mdatatypes\u001b[39;00m  \u001b[39m# noqa: E402\u001b[39;00m\n\u001b[0;32m---> 23\u001b[0m \u001b[39mimport\u001b[39;00m \u001b[39minput_pipeline_tf\u001b[39;00m  \u001b[39m# noqa: E402\u001b[39;00m\n\u001b[1;32m     24\u001b[0m \u001b[39mimport\u001b[39;00m \u001b[39mmodels\u001b[39;00m  \u001b[39m# noqa: E402\u001b[39;00m\n\u001b[1;32m     25\u001b[0m \u001b[39mimport\u001b[39;00m \u001b[39mtrain\u001b[39;00m  \u001b[39m# noqa: E402\u001b[39;00m\n",
      "File \u001b[0;32m~/atomicarchitects/spherical_harmonic_net/notebooks/../input_pipeline_tf.py:21\u001b[0m\n\u001b[1;32m     18\u001b[0m \u001b[39mimport\u001b[39;00m \u001b[39mjraph\u001b[39;00m\n\u001b[1;32m     19\u001b[0m \u001b[39mimport\u001b[39;00m \u001b[39mml_collections\u001b[39;00m\n\u001b[0;32m---> 21\u001b[0m \u001b[39mfrom\u001b[39;00m \u001b[39mutility_classes\u001b[39;00m \u001b[39mimport\u001b[39;00m Molecule, ConnectivityCompressor\n\u001b[1;32m     22\u001b[0m \u001b[39mimport\u001b[39;00m \u001b[39mdatatypes\u001b[39;00m\n\u001b[1;32m     23\u001b[0m \u001b[39mimport\u001b[39;00m \u001b[39mmodels\u001b[39;00m\n",
      "\u001b[0;31mModuleNotFoundError\u001b[0m: No module named 'utility_classes'"
     ]
    }
   ],
   "source": [
    "import datatypes\n",
    "import input_pipeline\n",
    "import qm9\n",
    "from analyses import analysis\n",
    "from models import ATOMIC_NUMBERS, RADII, create_model"
   ]
  },
  {
   "cell_type": "code",
   "execution_count": 3,
   "metadata": {},
   "outputs": [],
   "source": [
    "# path = \"/home/ameyad/spherical-harmonic-net/workdirs/v3/mace/interactions=3/l=2/channels=32\"\n",
    "# path = \"/home/ameyad/spherical-harmonic-net/workdirs/v3/e3schnet/interactions=4/l=3/channels=32\"\n",
    "# path = \"/home/ameyad/spherical-harmonic-net/workdirs/v3/mace/interactions=4/l=3/channels=32\"\n",
    "path = \"/Users/songk/atomicarchitects/spherical_harmonic_net/workdirs/v3/mace/interactions=4/l=5/channels=32\"\n",
    "\n",
    "with open(path + \"/checkpoints/params.pkl\", 'rb') as f:\n",
    "    params = pickle.load(f)\n",
    "with open(path + \"/config.yml\", \"rt\") as config_file:\n",
    "    config = yaml.unsafe_load(config_file)\n",
    "\n",
    "assert config is not None\n",
    "config = ml_collections.ConfigDict(config)"
   ]
  },
  {
   "cell_type": "code",
   "execution_count": 4,
   "metadata": {},
   "outputs": [
    {
     "name": "stdout",
     "output_type": "stream",
     "text": [
      "v3_mace_interactions=4_l=5_channels=32\n"
     ]
    }
   ],
   "source": [
    "name = path.split(\"/\")[-5:]\n",
    "name = \"_\".join(name)\n",
    "print(name)"
   ]
  },
  {
   "cell_type": "code",
   "execution_count": 5,
   "metadata": {},
   "outputs": [],
   "source": [
    "model = create_model(config, run_in_evaluation_mode=True)\n",
    "apply_fn = jax.jit(model.apply)\n",
    "\n",
    "def apply(frag, seed):\n",
    "    frags = jraph.pad_with_graphs(frag, 32, 1024, 2)\n",
    "    preds = apply_fn(params, seed, frags)\n",
    "    pred = jraph.unpad_with_graphs(preds)\n",
    "    return pred"
   ]
  },
  {
   "cell_type": "code",
   "execution_count": 6,
   "metadata": {},
   "outputs": [],
   "source": [
    "def append_pred_to_ase_atoms(molecule: ase.Atoms, pred: datatypes.Predictions) -> ase.Atoms:\n",
    "    focus = pred.globals.focus_indices.squeeze(0)\n",
    "    pos_focus = molecule.positions[focus]\n",
    "    pos_rel = pred.globals.position_vectors.squeeze(0)\n",
    "\n",
    "    new_specie = jnp.array(\n",
    "        ATOMIC_NUMBERS[pred.globals.target_species.squeeze(0).item()]\n",
    "    )\n",
    "    new_position = pos_focus + pos_rel\n",
    "\n",
    "    return ase.Atoms(\n",
    "        positions=jnp.concatenate([molecule.positions, new_position[None, :]], axis=0),\n",
    "        numbers=jnp.concatenate([molecule.numbers, new_specie[None]], axis=0),\n",
    "    )\n"
   ]
  },
  {
   "cell_type": "code",
   "execution_count": 7,
   "metadata": {},
   "outputs": [
    {
     "name": "stderr",
     "output_type": "stream",
     "text": [
      "100%|██████████| 64/64 [31:24<00:00, 29.44s/it]  \n"
     ]
    }
   ],
   "source": [
    "molecules = []\n",
    "\n",
    "for seed in tqdm.tqdm(range(64)):\n",
    "    molecule = ase.Atoms(\n",
    "        positions=jnp.array([[0, 0, 0.0]]),\n",
    "        numbers=jnp.array([6]),\n",
    "    )\n",
    "\n",
    "    rng = jax.random.PRNGKey(seed)\n",
    "    for step in range(31):\n",
    "        k, rng = jax.random.split(rng)\n",
    "        frag = input_pipeline.ase_atoms_to_jraph_graph(\n",
    "            molecule, ATOMIC_NUMBERS, config.nn_cutoff\n",
    "        )\n",
    "        pred = apply(frag, k)\n",
    "\n",
    "        stop = pred.globals.stop.squeeze(0).item()\n",
    "        if stop:\n",
    "            break\n",
    "\n",
    "        molecule = append_pred_to_ase_atoms(molecule, pred)\n",
    "\n",
    "    if molecule.numbers.shape[0] < 32:\n",
    "        molecules.append(molecule)\n"
   ]
  },
  {
   "cell_type": "code",
   "execution_count": null,
   "metadata": {},
   "outputs": [],
   "source": [
    "def ase_to_mol_dict(generated_frag: datatypes.Fragments, save=True, model_path=None, file_name=None):\n",
    "    '''from G-SchNet: https://github.com/atomistic-machine-learning/G-SchNet'''\n",
    "\n",
    "    generated = (\n",
    "        {}\n",
    "    )\n",
    "    for mol in jraph.unbatch(generated_frag):\n",
    "        l = mol.nodes.species.shape[0]\n",
    "        if l not in generated:\n",
    "            generated[l] = {\n",
    "                \"_positions\": np.array([mol.nodes.positions]),\n",
    "                \"_atomic_numbers\": np.array([list(map(\n",
    "                    lambda z: models.ATOMIC_NUMBERS[z],\n",
    "                    mol.nodes.species\n",
    "                ))]),\n",
    "            }\n",
    "        else:\n",
    "            generated[l][\"_positions\"] = np.append(\n",
    "                generated[l][\"_positions\"],\n",
    "                np.array([mol.nodes.positions]),\n",
    "                0,\n",
    "            )\n",
    "            generated[l][\"_atomic_numbers\"] = np.append(\n",
    "                generated[l][\"_atomic_numbers\"],\n",
    "                np.array([list(map(\n",
    "                    lambda z: models.ATOMIC_NUMBERS[z],\n",
    "                    mol.nodes.species\n",
    "                ))]),\n",
    "                0,\n",
    "            )\n",
    "\n",
    "    return generated"
   ]
  },
  {
   "cell_type": "code",
   "execution_count": 10,
   "metadata": {},
   "outputs": [],
   "source": [
    "if not os.path.exists(f\"gen/{name}\"):\n",
    "    os.mkdir(f\"gen/{name}\")\n",
    "\n",
    "for seed, molecule in enumerate(molecules):\n",
    "    ase.io.write(f\"gen/{name}/molecule_{seed}.xyz\", molecule)"
   ]
  },
  {
   "cell_type": "code",
   "execution_count": 11,
   "metadata": {},
   "outputs": [],
   "source": [
    "with open(f'gen/{name}/molecules.pkl', 'wb') as f:\n",
    "    pickle.dump(molecules, f)"
   ]
  },
  {
   "cell_type": "code",
   "execution_count": null,
   "metadata": {},
   "outputs": [],
   "source": []
  }
 ],
 "metadata": {
  "kernelspec": {
   "display_name": ".venv",
   "language": "python",
   "name": "python3"
  },
  "language_info": {
   "codemirror_mode": {
    "name": "ipython",
    "version": 3
   },
   "file_extension": ".py",
   "mimetype": "text/x-python",
   "name": "python",
   "nbconvert_exporter": "python",
   "pygments_lexer": "ipython3",
   "version": "3.10.0"
  },
  "orig_nbformat": 4,
  "vscode": {
   "interpreter": {
    "hash": "c45d96c58491a395ddcd8e473c3845279123da787cb66983d65c138d89f394de"
   }
  }
 },
 "nbformat": 4,
 "nbformat_minor": 2
}
