{
 "cells": [
  {
   "cell_type": "code",
   "execution_count": 1,
   "metadata": {},
   "outputs": [],
   "source": [
    "import os\n",
    "import pickle\n",
    "import sys\n",
    "\n",
    "import ase\n",
    "import ase.data\n",
    "import ase.io\n",
    "import ase.visualize\n",
    "import jax\n",
    "import jax.numpy as jnp\n",
    "import jraph\n",
    "import ml_collections\n",
    "import tqdm\n",
    "import yaml\n",
    "\n",
    "os.environ[\"CUDA_VISIBLE_DEVICES\"] = \"4\"\n",
    "\n",
    "sys.path.append('..')"
   ]
  },
  {
   "cell_type": "code",
   "execution_count": 2,
   "metadata": {},
   "outputs": [],
   "source": [
    "import datatypes\n",
    "import input_pipeline\n",
    "import qm9\n",
    "from models import ATOMIC_NUMBERS, RADII, create_model"
   ]
  },
  {
   "cell_type": "code",
   "execution_count": 12,
   "metadata": {},
   "outputs": [
    {
     "ename": "FileNotFoundError",
     "evalue": "[Errno 2] No such file or directory: '/home/ameyad/spherical-harmonic-net/workdirs/v3/mace/interactions=4/l=3/channels=32/checkpoints/params.pkl'",
     "output_type": "error",
     "traceback": [
      "\u001b[0;31m---------------------------------------------------------------------------\u001b[0m",
      "\u001b[0;31mFileNotFoundError\u001b[0m                         Traceback (most recent call last)",
      "Cell \u001b[0;32mIn[3], line 5\u001b[0m\n\u001b[1;32m      2\u001b[0m path \u001b[39m=\u001b[39m \u001b[39m\"\u001b[39m\u001b[39m/home/ameyad/spherical-harmonic-net/workdirs/v3/e3schnet/interactions=4/l=3/channels=32\u001b[39m\u001b[39m\"\u001b[39m\n\u001b[1;32m      3\u001b[0m path \u001b[39m=\u001b[39m \u001b[39m\"\u001b[39m\u001b[39m/home/ameyad/spherical-harmonic-net/workdirs/v3/mace/interactions=4/l=3/channels=32\u001b[39m\u001b[39m\"\u001b[39m\n\u001b[0;32m----> 5\u001b[0m \u001b[39mwith\u001b[39;00m \u001b[39mopen\u001b[39;49m(path \u001b[39m+\u001b[39;49m \u001b[39m\"\u001b[39;49m\u001b[39m/checkpoints/params.pkl\u001b[39;49m\u001b[39m\"\u001b[39;49m, \u001b[39m'\u001b[39;49m\u001b[39mrb\u001b[39;49m\u001b[39m'\u001b[39;49m) \u001b[39mas\u001b[39;00m f:\n\u001b[1;32m      6\u001b[0m     params \u001b[39m=\u001b[39m pickle\u001b[39m.\u001b[39mload(f)\n\u001b[1;32m      7\u001b[0m \u001b[39mwith\u001b[39;00m \u001b[39mopen\u001b[39m(path \u001b[39m+\u001b[39m \u001b[39m\"\u001b[39m\u001b[39m/config.yml\u001b[39m\u001b[39m\"\u001b[39m, \u001b[39m\"\u001b[39m\u001b[39mrt\u001b[39m\u001b[39m\"\u001b[39m) \u001b[39mas\u001b[39;00m config_file:\n",
      "File \u001b[0;32m~/Documents/spherical-harmonic-net/.venv/lib/python3.10/site-packages/IPython/core/interactiveshell.py:282\u001b[0m, in \u001b[0;36m_modified_open\u001b[0;34m(file, *args, **kwargs)\u001b[0m\n\u001b[1;32m    275\u001b[0m \u001b[39mif\u001b[39;00m file \u001b[39min\u001b[39;00m {\u001b[39m0\u001b[39m, \u001b[39m1\u001b[39m, \u001b[39m2\u001b[39m}:\n\u001b[1;32m    276\u001b[0m     \u001b[39mraise\u001b[39;00m \u001b[39mValueError\u001b[39;00m(\n\u001b[1;32m    277\u001b[0m         \u001b[39mf\u001b[39m\u001b[39m\"\u001b[39m\u001b[39mIPython won\u001b[39m\u001b[39m'\u001b[39m\u001b[39mt let you open fd=\u001b[39m\u001b[39m{\u001b[39;00mfile\u001b[39m}\u001b[39;00m\u001b[39m by default \u001b[39m\u001b[39m\"\u001b[39m\n\u001b[1;32m    278\u001b[0m         \u001b[39m\"\u001b[39m\u001b[39mas it is likely to crash IPython. If you know what you are doing, \u001b[39m\u001b[39m\"\u001b[39m\n\u001b[1;32m    279\u001b[0m         \u001b[39m\"\u001b[39m\u001b[39myou can use builtins\u001b[39m\u001b[39m'\u001b[39m\u001b[39m open.\u001b[39m\u001b[39m\"\u001b[39m\n\u001b[1;32m    280\u001b[0m     )\n\u001b[0;32m--> 282\u001b[0m \u001b[39mreturn\u001b[39;00m io_open(file, \u001b[39m*\u001b[39;49margs, \u001b[39m*\u001b[39;49m\u001b[39m*\u001b[39;49mkwargs)\n",
      "\u001b[0;31mFileNotFoundError\u001b[0m: [Errno 2] No such file or directory: '/home/ameyad/spherical-harmonic-net/workdirs/v3/mace/interactions=4/l=3/channels=32/checkpoints/params.pkl'"
     ]
    }
   ],
   "source": [
    "# path = \"/home/ameyad/spherical-harmonic-net/workdirs/v3/mace/interactions=3/l=2/channels=32\"\n",
    "path = \"/home/ameyad/spherical-harmonic-net/workdirs/v3/e3schnet/interactions=4/l=3/channels=32\"\n",
    "path = \"/home/ameyad/spherical-harmonic-net/workdirs/v3/mace/interactions=4/l=3/channels=32\"\n",
    "path = \"/home/ameyad/spherical-harmonic-net/workdirs/v3/mace/interactions=4/l=5/channels=32\"\n",
    "path = \"/home/ameyad/spherical-harmonic-net/workdirs/v4/mace/interactions=6/l=4/channels=32\"\n",
    "path = \"/home/ameyad/spherical-harmonic-net/workdirs/v4/mace/interactions=2/l=4/channels=32\"\n",
    "path = \"/home/ameyad/spherical-harmonic-net/workdirs/v4/mace/interactions=5/l=5/channels=32\"\n",
    "path = \"/home/ameyad/spherical-harmonic-net/workdirs/extras/num_layers/mace/interactions=4/l=5/channels=32/num_layers=4\"\n",
    "path = \"/home/ameyad/spherical-harmonic-net/workdirs/v4/mace/interactions=4/l=4/channels=32\"\n",
    "\n",
    "with open(path + \"/checkpoints/params.pkl\", 'rb') as f:\n",
    "    params = pickle.load(f)\n",
    "with open(path + \"/config.yml\", \"rt\") as config_file:\n",
    "    config = yaml.unsafe_load(config_file)\n",
    "\n",
    "assert config is not None\n",
    "config = ml_collections.ConfigDict(config)"
   ]
  },
  {
   "cell_type": "code",
   "execution_count": 13,
   "metadata": {},
   "outputs": [
    {
     "data": {
      "text/plain": [
       "activation: softplus\n",
       "avg_num_neighbors: 15.0\n",
       "checkpoint_every_steps: 1000\n",
       "eval_every_steps: 1000\n",
       "focus_predictor:\n",
       "  latent_size: 128\n",
       "  num_layers: 2\n",
       "learning_rate: 0.001\n",
       "log_every_steps: 1000\n",
       "loss_kwargs:\n",
       "  radius_rbf_variance: 0.001\n",
       "max_ell: 4\n",
       "max_n_graphs: 32\n",
       "model: MACE\n",
       "nn_cutoff: 5.0\n",
       "nn_tolerance: 0.5\n",
       "num_basis_fns: 8\n",
       "num_channels: 32\n",
       "num_eval_steps: 100\n",
       "num_eval_steps_at_end_of_training: 5000\n",
       "num_interactions: 8\n",
       "num_species: 5\n",
       "num_train_steps: 20000\n",
       "optimizer: adam\n",
       "r_max: 5\n",
       "rng_seed: 0\n",
       "root_dir: /home/ameyad/qm9_data_tf/data_tf2\n",
       "target_position_predictor:\n",
       "  res_alpha: 359\n",
       "  res_beta: 180\n",
       "target_species_predictor:\n",
       "  latent_size: 128\n",
       "  num_layers: 2\n",
       "test_molecules: !!python/tuple\n",
       "- 53568\n",
       "- 133920\n",
       "train_molecules: !!python/tuple\n",
       "- 0\n",
       "- 47616\n",
       "val_molecules: !!python/tuple\n",
       "- 47616\n",
       "- 53568"
      ]
     },
     "execution_count": 13,
     "metadata": {},
     "output_type": "execute_result"
    }
   ],
   "source": [
    "config.target_position_predictor.res_alpha = 359\n",
    "config.target_position_predictor.res_beta = 180\n",
    "\n",
    "config"
   ]
  },
  {
   "cell_type": "code",
   "execution_count": 14,
   "metadata": {},
   "outputs": [],
   "source": [
    "model = create_model(config, run_in_evaluation_mode=True)\n",
    "apply_fn = jax.jit(model.apply)\n",
    "\n",
    "def apply(frag, seed, beta):\n",
    "    frags = jraph.pad_with_graphs(frag, 32, 1024, 2)\n",
    "    preds = apply_fn(params, seed, frags, beta)\n",
    "    pred = jraph.unpad_with_graphs(preds)\n",
    "    return pred"
   ]
  },
  {
   "cell_type": "code",
   "execution_count": 15,
   "metadata": {},
   "outputs": [],
   "source": [
    "def append_pred_to_ase_atoms(molecule: ase.Atoms, pred: datatypes.Predictions) -> ase.Atoms:\n",
    "    focus = pred.globals.focus_indices.squeeze(0)\n",
    "    pos_focus = molecule.positions[focus]\n",
    "    pos_rel = pred.globals.position_vectors.squeeze(0)\n",
    "\n",
    "    new_specie = jnp.array(\n",
    "        ATOMIC_NUMBERS[pred.globals.target_species.squeeze(0).item()]\n",
    "    )\n",
    "    new_position = pos_focus + pos_rel\n",
    "\n",
    "    return ase.Atoms(\n",
    "        positions=jnp.concatenate([molecule.positions, new_position[None, :]], axis=0),\n",
    "        numbers=jnp.concatenate([molecule.numbers, new_specie[None]], axis=0),\n",
    "    )\n"
   ]
  },
  {
   "cell_type": "code",
   "execution_count": 16,
   "metadata": {},
   "outputs": [
    {
     "name": "stdout",
     "output_type": "stream",
     "text": [
      "v4_mace_interactions=8_l=4_channels=32_beta=1\n"
     ]
    }
   ],
   "source": [
    "name = path.split(\"/\")[-5:]\n",
    "name = \"_\".join(name)\n",
    "\n",
    "beta = 1\n",
    "\n",
    "name = f\"{name}_beta={beta}\"\n",
    "\n",
    "print(name)"
   ]
  },
  {
   "cell_type": "code",
   "execution_count": 17,
   "metadata": {},
   "outputs": [
    {
     "name": "stderr",
     "output_type": "stream",
     "text": [
      "  5%|▍         | 3/64 [00:41<09:36,  9.45s/it]"
     ]
    },
    {
     "name": "stdout",
     "output_type": "stream",
     "text": [
      "Generated molecule 2 of 5 atoms\n"
     ]
    },
    {
     "name": "stderr",
     "output_type": "stream",
     "text": [
      "  6%|▋         | 4/64 [00:41<05:51,  5.85s/it]"
     ]
    },
    {
     "name": "stdout",
     "output_type": "stream",
     "text": [
      "Generated molecule 3 of 6 atoms\n"
     ]
    },
    {
     "name": "stderr",
     "output_type": "stream",
     "text": [
      "  9%|▉         | 6/64 [00:44<03:06,  3.21s/it]"
     ]
    },
    {
     "name": "stdout",
     "output_type": "stream",
     "text": [
      "Generated molecule 5 of 13 atoms\n"
     ]
    },
    {
     "name": "stderr",
     "output_type": "stream",
     "text": [
      " 12%|█▎        | 8/64 [00:46<01:59,  2.14s/it]"
     ]
    },
    {
     "name": "stdout",
     "output_type": "stream",
     "text": [
      "Generated molecule 7 of 14 atoms\n"
     ]
    },
    {
     "name": "stderr",
     "output_type": "stream",
     "text": [
      " 16%|█▌        | 10/64 [00:49<01:29,  1.67s/it]"
     ]
    },
    {
     "name": "stdout",
     "output_type": "stream",
     "text": [
      "Generated molecule 9 of 13 atoms\n"
     ]
    },
    {
     "name": "stderr",
     "output_type": "stream",
     "text": [
      " 27%|██▋       | 17/64 [01:01<01:10,  1.49s/it]"
     ]
    },
    {
     "name": "stdout",
     "output_type": "stream",
     "text": [
      "Generated molecule 16 of 13 atoms\n"
     ]
    },
    {
     "name": "stderr",
     "output_type": "stream",
     "text": [
      " 39%|███▉      | 25/64 [01:14<00:53,  1.37s/it]"
     ]
    },
    {
     "name": "stdout",
     "output_type": "stream",
     "text": [
      "Generated molecule 24 of 8 atoms\n"
     ]
    },
    {
     "name": "stderr",
     "output_type": "stream",
     "text": [
      " 41%|████      | 26/64 [01:14<00:40,  1.07s/it]"
     ]
    },
    {
     "name": "stdout",
     "output_type": "stream",
     "text": [
      "Generated molecule 25 of 7 atoms\n"
     ]
    },
    {
     "name": "stderr",
     "output_type": "stream",
     "text": [
      " 45%|████▌     | 29/64 [01:19<00:51,  1.47s/it]"
     ]
    },
    {
     "name": "stdout",
     "output_type": "stream",
     "text": [
      "Generated molecule 28 of 27 atoms\n"
     ]
    },
    {
     "name": "stderr",
     "output_type": "stream",
     "text": [
      " 48%|████▊     | 31/64 [01:22<00:46,  1.41s/it]"
     ]
    },
    {
     "name": "stdout",
     "output_type": "stream",
     "text": [
      "Generated molecule 30 of 19 atoms\n"
     ]
    },
    {
     "name": "stderr",
     "output_type": "stream",
     "text": [
      " 53%|█████▎    | 34/64 [01:27<00:41,  1.39s/it]"
     ]
    },
    {
     "name": "stdout",
     "output_type": "stream",
     "text": [
      "Generated molecule 33 of 16 atoms\n"
     ]
    },
    {
     "name": "stderr",
     "output_type": "stream",
     "text": [
      " 58%|█████▊    | 37/64 [01:31<00:34,  1.29s/it]"
     ]
    },
    {
     "name": "stdout",
     "output_type": "stream",
     "text": [
      "Generated molecule 36 of 9 atoms\n"
     ]
    },
    {
     "name": "stderr",
     "output_type": "stream",
     "text": [
      " 62%|██████▎   | 40/64 [01:36<00:34,  1.46s/it]"
     ]
    },
    {
     "name": "stdout",
     "output_type": "stream",
     "text": [
      "Generated molecule 39 of 21 atoms\n"
     ]
    },
    {
     "name": "stderr",
     "output_type": "stream",
     "text": [
      " 66%|██████▌   | 42/64 [01:39<00:31,  1.44s/it]"
     ]
    },
    {
     "name": "stdout",
     "output_type": "stream",
     "text": [
      "Generated molecule 41 of 20 atoms\n"
     ]
    },
    {
     "name": "stderr",
     "output_type": "stream",
     "text": [
      " 70%|███████   | 45/64 [01:43<00:27,  1.44s/it]"
     ]
    },
    {
     "name": "stdout",
     "output_type": "stream",
     "text": [
      "Generated molecule 44 of 18 atoms\n"
     ]
    },
    {
     "name": "stderr",
     "output_type": "stream",
     "text": [
      " 89%|████████▉ | 57/64 [02:04<00:10,  1.45s/it]"
     ]
    },
    {
     "name": "stdout",
     "output_type": "stream",
     "text": [
      "Generated molecule 56 of 10 atoms\n"
     ]
    },
    {
     "name": "stderr",
     "output_type": "stream",
     "text": [
      " 91%|█████████ | 58/64 [02:05<00:07,  1.25s/it]"
     ]
    },
    {
     "name": "stdout",
     "output_type": "stream",
     "text": [
      "Generated molecule 57 of 14 atoms\n"
     ]
    },
    {
     "name": "stderr",
     "output_type": "stream",
     "text": [
      " 92%|█████████▏| 59/64 [02:06<00:05,  1.19s/it]"
     ]
    },
    {
     "name": "stdout",
     "output_type": "stream",
     "text": [
      "Generated molecule 58 of 18 atoms\n"
     ]
    },
    {
     "name": "stderr",
     "output_type": "stream",
     "text": [
      " 94%|█████████▍| 60/64 [02:07<00:05,  1.32s/it]"
     ]
    },
    {
     "name": "stdout",
     "output_type": "stream",
     "text": [
      "Generated molecule 59 of 28 atoms\n"
     ]
    },
    {
     "name": "stderr",
     "output_type": "stream",
     "text": [
      "100%|██████████| 64/64 [02:14<00:00,  2.10s/it]"
     ]
    },
    {
     "name": "stdout",
     "output_type": "stream",
     "text": [
      "Generated molecule 63 of 21 atoms\n"
     ]
    },
    {
     "name": "stderr",
     "output_type": "stream",
     "text": [
      "\n"
     ]
    }
   ],
   "source": [
    "molecules = []\n",
    "\n",
    "if not os.path.exists(f\"gen/{name}\"):\n",
    "    os.mkdir(f\"gen/{name}\")\n",
    "\n",
    "for seed in tqdm.tqdm(range(64)):\n",
    "    molecule = ase.Atoms(\n",
    "        positions=jnp.array([[0, 0, 0.0]]),\n",
    "        numbers=jnp.array([6]),\n",
    "    )\n",
    "\n",
    "    rng = jax.random.PRNGKey(seed)\n",
    "    for step in range(31):\n",
    "        k, rng = jax.random.split(rng)\n",
    "        frag = input_pipeline.ase_atoms_to_jraph_graph(\n",
    "            molecule, ATOMIC_NUMBERS, config.nn_cutoff\n",
    "        )\n",
    "        pred = apply(frag, k, beta)\n",
    "\n",
    "        stop = pred.globals.stop.squeeze(0).item()\n",
    "        if stop:\n",
    "            molecules.append(molecule)\n",
    "\n",
    "            ase.io.write(f\"gen/{name}/molecule_{seed}.xyz\", molecule)\n",
    "\n",
    "            print(f\"Generated molecule {seed} of {len(molecule)} atoms\")\n",
    "            break\n",
    "\n",
    "        molecule = append_pred_to_ase_atoms(molecule, pred)\n"
   ]
  },
  {
   "cell_type": "code",
   "execution_count": 9,
   "metadata": {},
   "outputs": [
    {
     "data": {
      "text/plain": [
       "'v4_mace_interactions=2_l=4_channels=32_beta=10'"
      ]
     },
     "execution_count": 9,
     "metadata": {},
     "output_type": "execute_result"
    }
   ],
   "source": [
    "name"
   ]
  },
  {
   "cell_type": "code",
   "execution_count": null,
   "metadata": {},
   "outputs": [],
   "source": []
  }
 ],
 "metadata": {
  "kernelspec": {
   "display_name": ".venv",
   "language": "python",
   "name": "python3"
  },
  "language_info": {
   "codemirror_mode": {
    "name": "ipython",
    "version": 3
   },
   "file_extension": ".py",
   "mimetype": "text/x-python",
   "name": "python",
   "nbconvert_exporter": "python",
   "pygments_lexer": "ipython3",
   "version": "3.10.8"
  },
  "orig_nbformat": 4,
  "vscode": {
   "interpreter": {
    "hash": "c45d96c58491a395ddcd8e473c3845279123da787cb66983d65c138d89f394de"
   }
  }
 },
 "nbformat": 4,
 "nbformat_minor": 2
}
