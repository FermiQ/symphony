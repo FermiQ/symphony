{
 "cells": [
  {
   "cell_type": "code",
   "execution_count": 1,
   "metadata": {},
   "outputs": [
    {
     "name": "stderr",
     "output_type": "stream",
     "text": [
      "No GPU/TPU found, falling back to CPU. (Set TF_CPP_MIN_LOG_LEVEL=0 and rerun for more info.)\n"
     ]
    }
   ],
   "source": [
    "import jax\n",
    "import jax.numpy as jnp\n",
    "import pickle\n",
    "import sys\n",
    "sys.path.append('..')\n",
    "sys.path.append('../analyses')\n",
    "\n",
    "import analysis\n",
    "import datatypes\n",
    "import input_pipeline_tf"
   ]
  },
  {
   "cell_type": "code",
   "execution_count": 2,
   "metadata": {},
   "outputs": [
    {
     "name": "stdout",
     "output_type": "stream",
     "text": [
      "WARNING:tensorflow:From /home/songk/anaconda3/envs/sh-net/lib/python3.10/site-packages/tensorflow/python/autograph/pyct/static_analysis/liveness.py:83: Analyzer.lamba_check (from tensorflow.python.autograph.pyct.static_analysis.liveness) is deprecated and will be removed after 2023-09-23.\n",
      "Instructions for updating:\n",
      "Lambda fuctions will be no more assumed to be used in the statement where they are used, or at least in the same block. https://github.com/tensorflow/tensorflow/issues/56089\n"
     ]
    },
    {
     "name": "stderr",
     "output_type": "stream",
     "text": [
      "WARNING:tensorflow:From /home/songk/anaconda3/envs/sh-net/lib/python3.10/site-packages/tensorflow/python/autograph/pyct/static_analysis/liveness.py:83: Analyzer.lamba_check (from tensorflow.python.autograph.pyct.static_analysis.liveness) is deprecated and will be removed after 2023-09-23.\n",
      "Instructions for updating:\n",
      "Lambda fuctions will be no more assumed to be used in the statement where they are used, or at least in the same block. https://github.com/tensorflow/tensorflow/issues/56089\n",
      "/home/songk/atomicarchitects/spherical_harmonic_net/notebooks/../input_pipeline_tf.py:94: FutureWarning: jax.tree_leaves is deprecated, and will be removed in a future release. Use jax.tree_util.tree_leaves instead.\n",
      "  np.shape(jax.tree_leaves(graph.nodes)[0])[0],\n"
     ]
    }
   ],
   "source": [
    "version = 3\n",
    "interactions = 4\n",
    "l = 5\n",
    "\n",
    "config, best_state_train, best_state_eval, metrics_for_best_state = analysis.load_from_workdir(f'../workdirs/mace/v{version}/interactions={interactions}/l={l}/channels=32')\n",
    "key = jax.random.PRNGKey(config.rng_seed)\n",
    "\n",
    "qm9_datasets = input_pipeline_tf.get_datasets(key, config)\n",
    "# example_graph = next(qm9_datasets[\"test\"].as_numpy_iterator())\n",
    "# frag = datatypes.Fragments.from_graphstuple(example_graph)\n",
    "# frag = jax.tree_map(jnp.asarray, frag)"
   ]
  },
  {
   "cell_type": "code",
   "execution_count": 20,
   "metadata": {},
   "outputs": [],
   "source": [
    "generated_dict = {}\n",
    "qm9_iterator = qm9_datasets[\"test\"].as_numpy_iterator()\n",
    "for _ in range(10):\n",
    "    example_graph = next(qm9_iterator)\n",
    "    frag = datatypes.Fragments.from_graphstuple(example_graph)\n",
    "    frag = jax.tree_map(jnp.asarray, frag)\n",
    "    analysis.update_dict(generated_dict, analysis.to_mol_dict(frag, False))"
   ]
  },
  {
   "cell_type": "code",
   "execution_count": 21,
   "metadata": {},
   "outputs": [],
   "source": [
    "datasets = input_pipeline_tf.get_raw_qm9_datasets(\n",
    "        config.root_dir,\n",
    "        config.train_molecules,\n",
    "        config.val_molecules,\n",
    "        config.test_molecules,\n",
    "    )"
   ]
  },
  {
   "cell_type": "code",
   "execution_count": 23,
   "metadata": {},
   "outputs": [],
   "source": [
    "train_iter = datasets['train'].as_numpy_iterator()\n",
    "a = next(train_iter)"
   ]
  },
  {
   "cell_type": "code",
   "execution_count": 26,
   "metadata": {},
   "outputs": [],
   "source": [
    "from ase.atoms import Atoms\n",
    "atoms_a = Atoms(positions=a['positions'], numbers=models.get_atomic_numbers(a['species']))"
   ]
  },
  {
   "cell_type": "code",
   "execution_count": 27,
   "metadata": {},
   "outputs": [
    {
     "data": {
      "text/plain": [
       "1"
      ]
     },
     "execution_count": 27,
     "metadata": {},
     "output_type": "execute_result"
    }
   ],
   "source": [
    "from ase.db import connect\n",
    "db = connect('asdf.db')\n",
    "db.write(atoms_a)"
   ]
  },
  {
   "cell_type": "code",
   "execution_count": 4,
   "metadata": {},
   "outputs": [],
   "source": [
    "with open('../workdirs/generated/generated_molecules.mol_dict', 'wb') as f:\n",
    "    pickle.dump(generated_dict, f)"
   ]
  },
  {
   "cell_type": "code",
   "execution_count": 10,
   "metadata": {},
   "outputs": [],
   "source": [
    "mol_dict = pickle.load(open('../workdirs/generated/generated_molecules.mol_dict', 'rb'))"
   ]
  },
  {
   "cell_type": "code",
   "execution_count": null,
   "metadata": {},
   "outputs": [],
   "source": []
  }
 ],
 "metadata": {
  "kernelspec": {
   "display_name": "sh-net",
   "language": "python",
   "name": "python3"
  },
  "language_info": {
   "codemirror_mode": {
    "name": "ipython",
    "version": 3
   },
   "file_extension": ".py",
   "mimetype": "text/x-python",
   "name": "python",
   "nbconvert_exporter": "python",
   "pygments_lexer": "ipython3",
   "version": "3.10.6"
  },
  "orig_nbformat": 4
 },
 "nbformat": 4,
 "nbformat_minor": 2
}
