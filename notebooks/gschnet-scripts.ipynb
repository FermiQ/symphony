{
 "cells": [
  {
   "cell_type": "code",
   "execution_count": 1,
   "metadata": {},
   "outputs": [],
   "source": [
    "import numpy as np\n",
    "import collections\n",
    "import pickle\n",
    "import os\n",
    "import argparse\n",
    "from openbabel import openbabel as ob\n",
    "from openbabel import pybel\n",
    "import pandas as pd\n",
    "import time\n",
    "import sys\n",
    "\n",
    "sys.path.append(\"..\")\n",
    "\n",
    "from analyses import analysis\n",
    "from schnetpack import Properties\n",
    "from multiprocessing import Process, Queue\n",
    "from ase import Atoms\n",
    "from ase.db import connect\n",
    "\n",
    "sys.path.append('..')\n",
    "sys.path.append('../analyses')\n",
    "\n",
    "import analysis\n",
    "import datatypes\n",
    "import qm9_filter_generated"
   ]
  },
  {
   "cell_type": "code",
   "execution_count": 6,
   "metadata": {},
   "outputs": [],
   "source": [
    "version = 6\n",
    "model = 'nequip'\n",
    "interactions = 4\n",
    "l = 5\n",
    "channels = 32\n",
    "\n",
    "init = 'CH3'\n",
    "step = 'best'\n",
    "beta = 1.0\n",
    "\n",
    "stats_path = os.path.join(\n",
    "    'molecules/generated/',\n",
    "    f'v{version}',\n",
    "    model,\n",
    "    f'interactions={interactions}',\n",
    "    f'l={l}',\n",
    "    f'channels={channels}',\n",
    "    f'beta={beta:.1f}',\n",
    "    f'step={step}',\n",
    "    f'generated_molecules_init={init}_statistics.pkl'\n",
    ")\n",
    "\n",
    "with open(stats_path, 'rb') as f:\n",
    "    stats = pickle.load(f)"
   ]
  },
  {
   "cell_type": "code",
   "execution_count": null,
   "metadata": {},
   "outputs": [],
   "source": []
  }
 ],
 "metadata": {
  "kernelspec": {
   "display_name": "sh-net",
   "language": "python",
   "name": "python3"
  },
  "language_info": {
   "codemirror_mode": {
    "name": "ipython",
    "version": 3
   },
   "file_extension": ".py",
   "mimetype": "text/x-python",
   "name": "python",
   "nbconvert_exporter": "python",
   "pygments_lexer": "ipython3",
   "version": "3.10.0"
  },
  "orig_nbformat": 4
 },
 "nbformat": 4,
 "nbformat_minor": 2
}
