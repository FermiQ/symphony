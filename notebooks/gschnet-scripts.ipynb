{
 "cells": [
  {
   "cell_type": "code",
   "execution_count": 1,
   "metadata": {},
   "outputs": [
    {
     "name": "stderr",
     "output_type": "stream",
     "text": [
      "/Users/songk/miniconda3/envs/sh-net/lib/python3.10/site-packages/flax/struct.py:136: FutureWarning: jax.tree_util.register_keypaths is deprecated, and will be removed in a future release. Please use `register_pytree_with_keys()` instead.\n",
      "  jax.tree_util.register_keypaths(data_clz, keypaths)\n",
      "/Users/songk/miniconda3/envs/sh-net/lib/python3.10/site-packages/flax/struct.py:136: FutureWarning: jax.tree_util.register_keypaths is deprecated, and will be removed in a future release. Please use `register_pytree_with_keys()` instead.\n",
      "  jax.tree_util.register_keypaths(data_clz, keypaths)\n",
      "/Users/songk/miniconda3/envs/sh-net/lib/python3.10/site-packages/flax/struct.py:136: FutureWarning: jax.tree_util.register_keypaths is deprecated, and will be removed in a future release. Please use `register_pytree_with_keys()` instead.\n",
      "  jax.tree_util.register_keypaths(data_clz, keypaths)\n"
     ]
    }
   ],
   "source": [
    "import numpy as np\n",
    "import collections\n",
    "import pickle\n",
    "import os\n",
    "import argparse\n",
    "from openbabel import openbabel as ob\n",
    "from openbabel import pybel\n",
    "import pandas as pd\n",
    "import time\n",
    "import sys\n",
    "\n",
    "sys.path.append(\"..\")\n",
    "\n",
    "from analyses import analysis\n",
    "from schnetpack import Properties\n",
    "from multiprocessing import Process, Queue\n",
    "from ase import Atoms\n",
    "from ase.db import connect\n",
    "\n",
    "sys.path.append('..')\n",
    "sys.path.append('../analyses')\n",
    "\n",
    "import analysis\n",
    "import datatypes\n",
    "import qm9_filter_generated\n",
    "from utility_classes import Molecule, ConnectivityCompressor\n",
    "from utility_functions import run_threaded, print_atom_bond_ring_stats, update_dict"
   ]
  },
  {
   "cell_type": "code",
   "execution_count": 6,
   "metadata": {},
   "outputs": [],
   "source": [
    "mol_path = '/Users/songk/atomicarchitects/spherical_harmonic_net/analyses/molecules/generated/v6/nequip/interactions=4/l=5/channels=128/beta=10.0/step=best/generated_molecules.db'\n",
    "\n",
    "molecules = []\n",
    "with connect(mol_path) as conn:\n",
    "    for row in conn.select():\n",
    "        molecules.append(row.toatoms())"
   ]
  },
  {
   "cell_type": "code",
   "execution_count": 8,
   "metadata": {},
   "outputs": [],
   "source": [
    "valid, duplicating, duplicate_count = qm9_filter_generated.filter_unique(molecules)"
   ]
  },
  {
   "cell_type": "code",
   "execution_count": 12,
   "metadata": {},
   "outputs": [
    {
     "data": {
      "text/plain": [
       "Symbols('C6H5CH3O')"
      ]
     },
     "execution_count": 12,
     "metadata": {},
     "output_type": "execute_result"
    }
   ],
   "source": [
    "molecules[0].symbols"
   ]
  },
  {
   "cell_type": "code",
   "execution_count": null,
   "metadata": {},
   "outputs": [],
   "source": []
  }
 ],
 "metadata": {
  "kernelspec": {
   "display_name": "sh-net",
   "language": "python",
   "name": "python3"
  },
  "language_info": {
   "codemirror_mode": {
    "name": "ipython",
    "version": 3
   },
   "file_extension": ".py",
   "mimetype": "text/x-python",
   "name": "python",
   "nbconvert_exporter": "python",
   "pygments_lexer": "ipython3",
   "version": "3.10.0"
  },
  "orig_nbformat": 4
 },
 "nbformat": 4,
 "nbformat_minor": 2
}
