{
 "cells": [
  {
   "cell_type": "code",
   "execution_count": 2,
   "metadata": {},
   "outputs": [
    {
     "ename": "ModuleNotFoundError",
     "evalue": "No module named 'pybel'",
     "output_type": "error",
     "traceback": [
      "\u001b[0;31m---------------------------------------------------------------------------\u001b[0m",
      "\u001b[0;31mModuleNotFoundError\u001b[0m                       Traceback (most recent call last)",
      "Cell \u001b[0;32mIn[2], line 8\u001b[0m\n\u001b[1;32m      5\u001b[0m sys\u001b[39m.\u001b[39mpath\u001b[39m.\u001b[39mappend(\u001b[39m'\u001b[39m\u001b[39m..\u001b[39m\u001b[39m'\u001b[39m)\n\u001b[1;32m      6\u001b[0m sys\u001b[39m.\u001b[39mpath\u001b[39m.\u001b[39mappend(\u001b[39m'\u001b[39m\u001b[39m../analyses\u001b[39m\u001b[39m'\u001b[39m)\n\u001b[0;32m----> 8\u001b[0m \u001b[39mimport\u001b[39;00m \u001b[39manalysis\u001b[39;00m\n\u001b[1;32m      9\u001b[0m \u001b[39mimport\u001b[39;00m \u001b[39mdatatypes\u001b[39;00m\n",
      "File \u001b[0;32m~/atomicarchitects/spherical_harmonic_net/notebooks/../analyses/analysis.py:28\u001b[0m\n\u001b[1;32m     26\u001b[0m \u001b[39mimport\u001b[39;00m \u001b[39mdatatypes\u001b[39;00m  \u001b[39m# noqa: E402\u001b[39;00m\n\u001b[1;32m     27\u001b[0m \u001b[39mimport\u001b[39;00m \u001b[39minput_pipeline\u001b[39;00m\n\u001b[0;32m---> 28\u001b[0m \u001b[39mimport\u001b[39;00m \u001b[39mutility_classes\u001b[39;00m\n\u001b[1;32m     29\u001b[0m \u001b[39mimport\u001b[39;00m \u001b[39mmodels\u001b[39;00m  \u001b[39m# noqa: E402\u001b[39;00m\n\u001b[1;32m     30\u001b[0m \u001b[39mimport\u001b[39;00m \u001b[39mtrain\u001b[39;00m  \u001b[39m# noqa: E402\u001b[39;00m\n",
      "File \u001b[0;32m~/atomicarchitects/spherical_harmonic_net/notebooks/../analyses/utility_classes.py:10\u001b[0m\n\u001b[1;32m      8\u001b[0m \u001b[39mimport\u001b[39;00m \u001b[39mnumpy\u001b[39;00m \u001b[39mas\u001b[39;00m \u001b[39mnp\u001b[39;00m\n\u001b[1;32m      9\u001b[0m \u001b[39mfrom\u001b[39;00m \u001b[39mopenbabel\u001b[39;00m \u001b[39mimport\u001b[39;00m openbabel \u001b[39mas\u001b[39;00m ob\n\u001b[0;32m---> 10\u001b[0m \u001b[39mimport\u001b[39;00m \u001b[39mpybel\u001b[39;00m\n\u001b[1;32m     11\u001b[0m \u001b[39mfrom\u001b[39;00m \u001b[39mmultiprocessing\u001b[39;00m \u001b[39mimport\u001b[39;00m Process\n\u001b[1;32m     12\u001b[0m \u001b[39mfrom\u001b[39;00m \u001b[39mrdkit\u001b[39;00m \u001b[39mimport\u001b[39;00m Chem\n",
      "\u001b[0;31mModuleNotFoundError\u001b[0m: No module named 'pybel'"
     ]
    }
   ],
   "source": [
    "import numpy as np\n",
    "import pickle\n",
    "import pandas as pd\n",
    "import sys\n",
    "sys.path.append('..')\n",
    "sys.path.append('../analyses')\n",
    "\n",
    "import analysis\n",
    "import datatypes\n",
    "import qm9_filter_generated"
   ]
  },
  {
   "cell_type": "code",
   "execution_count": null,
   "metadata": {},
   "outputs": [],
   "source": [
    "methane = analysis.construct_molecule('CH3')[0]\n",
    "valence = np.array([0, 1, 0, 0, 0, 0, 4, 3, 2, 1])"
   ]
  },
  {
   "cell_type": "code",
   "execution_count": 5,
   "metadata": {},
   "outputs": [
    {
     "data": {
      "text/plain": [
       "{'mols': [<utility_classes.Molecule at 0x107957850>],\n",
       " 'connectivity': array([[[0., 1., 1., 1.],\n",
       "         [1., 0., 0., 0.],\n",
       "         [1., 0., 0., 0.],\n",
       "         [1., 0., 0., 0.]]]),\n",
       " 'valid_mol': array([False]),\n",
       " 'valid_atom': array([0.75])}"
      ]
     },
     "execution_count": 5,
     "metadata": {},
     "output_type": "execute_result"
    }
   ],
   "source": [
    "qm9_filter_generated.check_valency(np.asarray([methane.positions]), np.asarray([list(methane.numbers)]), valence)"
   ]
  },
  {
   "cell_type": "code",
   "execution_count": 3,
   "metadata": {},
   "outputs": [],
   "source": [
    "config, best_state, _, metrics_for_best_state = analysis.load_from_workdir('../workdirs/v5/mace/interactions=4/l=5/channels=32')"
   ]
  },
  {
   "cell_type": "code",
   "execution_count": 4,
   "metadata": {},
   "outputs": [
    {
     "data": {
      "text/plain": [
       "{'train_eval_final': {'total_loss': array(-1.0350323, dtype=float32),\n",
       "  'focus_loss': array(0.25593817, dtype=float32),\n",
       "  'atom_type_loss': array(0.38758564, dtype=float32),\n",
       "  'position_loss': array(-1.6785557, dtype=float32)},\n",
       " 'val_eval_final': {'total_loss': array(-0.58744246, dtype=float32),\n",
       "  'focus_loss': array(0.24660453, dtype=float32),\n",
       "  'atom_type_loss': array(0.3918947, dtype=float32),\n",
       "  'position_loss': array(-1.2259465, dtype=float32)},\n",
       " 'test_eval_final': {'total_loss': array(-0.68538874, dtype=float32),\n",
       "  'focus_loss': array(0.30432183, dtype=float32),\n",
       "  'atom_type_loss': array(0.535974, dtype=float32),\n",
       "  'position_loss': array(-1.5256858, dtype=float32)}}"
      ]
     },
     "execution_count": 4,
     "metadata": {},
     "output_type": "execute_result"
    }
   ],
   "source": [
    "metrics_for_best_state"
   ]
  },
  {
   "cell_type": "code",
   "execution_count": 11,
   "metadata": {},
   "outputs": [
    {
     "name": "stderr",
     "output_type": "stream",
     "text": [
      "WARNING:absl:Skipping ../workdirs/v3/mace/interactions=4/l=5/channels=32 because it is incomplete.\n"
     ]
    }
   ],
   "source": [
    "df_dict = analysis.get_results_as_dataframe(\n",
    "    ['mace'], ['focus_loss', 'atom_type_loss', 'position_loss'], '../workdirs'\n",
    ")"
   ]
  },
  {
   "cell_type": "code",
   "execution_count": 13,
   "metadata": {},
   "outputs": [
    {
     "data": {
      "text/html": [
       "<div>\n",
       "<style scoped>\n",
       "    .dataframe tbody tr th:only-of-type {\n",
       "        vertical-align: middle;\n",
       "    }\n",
       "\n",
       "    .dataframe tbody tr th {\n",
       "        vertical-align: top;\n",
       "    }\n",
       "\n",
       "    .dataframe thead th {\n",
       "        text-align: right;\n",
       "    }\n",
       "</style>\n",
       "<table border=\"1\" class=\"dataframe\">\n",
       "  <thead>\n",
       "    <tr style=\"text-align: right;\">\n",
       "      <th></th>\n",
       "      <th>config.activation</th>\n",
       "      <th>config.avg_num_neighbors</th>\n",
       "      <th>config.compute_padding_dynamically</th>\n",
       "      <th>config.eval_every_steps</th>\n",
       "      <th>config.focus_predictor.latent_size</th>\n",
       "      <th>config.focus_predictor.num_layers</th>\n",
       "      <th>config.learning_rate</th>\n",
       "      <th>config.learning_rate_schedule</th>\n",
       "      <th>config.learning_rate_schedule_kwargs.decay_steps</th>\n",
       "      <th>config.learning_rate_schedule_kwargs.init_value</th>\n",
       "      <th>...</th>\n",
       "      <th>config.val_molecules</th>\n",
       "      <th>focus_loss</th>\n",
       "      <th>atom_type_loss</th>\n",
       "      <th>position_loss</th>\n",
       "      <th>model</th>\n",
       "      <th>max_l</th>\n",
       "      <th>num_interactions</th>\n",
       "      <th>num_channels</th>\n",
       "      <th>num_params</th>\n",
       "      <th>num_train_molecules</th>\n",
       "    </tr>\n",
       "  </thead>\n",
       "  <tbody>\n",
       "    <tr>\n",
       "      <th>0</th>\n",
       "      <td>softplus</td>\n",
       "      <td>15.0</td>\n",
       "      <td>False</td>\n",
       "      <td>5000</td>\n",
       "      <td>128</td>\n",
       "      <td>3</td>\n",
       "      <td>0.001</td>\n",
       "      <td>sgdr</td>\n",
       "      <td>1000</td>\n",
       "      <td>0.001</td>\n",
       "      <td>...</td>\n",
       "      <td>47616</td>\n",
       "      <td>0.255938</td>\n",
       "      <td>0.387586</td>\n",
       "      <td>-1.678556</td>\n",
       "      <td>mace</td>\n",
       "      <td>5</td>\n",
       "      <td>4</td>\n",
       "      <td>32</td>\n",
       "      <td>1227040</td>\n",
       "      <td>47616</td>\n",
       "    </tr>\n",
       "  </tbody>\n",
       "</table>\n",
       "<p>1 rows × 49 columns</p>\n",
       "</div>"
      ],
      "text/plain": [
       "  config.activation  config.avg_num_neighbors  \\\n",
       "0          softplus                      15.0   \n",
       "\n",
       "   config.compute_padding_dynamically  config.eval_every_steps  \\\n",
       "0                               False                     5000   \n",
       "\n",
       "   config.focus_predictor.latent_size  config.focus_predictor.num_layers  \\\n",
       "0                                 128                                  3   \n",
       "\n",
       "   config.learning_rate config.learning_rate_schedule  \\\n",
       "0                 0.001                          sgdr   \n",
       "\n",
       "   config.learning_rate_schedule_kwargs.decay_steps  \\\n",
       "0                                              1000   \n",
       "\n",
       "   config.learning_rate_schedule_kwargs.init_value  ...  config.val_molecules  \\\n",
       "0                                            0.001  ...                 47616   \n",
       "\n",
       "   focus_loss  atom_type_loss  position_loss  model  max_l  num_interactions  \\\n",
       "0    0.255938        0.387586      -1.678556   mace      5                 4   \n",
       "\n",
       "   num_channels num_params  num_train_molecules  \n",
       "0            32    1227040                47616  \n",
       "\n",
       "[1 rows x 49 columns]"
      ]
     },
     "execution_count": 13,
     "metadata": {},
     "output_type": "execute_result"
    }
   ],
   "source": [
    "df_dict['train_eval_final']"
   ]
  },
  {
   "cell_type": "code",
   "execution_count": null,
   "metadata": {},
   "outputs": [],
   "source": []
  }
 ],
 "metadata": {
  "kernelspec": {
   "display_name": "sh-net",
   "language": "python",
   "name": "python3"
  },
  "language_info": {
   "codemirror_mode": {
    "name": "ipython",
    "version": 3
   },
   "file_extension": ".py",
   "mimetype": "text/x-python",
   "name": "python",
   "nbconvert_exporter": "python",
   "pygments_lexer": "ipython3",
   "version": "3.10.0"
  },
  "orig_nbformat": 4
 },
 "nbformat": 4,
 "nbformat_minor": 2
}
