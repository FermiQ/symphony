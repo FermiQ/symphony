{
 "cells": [
  {
   "cell_type": "code",
   "execution_count": 4,
   "metadata": {},
   "outputs": [
    {
     "name": "stderr",
     "output_type": "stream",
     "text": [
      "No GPU/TPU found, falling back to CPU. (Set TF_CPP_MIN_LOG_LEVEL=0 and rerun for more info.)\n"
     ]
    }
   ],
   "source": [
    "import jax\n",
    "import jax.numpy as jnp\n",
    "import pickle\n",
    "import sys\n",
    "sys.path.append('..')\n",
    "sys.path.append('../analyses')\n",
    "\n",
    "import analysis\n",
    "import datatypes\n",
    "from input_pipeline_tf import get_datasets"
   ]
  },
  {
   "cell_type": "code",
   "execution_count": 10,
   "metadata": {},
   "outputs": [
    {
     "name": "stderr",
     "output_type": "stream",
     "text": [
      "/home/songk/atomicarchitects/spherical_harmonic_net/notebooks/../input_pipeline_tf.py:94: FutureWarning: jax.tree_leaves is deprecated, and will be removed in a future release. Use jax.tree_util.tree_leaves instead.\n",
      "  np.shape(jax.tree_leaves(graph.nodes)[0])[0],\n"
     ]
    }
   ],
   "source": [
    "version = 3\n",
    "interactions = 4\n",
    "l = 5\n",
    "\n",
    "config, best_state_train, best_state_eval, metrics_for_best_state = analysis.load_from_workdir(f'../workdirs/mace/v{version}/interactions={interactions}/l={l}/channels=32')\n",
    "\n",
    "cutoff = 5.0\n",
    "key = jax.random.PRNGKey(0)\n",
    "epsilon = 1e-4\n",
    "\n",
    "qm9_datasets = get_datasets(key, config)\n",
    "example_graph = next(qm9_datasets[\"test\"].as_numpy_iterator())\n",
    "frag = datatypes.Fragments.from_graphstuple(example_graph)\n",
    "frag = jax.tree_map(jnp.asarray, frag)"
   ]
  },
  {
   "cell_type": "code",
   "execution_count": 13,
   "metadata": {},
   "outputs": [],
   "source": [
    "generated_dict = analysis.to_mol_dict(frag, \"../workdirs\", \"generated_single_frag\")"
   ]
  },
  {
   "cell_type": "code",
   "execution_count": 14,
   "metadata": {},
   "outputs": [],
   "source": [
    "mol_dict = pickle.load(open('../workdirs/generated/generated_single_frag.mol_dict', 'rb'))"
   ]
  },
  {
   "cell_type": "code",
   "execution_count": null,
   "metadata": {},
   "outputs": [],
   "source": []
  }
 ],
 "metadata": {
  "kernelspec": {
   "display_name": "sh-net",
   "language": "python",
   "name": "python3"
  },
  "language_info": {
   "codemirror_mode": {
    "name": "ipython",
    "version": 3
   },
   "file_extension": ".py",
   "mimetype": "text/x-python",
   "name": "python",
   "nbconvert_exporter": "python",
   "pygments_lexer": "ipython3",
   "version": "3.10.6"
  },
  "orig_nbformat": 4
 },
 "nbformat": 4,
 "nbformat_minor": 2
}
