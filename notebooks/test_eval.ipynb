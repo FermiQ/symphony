{
 "cells": [
  {
   "cell_type": "code",
   "execution_count": 1,
   "metadata": {},
   "outputs": [],
   "source": [
    "import sys\n",
    "sys.path += ['..']"
   ]
  },
  {
   "cell_type": "code",
   "execution_count": 4,
   "metadata": {},
   "outputs": [],
   "source": [
    "import jax\n",
    "import jax.numpy as jnp\n",
    "import jraph\n",
    "import e3nn_jax as e3nn\n",
    "import numpy as np\n",
    "import matplotlib.pyplot as plt\n",
    "import haiku as hk\n",
    "from models import Predictor, MACE, FocusPredictor, TargetSpeciesPredictor, TargetPositionPredictor"
   ]
  },
  {
   "cell_type": "code",
   "execution_count": 6,
   "metadata": {},
   "outputs": [],
   "source": [
    "irreps = 32 * e3nn.Irreps.spherical_harmonics(3)\n",
    "\n",
    "@hk.without_apply_rng\n",
    "@hk.transform\n",
    "def pred(graph):\n",
    "    return Predictor(\n",
    "        MACE(irreps, irreps, irreps, 5.0, 2, 15.0, 5, 3, 8),\n",
    "        FocusPredictor(64, 3, jax.nn.gelu),\n",
    "        TargetSpeciesPredictor(64, 3, jax.nn.gelu),\n",
    "        TargetPositionPredictor(3, 50, 99),\n",
    "        run_in_evaluation_mode=True,\n",
    "    )(graph)\n"
   ]
  },
  {
   "cell_type": "code",
   "execution_count": 7,
   "metadata": {},
   "outputs": [
    {
     "ename": "TypeError",
     "evalue": "GraphsTuple.__new__() missing 4 required positional arguments: 'receivers', 'senders', 'n_node', and 'n_edge'",
     "output_type": "error",
     "traceback": [
      "\u001b[0;31m---------------------------------------------------------------------------\u001b[0m",
      "\u001b[0;31mTypeError\u001b[0m                                 Traceback (most recent call last)",
      "Cell \u001b[0;32mIn[7], line 1\u001b[0m\n\u001b[0;32m----> 1\u001b[0m w \u001b[39m=\u001b[39m pred\u001b[39m.\u001b[39minit(jax\u001b[39m.\u001b[39mrandom\u001b[39m.\u001b[39mPRNGKey(\u001b[39m0\u001b[39m), jraph\u001b[39m.\u001b[39;49mGraphsTuple(nodes\u001b[39m=\u001b[39;49mjnp\u001b[39m.\u001b[39;49mzeros((\u001b[39m1\u001b[39;49m, \u001b[39m3\u001b[39;49m)), edges\u001b[39m=\u001b[39;49mjnp\u001b[39m.\u001b[39;49mzeros((\u001b[39m1\u001b[39;49m, \u001b[39m3\u001b[39;49m)), \u001b[39mglobals\u001b[39;49m\u001b[39m=\u001b[39;49mjnp\u001b[39m.\u001b[39;49mzeros((\u001b[39m1\u001b[39;49m, \u001b[39m3\u001b[39;49m))))\n",
      "\u001b[0;31mTypeError\u001b[0m: GraphsTuple.__new__() missing 4 required positional arguments: 'receivers', 'senders', 'n_node', and 'n_edge'"
     ]
    }
   ],
   "source": [
    "w = pred.init(jax.random.PRNGKey(0), jraph.GraphsTuple(nodes=jnp.zeros((1, 3)), edges=jnp.zeros((1, 3)), globals=jnp.zeros((1, 3))))"
   ]
  },
  {
   "cell_type": "code",
   "execution_count": null,
   "metadata": {},
   "outputs": [],
   "source": []
  }
 ],
 "metadata": {
  "kernelspec": {
   "display_name": "base3.10b",
   "language": "python",
   "name": "python3"
  },
  "language_info": {
   "codemirror_mode": {
    "name": "ipython",
    "version": 3
   },
   "file_extension": ".py",
   "mimetype": "text/x-python",
   "name": "python",
   "nbconvert_exporter": "python",
   "pygments_lexer": "ipython3",
   "version": "3.10.9"
  },
  "orig_nbformat": 4
 },
 "nbformat": 4,
 "nbformat_minor": 2
}
