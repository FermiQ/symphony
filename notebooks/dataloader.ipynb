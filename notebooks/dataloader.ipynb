{
 "cells": [
  {
   "cell_type": "code",
   "execution_count": 2,
   "metadata": {},
   "outputs": [],
   "source": [
    "import sys\n",
    "\n",
    "sys.path.append(\"..\")\n",
    "\n",
    "import jax\n",
    "import jax.numpy as jnp\n",
    "from input_pipeline import dataloader\n",
    "from qm9 import load_qm9"
   ]
  },
  {
   "cell_type": "code",
   "execution_count": 5,
   "metadata": {},
   "outputs": [],
   "source": [
    "molecules = load_qm9(\"qm9_data\")[:2]\n",
    "atomic_numbers = jnp.array([1, 6, 7, 8, 9])\n",
    "epsilon = 0.1  # Angstroms\n",
    "cutoff = 5.0  # Angstroms\n",
    "\n",
    "loader = dataloader(jax.random.PRNGKey(0), molecules, atomic_numbers, epsilon, cutoff, 10, 20, 10)\n"
   ]
  },
  {
   "cell_type": "code",
   "execution_count": 8,
   "metadata": {},
   "outputs": [
    {
     "name": "stdout",
     "output_type": "stream",
     "text": [
      "10 graphs\n",
      "6 nodes: [5 1 0 0 0 0 0 0 0 0]\n",
      "20 edges: [20  0  0  0  0  0  0  0  0  0]\n"
     ]
    }
   ],
   "source": [
    "graphs = next(loader)\n",
    "\n",
    "print(f\"{len(graphs.n_node)} graphs\")\n",
    "print(f\"{graphs.n_node.sum()} nodes: {graphs.n_node}\") \n",
    "print(f\"{graphs.n_edge.sum()} edges: {graphs.n_edge}\")"
   ]
  },
  {
   "cell_type": "code",
   "execution_count": 4,
   "metadata": {},
   "outputs": [],
   "source": [
    "shapes = []\n",
    "\n",
    "for _ in range(200):\n",
    "    graphs = next(loader)\n",
    "\n",
    "    shapes.append((len(graphs.n_node), graphs.n_node.sum(), graphs.n_edge.sum()))"
   ]
  },
  {
   "cell_type": "code",
   "execution_count": 5,
   "metadata": {},
   "outputs": [
    {
     "data": {
      "text/plain": [
       "{(16, 64, 768), (16, 64, 1024), (16, 96, 768), (16, 96, 1024), (16, 128, 1024)}"
      ]
     },
     "execution_count": 5,
     "metadata": {},
     "output_type": "execute_result"
    }
   ],
   "source": [
    "set(shapes)"
   ]
  },
  {
   "cell_type": "code",
   "execution_count": null,
   "metadata": {},
   "outputs": [],
   "source": []
  }
 ],
 "metadata": {
  "kernelspec": {
   "display_name": ".venv",
   "language": "python",
   "name": "python3"
  },
  "language_info": {
   "codemirror_mode": {
    "name": "ipython",
    "version": 3
   },
   "file_extension": ".py",
   "mimetype": "text/x-python",
   "name": "python",
   "nbconvert_exporter": "python",
   "pygments_lexer": "ipython3",
   "version": "3.10.8"
  },
  "orig_nbformat": 4,
  "vscode": {
   "interpreter": {
    "hash": "c45d96c58491a395ddcd8e473c3845279123da787cb66983d65c138d89f394de"
   }
  }
 },
 "nbformat": 4,
 "nbformat_minor": 2
}
