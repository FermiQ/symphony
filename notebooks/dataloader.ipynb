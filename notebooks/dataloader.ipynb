{
 "cells": [
  {
   "cell_type": "code",
   "execution_count": 1,
   "metadata": {},
   "outputs": [],
   "source": [
    "import sys\n",
    "\n",
    "sys.path.append(\"..\")\n",
    "\n",
    "import jax\n",
    "import jax.numpy as jnp\n",
    "from dataloader import dataloader\n",
    "from qm9 import load_qm9"
   ]
  },
  {
   "cell_type": "code",
   "execution_count": 2,
   "metadata": {},
   "outputs": [],
   "source": [
    "molecules = load_qm9(\"qm9_data\")\n",
    "atomic_numbers = jnp.array([1, 6, 7, 8, 9])\n",
    "epsilon = 0.1  # Angstroms\n",
    "cutoff = 5.0  # Angstroms\n",
    "\n",
    "loader = dataloader(jax.random.PRNGKey(0), molecules, atomic_numbers, epsilon, cutoff)\n"
   ]
  },
  {
   "cell_type": "code",
   "execution_count": 3,
   "metadata": {},
   "outputs": [
    {
     "name": "stdout",
     "output_type": "stream",
     "text": [
      "16 graphs\n",
      "96 nodes: [ 9 12 15  8 17  4 11 12  8  0  0  0  0  0  0  0]\n",
      "1024 edges: [ 72 102 196  56 266  12  98 132  90   0   0   0   0   0   0   0]\n"
     ]
    }
   ],
   "source": [
    "graphs = next(loader)\n",
    "\n",
    "print(f\"{len(graphs.n_node)} graphs\")\n",
    "print(f\"{graphs.n_node.sum()} nodes: {graphs.n_node}\") \n",
    "print(f\"{graphs.n_edge.sum()} edges: {graphs.n_edge}\")"
   ]
  },
  {
   "cell_type": "code",
   "execution_count": 4,
   "metadata": {},
   "outputs": [],
   "source": [
    "shapes = []\n",
    "\n",
    "for _ in range(200):\n",
    "    graphs = next(loader)\n",
    "\n",
    "    shapes.append((len(graphs.n_node), graphs.n_node.sum(), graphs.n_edge.sum()))"
   ]
  },
  {
   "cell_type": "code",
   "execution_count": 5,
   "metadata": {},
   "outputs": [
    {
     "data": {
      "text/plain": [
       "{(16, 64, 768), (16, 64, 1024), (16, 96, 768), (16, 96, 1024), (16, 128, 1024)}"
      ]
     },
     "execution_count": 5,
     "metadata": {},
     "output_type": "execute_result"
    }
   ],
   "source": [
    "set(shapes)"
   ]
  },
  {
   "cell_type": "code",
   "execution_count": null,
   "metadata": {},
   "outputs": [],
   "source": []
  }
 ],
 "metadata": {
  "kernelspec": {
   "display_name": "base3.10",
   "language": "python",
   "name": "python3"
  },
  "language_info": {
   "codemirror_mode": {
    "name": "ipython",
    "version": 3
   },
   "file_extension": ".py",
   "mimetype": "text/x-python",
   "name": "python",
   "nbconvert_exporter": "python",
   "pygments_lexer": "ipython3",
   "version": "3.10.9"
  },
  "orig_nbformat": 4,
  "vscode": {
   "interpreter": {
    "hash": "d56864912356824c4620b99a45bdb852210f1cb60f3cd45427bf8c267e6a01bd"
   }
  }
 },
 "nbformat": 4,
 "nbformat_minor": 2
}
