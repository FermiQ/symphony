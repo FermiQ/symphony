{
 "cells": [
  {
   "cell_type": "code",
   "execution_count": 4,
   "metadata": {},
   "outputs": [],
   "source": [
    "import sys\n",
    "\n",
    "sys.path.append(\"..\")\n",
    "\n",
    "import jax\n",
    "import jax.numpy as jnp\n",
    "from dataloader import dataloader\n",
    "from qm9 import load_qm9"
   ]
  },
  {
   "cell_type": "code",
   "execution_count": 5,
   "metadata": {},
   "outputs": [],
   "source": [
    "loader = dataloader(\n",
    "    jax.random.PRNGKey(0), load_qm9(\"qm9_data\"), jnp.array([1, 6, 7, 8, 9]), 0.01, 5.0\n",
    ")"
   ]
  },
  {
   "cell_type": "code",
   "execution_count": 6,
   "metadata": {},
   "outputs": [
    {
     "data": {
      "text/plain": [
       "(array([ 9, 12, 15,  8, 17,  4, 11, 12,  8,  0]),\n",
       " array([ 72, 100, 196,  56, 266,  12,  94, 132,  72,   0]))"
      ]
     },
     "execution_count": 6,
     "metadata": {},
     "output_type": "execute_result"
    }
   ],
   "source": [
    "graphs = next(loader)\n",
    "\n",
    "graphs.n_node, graphs.n_edge"
   ]
  },
  {
   "cell_type": "code",
   "execution_count": null,
   "metadata": {},
   "outputs": [],
   "source": []
  }
 ],
 "metadata": {
  "kernelspec": {
   "display_name": "base3.10",
   "language": "python",
   "name": "python3"
  },
  "language_info": {
   "codemirror_mode": {
    "name": "ipython",
    "version": 3
   },
   "file_extension": ".py",
   "mimetype": "text/x-python",
   "name": "python",
   "nbconvert_exporter": "python",
   "pygments_lexer": "ipython3",
   "version": "3.10.9"
  },
  "orig_nbformat": 4,
  "vscode": {
   "interpreter": {
    "hash": "d56864912356824c4620b99a45bdb852210f1cb60f3cd45427bf8c267e6a01bd"
   }
  }
 },
 "nbformat": 4,
 "nbformat_minor": 2
}
