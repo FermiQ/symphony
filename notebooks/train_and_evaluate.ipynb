{
 "cells": [
  {
   "cell_type": "code",
   "execution_count": 1,
   "metadata": {},
   "outputs": [
    {
     "name": "stderr",
     "output_type": "stream",
     "text": [
      "2023-02-15 16:22:10.818685: W tensorflow/compiler/xla/stream_executor/platform/default/dso_loader.cc:64] Could not load dynamic library 'libcudart.so.11.0'; dlerror: libcudart.so.11.0: cannot open shared object file: No such file or directory\n",
      "2023-02-15 16:22:12.740643: W tensorflow/compiler/xla/stream_executor/platform/default/dso_loader.cc:64] Could not load dynamic library 'libnvinfer.so.7'; dlerror: libnvinfer.so.7: cannot open shared object file: No such file or directory\n",
      "2023-02-15 16:22:12.740949: W tensorflow/compiler/xla/stream_executor/platform/default/dso_loader.cc:64] Could not load dynamic library 'libnvinfer_plugin.so.7'; dlerror: libnvinfer_plugin.so.7: cannot open shared object file: No such file or directory\n",
      "2023-02-15 16:22:12.740976: W tensorflow/compiler/tf2tensorrt/utils/py_utils.cc:38] TF-TRT Warning: Cannot dlopen some TensorRT libraries. If you would like to use Nvidia GPU with TensorRT, please make sure the missing libraries mentioned above are installed properly.\n"
     ]
    }
   ],
   "source": [
    "import os\n",
    "from typing import Any, Dict, Iterable, Tuple, Optional, Union\n",
    "\n",
    "from absl import logging\n",
    "from clu import checkpoint\n",
    "from clu import metric_writers\n",
    "from clu import metrics\n",
    "from clu import parameter_overview\n",
    "from clu import periodic_actions\n",
    "import e3nn_jax as e3nn\n",
    "import flax\n",
    "import flax.core\n",
    "import flax.linen as nn\n",
    "from flax.training import train_state\n",
    "import jax\n",
    "import jax.numpy as jnp\n",
    "import jraph\n",
    "import ml_collections\n",
    "import numpy as np\n",
    "import optax\n",
    "import random\n",
    "import sys\n",
    "import tensorflow as tf\n",
    "\n",
    "sys.path.append(\"..\")"
   ]
  },
  {
   "cell_type": "code",
   "execution_count": 4,
   "metadata": {},
   "outputs": [
    {
     "ename": "SyntaxError",
     "evalue": "invalid syntax (input_pipeline.py, line 141)",
     "output_type": "error",
     "traceback": [
      "Traceback \u001b[0;36m(most recent call last)\u001b[0m:\n",
      "\u001b[0m  File \u001b[1;32m~/.local/lib/python3.10/site-packages/IPython/core/interactiveshell.py:3378\u001b[0m in \u001b[1;35mrun_code\u001b[0m\n    exec(code_obj, self.user_global_ns, self.user_ns)\u001b[0m\n",
      "\u001b[0m  Cell \u001b[1;32mIn [4], line 4\u001b[0m\n    from train import *\u001b[0m\n",
      "\u001b[0;36m  File \u001b[0;32m~/atomicarchitects/spherical_harmonic_net/notebooks/../train.py:26\u001b[0;36m\n\u001b[0;31m    import input_pipeline\u001b[0;36m\n",
      "\u001b[0;36m  File \u001b[0;32m~/atomicarchitects/spherical_harmonic_net/notebooks/../input_pipeline.py:141\u001b[0;36m\u001b[0m\n\u001b[0;31m    )\u001b[0m\n\u001b[0m    ^\u001b[0m\n\u001b[0;31mSyntaxError\u001b[0m\u001b[0;31m:\u001b[0m invalid syntax\n"
     ]
    }
   ],
   "source": [
    "from configs import graphmlp, graphnet\n",
    "from dataloader import dataloader\n",
    "from model import TYPES\n",
    "from train import *\n",
    "from qm9 import load_qm9"
   ]
  },
  {
   "cell_type": "code",
   "execution_count": null,
   "metadata": {},
   "outputs": [
    {
     "ename": "NameError",
     "evalue": "name 'load_qm9' is not defined",
     "output_type": "error",
     "traceback": [
      "\u001b[0;31m---------------------------------------------------------------------------\u001b[0m",
      "\u001b[0;31mNameError\u001b[0m                                 Traceback (most recent call last)",
      "Cell \u001b[0;32mIn [5], line 2\u001b[0m\n\u001b[1;32m      1\u001b[0m key \u001b[39m=\u001b[39m jax\u001b[39m.\u001b[39mrandom\u001b[39m.\u001b[39mPRNGKey(\u001b[39m0\u001b[39m)\n\u001b[0;32m----> 2\u001b[0m qm9_data \u001b[39m=\u001b[39m load_qm9(\u001b[39m\"\u001b[39m\u001b[39mqm9_data\u001b[39m\u001b[39m\"\u001b[39m)\n\u001b[1;32m      3\u001b[0m dl \u001b[39m=\u001b[39m dataloader(\n\u001b[1;32m      4\u001b[0m     key,\n\u001b[1;32m      5\u001b[0m     qm9_data[:\u001b[39m5\u001b[39m],\n\u001b[0;32m   (...)\u001b[0m\n\u001b[1;32m      8\u001b[0m     cutoff\u001b[39m=\u001b[39m\u001b[39m3.5\u001b[39m,\n\u001b[1;32m      9\u001b[0m )\n",
      "\u001b[0;31mNameError\u001b[0m: name 'load_qm9' is not defined"
     ]
    }
   ],
   "source": [
    "molecules = load_qm9(\"qm9_data\")\n",
    "atomic_numbers = jnp.array([1, 6, 7, 8, 9])\n",
    "epsilon = 0.1  # Angstroms\n",
    "cutoff = 5.0  # Angstroms\n",
    "\n",
    "loader = dataloader(jax.random.PRNGKey(0), molecules, atomic_numbers, epsilon, cutoff)"
   ]
  },
  {
   "cell_type": "code",
   "execution_count": 8,
   "metadata": {},
   "outputs": [
    {
     "ename": "TypeError",
     "evalue": "TrainingNodesInfo.__new__() missing 1 required positional argument: 'focus_probability'",
     "output_type": "error",
     "traceback": [
      "\u001b[0;31m---------------------------------------------------------------------------\u001b[0m",
      "\u001b[0;31mTypeError\u001b[0m                                 Traceback (most recent call last)",
      "Cell \u001b[0;32mIn [8], line 7\u001b[0m\n\u001b[1;32m      5\u001b[0m ct \u001b[39m=\u001b[39m \u001b[39m0\u001b[39m\n\u001b[1;32m      6\u001b[0m \u001b[39mfor\u001b[39;00m mol \u001b[39min\u001b[39;00m qm9_data[:\u001b[39m100\u001b[39m]:\n\u001b[0;32m----> 7\u001b[0m     mol_graph \u001b[39m=\u001b[39m ase_atoms_to_jraph_graph(mol, \u001b[39m3.5\u001b[39;49m)\n\u001b[1;32m      8\u001b[0m     \u001b[39mfor\u001b[39;00m subgraph \u001b[39min\u001b[39;00m generative_sequence(key, mol_graph):\n\u001b[1;32m      9\u001b[0m         subgraphs\u001b[39m.\u001b[39mappend(subgraph)\n",
      "File \u001b[0;32m~/atomicarchitects/spherical_harmonic_net/input_pipeline.py:26\u001b[0m, in \u001b[0;36mase_atoms_to_jraph_graph\u001b[0;34m(atoms, cutoff)\u001b[0m\n\u001b[1;32m     20\u001b[0m \u001b[39m\"\"\"Converts an ASE atoms object to a Jraph graph.\"\"\"\u001b[39;00m\n\u001b[1;32m     21\u001b[0m receivers, senders \u001b[39m=\u001b[39m matscipy\u001b[39m.\u001b[39mneighbours\u001b[39m.\u001b[39mneighbour_list(\n\u001b[1;32m     22\u001b[0m     quantities\u001b[39m=\u001b[39m\u001b[39m\"\u001b[39m\u001b[39mij\u001b[39m\u001b[39m\"\u001b[39m, positions\u001b[39m=\u001b[39matoms\u001b[39m.\u001b[39mpositions, cutoff\u001b[39m=\u001b[39mcutoff, cell\u001b[39m=\u001b[39mnp\u001b[39m.\u001b[39meye(\u001b[39m3\u001b[39m)\n\u001b[1;32m     23\u001b[0m )\n\u001b[1;32m     25\u001b[0m \u001b[39mreturn\u001b[39;00m jraph\u001b[39m.\u001b[39mGraphsTuple(\n\u001b[0;32m---> 26\u001b[0m     nodes\u001b[39m=\u001b[39mTrainingNodesInfo(\n\u001b[1;32m     27\u001b[0m         atoms\u001b[39m.\u001b[39;49mpositions, atoms\u001b[39m.\u001b[39;49mnumbers\n\u001b[1;32m     28\u001b[0m     ),  \u001b[39m# will have a better probability system later\u001b[39;00m\n\u001b[1;32m     29\u001b[0m     edges\u001b[39m=\u001b[39m\u001b[39mNone\u001b[39;00m,\n\u001b[1;32m     30\u001b[0m     \u001b[39mglobals\u001b[39m\u001b[39m=\u001b[39m\u001b[39mNone\u001b[39;00m,\n\u001b[1;32m     31\u001b[0m     senders\u001b[39m=\u001b[39msenders,\n\u001b[1;32m     32\u001b[0m     receivers\u001b[39m=\u001b[39mreceivers,\n\u001b[1;32m     33\u001b[0m     n_node\u001b[39m=\u001b[39mnp\u001b[39m.\u001b[39marray([\u001b[39mlen\u001b[39m(atoms)]),\n\u001b[1;32m     34\u001b[0m     n_edge\u001b[39m=\u001b[39mnp\u001b[39m.\u001b[39marray([\u001b[39mlen\u001b[39m(senders)]),\n\u001b[1;32m     35\u001b[0m )\n",
      "\u001b[0;31mTypeError\u001b[0m: TrainingNodesInfo.__new__() missing 1 required positional argument: 'focus_probability'"
     ]
    }
   ],
   "source": [
    "key = jax.random.PRNGKey(0)\n",
    "qm9_data = load_qm9(\"qm9_data\")\n",
    "subgraphs = []\n",
    "# collect graphs of partially-assembled molecules\n",
    "ct = 0\n",
    "for mol in qm9_data[:100]:\n",
    "    mol_graph = ase_atoms_to_jraph_graph(mol, 3.5)\n",
    "    for subgraph in generative_sequence(key, mol_graph):\n",
    "        subgraphs.append(subgraph)\n",
    "    ct += 1\n",
    "random.shuffle(subgraphs)"
   ]
  },
  {
   "cell_type": "code",
   "execution_count": 3,
   "metadata": {},
   "outputs": [],
   "source": [
    "gen = jraph.dynamically_batch(\n",
    "    subgraphs,\n",
    "    n_node=100 * 64,\n",
    "    n_edge=100 * 64,\n",
    "    n_graph=64,\n",
    ")"
   ]
  },
  {
   "cell_type": "code",
   "execution_count": 13,
   "metadata": {},
   "outputs": [
    {
     "data": {
      "text/plain": [
       "16"
      ]
     },
     "execution_count": 13,
     "metadata": {},
     "output_type": "execute_result"
    }
   ],
   "source": [
    "gen_list = list(gen)\n",
    "len(gen_list)"
   ]
  },
  {
   "cell_type": "code",
   "execution_count": 4,
   "metadata": {},
   "outputs": [],
   "source": [
    "config = graphmlp.get_config()"
   ]
  },
  {
   "cell_type": "code",
   "execution_count": 7,
   "metadata": {},
   "outputs": [],
   "source": [
    "def train_and_evaluate(\n",
    "    config: ml_collections.ConfigDict, workdir: str, train_data\n",
    "):\n",
    "    \"\"\"Execute model training and evaluation loop.\n",
    "\n",
    "    Args:\n",
    "      config: Hyperparameter configuration for training and evaluation.\n",
    "      workdir: Directory where the TensorBoard summaries are written to.\n",
    "\n",
    "    Returns:\n",
    "      The train state (which includes the `.params`).\n",
    "    \"\"\"\n",
    "    # We only support single-host training.\n",
    "    assert jax.process_count() == 1\n",
    "\n",
    "    # Create writer for logs.\n",
    "    writer = metric_writers.create_default_writer(workdir)\n",
    "    writer.write_hparams(config.to_dict())\n",
    "\n",
    "    # Get datasets, organized by split.\n",
    "    logging.info(\"Obtaining datasets.\")\n",
    "    train_iter = iter(train_data)\n",
    "\n",
    "    # Create and initialize the network.\n",
    "    logging.info(\"Initializing network.\")\n",
    "    rng = jax.random.PRNGKey(0)\n",
    "    rng, init_rng = jax.random.split(rng)\n",
    "    init_graphs = next(train_data)\n",
    "    init_graphs = replace_globals(init_graphs)\n",
    "    init_net = create_model(config, deterministic=True)\n",
    "    params = jax.jit(init_net.init)(init_rng, init_graphs)\n",
    "    parameter_overview.log_parameter_overview(params)\n",
    "\n",
    "    # Create the optimizer.\n",
    "    tx = create_optimizer(config)\n",
    "\n",
    "    # Create the training state.\n",
    "    net = create_model(config, deterministic=False)\n",
    "    state = train_state.TrainState.create(apply_fn=net.apply, params=params, tx=tx)\n",
    "\n",
    "    # Set up checkpointing of the model.\n",
    "    checkpoint_dir = os.path.join(workdir, \"checkpoints\")\n",
    "    ckpt = checkpoint.Checkpoint(checkpoint_dir, max_to_keep=2)\n",
    "    state = ckpt.restore_or_initialize(state)\n",
    "    initial_step = int(state.step) + 1\n",
    "\n",
    "    # Create the evaluation state, corresponding to a deterministic model.\n",
    "    eval_net = create_model(config, deterministic=True)\n",
    "    eval_state = state.replace(apply_fn=eval_net.apply)\n",
    "\n",
    "    # Hooks called periodically during training.\n",
    "    report_progress = periodic_actions.ReportProgress(\n",
    "        num_train_steps=config.num_train_steps, writer=writer\n",
    "    )\n",
    "    profiler = periodic_actions.Profile(num_profile_steps=5, logdir=workdir)\n",
    "    hooks = [report_progress, profiler]\n",
    "\n",
    "    # Begin training loop.\n",
    "    logging.info(\"Starting training.\")\n",
    "    train_metrics = None\n",
    "    for step in range(initial_step, config.num_train_steps + 1):\n",
    "        # Split PRNG key, to ensure different 'randomness' for every step.\n",
    "        rng, dropout_rng = jax.random.split(rng)\n",
    "\n",
    "        # Perform one step of training.\n",
    "        with jax.profiler.StepTraceAnnotation(\"train\", step_num=step):\n",
    "            graphs = jax.tree_util.tree_map(jnp.asarray, next(train_iter))\n",
    "            state, metrics_update = train_step(\n",
    "                state,\n",
    "                graphs,\n",
    "                rngs={\"dropout\": dropout_rng},\n",
    "                loss_kwargs=config.loss_kwargs.to_dict(),\n",
    "            )\n",
    "\n",
    "            # Update metrics.\n",
    "            if train_metrics is None:\n",
    "                train_metrics = metrics_update\n",
    "            else:\n",
    "                train_metrics = train_metrics.merge(metrics_update)\n",
    "\n",
    "        # Quick indication that training is happening.\n",
    "        logging.log_first_n(logging.INFO, \"Finished training step %d.\", 10, step)\n",
    "        for hook in hooks:\n",
    "            hook(step)\n",
    "\n",
    "    return state"
   ]
  },
  {
   "cell_type": "code",
   "execution_count": 12,
   "metadata": {},
   "outputs": [
    {
     "ename": "TracerArrayConversionError",
     "evalue": "The numpy.ndarray conversion method __array__() was called on the JAX Tracer object Traced<ShapedArray(float32[6400,3])>with<DynamicJaxprTrace(level=0/1)>\nThe error occurred while tracing the function init at /home/songk/anaconda3/envs/sh-net/lib/python3.10/site-packages/flax/linen/module.py:1346 for jit. This concrete value was not available in Python because it depends on the value of the argument 'args'.\nSee https://jax.readthedocs.io/en/latest/errors.html#jax.errors.TracerArrayConversionError",
     "output_type": "error",
     "traceback": [
      "\u001b[0;31m---------------------------------------------------------------------------\u001b[0m",
      "\u001b[0;31mAttributeError\u001b[0m                            Traceback (most recent call last)",
      "File \u001b[0;32m~/.local/lib/python3.10/site-packages/numpy-1.23.3-py3.10-linux-x86_64.egg/numpy/core/fromnumeric.py:2007\u001b[0m, in \u001b[0;36mshape\u001b[0;34m(a)\u001b[0m\n\u001b[1;32m   2006\u001b[0m \u001b[39mtry\u001b[39;00m:\n\u001b[0;32m-> 2007\u001b[0m     result \u001b[39m=\u001b[39m a\u001b[39m.\u001b[39;49mshape\n\u001b[1;32m   2008\u001b[0m \u001b[39mexcept\u001b[39;00m \u001b[39mAttributeError\u001b[39;00m:\n",
      "\u001b[0;31mAttributeError\u001b[0m: 'NodesInfo' object has no attribute 'shape'",
      "\nDuring handling of the above exception, another exception occurred:\n",
      "\u001b[0;31mTracerArrayConversionError\u001b[0m                Traceback (most recent call last)",
      "Cell \u001b[0;32mIn [12], line 7\u001b[0m\n\u001b[1;32m      1\u001b[0m gen \u001b[39m=\u001b[39m jraph\u001b[39m.\u001b[39mdynamically_batch(\n\u001b[1;32m      2\u001b[0m     subgraphs,\n\u001b[1;32m      3\u001b[0m     n_node\u001b[39m=\u001b[39m\u001b[39m100\u001b[39m \u001b[39m*\u001b[39m \u001b[39m64\u001b[39m,\n\u001b[1;32m      4\u001b[0m     n_edge\u001b[39m=\u001b[39m\u001b[39m100\u001b[39m \u001b[39m*\u001b[39m \u001b[39m64\u001b[39m,\n\u001b[1;32m      5\u001b[0m     n_graph\u001b[39m=\u001b[39m\u001b[39m64\u001b[39m,\n\u001b[1;32m      6\u001b[0m )\n\u001b[0;32m----> 7\u001b[0m train_and_evaluate(config, \u001b[39m\"\u001b[39;49m\u001b[39mgraphmlp\u001b[39;49m\u001b[39m\"\u001b[39;49m, gen)\n",
      "Cell \u001b[0;32mIn [7], line 31\u001b[0m, in \u001b[0;36mtrain_and_evaluate\u001b[0;34m(config, workdir, train_data)\u001b[0m\n\u001b[1;32m     29\u001b[0m init_graphs \u001b[39m=\u001b[39m replace_globals(init_graphs)\n\u001b[1;32m     30\u001b[0m init_net \u001b[39m=\u001b[39m create_model(config, deterministic\u001b[39m=\u001b[39m\u001b[39mTrue\u001b[39;00m)\n\u001b[0;32m---> 31\u001b[0m params \u001b[39m=\u001b[39m jax\u001b[39m.\u001b[39;49mjit(init_net\u001b[39m.\u001b[39;49minit)(init_rng, init_graphs)\n\u001b[1;32m     32\u001b[0m parameter_overview\u001b[39m.\u001b[39mlog_parameter_overview(params)\n\u001b[1;32m     34\u001b[0m \u001b[39m# Create the optimizer.\u001b[39;00m\n",
      "    \u001b[0;31m[... skipping hidden 23 frame]\u001b[0m\n",
      "File \u001b[0;32m~/atomicarchitects/spherical_harmonic_net/models.py:190\u001b[0m, in \u001b[0;36mGraphMLP.__call__\u001b[0;34m(self, graphs)\u001b[0m\n\u001b[1;32m    182\u001b[0m \u001b[39mdef\u001b[39;00m \u001b[39membed_node_fn\u001b[39m(nodes):\n\u001b[1;32m    183\u001b[0m     \u001b[39mreturn\u001b[39;00m MLP(\n\u001b[1;32m    184\u001b[0m         [\u001b[39mself\u001b[39m\u001b[39m.\u001b[39mlatent_size \u001b[39m*\u001b[39m \u001b[39mself\u001b[39m\u001b[39m.\u001b[39mnum_mlp_layers] \u001b[39m+\u001b[39m [\u001b[39mself\u001b[39m\u001b[39m.\u001b[39moutput_nodes_size],\n\u001b[1;32m    185\u001b[0m         dropout_rate\u001b[39m=\u001b[39m\u001b[39mself\u001b[39m\u001b[39m.\u001b[39mdropout_rate,\n\u001b[1;32m    186\u001b[0m         deterministic\u001b[39m=\u001b[39m\u001b[39mself\u001b[39m\u001b[39m.\u001b[39mdeterministic,\n\u001b[1;32m    187\u001b[0m         activation\u001b[39m=\u001b[39m\u001b[39mself\u001b[39m\u001b[39m.\u001b[39mactivation,\n\u001b[1;32m    188\u001b[0m     )(nodes)\n\u001b[0;32m--> 190\u001b[0m \u001b[39mreturn\u001b[39;00m jraph\u001b[39m.\u001b[39;49mGraphMapFeatures(embed_node_fn\u001b[39m=\u001b[39;49membed_node_fn)(graphs)\n",
      "File \u001b[0;32m~/anaconda3/envs/sh-net/lib/python3.10/site-packages/jraph-0.0.6.dev0-py3.10.egg/jraph/_src/models.py:331\u001b[0m, in \u001b[0;36mGraphMapFeatures.<locals>.Embed\u001b[0;34m(graphs_tuple)\u001b[0m\n\u001b[1;32m    329\u001b[0m \u001b[39mdef\u001b[39;00m \u001b[39mEmbed\u001b[39m(graphs_tuple):\n\u001b[1;32m    330\u001b[0m   \u001b[39mreturn\u001b[39;00m graphs_tuple\u001b[39m.\u001b[39m_replace(\n\u001b[0;32m--> 331\u001b[0m       nodes\u001b[39m=\u001b[39membed_nodes_fn(graphs_tuple\u001b[39m.\u001b[39;49mnodes),\n\u001b[1;32m    332\u001b[0m       edges\u001b[39m=\u001b[39membed_edges_fn(graphs_tuple\u001b[39m.\u001b[39medges),\n\u001b[1;32m    333\u001b[0m       \u001b[39mglobals\u001b[39m\u001b[39m=\u001b[39membed_global_fn(graphs_tuple\u001b[39m.\u001b[39mglobals))\n",
      "File \u001b[0;32m~/atomicarchitects/spherical_harmonic_net/models.py:183\u001b[0m, in \u001b[0;36mGraphMLP.__call__.<locals>.embed_node_fn\u001b[0;34m(nodes)\u001b[0m\n\u001b[1;32m    182\u001b[0m \u001b[39mdef\u001b[39;00m \u001b[39membed_node_fn\u001b[39m(nodes):\n\u001b[0;32m--> 183\u001b[0m     \u001b[39mreturn\u001b[39;00m MLP(\n\u001b[1;32m    184\u001b[0m         [\u001b[39mself\u001b[39;49m\u001b[39m.\u001b[39;49mlatent_size \u001b[39m*\u001b[39;49m \u001b[39mself\u001b[39;49m\u001b[39m.\u001b[39;49mnum_mlp_layers] \u001b[39m+\u001b[39;49m [\u001b[39mself\u001b[39;49m\u001b[39m.\u001b[39;49moutput_nodes_size],\n\u001b[1;32m    185\u001b[0m         dropout_rate\u001b[39m=\u001b[39;49m\u001b[39mself\u001b[39;49m\u001b[39m.\u001b[39;49mdropout_rate,\n\u001b[1;32m    186\u001b[0m         deterministic\u001b[39m=\u001b[39;49m\u001b[39mself\u001b[39;49m\u001b[39m.\u001b[39;49mdeterministic,\n\u001b[1;32m    187\u001b[0m         activation\u001b[39m=\u001b[39;49m\u001b[39mself\u001b[39;49m\u001b[39m.\u001b[39;49mactivation,\n\u001b[1;32m    188\u001b[0m     )(nodes)\n",
      "    \u001b[0;31m[... skipping hidden 2 frame]\u001b[0m\n",
      "File \u001b[0;32m~/atomicarchitects/spherical_harmonic_net/models.py:130\u001b[0m, in \u001b[0;36mMLP.__call__\u001b[0;34m(self, inputs)\u001b[0m\n\u001b[1;32m    128\u001b[0m x \u001b[39m=\u001b[39m inputs\n\u001b[1;32m    129\u001b[0m \u001b[39mfor\u001b[39;00m size \u001b[39min\u001b[39;00m \u001b[39mself\u001b[39m\u001b[39m.\u001b[39mfeature_sizes:\n\u001b[0;32m--> 130\u001b[0m     x \u001b[39m=\u001b[39m nn\u001b[39m.\u001b[39;49mDense(features\u001b[39m=\u001b[39;49msize)(x)\n\u001b[1;32m    131\u001b[0m     x \u001b[39m=\u001b[39m \u001b[39mself\u001b[39m\u001b[39m.\u001b[39mactivation(x)\n\u001b[1;32m    132\u001b[0m     x \u001b[39m=\u001b[39m nn\u001b[39m.\u001b[39mDropout(rate\u001b[39m=\u001b[39m\u001b[39mself\u001b[39m\u001b[39m.\u001b[39mdropout_rate, deterministic\u001b[39m=\u001b[39m\u001b[39mself\u001b[39m\u001b[39m.\u001b[39mdeterministic)(x)\n",
      "    \u001b[0;31m[... skipping hidden 2 frame]\u001b[0m\n",
      "File \u001b[0;32m~/anaconda3/envs/sh-net/lib/python3.10/site-packages/flax/linen/linear.py:191\u001b[0m, in \u001b[0;36mDense.__call__\u001b[0;34m(self, inputs)\u001b[0m\n\u001b[1;32m    179\u001b[0m \u001b[39m@compact\u001b[39m\n\u001b[1;32m    180\u001b[0m \u001b[39mdef\u001b[39;00m \u001b[39m__call__\u001b[39m(\u001b[39mself\u001b[39m, inputs: Array) \u001b[39m-\u001b[39m\u001b[39m>\u001b[39m Array:\n\u001b[1;32m    181\u001b[0m   \u001b[39m\"\"\"Applies a linear transformation to the inputs along the last dimension.\u001b[39;00m\n\u001b[1;32m    182\u001b[0m \n\u001b[1;32m    183\u001b[0m \u001b[39m  Args:\u001b[39;00m\n\u001b[0;32m   (...)\u001b[0m\n\u001b[1;32m    187\u001b[0m \u001b[39m    The transformed input.\u001b[39;00m\n\u001b[1;32m    188\u001b[0m \u001b[39m  \"\"\"\u001b[39;00m\n\u001b[1;32m    189\u001b[0m   kernel \u001b[39m=\u001b[39m \u001b[39mself\u001b[39m\u001b[39m.\u001b[39mparam(\u001b[39m'\u001b[39m\u001b[39mkernel\u001b[39m\u001b[39m'\u001b[39m,\n\u001b[1;32m    190\u001b[0m                       \u001b[39mself\u001b[39m\u001b[39m.\u001b[39mkernel_init,\n\u001b[0;32m--> 191\u001b[0m                       (jnp\u001b[39m.\u001b[39;49mshape(inputs)[\u001b[39m-\u001b[39m\u001b[39m1\u001b[39m], \u001b[39mself\u001b[39m\u001b[39m.\u001b[39mfeatures),\n\u001b[1;32m    192\u001b[0m                       \u001b[39mself\u001b[39m\u001b[39m.\u001b[39mparam_dtype)\n\u001b[1;32m    193\u001b[0m   \u001b[39mif\u001b[39;00m \u001b[39mself\u001b[39m\u001b[39m.\u001b[39muse_bias:\n\u001b[1;32m    194\u001b[0m     bias \u001b[39m=\u001b[39m \u001b[39mself\u001b[39m\u001b[39m.\u001b[39mparam(\u001b[39m'\u001b[39m\u001b[39mbias\u001b[39m\u001b[39m'\u001b[39m, \u001b[39mself\u001b[39m\u001b[39m.\u001b[39mbias_init, (\u001b[39mself\u001b[39m\u001b[39m.\u001b[39mfeatures,),\n\u001b[1;32m    195\u001b[0m                       \u001b[39mself\u001b[39m\u001b[39m.\u001b[39mparam_dtype)\n",
      "File \u001b[0;32m<__array_function__ internals>:180\u001b[0m, in \u001b[0;36mshape\u001b[0;34m(*args, **kwargs)\u001b[0m\n",
      "File \u001b[0;32m~/.local/lib/python3.10/site-packages/numpy-1.23.3-py3.10-linux-x86_64.egg/numpy/core/fromnumeric.py:2009\u001b[0m, in \u001b[0;36mshape\u001b[0;34m(a)\u001b[0m\n\u001b[1;32m   2007\u001b[0m     result \u001b[39m=\u001b[39m a\u001b[39m.\u001b[39mshape\n\u001b[1;32m   2008\u001b[0m \u001b[39mexcept\u001b[39;00m \u001b[39mAttributeError\u001b[39;00m:\n\u001b[0;32m-> 2009\u001b[0m     result \u001b[39m=\u001b[39m asarray(a)\u001b[39m.\u001b[39mshape\n\u001b[1;32m   2010\u001b[0m \u001b[39mreturn\u001b[39;00m result\n",
      "File \u001b[0;32m~/.local/lib/python3.10/site-packages/jax/core.py:536\u001b[0m, in \u001b[0;36mTracer.__array__\u001b[0;34m(self, *args, **kw)\u001b[0m\n\u001b[1;32m    535\u001b[0m \u001b[39mdef\u001b[39;00m \u001b[39m__array__\u001b[39m(\u001b[39mself\u001b[39m, \u001b[39m*\u001b[39margs, \u001b[39m*\u001b[39m\u001b[39m*\u001b[39mkw):\n\u001b[0;32m--> 536\u001b[0m   \u001b[39mraise\u001b[39;00m TracerArrayConversionError(\u001b[39mself\u001b[39m)\n",
      "\u001b[0;31mTracerArrayConversionError\u001b[0m: The numpy.ndarray conversion method __array__() was called on the JAX Tracer object Traced<ShapedArray(float32[6400,3])>with<DynamicJaxprTrace(level=0/1)>\nThe error occurred while tracing the function init at /home/songk/anaconda3/envs/sh-net/lib/python3.10/site-packages/flax/linen/module.py:1346 for jit. This concrete value was not available in Python because it depends on the value of the argument 'args'.\nSee https://jax.readthedocs.io/en/latest/errors.html#jax.errors.TracerArrayConversionError"
     ]
    }
   ],
   "source": [
    "gen = jraph.dynamically_batch(\n",
    "    subgraphs,\n",
    "    n_node=100 * 64,\n",
    "    n_edge=100 * 64,\n",
    "    n_graph=64,\n",
    ")\n",
    "train_and_evaluate(config, \"graphmlp\", gen)"
   ]
  },
  {
   "cell_type": "code",
   "execution_count": null,
   "metadata": {},
   "outputs": [],
   "source": []
  }
 ],
 "metadata": {
  "kernelspec": {
   "display_name": "sh-net",
   "language": "python",
   "name": "python3"
  },
  "language_info": {
   "codemirror_mode": {
    "name": "ipython",
    "version": 3
   },
   "file_extension": ".py",
   "mimetype": "text/x-python",
   "name": "python",
   "nbconvert_exporter": "python",
   "pygments_lexer": "ipython3",
   "version": "3.10.6"
  },
  "orig_nbformat": 4,
  "vscode": {
   "interpreter": {
    "hash": "6812f6bea93996b24571ab32489b66aa23cd67ae28674218a16278d3e0431607"
   }
  }
 },
 "nbformat": 4,
 "nbformat_minor": 2
}
