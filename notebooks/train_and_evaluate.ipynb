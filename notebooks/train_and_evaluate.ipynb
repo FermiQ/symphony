{
 "cells": [
  {
   "cell_type": "code",
   "execution_count": 1,
   "metadata": {},
   "outputs": [],
   "source": [
    "import e3nn_jax as e3nn\n",
    "import flax\n",
    "import flax.core\n",
    "import flax.linen as nn\n",
    "from flax.training import train_state\n",
    "import jax\n",
    "import jax.numpy as jnp\n",
    "import jraph\n",
    "import sys\n",
    "\n",
    "sys.path.append(\"..\")"
   ]
  },
  {
   "cell_type": "code",
   "execution_count": 2,
   "metadata": {},
   "outputs": [
    {
     "name": "stderr",
     "output_type": "stream",
     "text": [
      "WARNING:absl:No GPU/TPU found, falling back to CPU. (Set TF_CPP_MIN_LOG_LEVEL=0 and rerun for more info.)\n",
      "2023-02-15 16:41:51.773205: W tensorflow/compiler/xla/stream_executor/platform/default/dso_loader.cc:64] Could not load dynamic library 'libcudart.so.11.0'; dlerror: libcudart.so.11.0: cannot open shared object file: No such file or directory\n",
      "2023-02-15 16:41:53.466355: W tensorflow/compiler/xla/stream_executor/platform/default/dso_loader.cc:64] Could not load dynamic library 'libnvinfer.so.7'; dlerror: libnvinfer.so.7: cannot open shared object file: No such file or directory\n",
      "2023-02-15 16:41:53.466578: W tensorflow/compiler/xla/stream_executor/platform/default/dso_loader.cc:64] Could not load dynamic library 'libnvinfer_plugin.so.7'; dlerror: libnvinfer_plugin.so.7: cannot open shared object file: No such file or directory\n",
      "2023-02-15 16:41:53.466597: W tensorflow/compiler/tf2tensorrt/utils/py_utils.cc:38] TF-TRT Warning: Cannot dlopen some TensorRT libraries. If you would like to use Nvidia GPU with TensorRT, please make sure the missing libraries mentioned above are installed properly.\n"
     ]
    }
   ],
   "source": [
    "from configs import graphmlp, graphnet\n",
    "from dataloader import dataloader\n",
    "from model import TYPES\n",
    "from qm9 import load_qm9\n",
    "from train import train_and_evaluate"
   ]
  },
  {
   "cell_type": "code",
   "execution_count": 3,
   "metadata": {},
   "outputs": [],
   "source": [
    "config = graphmlp.get_config()"
   ]
  },
  {
   "cell_type": "code",
   "execution_count": 4,
   "metadata": {},
   "outputs": [
    {
     "name": "stderr",
     "output_type": "stream",
     "text": [
      "2023-02-15 16:42:14.745591: W tensorflow/compiler/xla/stream_executor/platform/default/dso_loader.cc:64] Could not load dynamic library 'libcudart.so.11.0'; dlerror: libcudart.so.11.0: cannot open shared object file: No such file or directory\n",
      "2023-02-15 16:42:14.745798: W tensorflow/compiler/xla/stream_executor/platform/default/dso_loader.cc:64] Could not load dynamic library 'libcublas.so.11'; dlerror: libcublas.so.11: cannot open shared object file: No such file or directory\n",
      "2023-02-15 16:42:14.745876: W tensorflow/compiler/xla/stream_executor/platform/default/dso_loader.cc:64] Could not load dynamic library 'libcublasLt.so.11'; dlerror: libcublasLt.so.11: cannot open shared object file: No such file or directory\n",
      "2023-02-15 16:42:14.745944: W tensorflow/compiler/xla/stream_executor/platform/default/dso_loader.cc:64] Could not load dynamic library 'libcufft.so.10'; dlerror: libcufft.so.10: cannot open shared object file: No such file or directory\n",
      "2023-02-15 16:42:14.746016: W tensorflow/compiler/xla/stream_executor/platform/default/dso_loader.cc:64] Could not load dynamic library 'libcurand.so.10'; dlerror: libcurand.so.10: cannot open shared object file: No such file or directory\n",
      "2023-02-15 16:42:14.746082: W tensorflow/compiler/xla/stream_executor/platform/default/dso_loader.cc:64] Could not load dynamic library 'libcusolver.so.11'; dlerror: libcusolver.so.11: cannot open shared object file: No such file or directory\n",
      "2023-02-15 16:42:14.746152: W tensorflow/compiler/xla/stream_executor/platform/default/dso_loader.cc:64] Could not load dynamic library 'libcusparse.so.11'; dlerror: libcusparse.so.11: cannot open shared object file: No such file or directory\n",
      "2023-02-15 16:42:14.746215: W tensorflow/compiler/xla/stream_executor/platform/default/dso_loader.cc:64] Could not load dynamic library 'libcudnn.so.8'; dlerror: libcudnn.so.8: cannot open shared object file: No such file or directory\n",
      "2023-02-15 16:42:14.746240: W tensorflow/core/common_runtime/gpu/gpu_device.cc:1934] Cannot dlopen some GPU libraries. Please make sure the missing libraries mentioned above are installed properly if you would like to use GPU. Follow the guide at https://www.tensorflow.org/install/gpu for how to download and setup the required libraries for your platform.\n",
      "Skipping registering GPU devices...\n"
     ]
    },
    {
     "ename": "TypeError",
     "evalue": "cutoff of invalid type <class 'int'>",
     "output_type": "error",
     "traceback": [
      "\u001b[0;31m---------------------------------------------------------------------------\u001b[0m",
      "\u001b[0;31mValueError\u001b[0m                                Traceback (most recent call last)",
      "File \u001b[0;32m~/anaconda3/envs/sh-net/lib/python3.10/site-packages/matscipy-0.8.0rc10-py3.10-linux-x86_64.egg/matscipy/neighbours.py:605\u001b[0m, in \u001b[0;36mneighbour_list\u001b[0;34m(quantities, atoms, cutoff, positions, cell, pbc, numbers, cell_origin)\u001b[0m\n\u001b[1;32m    604\u001b[0m \u001b[39mtry\u001b[39;00m:\n\u001b[0;32m--> 605\u001b[0m     \u001b[39mreturn\u001b[39;00m ffi\u001b[39m.\u001b[39;49mneighbour_list(quantities, cell_origin, cell,\n\u001b[1;32m    606\u001b[0m                               np\u001b[39m.\u001b[39;49mlinalg\u001b[39m.\u001b[39;49minv(cell\u001b[39m.\u001b[39;49mT), pbc, positions,\n\u001b[1;32m    607\u001b[0m                               _cutoff, numbers)\n\u001b[1;32m    608\u001b[0m \u001b[39mexcept\u001b[39;00m \u001b[39mValueError\u001b[39;00m \u001b[39mas\u001b[39;00m e:\n",
      "\u001b[0;31mValueError\u001b[0m: object of too small depth for desired array",
      "\nDuring handling of the above exception, another exception occurred:\n",
      "\u001b[0;31mTypeError\u001b[0m                                 Traceback (most recent call last)",
      "Cell \u001b[0;32mIn [4], line 1\u001b[0m\n\u001b[0;32m----> 1\u001b[0m train_and_evaluate(config, \u001b[39m\"\u001b[39;49m\u001b[39mgraphmlp\u001b[39;49m\u001b[39m\"\u001b[39;49m)\n",
      "File \u001b[0;32m~/atomicarchitects/spherical_harmonic_net/notebooks/../train.py:353\u001b[0m, in \u001b[0;36mtrain_and_evaluate\u001b[0;34m(config, workdir)\u001b[0m\n\u001b[1;32m    351\u001b[0m logging\u001b[39m.\u001b[39minfo(\u001b[39m\"\u001b[39m\u001b[39mInitializing network.\u001b[39m\u001b[39m\"\u001b[39m)\n\u001b[1;32m    352\u001b[0m rng, init_rng \u001b[39m=\u001b[39m jax\u001b[39m.\u001b[39mrandom\u001b[39m.\u001b[39msplit(rng)\n\u001b[0;32m--> 353\u001b[0m init_graphs \u001b[39m=\u001b[39m \u001b[39mnext\u001b[39;49m(train_iter)\n\u001b[1;32m    354\u001b[0m init_graphs \u001b[39m=\u001b[39m replace_globals(init_graphs)\n\u001b[1;32m    355\u001b[0m init_net \u001b[39m=\u001b[39m create_model(config, deterministic\u001b[39m=\u001b[39m\u001b[39mTrue\u001b[39;00m)\n",
      "File \u001b[0;32m~/atomicarchitects/spherical_harmonic_net/notebooks/../dataloader.py:39\u001b[0m, in \u001b[0;36mdataloader\u001b[0;34m(rng, molecules, atomic_numbers, epsilon, cutoff, max_n_nodes, max_n_edges, max_n_graphs)\u001b[0m\n\u001b[1;32m     15\u001b[0m \u001b[39mdef\u001b[39;00m \u001b[39mdataloader\u001b[39m(\n\u001b[1;32m     16\u001b[0m     rng: jnp\u001b[39m.\u001b[39mndarray,\n\u001b[1;32m     17\u001b[0m     molecules: List[ase\u001b[39m.\u001b[39mAtoms],\n\u001b[0;32m   (...)\u001b[0m\n\u001b[1;32m     23\u001b[0m     max_n_graphs\u001b[39m=\u001b[39m\u001b[39m16\u001b[39m,\n\u001b[1;32m     24\u001b[0m ) \u001b[39m-\u001b[39m\u001b[39m>\u001b[39m Iterator[Fragment]:\n\u001b[1;32m     25\u001b[0m     \u001b[39m\"\"\"Dataloader for the generative model.\u001b[39;00m\n\u001b[1;32m     26\u001b[0m \u001b[39m    Args:\u001b[39;00m\n\u001b[1;32m     27\u001b[0m \u001b[39m        rng: The random number seed.\u001b[39;00m\n\u001b[0;32m   (...)\u001b[0m\n\u001b[1;32m     36\u001b[0m \u001b[39m        An iterator of (batched and padded) fragments.\u001b[39;00m\n\u001b[1;32m     37\u001b[0m \u001b[39m    \"\"\"\u001b[39;00m\n\u001b[0;32m---> 39\u001b[0m     graph_molecules \u001b[39m=\u001b[39m [\n\u001b[1;32m     40\u001b[0m         ase_atoms_to_jraph_graph(molecule, atomic_numbers, cutoff)\n\u001b[1;32m     41\u001b[0m         \u001b[39mfor\u001b[39;00m molecule \u001b[39min\u001b[39;00m molecules\n\u001b[1;32m     42\u001b[0m     ]\n\u001b[1;32m     43\u001b[0m     \u001b[39massert\u001b[39;00m \u001b[39mall\u001b[39m([\u001b[39misinstance\u001b[39m(graph, jraph\u001b[39m.\u001b[39mGraphsTuple) \u001b[39mfor\u001b[39;00m graph \u001b[39min\u001b[39;00m graph_molecules])\n\u001b[1;32m     45\u001b[0m     \u001b[39mfor\u001b[39;00m graphs \u001b[39min\u001b[39;00m dynamically_batch(\n\u001b[1;32m     46\u001b[0m         fragments_pool_iterator(rng, graph_molecules, \u001b[39mlen\u001b[39m(atomic_numbers), epsilon),\n\u001b[1;32m     47\u001b[0m         max_n_nodes,\n\u001b[1;32m     48\u001b[0m         max_n_edges,\n\u001b[1;32m     49\u001b[0m         max_n_graphs,\n\u001b[1;32m     50\u001b[0m     ):\n",
      "File \u001b[0;32m~/atomicarchitects/spherical_harmonic_net/notebooks/../dataloader.py:40\u001b[0m, in \u001b[0;36m<listcomp>\u001b[0;34m(.0)\u001b[0m\n\u001b[1;32m     15\u001b[0m \u001b[39mdef\u001b[39;00m \u001b[39mdataloader\u001b[39m(\n\u001b[1;32m     16\u001b[0m     rng: jnp\u001b[39m.\u001b[39mndarray,\n\u001b[1;32m     17\u001b[0m     molecules: List[ase\u001b[39m.\u001b[39mAtoms],\n\u001b[0;32m   (...)\u001b[0m\n\u001b[1;32m     23\u001b[0m     max_n_graphs\u001b[39m=\u001b[39m\u001b[39m16\u001b[39m,\n\u001b[1;32m     24\u001b[0m ) \u001b[39m-\u001b[39m\u001b[39m>\u001b[39m Iterator[Fragment]:\n\u001b[1;32m     25\u001b[0m     \u001b[39m\"\"\"Dataloader for the generative model.\u001b[39;00m\n\u001b[1;32m     26\u001b[0m \u001b[39m    Args:\u001b[39;00m\n\u001b[1;32m     27\u001b[0m \u001b[39m        rng: The random number seed.\u001b[39;00m\n\u001b[0;32m   (...)\u001b[0m\n\u001b[1;32m     36\u001b[0m \u001b[39m        An iterator of (batched and padded) fragments.\u001b[39;00m\n\u001b[1;32m     37\u001b[0m \u001b[39m    \"\"\"\u001b[39;00m\n\u001b[1;32m     39\u001b[0m     graph_molecules \u001b[39m=\u001b[39m [\n\u001b[0;32m---> 40\u001b[0m         ase_atoms_to_jraph_graph(molecule, atomic_numbers, cutoff)\n\u001b[1;32m     41\u001b[0m         \u001b[39mfor\u001b[39;00m molecule \u001b[39min\u001b[39;00m molecules\n\u001b[1;32m     42\u001b[0m     ]\n\u001b[1;32m     43\u001b[0m     \u001b[39massert\u001b[39;00m \u001b[39mall\u001b[39m([\u001b[39misinstance\u001b[39m(graph, jraph\u001b[39m.\u001b[39mGraphsTuple) \u001b[39mfor\u001b[39;00m graph \u001b[39min\u001b[39;00m graph_molecules])\n\u001b[1;32m     45\u001b[0m     \u001b[39mfor\u001b[39;00m graphs \u001b[39min\u001b[39;00m dynamically_batch(\n\u001b[1;32m     46\u001b[0m         fragments_pool_iterator(rng, graph_molecules, \u001b[39mlen\u001b[39m(atomic_numbers), epsilon),\n\u001b[1;32m     47\u001b[0m         max_n_nodes,\n\u001b[1;32m     48\u001b[0m         max_n_edges,\n\u001b[1;32m     49\u001b[0m         max_n_graphs,\n\u001b[1;32m     50\u001b[0m     ):\n",
      "File \u001b[0;32m~/atomicarchitects/spherical_harmonic_net/notebooks/../dataset.py:19\u001b[0m, in \u001b[0;36mase_atoms_to_jraph_graph\u001b[0;34m(atoms, atomic_numbers, cutoff)\u001b[0m\n\u001b[1;32m     15\u001b[0m \u001b[39mdef\u001b[39;00m \u001b[39mase_atoms_to_jraph_graph\u001b[39m(\n\u001b[1;32m     16\u001b[0m     atoms: ase\u001b[39m.\u001b[39mAtoms, atomic_numbers: np\u001b[39m.\u001b[39mndarray, cutoff: \u001b[39mfloat\u001b[39m\n\u001b[1;32m     17\u001b[0m ) \u001b[39m-\u001b[39m\u001b[39m>\u001b[39m jraph\u001b[39m.\u001b[39mGraphsTuple:\n\u001b[1;32m     18\u001b[0m     \u001b[39m# Create edges\u001b[39;00m\n\u001b[0;32m---> 19\u001b[0m     receivers, senders \u001b[39m=\u001b[39m matscipy\u001b[39m.\u001b[39;49mneighbours\u001b[39m.\u001b[39;49mneighbour_list(\n\u001b[1;32m     20\u001b[0m         quantities\u001b[39m=\u001b[39;49m\u001b[39m\"\u001b[39;49m\u001b[39mij\u001b[39;49m\u001b[39m\"\u001b[39;49m, positions\u001b[39m=\u001b[39;49matoms\u001b[39m.\u001b[39;49mpositions, cutoff\u001b[39m=\u001b[39;49mcutoff, cell\u001b[39m=\u001b[39;49mnp\u001b[39m.\u001b[39;49meye(\u001b[39m3\u001b[39;49m)\n\u001b[1;32m     21\u001b[0m     )\n\u001b[1;32m     23\u001b[0m     \u001b[39m# Get the species indices\u001b[39;00m\n\u001b[1;32m     24\u001b[0m     species \u001b[39m=\u001b[39m jnp\u001b[39m.\u001b[39msearchsorted(atomic_numbers, atoms\u001b[39m.\u001b[39mnumbers)\n",
      "File \u001b[0;32m~/anaconda3/envs/sh-net/lib/python3.10/site-packages/matscipy-0.8.0rc10-py3.10-linux-x86_64.egg/matscipy/neighbours.py:610\u001b[0m, in \u001b[0;36mneighbour_list\u001b[0;34m(quantities, atoms, cutoff, positions, cell, pbc, numbers, cell_origin)\u001b[0m\n\u001b[1;32m    608\u001b[0m \u001b[39mexcept\u001b[39;00m \u001b[39mValueError\u001b[39;00m \u001b[39mas\u001b[39;00m e:\n\u001b[1;32m    609\u001b[0m     \u001b[39mif\u001b[39;00m \u001b[39mstr\u001b[39m(e) \u001b[39m==\u001b[39m \u001b[39m\"\u001b[39m\u001b[39mobject of too small depth for desired array\u001b[39m\u001b[39m\"\u001b[39m:\n\u001b[0;32m--> 610\u001b[0m         \u001b[39mraise\u001b[39;00m \u001b[39mTypeError\u001b[39;00m(\u001b[39mf\u001b[39m\u001b[39m\"\u001b[39m\u001b[39mcutoff of invalid type \u001b[39m\u001b[39m{\u001b[39;00m\u001b[39mtype\u001b[39m(_cutoff)\u001b[39m}\u001b[39;00m\u001b[39m\"\u001b[39m)\n\u001b[1;32m    611\u001b[0m     \u001b[39mraise\u001b[39;00m e\n",
      "\u001b[0;31mTypeError\u001b[0m: cutoff of invalid type <class 'int'>"
     ]
    }
   ],
   "source": [
    "train_and_evaluate(config, \"graphmlp\")"
   ]
  },
  {
   "cell_type": "code",
   "execution_count": null,
   "metadata": {},
   "outputs": [],
   "source": []
  }
 ],
 "metadata": {
  "kernelspec": {
   "display_name": "sh-net",
   "language": "python",
   "name": "python3"
  },
  "language_info": {
   "codemirror_mode": {
    "name": "ipython",
    "version": 3
   },
   "file_extension": ".py",
   "mimetype": "text/x-python",
   "name": "python",
   "nbconvert_exporter": "python",
   "pygments_lexer": "ipython3",
   "version": "3.10.6"
  },
  "orig_nbformat": 4,
  "vscode": {
   "interpreter": {
    "hash": "6812f6bea93996b24571ab32489b66aa23cd67ae28674218a16278d3e0431607"
   }
  }
 },
 "nbformat": 4,
 "nbformat_minor": 2
}
