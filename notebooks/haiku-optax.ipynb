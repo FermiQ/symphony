{
 "cells": [
  {
   "cell_type": "code",
   "execution_count": 1,
   "metadata": {},
   "outputs": [],
   "source": [
    "import haiku as hk\n",
    "import jax\n",
    "import jax.numpy as jnp\n",
    "import optax"
   ]
  },
  {
   "cell_type": "code",
   "execution_count": 29,
   "metadata": {},
   "outputs": [],
   "source": [
    "@hk.without_apply_rng\n",
    "@hk.transform\n",
    "def mace(x):\n",
    "    return hk.Linear(128)(x)\n",
    "\n",
    "@hk.without_apply_rng\n",
    "@hk.transform\n",
    "def focus(x):\n",
    "    return hk.Linear(1)(x)\n",
    "\n",
    "@hk.without_apply_rng\n",
    "@hk.transform\n",
    "def atom_type(x):\n",
    "    return hk.Linear(5)(x)\n",
    "\n",
    "@hk.without_apply_rng\n",
    "@hk.transform\n",
    "def position(x, z):\n",
    "    z = hk.Embed(5, 128)(z)  # (128)\n",
    "    return hk.Linear(300)(x * z)"
   ]
  },
  {
   "cell_type": "code",
   "execution_count": 30,
   "metadata": {},
   "outputs": [],
   "source": [
    "w_mace = mace.init(jax.random.PRNGKey(0), jnp.zeros((2, 32)))\n",
    "w_focus = focus.init(jax.random.PRNGKey(0), jnp.zeros((2, 128)))\n",
    "w_type = atom_type.init(jax.random.PRNGKey(0), jnp.zeros((2, 128)))\n",
    "w_position = position.init(jax.random.PRNGKey(0), jnp.zeros((2, 128)), jnp.zeros((2,), dtype=jnp.int32))"
   ]
  },
  {
   "cell_type": "code",
   "execution_count": null,
   "metadata": {},
   "outputs": [],
   "source": [
    "def sample(key, w: NamedTuple, g: jraph.GraphTuple):\n",
    "    x = mace.apply(w.mace, g)\n",
    "    focus = focus_fn.apply(w.focus, x)\n",
    "    atom_type = atom_type_fn.apply(w.type, x[focus])\n",
    "\n",
    "    # missing steps\n",
    "\n",
    "    return stop, position, atom_type"
   ]
  },
  {
   "cell_type": "code",
   "execution_count": 6,
   "metadata": {},
   "outputs": [],
   "source": [
    "def loss_fn(key, w, g, y):  # g: partial molecule, y = target position/type\n",
    "    stop, y_sampled, y_type = sample(key, w, g)\n",
    "    return "
   ]
  },
  {
   "cell_type": "code",
   "execution_count": 9,
   "metadata": {},
   "outputs": [],
   "source": [
    "y = jnp.array([2, 0.0])\n",
    "loss, grad = jax.value_and_grad(loss_fn)(w, x, y)"
   ]
  },
  {
   "cell_type": "code",
   "execution_count": 14,
   "metadata": {},
   "outputs": [],
   "source": [
    "optim = optax.adam(1e-3)"
   ]
  },
  {
   "cell_type": "code",
   "execution_count": 16,
   "metadata": {},
   "outputs": [],
   "source": [
    "state = optim.init(w)"
   ]
  },
  {
   "cell_type": "code",
   "execution_count": 23,
   "metadata": {},
   "outputs": [],
   "source": [
    "@jax.jit\n",
    "def train(w, x, y, state):\n",
    "    loss, grad = jax.value_and_grad(loss_fn)(w, x, y)\n",
    "    updates, state = optim.update(grad, state, w)\n",
    "    w = optax.apply_updates(w, updates)\n",
    "    return w, state"
   ]
  },
  {
   "cell_type": "code",
   "execution_count": 28,
   "metadata": {},
   "outputs": [
    {
     "name": "stdout",
     "output_type": "stream",
     "text": [
      "CPU times: user 444 µs, sys: 36 µs, total: 480 µs\n",
      "Wall time: 465 µs\n"
     ]
    }
   ],
   "source": [
    "%%time\n",
    "w, state = train(w, x, y, state)"
   ]
  },
  {
   "cell_type": "code",
   "execution_count": null,
   "metadata": {},
   "outputs": [],
   "source": []
  }
 ],
 "metadata": {
  "kernelspec": {
   "display_name": ".venv",
   "language": "python",
   "name": "python3"
  },
  "language_info": {
   "codemirror_mode": {
    "name": "ipython",
    "version": 3
   },
   "file_extension": ".py",
   "mimetype": "text/x-python",
   "name": "python",
   "nbconvert_exporter": "python",
   "pygments_lexer": "ipython3",
   "version": "3.10.8"
  },
  "orig_nbformat": 4,
  "vscode": {
   "interpreter": {
    "hash": "c45d96c58491a395ddcd8e473c3845279123da787cb66983d65c138d89f394de"
   }
  }
 },
 "nbformat": 4,
 "nbformat_minor": 2
}
