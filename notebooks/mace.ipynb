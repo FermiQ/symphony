{
 "cells": [
  {
   "cell_type": "code",
   "execution_count": 4,
   "metadata": {},
   "outputs": [],
   "source": [
    "import sys\n",
    "sys.path.append('..')\n",
    "\n",
    "import e3nn_jax as e3nn\n",
    "import haiku as hk\n",
    "import jax\n",
    "import jax.numpy as jnp\n",
    "import jraph\n",
    "from mace_jax.modules import MACE\n",
    "\n",
    "from datatypes import NodesInfo"
   ]
  },
  {
   "cell_type": "code",
   "execution_count": 5,
   "metadata": {},
   "outputs": [],
   "source": [
    "@hk.without_apply_rng\n",
    "@hk.transform\n",
    "def mace_fn(vectors, atom_type, senders, receivers):\n",
    "    return MACE(\n",
    "        output_irreps=\"128x0e + 32x1o + 32x2e + 32x3o + 32x4e + 32x5o\",\n",
    "        r_max=5,\n",
    "        num_interactions=2,\n",
    "        hidden_irreps=\"128x0e + 128x1o + 128x2e\",\n",
    "        readout_mlp_irreps=\"128x0e + 128x1o + 128x2e\",\n",
    "        avg_num_neighbors=3, # idk\n",
    "        num_species=5,\n",
    "        radial_basis=lambda x, x_max: e3nn.bessel(x, 8, x_max),\n",
    "        radial_envelope=e3nn.soft_envelope,\n",
    "        max_ell=3\n",
    "    )(vectors, atom_type, senders, receivers)\n",
    "\n",
    "mace_apply = jax.jit(mace_fn.apply)"
   ]
  },
  {
   "cell_type": "code",
   "execution_count": 6,
   "metadata": {},
   "outputs": [],
   "source": [
    "g = jraph.GraphsTuple(\n",
    "    nodes=NodesInfo(jnp.asarray([[0.0, 0, 0], [1.0, 2, 0]]), jnp.asarray([1, 4])),\n",
    "    edges=None,\n",
    "    globals=None,\n",
    "    receivers=jnp.asarray([0, 1]),\n",
    "    senders=jnp.asarray([1, 0]),\n",
    "    n_node=jnp.asarray([2]),\n",
    "    n_edge=jnp.asarray([2])\n",
    ")"
   ]
  },
  {
   "cell_type": "code",
   "execution_count": 8,
   "metadata": {},
   "outputs": [],
   "source": [
    "vectors = g.nodes.positions[g.receivers] - g.nodes.positions[g.senders]\n",
    "atom_types = g.nodes.atomic_numbers\n",
    "\n",
    "w = mace_fn.init(jax.random.PRNGKey(0), vectors, atom_types, g.senders, g.receivers)"
   ]
  },
  {
   "cell_type": "code",
   "execution_count": 9,
   "metadata": {},
   "outputs": [],
   "source": [
    "output = mace_apply(w, vectors, atom_types, g.senders, g.receivers)"
   ]
  },
  {
   "cell_type": "code",
   "execution_count": 10,
   "metadata": {},
   "outputs": [
    {
     "data": {
      "text/plain": [
       "(2, 2, 1248)"
      ]
     },
     "execution_count": 10,
     "metadata": {},
     "output_type": "execute_result"
    }
   ],
   "source": [
    "output.shape"
   ]
  },
  {
   "cell_type": "code",
   "execution_count": null,
   "metadata": {},
   "outputs": [],
   "source": []
  }
 ],
 "metadata": {
  "kernelspec": {
   "display_name": "base3.10",
   "language": "python",
   "name": "python3"
  },
  "language_info": {
   "codemirror_mode": {
    "name": "ipython",
    "version": 3
   },
   "file_extension": ".py",
   "mimetype": "text/x-python",
   "name": "python",
   "nbconvert_exporter": "python",
   "pygments_lexer": "ipython3",
   "version": "3.10.9"
  },
  "orig_nbformat": 4,
  "vscode": {
   "interpreter": {
    "hash": "d56864912356824c4620b99a45bdb852210f1cb60f3cd45427bf8c267e6a01bd"
   }
  }
 },
 "nbformat": 4,
 "nbformat_minor": 2
}
