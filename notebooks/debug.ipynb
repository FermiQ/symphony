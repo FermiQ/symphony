{
 "cells": [
  {
   "cell_type": "code",
   "execution_count": null,
   "metadata": {},
   "outputs": [],
   "source": [
    "import jax\n",
    "import jax.numpy as jnp\n",
    "import jraph\n",
    "import sys\n",
    "import ase\n",
    "import e3nn_jax as e3nn\n",
    "\n",
    "sys.path.append(\"..\")"
   ]
  },
  {
   "cell_type": "code",
   "execution_count": null,
   "metadata": {},
   "outputs": [],
   "source": [
    "%load_ext autoreload"
   ]
  },
  {
   "cell_type": "code",
   "execution_count": null,
   "metadata": {},
   "outputs": [],
   "source": [
    "%autoreload 2\n",
    "import analyses.analysis as analysis\n",
    "import input_pipeline_tf\n",
    "import input_pipeline\n",
    "import models\n",
    "import train"
   ]
  },
  {
   "cell_type": "code",
   "execution_count": null,
   "metadata": {},
   "outputs": [],
   "source": [
    "workdir = '/Users/ameyad/Documents/spherical-harmonic-net/potato_workdirs/debug/nequip/num_molecules=1/scale_position_logits=True/interactions=4/l=5/channels=32'"
   ]
  },
  {
   "cell_type": "code",
   "execution_count": null,
   "metadata": {},
   "outputs": [],
   "source": [
    "name = analysis.name_from_workdir(workdir)\n",
    "model, params, config = analysis.load_model_at_step(\n",
    "    workdir, \"5000\", run_in_evaluation_mode=True\n",
    ")\n",
    "apply_fn = jax.jit(model.apply)\n",
    "print(config)"
   ]
  },
  {
   "cell_type": "code",
   "execution_count": null,
   "metadata": {},
   "outputs": [],
   "source": [
    "# Load the dataset.\n",
    "datasets = input_pipeline_tf.get_datasets(None, config, shuffle=False)\n",
    "for step, graphs in enumerate(datasets[\"train\"].as_numpy_iterator()):\n",
    "    graphs = jax.tree_map(jnp.asarray, graphs)\n",
    "    for graph in jraph.unbatch(graphs):\n",
    "        if len(graph.nodes.species) == 4 and jnp.allclose(graph.nodes.species, jnp.asarray([1, 0, 0, 0])):\n",
    "            fragment = graph\n",
    "            break\n",
    "    break"
   ]
  },
  {
   "cell_type": "code",
   "execution_count": null,
   "metadata": {},
   "outputs": [],
   "source": [
    "fragment"
   ]
  },
  {
   "cell_type": "code",
   "execution_count": null,
   "metadata": {},
   "outputs": [],
   "source": [
    "preds = apply_fn(params, jax.random.PRNGKey(0), fragment, 1.0)"
   ]
  },
  {
   "cell_type": "code",
   "execution_count": null,
   "metadata": {},
   "outputs": [],
   "source": [
    "total_loss, (\n",
    "    loss_focus,\n",
    "    loss_atom_type,\n",
    "    loss_position,\n",
    ") = train.generation_loss(preds, fragment, **config.loss_kwargs)"
   ]
  },
  {
   "cell_type": "code",
   "execution_count": null,
   "metadata": {},
   "outputs": [],
   "source": [
    "total_loss"
   ]
  },
  {
   "cell_type": "code",
   "execution_count": null,
   "metadata": {},
   "outputs": [],
   "source": [
    "num_graphs = 1\n",
    "num_radii = 2\n",
    "target_positions = jnp.asarray([[1., 1., 1.]])\n",
    "\n",
    "# RADII = jnp.asarray([1., 2.])\n",
    "\n",
    "# true_radius_weights = jax.vmap(\n",
    "#     lambda target_position: jax.vmap(\n",
    "#         lambda radius: jnp.exp(\n",
    "#             -((radius - jnp.linalg.norm(target_position)) ** 2)\n",
    "#             / (2 * 1)\n",
    "#         )\n",
    "#     )(RADII)\n",
    "# )(target_positions)\n",
    "true_radius_weights = jnp.asarray([[1., 0.]])\n",
    "\n",
    "position_coeffs = e3nn.IrrepsArray(\"1o\", jnp.asarray([[[1., 1., 1.], [0., 0., 0.]]]))\n",
    "position_logits = e3nn.to_s2grid(\n",
    "    position_coeffs,\n",
    "    res_beta=50,\n",
    "    res_alpha=39,\n",
    "    quadrature=\"gausslegendre\",\n",
    "    normalization=\"integral\",\n",
    "    p_val=1,\n",
    "    p_arg=-1,\n",
    ")\n",
    "print(position_logits)\n",
    "position_dist = position_logits.apply(jnp.exp)\n",
    "integrals = position_dist.integrate().array\n",
    "print(integrals)\n",
    "position_dist /= jnp.where(integrals == 0, 1, integrals)\n",
    "position_logits = position_dist.apply(safe_log)\n",
    "print(jnp.isnan(position_logits.grid_values).sum())\n",
    "\n",
    "norms = jnp.linalg.norm(target_positions, axis=-1, keepdims=True)\n",
    "target_positions_unit_vectors = target_positions / jnp.where(\n",
    "    norms == 0, 1, norms\n",
    ")\n",
    "target_positions_unit_vectors = e3nn.IrrepsArray(\n",
    "    \"1o\", target_positions_unit_vectors\n",
    ")\n",
    "res_beta, res_alpha, quadrature = (\n",
    "    position_logits.res_beta,\n",
    "    position_logits.res_alpha,\n",
    "    position_logits.quadrature,\n",
    ")\n",
    "log_true_angular_dist = e3nn.to_s2grid(\n",
    "    target_positions_unit_vectors,\n",
    "    res_beta,\n",
    "    res_alpha,\n",
    "    quadrature=quadrature,\n",
    "    p_val=1,\n",
    "    p_arg=-1,\n",
    ")\n",
    "assert log_true_angular_dist.grid_values.shape == (\n",
    "    num_graphs,\n",
    "    res_beta,\n",
    "    res_alpha,\n",
    "), log_true_angular_dist.grid_values.shape\n",
    "#print(log_true_angular_dist, position_logits)\n",
    "\n",
    "log_true_angular_dist_max = jnp.max(\n",
    "    log_true_angular_dist.grid_values, axis=(-2, -1), keepdims=True\n",
    ")\n",
    "log_true_angular_dist = log_true_angular_dist.apply(lambda x: x - log_true_angular_dist_max)\n",
    "true_angular_dist = log_true_angular_dist.apply(\n",
    "    lambda x: jnp.exp(x - log_true_angular_dist_max)\n",
    ")\n",
    "true_angular_dist = true_angular_dist / true_angular_dist.integrate()\n",
    "assert true_angular_dist.grid_values.shape == (num_graphs, res_beta, res_alpha)\n",
    "print(true_angular_dist.grid_values, position_dist.grid_values)\n",
    "\n",
    "# Integrate the true angular distribution with the predicted logits.\n",
    "cross_entropy_at_radius = (\n",
    "    (true_angular_dist[:, None, :, :] * position_logits)\n",
    "    .integrate()\n",
    "    .array.squeeze(axis=-1)\n",
    ")\n",
    "assert cross_entropy_at_radius.shape == (num_graphs, num_radii)\n",
    "\n",
    "\n",
    "radius_normalizing_factors = position_logits.apply(jnp.exp).integrate()\n",
    "radius_normalizing_factors = radius_normalizing_factors.array.squeeze(axis=-1)\n",
    "assert radius_normalizing_factors.shape == (\n",
    "    num_graphs,\n",
    "    num_radii,\n",
    ")\n",
    "\n",
    "\n",
    "def safe_log(x):\n",
    "    return jnp.log(jnp.where(x == 0, 1.0, x))\n",
    "\n",
    "lower_bounds = (\n",
    "    -(true_angular_dist * true_angular_dist.apply(safe_log)).integrate().array.squeeze(axis=-1)\n",
    ")\n",
    "lower_bounds += (\n",
    "    -(true_radius_weights * safe_log(true_radius_weights)).sum(axis=-1)\n",
    ")\n",
    "\n",
    "loss_position = jax.vmap(\n",
    "    lambda qr, fr, Zr, lb: -jnp.sum(qr * fr) + jnp.log(jnp.sum(Zr)) - lb\n",
    ")(\n",
    "    true_radius_weights,\n",
    "    cross_entropy_at_radius,\n",
    "    radius_normalizing_factors,\n",
    "    lower_bounds,\n",
    ")\n",
    "loss_position"
   ]
  },
  {
   "cell_type": "code",
   "execution_count": null,
   "metadata": {},
   "outputs": [],
   "source": [
    "def kl_on_sphere(true_radial, log_true_angular_coeffs, log_predicted_coeffs):\n",
    "    log_true_angular_dist = e3nn.to_s2grid(\n",
    "        log_true_angular_coeffs,\n",
    "        res_beta,\n",
    "        res_alpha,\n",
    "        quadrature=quadrature,\n",
    "        p_val=1,\n",
    "        p_arg=-1,\n",
    "    )\n",
    "    log_true_angular_dist_max = jnp.max(\n",
    "        log_true_angular_dist.grid_values, axis=(-2, -1), keepdims=True\n",
    "    )\n",
    "    log_true_angular_dist = log_true_angular_dist.apply(lambda x: x - log_true_angular_dist_max)\n",
    "    true_angular_dist = log_true_angular_dist.apply(\n",
    "        lambda x: jnp.exp(x - log_true_angular_dist_max)\n",
    "    )\n",
    "    true_angular_dist = true_angular_dist / true_angular_dist.integrate()\n",
    "\n",
    "    true_dist = true_radial * true_angular_dist[None, :, :]\n",
    "    self_entropy = -(true_dist * true_dist.apply(safe_log)).integrate().array.sum()\n",
    "\n",
    "    print(e3nn.from_s2grid(true_dist.apply(safe_log), \"1o + 2e\"), log_predicted_coeffs)\n",
    "    log_predicted_dist = e3nn.to_s2grid(\n",
    "        log_predicted_coeffs,\n",
    "        res_beta,\n",
    "        res_alpha,\n",
    "        quadrature=quadrature,\n",
    "        p_val=1,\n",
    "        p_arg=-1,\n",
    "    )\n",
    "    log_predicted_dist_max = jnp.max(log_predicted_dist.grid_values)\n",
    "    log_predicted_dist = log_predicted_dist.apply(lambda x: x - log_predicted_dist_max)\n",
    "    cross_entropy = -(true_dist * log_predicted_dist).integrate().array.sum()\n",
    "    normalizing_factor = jnp.log(log_predicted_dist.apply(jnp.exp).integrate().array.sum())\n",
    "\n",
    "    return cross_entropy + normalizing_factor - self_entropy\n",
    "\n",
    "kl_on_sphere(jnp.asarray([0.9, 0.1]), e3nn.IrrepsArray(\"1o\", jnp.asarray([2., 1., 1.])), e3nn.IrrepsArray(\"1o\", jnp.asarray([[1., 5., 1.], [1., 1., 1.]])))\n",
    "\n"
   ]
  },
  {
   "cell_type": "code",
   "execution_count": null,
   "metadata": {},
   "outputs": [],
   "source": [
    "coeffs = e3nn.IrrepsArray(\"1o\", jnp.asarray([1., 1., 1.]))\n",
    "sig = e3nn.to_s2grid(coeffs, 50, 69, quadrature=\"soft\", p_val=1, p_arg=-1)\n",
    "go.Surface(sig.plotly_surface(scale_radius_by_amplitude=True))\n",
    "\n",
    "import plotly.graph_objects as go\n",
    "\n",
    "go.Figure([go.Surface(sig.plotly_surface(scale_radius_by_amplitude=True))])"
   ]
  }
 ],
 "metadata": {
  "kernelspec": {
   "display_name": ".venv",
   "language": "python",
   "name": "python3"
  },
  "language_info": {
   "codemirror_mode": {
    "name": "ipython",
    "version": 3
   },
   "file_extension": ".py",
   "mimetype": "text/x-python",
   "name": "python",
   "nbconvert_exporter": "python",
   "pygments_lexer": "ipython3",
   "version": "3.10.10"
  },
  "orig_nbformat": 4
 },
 "nbformat": 4,
 "nbformat_minor": 2
}
