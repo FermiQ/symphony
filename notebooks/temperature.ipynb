{
 "cells": [
  {
   "cell_type": "code",
   "execution_count": null,
   "metadata": {},
   "outputs": [],
   "source": [
    "import sys\n",
    "sys.path.append('../')\n",
    "import e3nn_jax as e3nn\n",
    "import jax.numpy as jnp\n",
    "import loss\n",
    "import plotly.graph_objects as go"
   ]
  },
  {
   "cell_type": "code",
   "execution_count": null,
   "metadata": {},
   "outputs": [],
   "source": [
    "log_angular_coeffs = loss.target_position_to_log_angular_coeffs(jnp.asarray([0.0, 1.0, 0.0]), 20., lmax=5)\n",
    "log_angular_dist = e3nn.to_s2grid(log_angular_coeffs, 180, 359, quadrature=\"soft\")\n",
    "angular_dist = log_angular_dist.apply(jnp.exp)\n",
    "angular_dist = angular_dist / angular_dist.integrate()\n",
    "go.Figure([go.Surface(angular_dist.plotly_surface(scale_radius_by_amplitude=False))])\n"
   ]
  },
  {
   "cell_type": "code",
   "execution_count": null,
   "metadata": {},
   "outputs": [],
   "source": [
    "irreps = e3nn.IrrepsArray(\"1x1o\", jnp.asarray([1.0, 1.0, 0.0]))\n",
    "sig = e3nn.to_s2grid(irreps, 180, 359, quadrature=\"soft\", p_val=1, p_arg=-1)\n",
    "go.Figure([go.Surface(sig.plotly_surface(scale_radius_by_amplitude=True))])"
   ]
  }
 ],
 "metadata": {
  "kernelspec": {
   "display_name": ".venv",
   "language": "python",
   "name": "python3"
  },
  "language_info": {
   "codemirror_mode": {
    "name": "ipython",
    "version": 3
   },
   "file_extension": ".py",
   "mimetype": "text/x-python",
   "name": "python",
   "nbconvert_exporter": "python",
   "pygments_lexer": "ipython3",
   "version": "3.10.12"
  },
  "orig_nbformat": 4
 },
 "nbformat": 4,
 "nbformat_minor": 2
}
