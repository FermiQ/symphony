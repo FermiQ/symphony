{
 "cells": [
  {
   "cell_type": "code",
   "execution_count": null,
   "metadata": {},
   "outputs": [],
   "source": [
    "import jraph\n",
    "import jax\n",
    "import jax.numpy as jnp\n",
    "import e3nn_jax as e3nn\n",
    "import optax\n",
    "\n",
    "import sys\n",
    "sys.path.append('../')"
   ]
  },
  {
   "cell_type": "code",
   "execution_count": null,
   "metadata": {},
   "outputs": [],
   "source": [
    "%load_ext autoreload"
   ]
  },
  {
   "cell_type": "code",
   "execution_count": null,
   "metadata": {},
   "outputs": [],
   "source": [
    "%autoreload 2\n",
    "import input_pipeline_tf\n",
    "import models\n",
    "import loss\n",
    "import configs.platonic_solids.nequip as nequip_config\n",
    "import analyses.analysis as analysis"
   ]
  },
  {
   "cell_type": "code",
   "execution_count": null,
   "metadata": {},
   "outputs": [],
   "source": [
    "config = nequip_config.get_config()\n",
    "config.target_position_predictor.num_channels = 1\n",
    "config.max_ell = 5\n",
    "config"
   ]
  },
  {
   "cell_type": "code",
   "execution_count": null,
   "metadata": {},
   "outputs": [],
   "source": [
    "rng = jax.random.PRNGKey(0)\n",
    "datasets = input_pipeline_tf.get_unbatched_platonic_solids_datasets(rng, config)"
   ]
  },
  {
   "cell_type": "code",
   "execution_count": null,
   "metadata": {},
   "outputs": [],
   "source": [
    "for graph in datasets['train'].take(1).as_numpy_iterator():\n",
    "    print(graph)"
   ]
  },
  {
   "cell_type": "code",
   "execution_count": null,
   "metadata": {},
   "outputs": [],
   "source": [
    "net = models.create_model(config, run_in_evaluation_mode=False)"
   ]
  },
  {
   "cell_type": "code",
   "execution_count": null,
   "metadata": {},
   "outputs": [],
   "source": [
    "def loss_fn(params, padded_graph):\n",
    "    preds = net.apply(params, None, padded_graph)\n",
    "    _, (_, position_loss) = loss.generation_loss(preds, padded_graph, **config.loss_kwargs)\n",
    "    return position_loss[0]\n",
    "\n",
    "\n",
    "@jax.jit\n",
    "def train_on_single_graph(padded_graph, rng, num_steps: int, lr: float):\n",
    "    # Optimize parameters.\n",
    "    tx = optax.adam(lr)\n",
    "    init_params = net.init(rng, padded_graph)\n",
    "    init_opt_state = tx.init(init_params)\n",
    "\n",
    "    def update_fn(params, opt_state):\n",
    "        grads = jax.grad(loss_fn)(params, padded_graph)\n",
    "        updates, opt_state = tx.update(grads, opt_state)\n",
    "        new_params = optax.apply_updates(params, updates)\n",
    "        return new_params, opt_state\n",
    "\n",
    "    optimized_params, _ = jax.lax.fori_loop(0, num_steps, lambda i, args: update_fn(*args), (init_params, init_opt_state))\n",
    "    preds = net.apply(optimized_params, None, padded_graph)\n",
    "    preds = jax.tree_map(lambda x: x[0], preds)\n",
    "\n",
    "    target_position_distance = jnp.linalg.norm(padded_graph.globals.target_positions, axis=-1)[0]\n",
    "    radius_index = jnp.argmin(jnp.abs(models.RADII - target_position_distance))\n",
    "    position_coeffs = preds.globals.position_coeffs\n",
    "    return preds, position_coeffs[0, radius_index]\n"
   ]
  },
  {
   "cell_type": "code",
   "execution_count": null,
   "metadata": {},
   "outputs": [],
   "source": [
    "print(jax.tree_map(jnp.shape, preds.globals.target_positions))"
   ]
  },
  {
   "cell_type": "code",
   "execution_count": null,
   "metadata": {},
   "outputs": [],
   "source": [
    "padded_graph = jraph.pad_with_graphs(graph, 20, 400, 2)\n",
    "preds, position_coeffs = train_on_single_graph(padded_graph, rng, 10, 1e-3)"
   ]
  },
  {
   "cell_type": "code",
   "execution_count": null,
   "metadata": {},
   "outputs": [],
   "source": [
    "# Compute distance matrix.\n",
    "distance_matrix = jnp.sqrt(jnp.sum((graph.nodes.positions[:, None, :] - graph.nodes.positions[None, :, :]) ** 2, axis=-1))\n",
    "distance_matrix"
   ]
  },
  {
   "cell_type": "code",
   "execution_count": null,
   "metadata": {},
   "outputs": [],
   "source": [
    "graph.nodes.positions, graph.globals.target_positions"
   ]
  },
  {
   "cell_type": "code",
   "execution_count": null,
   "metadata": {},
   "outputs": [],
   "source": [
    "jax.tree_map(jnp.shape, graph)"
   ]
  }
 ],
 "metadata": {
  "kernelspec": {
   "display_name": ".venv",
   "language": "python",
   "name": "python3"
  },
  "language_info": {
   "codemirror_mode": {
    "name": "ipython",
    "version": 3
   },
   "file_extension": ".py",
   "mimetype": "text/x-python",
   "name": "python",
   "nbconvert_exporter": "python",
   "pygments_lexer": "ipython3",
   "version": "3.10.12"
  },
  "orig_nbformat": 4
 },
 "nbformat": 4,
 "nbformat_minor": 2
}
