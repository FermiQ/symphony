{
 "cells": [
  {
   "cell_type": "code",
   "execution_count": 1,
   "metadata": {},
   "outputs": [],
   "source": [
    "import jraph\n",
    "import jax\n",
    "import jax.numpy as jnp\n",
    "import e3nn_jax as e3nn\n",
    "import numpy as np\n",
    "\n",
    "\n",
    "import sys\n",
    "sys.path.append('..')\n"
   ]
  },
  {
   "cell_type": "code",
   "execution_count": 2,
   "metadata": {},
   "outputs": [],
   "source": [
    "%load_ext autoreload"
   ]
  },
  {
   "cell_type": "code",
   "execution_count": 5,
   "metadata": {},
   "outputs": [],
   "source": [
    "%autoreload 2\n",
    "import train\n",
    "import models\n",
    "import datatypes\n",
    "import input_pipeline_tf\n",
    "import configs.mace as mace\n",
    "import analyses.analysis as analysis"
   ]
  },
  {
   "cell_type": "code",
   "execution_count": 14,
   "metadata": {},
   "outputs": [
    {
     "name": "stderr",
     "output_type": "stream",
     "text": [
      "/Users/ameyad/Documents/spherical-harmonic-net/notebooks/../input_pipeline_tf.py:86: FutureWarning: jax.tree_leaves is deprecated, and will be removed in a future release. Use jax.tree_util.tree_leaves instead.\n",
      "  return np.shape(jax.tree_leaves(graph.nodes)[0])[0], np.sum(graph.n_edge), np.shape(graph.n_node)[0]\n"
     ]
    },
    {
     "name": "stdout",
     "output_type": "stream",
     "text": [
      "320 3008 32\n"
     ]
    }
   ],
   "source": [
    "# Mimic what we do in train.py.\n",
    "config = mace.get_config()\n",
    "config.max_n_graphs = 32\n",
    "rng = jax.random.PRNGKey(0)\n",
    "rng, dataset_rng = jax.random.split(rng)\n",
    "\n",
    "# Obtain graphs.\n",
    "datasets = input_pipeline_tf.get_datasets(dataset_rng, config)\n",
    "train_iter = datasets[\"train\"].as_numpy_iterator()\n",
    "init_graphs = next(train_iter)\n",
    "\n",
    "# Set up dummy variables to obtain the structure.\n",
    "rng, init_rng = jax.random.split(rng)\n",
    "net = train.create_model(config, run_in_evaluation_mode=False)\n",
    "params = jax.jit(net.init)(init_rng, init_graphs)"
   ]
  },
  {
   "cell_type": "code",
   "execution_count": 16,
   "metadata": {},
   "outputs": [
    {
     "name": "stdout",
     "output_type": "stream",
     "text": [
      "padding\n",
      "nodes 512\n",
      "edges 1024\n",
      "graphs 32\n"
     ]
    }
   ],
   "source": [
    "print(\"padding\")\n",
    "print(\"nodes\", config.max_n_nodes)\n",
    "print(\"edges\", config.max_n_edges)\n",
    "print(\"graphs\", config.max_n_graphs)"
   ]
  },
  {
   "cell_type": "code",
   "execution_count": 20,
   "metadata": {},
   "outputs": [
    {
     "name": "stdout",
     "output_type": "stream",
     "text": [
      "1 21.0\n",
      "1001 28.937063\n",
      "2001 29.311344\n",
      "3001 29.346884\n",
      "4001 29.31467\n",
      "5001 29.324135\n",
      "6001 29.306782\n",
      "7001 29.376661\n",
      "8001 29.411823\n",
      "9001 29.394289\n",
      "29.3881\n"
     ]
    }
   ],
   "source": [
    "count = 0\n",
    "for step, graphs in enumerate(datasets[\"train\"].as_numpy_iterator()):\n",
    "    if step % 1000 == 1:\n",
    "        print(step, count / step)\n",
    "    if step == 10000:\n",
    "        break\n",
    "\n",
    "    graphs = jax.tree_map(jnp.array, graphs)\n",
    "    graphs = datatypes.Fragments.from_graphstuple(graphs)\n",
    "    count += jraph.get_graph_padding_mask(graphs).sum()\n",
    "\n",
    "print(count / step)\n"
   ]
  },
  {
   "cell_type": "code",
   "execution_count": 21,
   "metadata": {},
   "outputs": [],
   "source": [
    "graphs = jraph.GraphsTuple(\n",
    "    nodes=jnp.array([[1, 2, 3], [1, 2, 3], [4, 5, 6], [7, 8, 9]]),\n",
    "    edges=jnp.array([[1, 2, 3], [4, 5, 6], [7, 8, 9]]),\n",
    "    globals=jnp.array([[1, 2, 3], [4, 5, 6], [7, 8, 9]]),\n",
    "    n_node=jnp.array([2, 1, 1]),\n",
    "    n_edge=jnp.array([1, 1, 1]),\n",
    "    senders=jnp.array([0, 0, 0]),\n",
    "    receivers=jnp.array([0, 0, 0]),\n",
    ")"
   ]
  },
  {
   "cell_type": "code",
   "execution_count": 40,
   "metadata": {},
   "outputs": [
    {
     "ename": "ValueError",
     "evalue": "vmap got inconsistent sizes for array axes to be mapped:\n  * most axes (4 of them) had size 2, e.g. axis 0 of argument key[0][0] of type uint32[2];\n  * one axis had size 4: axis 0 of argument p of type float32[4,5]",
     "output_type": "error",
     "traceback": [
      "\u001b[0;31m---------------------------------------------------------------------------\u001b[0m",
      "\u001b[0;31mValueError\u001b[0m                                Traceback (most recent call last)",
      "Cell \u001b[0;32mIn[40], line 5\u001b[0m\n\u001b[1;32m      2\u001b[0m rng, \u001b[39m*\u001b[39mspecies_rngs \u001b[39m=\u001b[39m jax\u001b[39m.\u001b[39mrandom\u001b[39m.\u001b[39msplit(jax\u001b[39m.\u001b[39mrandom\u001b[39m.\u001b[39mPRNGKey(\u001b[39m0\u001b[39m), num_graphs \u001b[39m+\u001b[39m \u001b[39m1\u001b[39m)\n\u001b[1;32m      4\u001b[0m target_species_probs \u001b[39m=\u001b[39m jnp\u001b[39m.\u001b[39mones((num_graphs, models\u001b[39m.\u001b[39mNUM_ELEMENTS)) \u001b[39m/\u001b[39m models\u001b[39m.\u001b[39mNUM_ELEMENTS\n\u001b[0;32m----> 5\u001b[0m target_species \u001b[39m=\u001b[39m jax\u001b[39m.\u001b[39;49mvmap(\u001b[39mlambda\u001b[39;49;00m key, p: jax\u001b[39m.\u001b[39;49mrandom\u001b[39m.\u001b[39;49mchoice(\n\u001b[1;32m      6\u001b[0m     key, models\u001b[39m.\u001b[39;49mNUM_ELEMENTS, p\u001b[39m=\u001b[39;49mp))((species_rngs,), target_species_probs)\n",
      "    \u001b[0;31m[... skipping hidden 2 frame]\u001b[0m\n",
      "File \u001b[0;32m~/Documents/spherical-harmonic-net/.venv/lib/python3.10/site-packages/jax/_src/api.py:1834\u001b[0m, in \u001b[0;36m_mapped_axis_size\u001b[0;34m(fn, tree, vals, dims, name)\u001b[0m\n\u001b[1;32m   1832\u001b[0m   \u001b[39melse\u001b[39;00m:\n\u001b[1;32m   1833\u001b[0m     msg\u001b[39m.\u001b[39mappend(\u001b[39mf\u001b[39m\u001b[39m\"\u001b[39m\u001b[39m  * some axes (\u001b[39m\u001b[39m{\u001b[39;00mct\u001b[39m}\u001b[39;00m\u001b[39m of them) had size \u001b[39m\u001b[39m{\u001b[39;00msz\u001b[39m}\u001b[39;00m\u001b[39m, e.g. axis \u001b[39m\u001b[39m{\u001b[39;00max\u001b[39m}\u001b[39;00m\u001b[39m of \u001b[39m\u001b[39m{\u001b[39;00mex\u001b[39m}\u001b[39;00m\u001b[39m;\u001b[39m\u001b[39m\\n\u001b[39;00m\u001b[39m\"\u001b[39m)\n\u001b[0;32m-> 1834\u001b[0m \u001b[39mraise\u001b[39;00m \u001b[39mValueError\u001b[39;00m(\u001b[39m'\u001b[39m\u001b[39m'\u001b[39m\u001b[39m.\u001b[39mjoin(msg)[:\u001b[39m-\u001b[39m\u001b[39m2\u001b[39m])\n",
      "\u001b[0;31mValueError\u001b[0m: vmap got inconsistent sizes for array axes to be mapped:\n  * most axes (4 of them) had size 2, e.g. axis 0 of argument key[0][0] of type uint32[2];\n  * one axis had size 4: axis 0 of argument p of type float32[4,5]"
     ]
    }
   ],
   "source": [
    "num_graphs = 4\n",
    "rng, *species_rngs = jax.random.split(jax.random.PRNGKey(0), num_graphs + 1)\n",
    "\n",
    "target_species_probs = jnp.ones((num_graphs, models.NUM_ELEMENTS)) / models.NUM_ELEMENTS\n",
    "target_species = jax.vmap(lambda key, p: jax.random.choice(\n",
    "    key, models.NUM_ELEMENTS, p=p))((species_rngs,), target_species_probs)\n"
   ]
  },
  {
   "cell_type": "code",
   "execution_count": 43,
   "metadata": {},
   "outputs": [
    {
     "data": {
      "text/plain": [
       "10x0e [0 1 2 3 4 5 6 7 8 9]"
      ]
     },
     "execution_count": 43,
     "metadata": {},
     "output_type": "execute_result"
    }
   ],
   "source": [
    "e3nn.IrrepsArray(\"10x0e\", jnp.arange(10))"
   ]
  },
  {
   "cell_type": "code",
   "execution_count": 49,
   "metadata": {},
   "outputs": [
    {
     "data": {
      "text/plain": [
       "'Ameyas-MacBook-Pro.local'"
      ]
     },
     "execution_count": 49,
     "metadata": {},
     "output_type": "execute_result"
    }
   ],
   "source": [
    "\n",
    "myhost"
   ]
  },
  {
   "cell_type": "code",
   "execution_count": null,
   "metadata": {},
   "outputs": [],
   "source": []
  },
  {
   "cell_type": "code",
   "execution_count": 47,
   "metadata": {},
   "outputs": [
    {
     "data": {
      "text/plain": [
       "(130944, 133920)"
      ]
     },
     "execution_count": 47,
     "metadata": {},
     "output_type": "execute_result"
    }
   ],
   "source": [
    "import re\n",
    "seed, start, end = [int(val) for val in re.findall(r'\\d+', \"fragments_seed01_from130944_to133920\")]\n",
    "start, end"
   ]
  },
  {
   "cell_type": "code",
   "execution_count": 22,
   "metadata": {},
   "outputs": [],
   "source": [
    "def segment_sample(probabilities, segment_ids, num_segments, rng):\n",
    "    \"\"\"Sample from a categorical distribution across each segment.\n",
    "    Args:\n",
    "        segment_ids: A 1D array of segment ids.\n",
    "        probs: A 1D array of probabilities.\n",
    "    Returns:\n",
    "        A 1D array of samples.\n",
    "    \"\"\"\n",
    "    def sample_for_segment(rng, i):\n",
    "        return jax.random.choice(rng, node_indices, p=jnp.where(i == segment_ids, probabilities, 0.))\n",
    "    \n",
    "    node_indices = jnp.arange(len(segment_ids))\n",
    "    rngs = jax.random.split(rng, num_segments)\n",
    "    return jax.vmap(sample_for_segment)(rngs, jnp.arange(num_segments))"
   ]
  },
  {
   "cell_type": "code",
   "execution_count": 23,
   "metadata": {},
   "outputs": [
    {
     "name": "stdout",
     "output_type": "stream",
     "text": [
      "[0.5 0.5 1.  1. ]\n",
      "[0 2 3]\n",
      "[1 2 3]\n",
      "[0 2 3]\n",
      "[0 2 3]\n",
      "[0 2 3]\n",
      "[1 2 3]\n",
      "[0 2 3]\n",
      "[1 2 3]\n",
      "[1 2 3]\n",
      "[1 2 3]\n",
      "[1 2 3]\n",
      "[0 2 3]\n",
      "[0 2 3]\n",
      "[1 2 3]\n",
      "[1 2 3]\n",
      "[0 2 3]\n",
      "[1 2 3]\n",
      "[0 2 3]\n",
      "[0 2 3]\n",
      "[1 2 3]\n",
      "[0 2 3]\n",
      "[1 2 3]\n",
      "[1 2 3]\n",
      "[1 2 3]\n",
      "[0 2 3]\n",
      "[0 2 3]\n",
      "[0 2 3]\n",
      "[0 2 3]\n",
      "[1 2 3]\n",
      "[0 2 3]\n",
      "[1 2 3]\n",
      "[1 2 3]\n",
      "[0 2 3]\n",
      "[0 2 3]\n",
      "[1 2 3]\n",
      "[1 2 3]\n",
      "[0 2 3]\n",
      "[0 2 3]\n",
      "[0 2 3]\n",
      "[1 2 3]\n",
      "[0 2 3]\n",
      "[1 2 3]\n",
      "[1 2 3]\n",
      "[0 2 3]\n",
      "[0 2 3]\n",
      "[1 2 3]\n",
      "[1 2 3]\n",
      "[0 2 3]\n",
      "[1 2 3]\n",
      "[1 2 3]\n",
      "[0 2 3]\n",
      "[1 2 3]\n",
      "[1 2 3]\n",
      "[1 2 3]\n",
      "[0 2 3]\n",
      "[0 2 3]\n",
      "[0 2 3]\n",
      "[0 2 3]\n",
      "[1 2 3]\n",
      "[1 2 3]\n",
      "[1 2 3]\n",
      "[0 2 3]\n",
      "[1 2 3]\n",
      "[0 2 3]\n",
      "[1 2 3]\n",
      "[1 2 3]\n",
      "[1 2 3]\n",
      "[1 2 3]\n",
      "[0 2 3]\n",
      "[0 2 3]\n",
      "[0 2 3]\n",
      "[0 2 3]\n",
      "[1 2 3]\n",
      "[0 2 3]\n",
      "[0 2 3]\n",
      "[1 2 3]\n",
      "[0 2 3]\n",
      "[0 2 3]\n",
      "[1 2 3]\n",
      "[1 2 3]\n",
      "[0 2 3]\n",
      "[1 2 3]\n",
      "[0 2 3]\n",
      "[1 2 3]\n",
      "[1 2 3]\n",
      "[1 2 3]\n",
      "[1 2 3]\n",
      "[0 2 3]\n",
      "[0 2 3]\n",
      "[1 2 3]\n",
      "[1 2 3]\n",
      "[0 2 3]\n",
      "[1 2 3]\n",
      "[1 2 3]\n",
      "[1 2 3]\n",
      "[1 2 3]\n",
      "[1 2 3]\n",
      "[0 2 3]\n",
      "[1 2 3]\n",
      "[0 2 3]\n"
     ]
    }
   ],
   "source": [
    "focus_logits = graphs.nodes.sum(axis=1)\n",
    "probs = jraph.partition_softmax(focus_logits, graphs.n_node)\n",
    "print(probs)\n",
    "for seed in range(100):\n",
    "    print(segment_sample(probs, jnp.asarray([0, 0, 1, 2]), 3, jax.random.PRNGKey(seed)))"
   ]
  },
  {
   "cell_type": "code",
   "execution_count": 3,
   "metadata": {},
   "outputs": [
    {
     "name": "stdout",
     "output_type": "stream",
     "text": [
      "[3. 3. 1. 4.]\n"
     ]
    },
    {
     "data": {
      "text/plain": [
       "(Array([3.3490124, 1.3132616, 4.01815  ], dtype=float32),\n",
       " Array([3.3490121, 1.3132616, 4.01815  ], dtype=float32))"
      ]
     },
     "execution_count": 3,
     "metadata": {},
     "output_type": "execute_result"
    }
   ],
   "source": [
    "nodes = jnp.asarray([2, 3, 1, 4])\n",
    "segment_max = e3nn.scatter_max(nodes, nel=graphs.n_node)\n",
    "segment_max_expanded = e3nn.scatter_max(nodes, map_back=True, nel=graphs.n_node)\n",
    "print(segment_max_expanded)\n",
    "# segment_max_expanded = jnp.asarray([segment_max[0], segment_max[0], segment_max[1], segment_max[2]])\n",
    "\n",
    "expected = 0 + jnp.log(1 + e3nn.scatter_sum(jnp.exp(nodes - 0), nel=graphs.n_node))\n",
    "computed = segment_max + jnp.log(jnp.exp(-segment_max) + e3nn.scatter_sum(jnp.exp(nodes - segment_max_expanded), nel=graphs.n_node))\n",
    "\n",
    "expected, computed"
   ]
  },
  {
   "cell_type": "code",
   "execution_count": 54,
   "metadata": {},
   "outputs": [],
   "source": [
    "import analysis\n"
   ]
  },
  {
   "cell_type": "code",
   "execution_count": 62,
   "metadata": {},
   "outputs": [
    {
     "ename": "NameError",
     "evalue": "name 'mace_jax' is not defined",
     "output_type": "error",
     "traceback": [
      "\u001b[0;31m---------------------------------------------------------------------------\u001b[0m",
      "\u001b[0;31mNameError\u001b[0m                                 Traceback (most recent call last)",
      "Cell \u001b[0;32mIn[62], line 1\u001b[0m\n\u001b[0;32m----> 1\u001b[0m analysis\u001b[39m.\u001b[39;49mload_from_workdir(\u001b[39m\"\u001b[39;49m\u001b[39m/Users/ameyad/Documents/spherical-harmonic-net/potato_workdirs/workdirs/mace/interactions=1/l=0/channels=32\u001b[39;49m\u001b[39m\"\u001b[39;49m)\n",
      "File \u001b[0;32m~/Documents/spherical-harmonic-net/notebooks/../analysis.py:74\u001b[0m, in \u001b[0;36mload_from_workdir\u001b[0;34m(workdir)\u001b[0m\n\u001b[1;32m     72\u001b[0m rng, init_rng \u001b[39m=\u001b[39m jax\u001b[39m.\u001b[39mrandom\u001b[39m.\u001b[39msplit(rng)\n\u001b[1;32m     73\u001b[0m net \u001b[39m=\u001b[39m train\u001b[39m.\u001b[39mcreate_model(config, run_in_evaluation_mode\u001b[39m=\u001b[39m\u001b[39mFalse\u001b[39;00m)\n\u001b[0;32m---> 74\u001b[0m params \u001b[39m=\u001b[39m jax\u001b[39m.\u001b[39;49mjit(net\u001b[39m.\u001b[39;49minit)(init_rng, init_graphs)\n\u001b[1;32m     75\u001b[0m tx \u001b[39m=\u001b[39m train\u001b[39m.\u001b[39mcreate_optimizer(config)\n\u001b[1;32m     76\u001b[0m dummy_state \u001b[39m=\u001b[39m train_state\u001b[39m.\u001b[39mTrainState\u001b[39m.\u001b[39mcreate(\n\u001b[1;32m     77\u001b[0m     apply_fn\u001b[39m=\u001b[39mnet\u001b[39m.\u001b[39mapply, params\u001b[39m=\u001b[39mparams, tx\u001b[39m=\u001b[39mtx\n\u001b[1;32m     78\u001b[0m )\n",
      "    \u001b[0;31m[... skipping hidden 12 frame]\u001b[0m\n",
      "File \u001b[0;32m~/Documents/spherical-harmonic-net/.venv/lib/python3.10/site-packages/haiku/_src/transform.py:114\u001b[0m, in \u001b[0;36mwithout_state.<locals>.init_fn\u001b[0;34m(*args, **kwargs)\u001b[0m\n\u001b[1;32m    113\u001b[0m \u001b[39mdef\u001b[39;00m \u001b[39minit_fn\u001b[39m(\u001b[39m*\u001b[39margs, \u001b[39m*\u001b[39m\u001b[39m*\u001b[39mkwargs):\n\u001b[0;32m--> 114\u001b[0m   params, state \u001b[39m=\u001b[39m f\u001b[39m.\u001b[39;49minit(\u001b[39m*\u001b[39;49margs, \u001b[39m*\u001b[39;49m\u001b[39m*\u001b[39;49mkwargs)\n\u001b[1;32m    115\u001b[0m   \u001b[39mif\u001b[39;00m state:\n\u001b[1;32m    116\u001b[0m     \u001b[39mraise\u001b[39;00m \u001b[39mValueError\u001b[39;00m(\u001b[39m\"\u001b[39m\u001b[39mIf your transformed function uses `hk.\u001b[39m\u001b[39m{\u001b[39m\u001b[39mget,set}_state` \u001b[39m\u001b[39m\"\u001b[39m\n\u001b[1;32m    117\u001b[0m                      \u001b[39m\"\u001b[39m\u001b[39mthen use `hk.transform_with_state`.\u001b[39m\u001b[39m\"\u001b[39m)\n",
      "File \u001b[0;32m~/Documents/spherical-harmonic-net/.venv/lib/python3.10/site-packages/haiku/_src/transform.py:338\u001b[0m, in \u001b[0;36mtransform_with_state.<locals>.init_fn\u001b[0;34m(rng, *args, **kwargs)\u001b[0m\n\u001b[1;32m    336\u001b[0m \u001b[39mwith\u001b[39;00m base\u001b[39m.\u001b[39mnew_context(rng\u001b[39m=\u001b[39mrng) \u001b[39mas\u001b[39;00m ctx:\n\u001b[1;32m    337\u001b[0m   \u001b[39mtry\u001b[39;00m:\n\u001b[0;32m--> 338\u001b[0m     f(\u001b[39m*\u001b[39;49margs, \u001b[39m*\u001b[39;49m\u001b[39m*\u001b[39;49mkwargs)\n\u001b[1;32m    339\u001b[0m   \u001b[39mexcept\u001b[39;00m jax\u001b[39m.\u001b[39merrors\u001b[39m.\u001b[39mUnexpectedTracerError \u001b[39mas\u001b[39;00m e:\n\u001b[1;32m    340\u001b[0m     \u001b[39mraise\u001b[39;00m jax\u001b[39m.\u001b[39merrors\u001b[39m.\u001b[39mUnexpectedTracerError(unexpected_tracer_hint) \u001b[39mfrom\u001b[39;00m \u001b[39me\u001b[39;00m\n",
      "File \u001b[0;32m~/Documents/spherical-harmonic-net/notebooks/../train.py:109\u001b[0m, in \u001b[0;36mcreate_model.<locals>.model_fn\u001b[0;34m(graphs)\u001b[0m\n\u001b[1;32m    101\u001b[0m target_species_predictor \u001b[39m=\u001b[39m models\u001b[39m.\u001b[39mTargetSpeciesPredictor(\n\u001b[1;32m    102\u001b[0m     latent_size\u001b[39m=\u001b[39mconfig\u001b[39m.\u001b[39mtarget_species_predictor\u001b[39m.\u001b[39mlatent_size,\n\u001b[1;32m    103\u001b[0m     num_layers\u001b[39m=\u001b[39mconfig\u001b[39m.\u001b[39mtarget_species_predictor\u001b[39m.\u001b[39mnum_layers,\n\u001b[1;32m    104\u001b[0m     activation\u001b[39m=\u001b[39mactivation,\n\u001b[1;32m    105\u001b[0m )\n\u001b[1;32m    106\u001b[0m target_position_predictor \u001b[39m=\u001b[39m models\u001b[39m.\u001b[39mTargetPositionPredictor(\n\u001b[1;32m    107\u001b[0m     position_coeffs_lmax\u001b[39m=\u001b[39mconfig\u001b[39m.\u001b[39mmax_ell\n\u001b[1;32m    108\u001b[0m )\n\u001b[0;32m--> 109\u001b[0m \u001b[39mreturn\u001b[39;00m models\u001b[39m.\u001b[39;49mPredictor(\n\u001b[1;32m    110\u001b[0m     node_embedder\u001b[39m=\u001b[39;49mnode_embedder,\n\u001b[1;32m    111\u001b[0m     focus_predictor\u001b[39m=\u001b[39;49mfocus_predictor,\n\u001b[1;32m    112\u001b[0m     target_species_predictor\u001b[39m=\u001b[39;49mtarget_species_predictor,\n\u001b[1;32m    113\u001b[0m     target_position_predictor\u001b[39m=\u001b[39;49mtarget_position_predictor,\n\u001b[1;32m    114\u001b[0m     run_in_evaluation_mode\u001b[39m=\u001b[39;49mrun_in_evaluation_mode,\n\u001b[1;32m    115\u001b[0m )(graphs)\n",
      "File \u001b[0;32m~/Documents/spherical-harmonic-net/.venv/lib/python3.10/site-packages/haiku/_src/module.py:426\u001b[0m, in \u001b[0;36mwrap_method.<locals>.wrapped\u001b[0;34m(self, *args, **kwargs)\u001b[0m\n\u001b[1;32m    423\u001b[0m   \u001b[39mif\u001b[39;00m method_name \u001b[39m!=\u001b[39m \u001b[39m\"\u001b[39m\u001b[39m__call__\u001b[39m\u001b[39m\"\u001b[39m:\n\u001b[1;32m    424\u001b[0m     f \u001b[39m=\u001b[39m jax\u001b[39m.\u001b[39mnamed_call(f, name\u001b[39m=\u001b[39mmethod_name)\n\u001b[0;32m--> 426\u001b[0m out \u001b[39m=\u001b[39m f(\u001b[39m*\u001b[39;49margs, \u001b[39m*\u001b[39;49m\u001b[39m*\u001b[39;49mkwargs)\n\u001b[1;32m    428\u001b[0m \u001b[39m# Module names are set in the constructor. If `f` is the constructor then\u001b[39;00m\n\u001b[1;32m    429\u001b[0m \u001b[39m# its name will only be set **after** `f` has run. For methods other\u001b[39;00m\n\u001b[1;32m    430\u001b[0m \u001b[39m# than `__init__` we need the name before running in order to wrap their\u001b[39;00m\n\u001b[1;32m    431\u001b[0m \u001b[39m# execution with `named_call`.\u001b[39;00m\n\u001b[1;32m    432\u001b[0m \u001b[39mif\u001b[39;00m module_name \u001b[39mis\u001b[39;00m \u001b[39mNone\u001b[39;00m:\n",
      "File \u001b[0;32m/opt/homebrew/Cellar/python@3.10/3.10.8/Frameworks/Python.framework/Versions/3.10/lib/python3.10/contextlib.py:79\u001b[0m, in \u001b[0;36mContextDecorator.__call__.<locals>.inner\u001b[0;34m(*args, **kwds)\u001b[0m\n\u001b[1;32m     76\u001b[0m \u001b[39m@wraps\u001b[39m(func)\n\u001b[1;32m     77\u001b[0m \u001b[39mdef\u001b[39;00m \u001b[39minner\u001b[39m(\u001b[39m*\u001b[39margs, \u001b[39m*\u001b[39m\u001b[39m*\u001b[39mkwds):\n\u001b[1;32m     78\u001b[0m     \u001b[39mwith\u001b[39;00m \u001b[39mself\u001b[39m\u001b[39m.\u001b[39m_recreate_cm():\n\u001b[0;32m---> 79\u001b[0m         \u001b[39mreturn\u001b[39;00m func(\u001b[39m*\u001b[39;49margs, \u001b[39m*\u001b[39;49m\u001b[39m*\u001b[39;49mkwds)\n",
      "File \u001b[0;32m~/Documents/spherical-harmonic-net/.venv/lib/python3.10/site-packages/haiku/_src/module.py:272\u001b[0m, in \u001b[0;36mrun_interceptors\u001b[0;34m(bound_method, method_name, self, *args, **kwargs)\u001b[0m\n\u001b[1;32m    270\u001b[0m \u001b[39m\u001b[39m\u001b[39m\"\"\"Runs any method interceptors or the original method.\"\"\"\u001b[39;00m\n\u001b[1;32m    271\u001b[0m \u001b[39mif\u001b[39;00m \u001b[39mnot\u001b[39;00m interceptor_stack:\n\u001b[0;32m--> 272\u001b[0m   \u001b[39mreturn\u001b[39;00m bound_method(\u001b[39m*\u001b[39;49margs, \u001b[39m*\u001b[39;49m\u001b[39m*\u001b[39;49mkwargs)\n\u001b[1;32m    274\u001b[0m ctx \u001b[39m=\u001b[39m MethodContext(module\u001b[39m=\u001b[39m\u001b[39mself\u001b[39m,\n\u001b[1;32m    275\u001b[0m                     method_name\u001b[39m=\u001b[39mmethod_name,\n\u001b[1;32m    276\u001b[0m                     orig_method\u001b[39m=\u001b[39mbound_method)\n\u001b[1;32m    277\u001b[0m interceptor_stack_copy \u001b[39m=\u001b[39m interceptor_stack\u001b[39m.\u001b[39mclone()\n",
      "File \u001b[0;32m~/Documents/spherical-harmonic-net/notebooks/../models.py:516\u001b[0m, in \u001b[0;36mPredictor.__call__\u001b[0;34m(self, graphs)\u001b[0m\n\u001b[1;32m    514\u001b[0m \u001b[39mif\u001b[39;00m \u001b[39mself\u001b[39m\u001b[39m.\u001b[39mrun_in_evaluation_mode:\n\u001b[1;32m    515\u001b[0m     \u001b[39mreturn\u001b[39;00m \u001b[39mself\u001b[39m\u001b[39m.\u001b[39mget_evaluation_predictions(graphs)\n\u001b[0;32m--> 516\u001b[0m \u001b[39mreturn\u001b[39;00m \u001b[39mself\u001b[39;49m\u001b[39m.\u001b[39;49mget_training_predictions(graphs)\n",
      "File \u001b[0;32m~/Documents/spherical-harmonic-net/.venv/lib/python3.10/site-packages/haiku/_src/module.py:426\u001b[0m, in \u001b[0;36mwrap_method.<locals>.wrapped\u001b[0;34m(self, *args, **kwargs)\u001b[0m\n\u001b[1;32m    423\u001b[0m   \u001b[39mif\u001b[39;00m method_name \u001b[39m!=\u001b[39m \u001b[39m\"\u001b[39m\u001b[39m__call__\u001b[39m\u001b[39m\"\u001b[39m:\n\u001b[1;32m    424\u001b[0m     f \u001b[39m=\u001b[39m jax\u001b[39m.\u001b[39mnamed_call(f, name\u001b[39m=\u001b[39mmethod_name)\n\u001b[0;32m--> 426\u001b[0m out \u001b[39m=\u001b[39m f(\u001b[39m*\u001b[39;49margs, \u001b[39m*\u001b[39;49m\u001b[39m*\u001b[39;49mkwargs)\n\u001b[1;32m    428\u001b[0m \u001b[39m# Module names are set in the constructor. If `f` is the constructor then\u001b[39;00m\n\u001b[1;32m    429\u001b[0m \u001b[39m# its name will only be set **after** `f` has run. For methods other\u001b[39;00m\n\u001b[1;32m    430\u001b[0m \u001b[39m# than `__init__` we need the name before running in order to wrap their\u001b[39;00m\n\u001b[1;32m    431\u001b[0m \u001b[39m# execution with `named_call`.\u001b[39;00m\n\u001b[1;32m    432\u001b[0m \u001b[39mif\u001b[39;00m module_name \u001b[39mis\u001b[39;00m \u001b[39mNone\u001b[39;00m:\n",
      "File \u001b[0;32m/opt/homebrew/Cellar/python@3.10/3.10.8/Frameworks/Python.framework/Versions/3.10/lib/python3.10/contextlib.py:79\u001b[0m, in \u001b[0;36mContextDecorator.__call__.<locals>.inner\u001b[0;34m(*args, **kwds)\u001b[0m\n\u001b[1;32m     76\u001b[0m \u001b[39m@wraps\u001b[39m(func)\n\u001b[1;32m     77\u001b[0m \u001b[39mdef\u001b[39;00m \u001b[39minner\u001b[39m(\u001b[39m*\u001b[39margs, \u001b[39m*\u001b[39m\u001b[39m*\u001b[39mkwds):\n\u001b[1;32m     78\u001b[0m     \u001b[39mwith\u001b[39;00m \u001b[39mself\u001b[39m\u001b[39m.\u001b[39m_recreate_cm():\n\u001b[0;32m---> 79\u001b[0m         \u001b[39mreturn\u001b[39;00m func(\u001b[39m*\u001b[39;49margs, \u001b[39m*\u001b[39;49m\u001b[39m*\u001b[39;49mkwds)\n",
      "File \u001b[0;32m/opt/homebrew/Cellar/python@3.10/3.10.8/Frameworks/Python.framework/Versions/3.10/lib/python3.10/contextlib.py:79\u001b[0m, in \u001b[0;36mContextDecorator.__call__.<locals>.inner\u001b[0;34m(*args, **kwds)\u001b[0m\n\u001b[1;32m     76\u001b[0m \u001b[39m@wraps\u001b[39m(func)\n\u001b[1;32m     77\u001b[0m \u001b[39mdef\u001b[39;00m \u001b[39minner\u001b[39m(\u001b[39m*\u001b[39margs, \u001b[39m*\u001b[39m\u001b[39m*\u001b[39mkwds):\n\u001b[1;32m     78\u001b[0m     \u001b[39mwith\u001b[39;00m \u001b[39mself\u001b[39m\u001b[39m.\u001b[39m_recreate_cm():\n\u001b[0;32m---> 79\u001b[0m         \u001b[39mreturn\u001b[39;00m func(\u001b[39m*\u001b[39;49margs, \u001b[39m*\u001b[39;49m\u001b[39m*\u001b[39;49mkwds)\n",
      "File \u001b[0;32m~/Documents/spherical-harmonic-net/.venv/lib/python3.10/site-packages/haiku/_src/module.py:272\u001b[0m, in \u001b[0;36mrun_interceptors\u001b[0;34m(bound_method, method_name, self, *args, **kwargs)\u001b[0m\n\u001b[1;32m    270\u001b[0m \u001b[39m\u001b[39m\u001b[39m\"\"\"Runs any method interceptors or the original method.\"\"\"\u001b[39;00m\n\u001b[1;32m    271\u001b[0m \u001b[39mif\u001b[39;00m \u001b[39mnot\u001b[39;00m interceptor_stack:\n\u001b[0;32m--> 272\u001b[0m   \u001b[39mreturn\u001b[39;00m bound_method(\u001b[39m*\u001b[39;49margs, \u001b[39m*\u001b[39;49m\u001b[39m*\u001b[39;49mkwargs)\n\u001b[1;32m    274\u001b[0m ctx \u001b[39m=\u001b[39m MethodContext(module\u001b[39m=\u001b[39m\u001b[39mself\u001b[39m,\n\u001b[1;32m    275\u001b[0m                     method_name\u001b[39m=\u001b[39mmethod_name,\n\u001b[1;32m    276\u001b[0m                     orig_method\u001b[39m=\u001b[39mbound_method)\n\u001b[1;32m    277\u001b[0m interceptor_stack_copy \u001b[39m=\u001b[39m interceptor_stack\u001b[39m.\u001b[39mclone()\n",
      "File \u001b[0;32m~/Documents/spherical-harmonic-net/notebooks/../models.py:430\u001b[0m, in \u001b[0;36mPredictor.get_training_predictions\u001b[0;34m(self, graphs)\u001b[0m\n\u001b[1;32m    427\u001b[0m num_graphs \u001b[39m=\u001b[39m graphs\u001b[39m.\u001b[39mn_node\u001b[39m.\u001b[39mshape[\u001b[39m0\u001b[39m]\n\u001b[1;32m    429\u001b[0m \u001b[39m# Get the node embeddings.\u001b[39;00m\n\u001b[0;32m--> 430\u001b[0m node_embeddings \u001b[39m=\u001b[39m \u001b[39mself\u001b[39;49m\u001b[39m.\u001b[39;49mnode_embedder(graphs)\n\u001b[1;32m    432\u001b[0m \u001b[39m# Get the focus logits.\u001b[39;00m\n\u001b[1;32m    433\u001b[0m focus_logits \u001b[39m=\u001b[39m \u001b[39mself\u001b[39m\u001b[39m.\u001b[39mfocus_predictor(node_embeddings)\n",
      "File \u001b[0;32m~/Documents/spherical-harmonic-net/.venv/lib/python3.10/site-packages/haiku/_src/module.py:426\u001b[0m, in \u001b[0;36mwrap_method.<locals>.wrapped\u001b[0;34m(self, *args, **kwargs)\u001b[0m\n\u001b[1;32m    423\u001b[0m   \u001b[39mif\u001b[39;00m method_name \u001b[39m!=\u001b[39m \u001b[39m\"\u001b[39m\u001b[39m__call__\u001b[39m\u001b[39m\"\u001b[39m:\n\u001b[1;32m    424\u001b[0m     f \u001b[39m=\u001b[39m jax\u001b[39m.\u001b[39mnamed_call(f, name\u001b[39m=\u001b[39mmethod_name)\n\u001b[0;32m--> 426\u001b[0m out \u001b[39m=\u001b[39m f(\u001b[39m*\u001b[39;49margs, \u001b[39m*\u001b[39;49m\u001b[39m*\u001b[39;49mkwargs)\n\u001b[1;32m    428\u001b[0m \u001b[39m# Module names are set in the constructor. If `f` is the constructor then\u001b[39;00m\n\u001b[1;32m    429\u001b[0m \u001b[39m# its name will only be set **after** `f` has run. For methods other\u001b[39;00m\n\u001b[1;32m    430\u001b[0m \u001b[39m# than `__init__` we need the name before running in order to wrap their\u001b[39;00m\n\u001b[1;32m    431\u001b[0m \u001b[39m# execution with `named_call`.\u001b[39;00m\n\u001b[1;32m    432\u001b[0m \u001b[39mif\u001b[39;00m module_name \u001b[39mis\u001b[39;00m \u001b[39mNone\u001b[39;00m:\n",
      "File \u001b[0;32m/opt/homebrew/Cellar/python@3.10/3.10.8/Frameworks/Python.framework/Versions/3.10/lib/python3.10/contextlib.py:79\u001b[0m, in \u001b[0;36mContextDecorator.__call__.<locals>.inner\u001b[0;34m(*args, **kwds)\u001b[0m\n\u001b[1;32m     76\u001b[0m \u001b[39m@wraps\u001b[39m(func)\n\u001b[1;32m     77\u001b[0m \u001b[39mdef\u001b[39;00m \u001b[39minner\u001b[39m(\u001b[39m*\u001b[39margs, \u001b[39m*\u001b[39m\u001b[39m*\u001b[39mkwds):\n\u001b[1;32m     78\u001b[0m     \u001b[39mwith\u001b[39;00m \u001b[39mself\u001b[39m\u001b[39m.\u001b[39m_recreate_cm():\n\u001b[0;32m---> 79\u001b[0m         \u001b[39mreturn\u001b[39;00m func(\u001b[39m*\u001b[39;49margs, \u001b[39m*\u001b[39;49m\u001b[39m*\u001b[39;49mkwds)\n",
      "File \u001b[0;32m~/Documents/spherical-harmonic-net/.venv/lib/python3.10/site-packages/haiku/_src/module.py:272\u001b[0m, in \u001b[0;36mrun_interceptors\u001b[0;34m(bound_method, method_name, self, *args, **kwargs)\u001b[0m\n\u001b[1;32m    270\u001b[0m \u001b[39m\u001b[39m\u001b[39m\"\"\"Runs any method interceptors or the original method.\"\"\"\u001b[39;00m\n\u001b[1;32m    271\u001b[0m \u001b[39mif\u001b[39;00m \u001b[39mnot\u001b[39;00m interceptor_stack:\n\u001b[0;32m--> 272\u001b[0m   \u001b[39mreturn\u001b[39;00m bound_method(\u001b[39m*\u001b[39;49margs, \u001b[39m*\u001b[39;49m\u001b[39m*\u001b[39;49mkwargs)\n\u001b[1;32m    274\u001b[0m ctx \u001b[39m=\u001b[39m MethodContext(module\u001b[39m=\u001b[39m\u001b[39mself\u001b[39m,\n\u001b[1;32m    275\u001b[0m                     method_name\u001b[39m=\u001b[39mmethod_name,\n\u001b[1;32m    276\u001b[0m                     orig_method\u001b[39m=\u001b[39mbound_method)\n\u001b[1;32m    277\u001b[0m interceptor_stack_copy \u001b[39m=\u001b[39m interceptor_stack\u001b[39m.\u001b[39mclone()\n",
      "File \u001b[0;32m~/Documents/spherical-harmonic-net/notebooks/../models.py:290\u001b[0m, in \u001b[0;36mMACE.__call__\u001b[0;34m(self, graphs)\u001b[0m\n\u001b[1;32m    287\u001b[0m species \u001b[39m=\u001b[39m graphs\u001b[39m.\u001b[39mnodes\u001b[39m.\u001b[39mspecies\n\u001b[1;32m    288\u001b[0m num_nodes \u001b[39m=\u001b[39m species\u001b[39m.\u001b[39mshape[\u001b[39m0\u001b[39m]\n\u001b[0;32m--> 290\u001b[0m node_embeddings: e3nn\u001b[39m.\u001b[39mIrrepsArray \u001b[39m=\u001b[39m mace_jax\u001b[39m.\u001b[39mmodules\u001b[39m.\u001b[39mMACE(\n\u001b[1;32m    291\u001b[0m     output_irreps\u001b[39m=\u001b[39m\u001b[39mself\u001b[39m\u001b[39m.\u001b[39moutput_irreps,\n\u001b[1;32m    292\u001b[0m     r_max\u001b[39m=\u001b[39m\u001b[39mself\u001b[39m\u001b[39m.\u001b[39mr_max,\n\u001b[1;32m    293\u001b[0m     num_interactions\u001b[39m=\u001b[39m\u001b[39mself\u001b[39m\u001b[39m.\u001b[39mnum_interactions,\n\u001b[1;32m    294\u001b[0m     hidden_irreps\u001b[39m=\u001b[39m\u001b[39mself\u001b[39m\u001b[39m.\u001b[39mhidden_irreps,\n\u001b[1;32m    295\u001b[0m     readout_mlp_irreps\u001b[39m=\u001b[39m\u001b[39mself\u001b[39m\u001b[39m.\u001b[39mreadout_mlp_irreps,\n\u001b[1;32m    296\u001b[0m     avg_num_neighbors\u001b[39m=\u001b[39m\u001b[39mself\u001b[39m\u001b[39m.\u001b[39mavg_num_neighbors,\n\u001b[1;32m    297\u001b[0m     num_species\u001b[39m=\u001b[39m\u001b[39mself\u001b[39m\u001b[39m.\u001b[39mnum_species,\n\u001b[1;32m    298\u001b[0m     radial_basis\u001b[39m=\u001b[39m\u001b[39mlambda\u001b[39;00m x, x_max: e3nn\u001b[39m.\u001b[39mbessel(x, \u001b[39mself\u001b[39m\u001b[39m.\u001b[39mnum_basis_fns, x_max),\n\u001b[1;32m    299\u001b[0m     radial_envelope\u001b[39m=\u001b[39me3nn\u001b[39m.\u001b[39msoft_envelope,\n\u001b[1;32m    300\u001b[0m     max_ell\u001b[39m=\u001b[39m\u001b[39mself\u001b[39m\u001b[39m.\u001b[39mmax_ell,\n\u001b[1;32m    301\u001b[0m )(relative_positions, species, graphs\u001b[39m.\u001b[39msenders, graphs\u001b[39m.\u001b[39mreceivers)\n\u001b[1;32m    303\u001b[0m \u001b[39massert\u001b[39;00m node_embeddings\u001b[39m.\u001b[39mshape \u001b[39m==\u001b[39m (\n\u001b[1;32m    304\u001b[0m     num_nodes,\n\u001b[1;32m    305\u001b[0m     \u001b[39mself\u001b[39m\u001b[39m.\u001b[39mnum_interactions,\n\u001b[1;32m    306\u001b[0m     \u001b[39mself\u001b[39m\u001b[39m.\u001b[39moutput_irreps\u001b[39m.\u001b[39mdim,\n\u001b[1;32m    307\u001b[0m )\n\u001b[1;32m    308\u001b[0m node_embeddings \u001b[39m=\u001b[39m node_embeddings\u001b[39m.\u001b[39maxis_to_mul(axis\u001b[39m=\u001b[39m\u001b[39m1\u001b[39m)\n",
      "\u001b[0;31mNameError\u001b[0m: name 'mace_jax' is not defined"
     ]
    }
   ],
   "source": [
    "analysis.load_from_workdir(\"/Users/ameyad/Documents/spherical-harmonic-net/potato_workdirs/workdirs/mace/interactions=1/l=0/channels=32\")"
   ]
  },
  {
   "cell_type": "code",
   "execution_count": 4,
   "metadata": {},
   "outputs": [
    {
     "data": {
      "text/plain": [
       "1x0e+1x0o+1x1o+1x1e+1x2e+1x2o+1x3o+1x3e\n",
       "[[1. 1. 1. 1. 1. 1. 1. 1. 1. 1. 1. 1. 1. 1. 1. 1. 1. 1. 1. 1. 1. 1. 1. 1.\n",
       "  1. 1. 1. 1. 1. 1. 1. 1.]\n",
       " [1. 1. 1. 1. 1. 1. 1. 1. 1. 1. 1. 1. 1. 1. 1. 1. 1. 1. 1. 1. 1. 1. 1. 1.\n",
       "  1. 1. 1. 1. 1. 1. 1. 1.]\n",
       " [1. 1. 1. 1. 1. 1. 1. 1. 1. 1. 1. 1. 1. 1. 1. 1. 1. 1. 1. 1. 1. 1. 1. 1.\n",
       "  1. 1. 1. 1. 1. 1. 1. 1.]\n",
       " [1. 1. 1. 1. 1. 1. 1. 1. 1. 1. 1. 1. 1. 1. 1. 1. 1. 1. 1. 1. 1. 1. 1. 1.\n",
       "  1. 1. 1. 1. 1. 1. 1. 1.]\n",
       " [1. 1. 1. 1. 1. 1. 1. 1. 1. 1. 1. 1. 1. 1. 1. 1. 1. 1. 1. 1. 1. 1. 1. 1.\n",
       "  1. 1. 1. 1. 1. 1. 1. 1.]\n",
       " [1. 1. 1. 1. 1. 1. 1. 1. 1. 1. 1. 1. 1. 1. 1. 1. 1. 1. 1. 1. 1. 1. 1. 1.\n",
       "  1. 1. 1. 1. 1. 1. 1. 1.]\n",
       " [1. 1. 1. 1. 1. 1. 1. 1. 1. 1. 1. 1. 1. 1. 1. 1. 1. 1. 1. 1. 1. 1. 1. 1.\n",
       "  1. 1. 1. 1. 1. 1. 1. 1.]\n",
       " [1. 1. 1. 1. 1. 1. 1. 1. 1. 1. 1. 1. 1. 1. 1. 1. 1. 1. 1. 1. 1. 1. 1. 1.\n",
       "  1. 1. 1. 1. 1. 1. 1. 1.]\n",
       " [1. 1. 1. 1. 1. 1. 1. 1. 1. 1. 1. 1. 1. 1. 1. 1. 1. 1. 1. 1. 1. 1. 1. 1.\n",
       "  1. 1. 1. 1. 1. 1. 1. 1.]\n",
       " [1. 1. 1. 1. 1. 1. 1. 1. 1. 1. 1. 1. 1. 1. 1. 1. 1. 1. 1. 1. 1. 1. 1. 1.\n",
       "  1. 1. 1. 1. 1. 1. 1. 1.]]"
      ]
     },
     "execution_count": 4,
     "metadata": {},
     "output_type": "execute_result"
    }
   ],
   "source": [
    "lmax = 3\n",
    "irreps = e3nn.Irreps(e3nn.Irrep.iterator(lmax))\n",
    "e3nn.IrrepsArray(irreps=irreps, array=jnp.ones((10, irreps.dim)))"
   ]
  },
  {
   "cell_type": "code",
   "execution_count": 5,
   "metadata": {},
   "outputs": [
    {
     "data": {
      "text/plain": [
       "Array([[2., 4., 6.],\n",
       "       [4., 5., 6.],\n",
       "       [7., 8., 9.]], dtype=float32, weak_type=True)"
      ]
     },
     "execution_count": 5,
     "metadata": {},
     "output_type": "execute_result"
    }
   ],
   "source": [
    "e3nn.scatter_sum(data=graphs.nodes, nel=graphs.n_node)"
   ]
  }
 ],
 "metadata": {
  "kernelspec": {
   "display_name": ".venv",
   "language": "python",
   "name": "python3"
  },
  "language_info": {
   "codemirror_mode": {
    "name": "ipython",
    "version": 3
   },
   "file_extension": ".py",
   "mimetype": "text/x-python",
   "name": "python",
   "nbconvert_exporter": "python",
   "pygments_lexer": "ipython3",
   "version": "3.10.8"
  },
  "orig_nbformat": 4,
  "vscode": {
   "interpreter": {
    "hash": "c45d96c58491a395ddcd8e473c3845279123da787cb66983d65c138d89f394de"
   }
  }
 },
 "nbformat": 4,
 "nbformat_minor": 2
}
