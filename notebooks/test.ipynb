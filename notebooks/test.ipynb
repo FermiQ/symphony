{
 "cells": [
  {
   "cell_type": "code",
   "execution_count": 4,
   "metadata": {},
   "outputs": [],
   "source": [
    "import jraph\n",
    "import jax\n",
    "import jax.numpy as jnp\n",
    "import e3nn_jax as e3nn\n",
    "import numpy as np\n",
    "\n",
    "\n",
    "import sys\n",
    "sys.path.append('..')\n"
   ]
  },
  {
   "cell_type": "code",
   "execution_count": 5,
   "metadata": {},
   "outputs": [],
   "source": [
    "%load_ext autoreload"
   ]
  },
  {
   "cell_type": "code",
   "execution_count": 6,
   "metadata": {},
   "outputs": [],
   "source": [
    "%autoreload 2\n",
    "import train\n",
    "import models\n",
    "import input_pipeline_tf\n",
    "import configs.haikumace as haikumace"
   ]
  },
  {
   "cell_type": "code",
   "execution_count": 22,
   "metadata": {},
   "outputs": [
    {
     "name": "stdout",
     "output_type": "stream",
     "text": [
      "done focus_node_embeddings\n",
      "target_species_probs Traced<ShapedArray(float32[1,5])>with<DynamicJaxprTrace(level=0/1)>\n",
      "(1, 5) (1, 5)\n",
      "Traced<ShapedArray(int32[1])>with<DynamicJaxprTrace(level=0/1)>\n"
     ]
    }
   ],
   "source": [
    "# Mimic what we do in train.py.\n",
    "config = haikumace.get_config()\n",
    "rng = jax.random.PRNGKey(0)\n",
    "rng, dataset_rng = jax.random.split(rng)\n",
    "\n",
    "# Obtain graphs.\n",
    "datasets = input_pipeline_tf.get_datasets(dataset_rng, config)\n",
    "train_iter = datasets[\"train\"].as_numpy_iterator()\n",
    "init_graphs = next(train_iter)\n",
    "\n",
    "# Set up dummy variables to obtain the structure.\n",
    "rng, init_rng = jax.random.split(rng)\n",
    "net = train.create_model(config, run_in_evaluation_mode=True)\n",
    "params = jax.jit(net.init)(init_rng, init_graphs)"
   ]
  },
  {
   "cell_type": "code",
   "execution_count": 36,
   "metadata": {},
   "outputs": [],
   "source": [
    "graphs = jraph.GraphsTuple(\n",
    "    nodes=jnp.array([[1, 2, 3], [10, 2, 3], [4, 5, 6], [7, 8, 9]]),\n",
    "    edges=jnp.array([[1, 2, 3], [4, 5, 6], [7, 8, 9]]),\n",
    "    globals=jnp.array([[1, 2, 3], [4, 5, 6], [7, 8, 9]]),\n",
    "    n_node=jnp.array([2, 1, 1]),\n",
    "    n_edge=jnp.array([1, 1, 1]),\n",
    "    senders=jnp.array([0, 0, 0]),\n",
    "    receivers=jnp.array([0, 0, 0]),\n",
    ")"
   ]
  },
  {
   "cell_type": "code",
   "execution_count": 42,
   "metadata": {},
   "outputs": [
    {
     "data": {
      "text/plain": [
       "Array([0., 1., 0.], dtype=float32)"
      ]
     },
     "execution_count": 42,
     "metadata": {},
     "output_type": "execute_result"
    }
   ],
   "source": [
    "def sample_single_step(rng, graph):\n",
    "    # Get predictions from the model\n",
    "    predictions = get_evaluation_predictions(rng, graph)\n",
    "\n",
    "    # Compute the position signal projected to a spherical grid for each radius.\n",
    "    position_signal = e3nn.to_s2grid(\n",
    "        predictions.position_coeffs,\n",
    "        res_beta,\n",
    "        res_alpha,\n",
    "        quadrature=\"gausslegendre\",\n",
    "        normalization=\"integral\",\n",
    "        p_val=1,\n",
    "        p_arg=-1,\n",
    "    )\n",
    "\n",
    "    # position_signal is of shape (num_graphs, num_radii, res_beta, res_alpha)\n",
    "    assert position_signal.shape == (num_graphs, num_radii, res_beta, res_alpha)\n",
    "\n",
    "    # Integrate the position signal over each sphere to get the normalizing factors for the radii.\n",
    "    # For numerical stability, we subtract out the maximum value over all spheres before exponentiating.\n",
    "    position_max = jnp.max(\n",
    "        position_signal.grid_values, axis=(-3, -2, -1), keepdims=True\n",
    "    )\n",
    "    sphere_normalizing_factors = position_signal.apply(\n",
    "        lambda pos: jnp.exp(pos - position_max)\n",
    "    ).integrate()\n",
    "    sphere_normalizing_factors = sphere_normalizing_factors.array.squeeze(axis=-1)\n",
    "\n",
    "    # sphere_normalizing_factors is of shape (num_graphs, num_radii)\n",
    "    assert sphere_normalizing_factors.shape == (\n",
    "        num_graphs,\n",
    "        num_radii,\n",
    "    )\n",
    "\n",
    "    # position_max is of shape (num_graphs,)\n",
    "    position_max = position_max.squeeze(axis=(-3, -2, -1))\n",
    "    assert position_max.shape == (num_graphs,)\n",
    "\n",
    "    # S\n",
    "    rng, species_rng = jax.random.split(rng)\n",
    "    radius = jax.random.choice(radius_rng, NUM_RADII, p=radius_probs)\n",
    "\n",
    "    # Get the position signal for the sampled radius.\n",
    "    position = position_signal.sample()\n",
    "\n",
    "    # Create a new molecule with the sampled species and position.\n",
    "    return datatypes.Fragment()\n",
    "\n"
   ]
  },
  {
   "cell_type": "code",
   "execution_count": 13,
   "metadata": {},
   "outputs": [
    {
     "data": {
      "text/plain": [
       "(Array([ 6, 15, 15, 24], dtype=int32),\n",
       " Array([15., 15., 24.], dtype=float32, weak_type=True))"
      ]
     },
     "execution_count": 13,
     "metadata": {},
     "output_type": "execute_result"
    }
   ],
   "source": [
    "focus = graphs.nodes.sum(axis=1)\n",
    "focus, e3nn.scatter_max(focus, nel=graphs.n_node)"
   ]
  },
  {
   "cell_type": "code",
   "execution_count": 3,
   "metadata": {},
   "outputs": [
    {
     "name": "stdout",
     "output_type": "stream",
     "text": [
      "[3. 3. 1. 4.]\n"
     ]
    },
    {
     "data": {
      "text/plain": [
       "(Array([3.3490124, 1.3132616, 4.01815  ], dtype=float32),\n",
       " Array([3.3490121, 1.3132616, 4.01815  ], dtype=float32))"
      ]
     },
     "execution_count": 3,
     "metadata": {},
     "output_type": "execute_result"
    }
   ],
   "source": [
    "nodes = jnp.asarray([2, 3, 1, 4])\n",
    "segment_max = e3nn.scatter_max(nodes, nel=graphs.n_node)\n",
    "segment_max_expanded = e3nn.scatter_max(nodes, map_back=True, nel=graphs.n_node)\n",
    "print(segment_max_expanded)\n",
    "# segment_max_expanded = jnp.asarray([segment_max[0], segment_max[0], segment_max[1], segment_max[2]])\n",
    "\n",
    "expected = 0 + jnp.log(1 + e3nn.scatter_sum(jnp.exp(nodes - 0), nel=graphs.n_node))\n",
    "computed = segment_max + jnp.log(jnp.exp(-segment_max) + e3nn.scatter_sum(jnp.exp(nodes - segment_max_expanded), nel=graphs.n_node))\n",
    "\n",
    "expected, computed"
   ]
  },
  {
   "cell_type": "code",
   "execution_count": 4,
   "metadata": {},
   "outputs": [
    {
     "data": {
      "text/plain": [
       "1x0e+1x0o+1x1o+1x1e+1x2e+1x2o+1x3o+1x3e\n",
       "[[1. 1. 1. 1. 1. 1. 1. 1. 1. 1. 1. 1. 1. 1. 1. 1. 1. 1. 1. 1. 1. 1. 1. 1.\n",
       "  1. 1. 1. 1. 1. 1. 1. 1.]\n",
       " [1. 1. 1. 1. 1. 1. 1. 1. 1. 1. 1. 1. 1. 1. 1. 1. 1. 1. 1. 1. 1. 1. 1. 1.\n",
       "  1. 1. 1. 1. 1. 1. 1. 1.]\n",
       " [1. 1. 1. 1. 1. 1. 1. 1. 1. 1. 1. 1. 1. 1. 1. 1. 1. 1. 1. 1. 1. 1. 1. 1.\n",
       "  1. 1. 1. 1. 1. 1. 1. 1.]\n",
       " [1. 1. 1. 1. 1. 1. 1. 1. 1. 1. 1. 1. 1. 1. 1. 1. 1. 1. 1. 1. 1. 1. 1. 1.\n",
       "  1. 1. 1. 1. 1. 1. 1. 1.]\n",
       " [1. 1. 1. 1. 1. 1. 1. 1. 1. 1. 1. 1. 1. 1. 1. 1. 1. 1. 1. 1. 1. 1. 1. 1.\n",
       "  1. 1. 1. 1. 1. 1. 1. 1.]\n",
       " [1. 1. 1. 1. 1. 1. 1. 1. 1. 1. 1. 1. 1. 1. 1. 1. 1. 1. 1. 1. 1. 1. 1. 1.\n",
       "  1. 1. 1. 1. 1. 1. 1. 1.]\n",
       " [1. 1. 1. 1. 1. 1. 1. 1. 1. 1. 1. 1. 1. 1. 1. 1. 1. 1. 1. 1. 1. 1. 1. 1.\n",
       "  1. 1. 1. 1. 1. 1. 1. 1.]\n",
       " [1. 1. 1. 1. 1. 1. 1. 1. 1. 1. 1. 1. 1. 1. 1. 1. 1. 1. 1. 1. 1. 1. 1. 1.\n",
       "  1. 1. 1. 1. 1. 1. 1. 1.]\n",
       " [1. 1. 1. 1. 1. 1. 1. 1. 1. 1. 1. 1. 1. 1. 1. 1. 1. 1. 1. 1. 1. 1. 1. 1.\n",
       "  1. 1. 1. 1. 1. 1. 1. 1.]\n",
       " [1. 1. 1. 1. 1. 1. 1. 1. 1. 1. 1. 1. 1. 1. 1. 1. 1. 1. 1. 1. 1. 1. 1. 1.\n",
       "  1. 1. 1. 1. 1. 1. 1. 1.]]"
      ]
     },
     "execution_count": 4,
     "metadata": {},
     "output_type": "execute_result"
    }
   ],
   "source": [
    "lmax = 3\n",
    "irreps = e3nn.Irreps(e3nn.Irrep.iterator(lmax))\n",
    "e3nn.IrrepsArray(irreps=irreps, array=jnp.ones((10, irreps.dim)))"
   ]
  },
  {
   "cell_type": "code",
   "execution_count": 5,
   "metadata": {},
   "outputs": [
    {
     "data": {
      "text/plain": [
       "Array([[2., 4., 6.],\n",
       "       [4., 5., 6.],\n",
       "       [7., 8., 9.]], dtype=float32, weak_type=True)"
      ]
     },
     "execution_count": 5,
     "metadata": {},
     "output_type": "execute_result"
    }
   ],
   "source": [
    "e3nn.scatter_sum(data=graphs.nodes, nel=graphs.n_node)"
   ]
  }
 ],
 "metadata": {
  "kernelspec": {
   "display_name": ".venv",
   "language": "python",
   "name": "python3"
  },
  "language_info": {
   "codemirror_mode": {
    "name": "ipython",
    "version": 3
   },
   "file_extension": ".py",
   "mimetype": "text/x-python",
   "name": "python",
   "nbconvert_exporter": "python",
   "pygments_lexer": "ipython3",
   "version": "3.10.8"
  },
  "orig_nbformat": 4,
  "vscode": {
   "interpreter": {
    "hash": "c45d96c58491a395ddcd8e473c3845279123da787cb66983d65c138d89f394de"
   }
  }
 },
 "nbformat": 4,
 "nbformat_minor": 2
}
