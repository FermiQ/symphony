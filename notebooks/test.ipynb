{
 "cells": [
  {
   "cell_type": "code",
   "execution_count": 3,
   "metadata": {},
   "outputs": [],
   "source": [
    "import jraph\n",
    "import jax\n",
    "import jax.numpy as jnp\n",
    "import e3nn_jax as e3nn\n",
    "import numpy as np\n",
    "\n",
    "\n",
    "import sys\n",
    "sys.path.append('..')\n"
   ]
  },
  {
   "cell_type": "code",
   "execution_count": 4,
   "metadata": {},
   "outputs": [],
   "source": [
    "%load_ext autoreload"
   ]
  },
  {
   "cell_type": "code",
   "execution_count": 5,
   "metadata": {},
   "outputs": [],
   "source": [
    "%autoreload 2\n",
    "import train\n",
    "import models\n",
    "import input_pipeline_tf\n",
    "import configs.haikumace as haikumace"
   ]
  },
  {
   "cell_type": "code",
   "execution_count": 22,
   "metadata": {},
   "outputs": [
    {
     "name": "stdout",
     "output_type": "stream",
     "text": [
      "done focus_node_embeddings\n",
      "target_species_probs Traced<ShapedArray(float32[1,5])>with<DynamicJaxprTrace(level=0/1)>\n",
      "(1, 5) (1, 5)\n",
      "Traced<ShapedArray(int32[1])>with<DynamicJaxprTrace(level=0/1)>\n"
     ]
    }
   ],
   "source": [
    "# Mimic what we do in train.py.\n",
    "config = haikumace.get_config()\n",
    "rng = jax.random.PRNGKey(0)\n",
    "rng, dataset_rng = jax.random.split(rng)\n",
    "\n",
    "# Obtain graphs.\n",
    "datasets = input_pipeline_tf.get_datasets(dataset_rng, config)\n",
    "train_iter = datasets[\"train\"].as_numpy_iterator()\n",
    "init_graphs = next(train_iter)\n",
    "\n",
    "# Set up dummy variables to obtain the structure.\n",
    "rng, init_rng = jax.random.split(rng)\n",
    "net = train.create_model(config, run_in_evaluation_mode=True)\n",
    "params = jax.jit(net.init)(init_rng, init_graphs)"
   ]
  },
  {
   "cell_type": "code",
   "execution_count": 21,
   "metadata": {},
   "outputs": [],
   "source": [
    "graphs = jraph.GraphsTuple(\n",
    "    nodes=jnp.array([[1, 2, 3], [1, 2, 3], [4, 5, 6], [7, 8, 9]]),\n",
    "    edges=jnp.array([[1, 2, 3], [4, 5, 6], [7, 8, 9]]),\n",
    "    globals=jnp.array([[1, 2, 3], [4, 5, 6], [7, 8, 9]]),\n",
    "    n_node=jnp.array([2, 1, 1]),\n",
    "    n_edge=jnp.array([1, 1, 1]),\n",
    "    senders=jnp.array([0, 0, 0]),\n",
    "    receivers=jnp.array([0, 0, 0]),\n",
    ")"
   ]
  },
  {
   "cell_type": "code",
   "execution_count": 40,
   "metadata": {},
   "outputs": [
    {
     "ename": "ValueError",
     "evalue": "vmap got inconsistent sizes for array axes to be mapped:\n  * most axes (4 of them) had size 2, e.g. axis 0 of argument key[0][0] of type uint32[2];\n  * one axis had size 4: axis 0 of argument p of type float32[4,5]",
     "output_type": "error",
     "traceback": [
      "\u001b[0;31m---------------------------------------------------------------------------\u001b[0m",
      "\u001b[0;31mValueError\u001b[0m                                Traceback (most recent call last)",
      "Cell \u001b[0;32mIn[40], line 5\u001b[0m\n\u001b[1;32m      2\u001b[0m rng, \u001b[39m*\u001b[39mspecies_rngs \u001b[39m=\u001b[39m jax\u001b[39m.\u001b[39mrandom\u001b[39m.\u001b[39msplit(jax\u001b[39m.\u001b[39mrandom\u001b[39m.\u001b[39mPRNGKey(\u001b[39m0\u001b[39m), num_graphs \u001b[39m+\u001b[39m \u001b[39m1\u001b[39m)\n\u001b[1;32m      4\u001b[0m target_species_probs \u001b[39m=\u001b[39m jnp\u001b[39m.\u001b[39mones((num_graphs, models\u001b[39m.\u001b[39mNUM_ELEMENTS)) \u001b[39m/\u001b[39m models\u001b[39m.\u001b[39mNUM_ELEMENTS\n\u001b[0;32m----> 5\u001b[0m target_species \u001b[39m=\u001b[39m jax\u001b[39m.\u001b[39;49mvmap(\u001b[39mlambda\u001b[39;49;00m key, p: jax\u001b[39m.\u001b[39;49mrandom\u001b[39m.\u001b[39;49mchoice(\n\u001b[1;32m      6\u001b[0m     key, models\u001b[39m.\u001b[39;49mNUM_ELEMENTS, p\u001b[39m=\u001b[39;49mp))((species_rngs,), target_species_probs)\n",
      "    \u001b[0;31m[... skipping hidden 2 frame]\u001b[0m\n",
      "File \u001b[0;32m~/Documents/spherical-harmonic-net/.venv/lib/python3.10/site-packages/jax/_src/api.py:1834\u001b[0m, in \u001b[0;36m_mapped_axis_size\u001b[0;34m(fn, tree, vals, dims, name)\u001b[0m\n\u001b[1;32m   1832\u001b[0m   \u001b[39melse\u001b[39;00m:\n\u001b[1;32m   1833\u001b[0m     msg\u001b[39m.\u001b[39mappend(\u001b[39mf\u001b[39m\u001b[39m\"\u001b[39m\u001b[39m  * some axes (\u001b[39m\u001b[39m{\u001b[39;00mct\u001b[39m}\u001b[39;00m\u001b[39m of them) had size \u001b[39m\u001b[39m{\u001b[39;00msz\u001b[39m}\u001b[39;00m\u001b[39m, e.g. axis \u001b[39m\u001b[39m{\u001b[39;00max\u001b[39m}\u001b[39;00m\u001b[39m of \u001b[39m\u001b[39m{\u001b[39;00mex\u001b[39m}\u001b[39;00m\u001b[39m;\u001b[39m\u001b[39m\\n\u001b[39;00m\u001b[39m\"\u001b[39m)\n\u001b[0;32m-> 1834\u001b[0m \u001b[39mraise\u001b[39;00m \u001b[39mValueError\u001b[39;00m(\u001b[39m'\u001b[39m\u001b[39m'\u001b[39m\u001b[39m.\u001b[39mjoin(msg)[:\u001b[39m-\u001b[39m\u001b[39m2\u001b[39m])\n",
      "\u001b[0;31mValueError\u001b[0m: vmap got inconsistent sizes for array axes to be mapped:\n  * most axes (4 of them) had size 2, e.g. axis 0 of argument key[0][0] of type uint32[2];\n  * one axis had size 4: axis 0 of argument p of type float32[4,5]"
     ]
    }
   ],
   "source": [
    "num_graphs = 4\n",
    "rng, *species_rngs = jax.random.split(jax.random.PRNGKey(0), num_graphs + 1)\n",
    "\n",
    "target_species_probs = jnp.ones((num_graphs, models.NUM_ELEMENTS)) / models.NUM_ELEMENTS\n",
    "target_species = jax.vmap(lambda key, p: jax.random.choice(\n",
    "    key, models.NUM_ELEMENTS, p=p))((species_rngs,), target_species_probs)\n"
   ]
  },
  {
   "cell_type": "code",
   "execution_count": 43,
   "metadata": {},
   "outputs": [
    {
     "data": {
      "text/plain": [
       "10x0e [0 1 2 3 4 5 6 7 8 9]"
      ]
     },
     "execution_count": 43,
     "metadata": {},
     "output_type": "execute_result"
    }
   ],
   "source": [
    "e3nn.IrrepsArray(\"10x0e\", jnp.arange(10))"
   ]
  },
  {
   "cell_type": "code",
   "execution_count": 47,
   "metadata": {},
   "outputs": [
    {
     "data": {
      "text/plain": [
       "(130944, 133920)"
      ]
     },
     "execution_count": 47,
     "metadata": {},
     "output_type": "execute_result"
    }
   ],
   "source": [
    "import re\n",
    "seed, start, end = [int(val) for val in re.findall(r'\\d+', \"fragments_seed01_from130944_to133920\")]\n",
    "start, end"
   ]
  },
  {
   "cell_type": "code",
   "execution_count": 22,
   "metadata": {},
   "outputs": [],
   "source": [
    "def segment_sample(probabilities, segment_ids, num_segments, rng):\n",
    "    \"\"\"Sample from a categorical distribution across each segment.\n",
    "    Args:\n",
    "        segment_ids: A 1D array of segment ids.\n",
    "        probs: A 1D array of probabilities.\n",
    "    Returns:\n",
    "        A 1D array of samples.\n",
    "    \"\"\"\n",
    "    def sample_for_segment(rng, i):\n",
    "        return jax.random.choice(rng, node_indices, p=jnp.where(i == segment_ids, probabilities, 0.))\n",
    "    \n",
    "    node_indices = jnp.arange(len(segment_ids))\n",
    "    rngs = jax.random.split(rng, num_segments)\n",
    "    return jax.vmap(sample_for_segment)(rngs, jnp.arange(num_segments))"
   ]
  },
  {
   "cell_type": "code",
   "execution_count": 23,
   "metadata": {},
   "outputs": [
    {
     "name": "stdout",
     "output_type": "stream",
     "text": [
      "[0.5 0.5 1.  1. ]\n",
      "[0 2 3]\n",
      "[1 2 3]\n",
      "[0 2 3]\n",
      "[0 2 3]\n",
      "[0 2 3]\n",
      "[1 2 3]\n",
      "[0 2 3]\n",
      "[1 2 3]\n",
      "[1 2 3]\n",
      "[1 2 3]\n",
      "[1 2 3]\n",
      "[0 2 3]\n",
      "[0 2 3]\n",
      "[1 2 3]\n",
      "[1 2 3]\n",
      "[0 2 3]\n",
      "[1 2 3]\n",
      "[0 2 3]\n",
      "[0 2 3]\n",
      "[1 2 3]\n",
      "[0 2 3]\n",
      "[1 2 3]\n",
      "[1 2 3]\n",
      "[1 2 3]\n",
      "[0 2 3]\n",
      "[0 2 3]\n",
      "[0 2 3]\n",
      "[0 2 3]\n",
      "[1 2 3]\n",
      "[0 2 3]\n",
      "[1 2 3]\n",
      "[1 2 3]\n",
      "[0 2 3]\n",
      "[0 2 3]\n",
      "[1 2 3]\n",
      "[1 2 3]\n",
      "[0 2 3]\n",
      "[0 2 3]\n",
      "[0 2 3]\n",
      "[1 2 3]\n",
      "[0 2 3]\n",
      "[1 2 3]\n",
      "[1 2 3]\n",
      "[0 2 3]\n",
      "[0 2 3]\n",
      "[1 2 3]\n",
      "[1 2 3]\n",
      "[0 2 3]\n",
      "[1 2 3]\n",
      "[1 2 3]\n",
      "[0 2 3]\n",
      "[1 2 3]\n",
      "[1 2 3]\n",
      "[1 2 3]\n",
      "[0 2 3]\n",
      "[0 2 3]\n",
      "[0 2 3]\n",
      "[0 2 3]\n",
      "[1 2 3]\n",
      "[1 2 3]\n",
      "[1 2 3]\n",
      "[0 2 3]\n",
      "[1 2 3]\n",
      "[0 2 3]\n",
      "[1 2 3]\n",
      "[1 2 3]\n",
      "[1 2 3]\n",
      "[1 2 3]\n",
      "[0 2 3]\n",
      "[0 2 3]\n",
      "[0 2 3]\n",
      "[0 2 3]\n",
      "[1 2 3]\n",
      "[0 2 3]\n",
      "[0 2 3]\n",
      "[1 2 3]\n",
      "[0 2 3]\n",
      "[0 2 3]\n",
      "[1 2 3]\n",
      "[1 2 3]\n",
      "[0 2 3]\n",
      "[1 2 3]\n",
      "[0 2 3]\n",
      "[1 2 3]\n",
      "[1 2 3]\n",
      "[1 2 3]\n",
      "[1 2 3]\n",
      "[0 2 3]\n",
      "[0 2 3]\n",
      "[1 2 3]\n",
      "[1 2 3]\n",
      "[0 2 3]\n",
      "[1 2 3]\n",
      "[1 2 3]\n",
      "[1 2 3]\n",
      "[1 2 3]\n",
      "[1 2 3]\n",
      "[0 2 3]\n",
      "[1 2 3]\n",
      "[0 2 3]\n"
     ]
    }
   ],
   "source": [
    "focus_logits = graphs.nodes.sum(axis=1)\n",
    "probs = jraph.partition_softmax(focus_logits, graphs.n_node)\n",
    "print(probs)\n",
    "for seed in range(100):\n",
    "    print(segment_sample(probs, jnp.asarray([0, 0, 1, 2]), 3, jax.random.PRNGKey(seed)))"
   ]
  },
  {
   "cell_type": "code",
   "execution_count": 3,
   "metadata": {},
   "outputs": [
    {
     "name": "stdout",
     "output_type": "stream",
     "text": [
      "[3. 3. 1. 4.]\n"
     ]
    },
    {
     "data": {
      "text/plain": [
       "(Array([3.3490124, 1.3132616, 4.01815  ], dtype=float32),\n",
       " Array([3.3490121, 1.3132616, 4.01815  ], dtype=float32))"
      ]
     },
     "execution_count": 3,
     "metadata": {},
     "output_type": "execute_result"
    }
   ],
   "source": [
    "nodes = jnp.asarray([2, 3, 1, 4])\n",
    "segment_max = e3nn.scatter_max(nodes, nel=graphs.n_node)\n",
    "segment_max_expanded = e3nn.scatter_max(nodes, map_back=True, nel=graphs.n_node)\n",
    "print(segment_max_expanded)\n",
    "# segment_max_expanded = jnp.asarray([segment_max[0], segment_max[0], segment_max[1], segment_max[2]])\n",
    "\n",
    "expected = 0 + jnp.log(1 + e3nn.scatter_sum(jnp.exp(nodes - 0), nel=graphs.n_node))\n",
    "computed = segment_max + jnp.log(jnp.exp(-segment_max) + e3nn.scatter_sum(jnp.exp(nodes - segment_max_expanded), nel=graphs.n_node))\n",
    "\n",
    "expected, computed"
   ]
  },
  {
   "cell_type": "code",
   "execution_count": 4,
   "metadata": {},
   "outputs": [
    {
     "data": {
      "text/plain": [
       "1x0e+1x0o+1x1o+1x1e+1x2e+1x2o+1x3o+1x3e\n",
       "[[1. 1. 1. 1. 1. 1. 1. 1. 1. 1. 1. 1. 1. 1. 1. 1. 1. 1. 1. 1. 1. 1. 1. 1.\n",
       "  1. 1. 1. 1. 1. 1. 1. 1.]\n",
       " [1. 1. 1. 1. 1. 1. 1. 1. 1. 1. 1. 1. 1. 1. 1. 1. 1. 1. 1. 1. 1. 1. 1. 1.\n",
       "  1. 1. 1. 1. 1. 1. 1. 1.]\n",
       " [1. 1. 1. 1. 1. 1. 1. 1. 1. 1. 1. 1. 1. 1. 1. 1. 1. 1. 1. 1. 1. 1. 1. 1.\n",
       "  1. 1. 1. 1. 1. 1. 1. 1.]\n",
       " [1. 1. 1. 1. 1. 1. 1. 1. 1. 1. 1. 1. 1. 1. 1. 1. 1. 1. 1. 1. 1. 1. 1. 1.\n",
       "  1. 1. 1. 1. 1. 1. 1. 1.]\n",
       " [1. 1. 1. 1. 1. 1. 1. 1. 1. 1. 1. 1. 1. 1. 1. 1. 1. 1. 1. 1. 1. 1. 1. 1.\n",
       "  1. 1. 1. 1. 1. 1. 1. 1.]\n",
       " [1. 1. 1. 1. 1. 1. 1. 1. 1. 1. 1. 1. 1. 1. 1. 1. 1. 1. 1. 1. 1. 1. 1. 1.\n",
       "  1. 1. 1. 1. 1. 1. 1. 1.]\n",
       " [1. 1. 1. 1. 1. 1. 1. 1. 1. 1. 1. 1. 1. 1. 1. 1. 1. 1. 1. 1. 1. 1. 1. 1.\n",
       "  1. 1. 1. 1. 1. 1. 1. 1.]\n",
       " [1. 1. 1. 1. 1. 1. 1. 1. 1. 1. 1. 1. 1. 1. 1. 1. 1. 1. 1. 1. 1. 1. 1. 1.\n",
       "  1. 1. 1. 1. 1. 1. 1. 1.]\n",
       " [1. 1. 1. 1. 1. 1. 1. 1. 1. 1. 1. 1. 1. 1. 1. 1. 1. 1. 1. 1. 1. 1. 1. 1.\n",
       "  1. 1. 1. 1. 1. 1. 1. 1.]\n",
       " [1. 1. 1. 1. 1. 1. 1. 1. 1. 1. 1. 1. 1. 1. 1. 1. 1. 1. 1. 1. 1. 1. 1. 1.\n",
       "  1. 1. 1. 1. 1. 1. 1. 1.]]"
      ]
     },
     "execution_count": 4,
     "metadata": {},
     "output_type": "execute_result"
    }
   ],
   "source": [
    "lmax = 3\n",
    "irreps = e3nn.Irreps(e3nn.Irrep.iterator(lmax))\n",
    "e3nn.IrrepsArray(irreps=irreps, array=jnp.ones((10, irreps.dim)))"
   ]
  },
  {
   "cell_type": "code",
   "execution_count": 5,
   "metadata": {},
   "outputs": [
    {
     "data": {
      "text/plain": [
       "Array([[2., 4., 6.],\n",
       "       [4., 5., 6.],\n",
       "       [7., 8., 9.]], dtype=float32, weak_type=True)"
      ]
     },
     "execution_count": 5,
     "metadata": {},
     "output_type": "execute_result"
    }
   ],
   "source": [
    "e3nn.scatter_sum(data=graphs.nodes, nel=graphs.n_node)"
   ]
  }
 ],
 "metadata": {
  "kernelspec": {
   "display_name": ".venv",
   "language": "python",
   "name": "python3"
  },
  "language_info": {
   "codemirror_mode": {
    "name": "ipython",
    "version": 3
   },
   "file_extension": ".py",
   "mimetype": "text/x-python",
   "name": "python",
   "nbconvert_exporter": "python",
   "pygments_lexer": "ipython3",
   "version": "3.10.8"
  },
  "orig_nbformat": 4,
  "vscode": {
   "interpreter": {
    "hash": "c45d96c58491a395ddcd8e473c3845279123da787cb66983d65c138d89f394de"
   }
  }
 },
 "nbformat": 4,
 "nbformat_minor": 2
}
